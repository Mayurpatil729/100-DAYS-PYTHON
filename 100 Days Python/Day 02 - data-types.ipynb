{
 "cells": [
  {
   "cell_type": "markdown",
   "id": "b5c05161",
   "metadata": {},
   "source": [
    "# Python Data Types Categories\n",
    "\n",
    "## Basic Types:\n",
    "- **`Int`**: Whole nums (1, 2, 3).\n",
    "- **`Float`**: Decimals (3.14, 2.5).\n",
    "- **`Complex`**: Real+Imag (1 + 2j).\n",
    "- **`Bool`**: True/False.\n",
    "- **`Str`**: Text (\"hello\").\n",
    "\n",
    "## Container Types:\n",
    "- **`List`**: Ordered items.\n",
    "  ```python\n",
    "  [1, 2, 3]\n",
    "  ```\n",
    "- **`Tuple`**: Ordered, immutable.\n",
    "  ```python\n",
    "  (1, 2, 3)\n",
    "  ```\n",
    "- **`Set`**: Unordered, unique.\n",
    "  ```python\n",
    "  {1, 2, 3}\n",
    "  ```\n",
    "- **`Dict`**: Key-value pairs.\n",
    "  ```python\n",
    "  {'k1': 'v1', 'k2': 'v2'}\n",
    "  ```\n",
    "\n",
    "## User-Defined Types:\n",
    "- **`Class`**: Obj blueprint."
   ]
  },
  {
   "cell_type": "markdown",
   "id": "e70bd04d",
   "metadata": {},
   "source": [
    "### int"
   ]
  },
  {
   "cell_type": "code",
   "execution_count": 1,
   "id": "376d9e5c",
   "metadata": {},
   "outputs": [
    {
     "name": "stdout",
     "output_type": "stream",
     "text": [
      "4\n",
      "1e+308\n",
      "inf\n"
     ]
    }
   ],
   "source": [
    "# Numbers\n",
    "print(4)\n",
    "\n",
    "# Large Numbers\n",
    "print(1e308)  # 1 * 10^308\n",
    "print(1e309)  # 'inf' (exceeds float limit)"
   ]
  },
  {
   "cell_type": "markdown",
   "id": "3ec98d1c",
   "metadata": {},
   "source": [
    "### float"
   ]
  },
  {
   "cell_type": "code",
   "execution_count": 1,
   "id": "ad065a20",
   "metadata": {},
   "outputs": [
    {
     "name": "stdout",
     "output_type": "stream",
     "text": [
      "4.5\n",
      "1.8e+307\n",
      "inf\n",
      "inf\n"
     ]
    }
   ],
   "source": [
    "# Floating-Point Numbers\n",
    "print(4.5)  # Standard\n",
    "\n",
    "# Large Floating-Point Numbers\n",
    "print(1.8e307)  # Large\n",
    "print(1.8e308)  # Larger\n",
    "print(1.9e308)  # Too large (inf)"
   ]
  },
  {
   "cell_type": "markdown",
   "id": "a945d9a3",
   "metadata": {},
   "source": [
    "### bool"
   ]
  },
  {
   "cell_type": "code",
   "execution_count": 3,
   "id": "fdcbf9a6",
   "metadata": {},
   "outputs": [
    {
     "name": "stdout",
     "output_type": "stream",
     "text": [
      "True\n",
      "False\n"
     ]
    }
   ],
   "source": [
    "# Boolean Values\n",
    "print(True)\n",
    "print(False)"
   ]
  },
  {
   "cell_type": "markdown",
   "id": "43e07174",
   "metadata": {},
   "source": [
    "### complex"
   ]
  },
  {
   "cell_type": "code",
   "execution_count": 4,
   "id": "77161653",
   "metadata": {},
   "outputs": [
    {
     "name": "stdout",
     "output_type": "stream",
     "text": [
      "(4+5j)\n"
     ]
    }
   ],
   "source": [
    "# Complex Number\n",
    "print(4 + 5j)"
   ]
  },
  {
   "cell_type": "markdown",
   "id": "97d32c57",
   "metadata": {},
   "source": [
    "### str"
   ]
  },
  {
   "cell_type": "code",
   "execution_count": 5,
   "id": "dbace775",
   "metadata": {},
   "outputs": [
    {
     "name": "stdout",
     "output_type": "stream",
     "text": [
      "Kolkata\n",
      "Kolkata\n",
      "Kolkata\n",
      "Kolkata\n"
     ]
    }
   ],
   "source": [
    "# Strings with Different Quotation Styles\n",
    "print('Kolkata')       # single quotes\n",
    "print(\"Kolkata\")       # double quotes\n",
    "print('''Kolkata''')   # triple single quotes\n",
    "print(\"\"\"Kolkata\"\"\")   # triple double quotes"
   ]
  },
  {
   "cell_type": "markdown",
   "id": "945a1af7",
   "metadata": {},
   "source": [
    "### list"
   ]
  },
  {
   "cell_type": "code",
   "execution_count": 6,
   "id": "1da611b9",
   "metadata": {},
   "outputs": [
    {
     "name": "stdout",
     "output_type": "stream",
     "text": [
      "[1, 2, 3, 4, 5]\n"
     ]
    }
   ],
   "source": [
    "# List\n",
    "print([1, 2, 3, 4, 5])"
   ]
  },
  {
   "cell_type": "markdown",
   "id": "d00854f2",
   "metadata": {},
   "source": [
    "### tuple"
   ]
  },
  {
   "cell_type": "code",
   "execution_count": 7,
   "id": "baac95c5",
   "metadata": {},
   "outputs": [
    {
     "name": "stdout",
     "output_type": "stream",
     "text": [
      "(1, 2, 3, 4, 5)\n"
     ]
    }
   ],
   "source": [
    "# Tuple\n",
    "print((1, 2, 3, 4, 5))"
   ]
  },
  {
   "cell_type": "markdown",
   "id": "75812024",
   "metadata": {},
   "source": [
    "### set"
   ]
  },
  {
   "cell_type": "code",
   "execution_count": 8,
   "id": "4f81e9b0",
   "metadata": {},
   "outputs": [
    {
     "name": "stdout",
     "output_type": "stream",
     "text": [
      "{1, 2, 3, 4, 5}\n"
     ]
    }
   ],
   "source": [
    "# Set\n",
    "print({1, 2, 3, 4, 5})"
   ]
  },
  {
   "cell_type": "markdown",
   "id": "5d612e07",
   "metadata": {},
   "source": [
    "### dict"
   ]
  },
  {
   "cell_type": "code",
   "execution_count": 9,
   "id": "03206dfb",
   "metadata": {},
   "outputs": [
    {
     "name": "stdout",
     "output_type": "stream",
     "text": [
      "{'Name': 'Saurabh', 'Age': 22, 'Gender': 'Male'}\n"
     ]
    }
   ],
   "source": [
    "# Dictionary\n",
    "print({\"Name\": \"Saurabh\", \"Age\": 22, \"Gender\": \"Male\"})"
   ]
  }
 ],
 "metadata": {
  "kernelspec": {
   "display_name": "Python 3 (ipykernel)",
   "language": "python",
   "name": "python3"
  },
  "language_info": {
   "codemirror_mode": {
    "name": "ipython",
    "version": 3
   },
   "file_extension": ".py",
   "mimetype": "text/x-python",
   "name": "python",
   "nbconvert_exporter": "python",
   "pygments_lexer": "ipython3",
   "version": "3.10.9"
  }
 },
 "nbformat": 4,
 "nbformat_minor": 5
}

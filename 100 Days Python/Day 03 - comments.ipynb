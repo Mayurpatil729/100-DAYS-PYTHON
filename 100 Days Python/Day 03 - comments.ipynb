{
 "cells": [
  {
   "cell_type": "code",
   "execution_count": 1,
   "id": "ba6ccc71",
   "metadata": {},
   "outputs": [],
   "source": [
    "# comments"
   ]
  },
  {
   "cell_type": "code",
   "execution_count": 2,
   "id": "74a11b94",
   "metadata": {},
   "outputs": [],
   "source": [
    "# this is a comment"
   ]
  },
  {
   "cell_type": "code",
   "execution_count": 3,
   "id": "d03e2e8c",
   "metadata": {},
   "outputs": [],
   "source": [
    "# my name is saurabh\n",
    "# I love python"
   ]
  }
 ],
 "metadata": {
  "kernelspec": {
   "display_name": "Python 3 (ipykernel)",
   "language": "python",
   "name": "python3"
  },
  "language_info": {
   "codemirror_mode": {
    "name": "ipython",
    "version": 3
   },
   "file_extension": ".py",
   "mimetype": "text/x-python",
   "name": "python",
   "nbconvert_exporter": "python",
   "pygments_lexer": "ipython3",
   "version": "3.10.9"
  }
 },
 "nbformat": 4,
 "nbformat_minor": 5
}

{
 "cells": [
  {
   "cell_type": "markdown",
   "id": "f39ae936",
   "metadata": {},
   "source": [
    "**Static vs Dynamic Typing:**\n",
    "- **Dynamic Typing (Python)**: Types change during execution.\n",
    "- **Static Typing**: Fixed types before runtime.\n",
    "\n",
    "**Static vs Dynamic Binding:**\n",
    "- **Static Binding**: Types fixed at compile-time.\n",
    "- **Dynamic Binding**: Types associated at runtime, changeable during execution.\n",
    "\n",
    "**Stylish Declaration Techniques:**\n",
    "- Clear, efficient variable/structure declarations in Python.\n",
    "- Use Python's flexibility for concise, readable code."
   ]
  },
  {
   "cell_type": "code",
   "execution_count": 1,
   "id": "6ff186bf",
   "metadata": {},
   "outputs": [],
   "source": [
    "# c\n",
    "int a = 5;"
   ]
  },
  {
   "cell_type": "code",
   "execution_count": 2,
   "id": "a2f7579b",
   "metadata": {},
   "outputs": [],
   "source": [
    "name = 'Saurabh'"
   ]
  },
  {
   "cell_type": "code",
   "execution_count": 3,
   "id": "240c9a22",
   "metadata": {},
   "outputs": [
    {
     "name": "stdout",
     "output_type": "stream",
     "text": [
      "Saurabh\n"
     ]
    }
   ],
   "source": [
    "print(name)"
   ]
  },
  {
   "cell_type": "code",
   "execution_count": 4,
   "id": "440b727b",
   "metadata": {},
   "outputs": [
    {
     "name": "stdout",
     "output_type": "stream",
     "text": [
      "Hello World\n"
     ]
    }
   ],
   "source": [
    "name = 'Hello World'\n",
    "print(name)"
   ]
  },
  {
   "cell_type": "markdown",
   "id": "fdd4c2e2",
   "metadata": {},
   "source": [
    "**No Var Decl in Python**\n",
    "- Use vars **w/o prior decl**.\n",
    "- Assign val directly; Python auto-creates."
   ]
  },
  {
   "cell_type": "code",
   "execution_count": null,
   "id": "4946e220",
   "metadata": {},
   "outputs": [],
   "source": [
    "# Dynamic Typing (PHP)\n",
    "$a = 5;\n",
    "\n",
    "# Static Typing (Java)\n",
    "int a = 5;"
   ]
  },
  {
   "cell_type": "code",
   "execution_count": 7,
   "id": "2b86608d",
   "metadata": {},
   "outputs": [
    {
     "name": "stdout",
     "output_type": "stream",
     "text": [
      "Hello World\n"
     ]
    }
   ],
   "source": [
    "print(name)"
   ]
  },
  {
   "cell_type": "code",
   "execution_count": 8,
   "id": "2c6e4e24",
   "metadata": {},
   "outputs": [
    {
     "name": "stdout",
     "output_type": "stream",
     "text": [
      "4\n"
     ]
    }
   ],
   "source": [
    "name = 4\n",
    "print(name)"
   ]
  },
  {
   "cell_type": "code",
   "execution_count": 9,
   "id": "e2b4589a",
   "metadata": {},
   "outputs": [
    {
     "name": "stdout",
     "output_type": "stream",
     "text": [
      "True\n"
     ]
    }
   ],
   "source": [
    "name = True\n",
    "print(name)"
   ]
  },
  {
   "cell_type": "code",
   "execution_count": 1,
   "id": "a7d662a9",
   "metadata": {},
   "outputs": [
    {
     "name": "stdout",
     "output_type": "stream",
     "text": [
      "5\n",
      "nitish\n"
     ]
    }
   ],
   "source": [
    "# Dynamic Binding Example\n",
    "a = 5          # Assign integer\n",
    "print(a)\n",
    "\n",
    "a = 'nitish'   # Reassign string\n",
    "print(a)"
   ]
  },
  {
   "cell_type": "code",
   "execution_count": 11,
   "id": "1d237b00",
   "metadata": {},
   "outputs": [],
   "source": [
    "# Static Binding Example\n",
    "int a = 5"
   ]
  },
  {
   "cell_type": "code",
   "execution_count": 12,
   "id": "5e0542f7",
   "metadata": {},
   "outputs": [
    {
     "name": "stdout",
     "output_type": "stream",
     "text": [
      "5\n",
      "6\n",
      "7\n"
     ]
    }
   ],
   "source": [
    "# Special Syntax\n",
    "a = 5; b = 6; c = 7\n",
    "\n",
    "print(a)\n",
    "print(b)\n",
    "print(c)"
   ]
  },
  {
   "cell_type": "code",
   "execution_count": 13,
   "id": "a2161680",
   "metadata": {},
   "outputs": [
    {
     "name": "stdout",
     "output_type": "stream",
     "text": [
      "5\n",
      "6\n",
      "7\n"
     ]
    }
   ],
   "source": [
    "a, b, c = 5, 6, 7\n",
    "\n",
    "print(a)\n",
    "print(b)\n",
    "print(c)"
   ]
  },
  {
   "cell_type": "code",
   "execution_count": 2,
   "id": "7100ea88",
   "metadata": {},
   "outputs": [
    {
     "name": "stdout",
     "output_type": "stream",
     "text": [
      "6 6 6\n"
     ]
    }
   ],
   "source": [
    "a = b = c = 6\n",
    "\n",
    "print(a, b, c)"
   ]
  }
 ],
 "metadata": {
  "kernelspec": {
   "display_name": "Python 3 (ipykernel)",
   "language": "python",
   "name": "python3"
  },
  "language_info": {
   "codemirror_mode": {
    "name": "ipython",
    "version": 3
   },
   "file_extension": ".py",
   "mimetype": "text/x-python",
   "name": "python",
   "nbconvert_exporter": "python",
   "pygments_lexer": "ipython3",
   "version": "3.10.9"
  }
 },
 "nbformat": 4,
 "nbformat_minor": 5
}

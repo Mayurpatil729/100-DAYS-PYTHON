{
 "cells": [
  {
   "cell_type": "markdown",
   "id": "ad76d5e3",
   "metadata": {},
   "source": [
    "# Literals\n",
    "\n",
    "Literals = basic **data values** for variables.\n",
    "\n",
    "Types in Python:\n",
    "- *Numeric literals*\n",
    "- *String literals*\n",
    "- *Boolean literals*\n",
    "- *Special literals*"
   ]
  },
  {
   "cell_type": "markdown",
   "id": "d3e7577f",
   "metadata": {},
   "source": [
    "## 1. Numeric literals"
   ]
  },
  {
   "cell_type": "code",
   "execution_count": 1,
   "id": "768c9a57",
   "metadata": {},
   "outputs": [
    {
     "name": "stdout",
     "output_type": "stream",
     "text": [
      "10 100 200 300\n",
      "10.5 150.0 0.0015\n",
      "3.14j 3.14 0.0\n"
     ]
    }
   ],
   "source": [
    "# Integer Literals\n",
    "a = 0b1010  # Binary\n",
    "b = 100     # Decimal\n",
    "c = 0o310   # Octal\n",
    "d = 0x12c   # Hex\n",
    "\n",
    "# Float Literals\n",
    "f1 = 10.5\n",
    "f2 = 1.5e2\n",
    "f3 = 1.5e-3\n",
    "\n",
    "# Complex Literal\n",
    "x = 3.14j\n",
    "\n",
    "print(a, b, c, d)\n",
    "print(f1, f2, f3)\n",
    "print(x, x.imag, x.real)"
   ]
  },
  {
   "cell_type": "markdown",
   "id": "5dc50986",
   "metadata": {},
   "source": [
    "## 2. String literals"
   ]
  },
  {
   "cell_type": "code",
   "execution_count": 1,
   "id": "ee4c0d69",
   "metadata": {},
   "outputs": [
    {
     "name": "stdout",
     "output_type": "stream",
     "text": [
      "This is Python\n",
      "This is Python\n",
      "C\n",
      "This is a multiline string with more than one line code.\n",
      "😀😆🤣\n",
      "raw \\n string\n"
     ]
    }
   ],
   "source": [
    "string = 'This is Python'\n",
    "strings = \"This is Python\"\n",
    "char = \"C\"\n",
    "multiline_str = \"\"\"This is a multiline string with more than one line code.\"\"\"\n",
    "unicode = u\"\\U0001f600\\U0001F606\\U0001F923\"\n",
    "raw_str = r\"raw \\n string\"\n",
    "\n",
    "print(string)\n",
    "print(strings)\n",
    "print(char)\n",
    "print(multiline_str)\n",
    "print(unicode)\n",
    "print(raw_str)"
   ]
  },
  {
   "cell_type": "markdown",
   "id": "8155238b",
   "metadata": {},
   "source": [
    "## 3. Boolean literals"
   ]
  },
  {
   "cell_type": "code",
   "execution_count": 3,
   "id": "a6abac0d",
   "metadata": {},
   "outputs": [
    {
     "name": "stdout",
     "output_type": "stream",
     "text": [
      "a: 5\n",
      "b: 10\n"
     ]
    }
   ],
   "source": [
    "a = True + 4   # True == 1\n",
    "b = False + 10 # False == 0\n",
    "\n",
    "print(\"a:\", a)\n",
    "print(\"b:\", b)"
   ]
  },
  {
   "cell_type": "markdown",
   "id": "101fd351",
   "metadata": {},
   "source": [
    "## 4. Special literals"
   ]
  },
  {
   "cell_type": "code",
   "execution_count": 4,
   "id": "7fff7507",
   "metadata": {},
   "outputs": [
    {
     "name": "stdout",
     "output_type": "stream",
     "text": [
      "None\n"
     ]
    }
   ],
   "source": [
    "a = None\n",
    "print(a)"
   ]
  },
  {
   "cell_type": "code",
   "execution_count": 5,
   "id": "f63271b0",
   "metadata": {},
   "outputs": [],
   "source": [
    "# Variable Declaration\n",
    "k = None"
   ]
  }
 ],
 "metadata": {
  "kernelspec": {
   "display_name": "Python 3 (ipykernel)",
   "language": "python",
   "name": "python3"
  },
  "language_info": {
   "codemirror_mode": {
    "name": "ipython",
    "version": 3
   },
   "file_extension": ".py",
   "mimetype": "text/x-python",
   "name": "python",
   "nbconvert_exporter": "python",
   "pygments_lexer": "ipython3",
   "version": "3.10.9"
  }
 },
 "nbformat": 4,
 "nbformat_minor": 5
}

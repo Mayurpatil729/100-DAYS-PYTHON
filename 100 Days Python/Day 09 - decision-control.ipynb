{
 "cells": [
  {
   "cell_type": "markdown",
   "id": "db0bdab5",
   "metadata": {},
   "source": [
    "# if-else"
   ]
  },
  {
   "cell_type": "code",
   "execution_count": 1,
   "id": "bf6ea54a",
   "metadata": {},
   "outputs": [
    {
     "name": "stdout",
     "output_type": "stream",
     "text": [
      "Apna email bata: saurabh@gmail.com\n",
      "Apna password bhi bata: bolo1234\n",
      "Password incorrect\n",
      "Password fir se bol: 1234\n",
      "Finally correct\n"
     ]
    }
   ],
   "source": [
    "# correct email - saurabh@gmail.com\n",
    "# password = 1234\n",
    "\n",
    "email = input(\"Apna email bata: \")\n",
    "if \"@\" in email:\n",
    "    password = input(\"Apna password bhi bata: \")\n",
    "    \n",
    "    if email == \"saurabh@gmail.com\" and password == \"1234\":\n",
    "        print(\"Welcome\")\n",
    "    elif email == \"saurabh@gmail.com\" and password != \"1234\":\n",
    "        print(\"Password incorrect\")\n",
    "        password = input(\"Password fir se bol: \")\n",
    "        if password ==\"1234\":\n",
    "            print(\"Finally correct\")\n",
    "        else:\n",
    "            print(\"Still incorrect\")\n",
    "    else:\n",
    "        print(\"Incorrect credentials\")\n",
    "else:\n",
    "    print(\"Email galat hai sahi likho: \")"
   ]
  },
  {
   "cell_type": "code",
   "execution_count": 1,
   "id": "5c5e3423",
   "metadata": {},
   "outputs": [],
   "source": [
    "# if-else Examples\n",
    "# 1. Min of 3 Numbers\n",
    "# 2. Menu Driven Program"
   ]
  },
  {
   "cell_type": "code",
   "execution_count": 2,
   "id": "c935319a",
   "metadata": {},
   "outputs": [
    {
     "name": "stdout",
     "output_type": "stream",
     "text": [
      "first num: 4\n",
      "second num: 1\n",
      "third num: 10\n",
      "smallest is 1\n"
     ]
    }
   ],
   "source": [
    "# 1. Min of 3 Numbers\n",
    "a = int(input('first num: '))\n",
    "b = int(input('second num: '))\n",
    "c = int(input('third num: '))\n",
    "\n",
    "if a < b and a < c:\n",
    "    print('smallest is', a)\n",
    "elif b < c:\n",
    "    print('smallest is', b)\n",
    "else:\n",
    "    print('smallest is', c)"
   ]
  },
  {
   "cell_type": "code",
   "execution_count": 3,
   "id": "6350150c",
   "metadata": {},
   "outputs": [
    {
     "name": "stdout",
     "output_type": "stream",
     "text": [
      "\n",
      "Hi! how can I help you.\n",
      "1. Enter 1 for pin change\n",
      "2. Enter 2 for balance check\n",
      "3. Enter 3 for withdrawl\n",
      "4. Enter 4 for exit\n",
      "2\n",
      "balance\n"
     ]
    }
   ],
   "source": [
    "# 2. Menu-Driven Calculator\n",
    "menu = input(\"\"\"\n",
    "Hi! how can I help you.\n",
    "1. Enter 1 for pin change\n",
    "2. Enter 2 for balance check\n",
    "3. Enter 3 for withdrawl\n",
    "4. Enter 4 for exit\n",
    "\"\"\")\n",
    "\n",
    "if menu == '1':\n",
    "  print('pin change')\n",
    "elif menu == '2':\n",
    "  print('balance')\n",
    "else:\n",
    "  print('exit')"
   ]
  }
 ],
 "metadata": {
  "kernelspec": {
   "display_name": "Python 3 (ipykernel)",
   "language": "python",
   "name": "python3"
  },
  "language_info": {
   "codemirror_mode": {
    "name": "ipython",
    "version": 3
   },
   "file_extension": ".py",
   "mimetype": "text/x-python",
   "name": "python",
   "nbconvert_exporter": "python",
   "pygments_lexer": "ipython3",
   "version": "3.10.9"
  }
 },
 "nbformat": 4,
 "nbformat_minor": 5
}

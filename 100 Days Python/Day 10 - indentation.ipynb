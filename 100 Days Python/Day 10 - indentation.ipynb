{
 "cells": [
  {
   "cell_type": "code",
   "execution_count": null,
   "id": "67d9c38e",
   "metadata": {},
   "outputs": [],
   "source": [
    "# In Other Languages\n",
    "if(name == \"xyz\"){\n",
    "    something;\n",
    "    something;\n",
    "}else{\n",
    "    something else;\n",
    "    something else;\n",
    "}"
   ]
  },
  {
   "cell_type": "code",
   "execution_count": 1,
   "id": "9c643e75",
   "metadata": {},
   "outputs": [
    {
     "name": "stdout",
     "output_type": "stream",
     "text": [
      "line1\n",
      "line2\n",
      "line5\n"
     ]
    }
   ],
   "source": [
    "# In Python\n",
    "name = \"xyz\"\n",
    "if name == \"xyz\":\n",
    "    print(\"line1\")\n",
    "    print(\"line2\")\n",
    "    if 5 == 5:\n",
    "        print(\"line5\")\n",
    "else:\n",
    "    print(\"line3\")"
   ]
  }
 ],
 "metadata": {
  "kernelspec": {
   "display_name": "Python 3 (ipykernel)",
   "language": "python",
   "name": "python3"
  },
  "language_info": {
   "codemirror_mode": {
    "name": "ipython",
    "version": 3
   },
   "file_extension": ".py",
   "mimetype": "text/x-python",
   "name": "python",
   "nbconvert_exporter": "python",
   "pygments_lexer": "ipython3",
   "version": "3.10.9"
  }
 },
 "nbformat": 4,
 "nbformat_minor": 5
}

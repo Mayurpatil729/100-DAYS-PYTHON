{
 "cells": [
  {
   "cell_type": "markdown",
   "id": "7c0dab1a",
   "metadata": {},
   "source": [
    "# Loops in Python\n",
    "\n",
    "**Need**\n",
    "- Repeat code block.\n",
    "- **Iteration**: Execute same code repeatedly.\n",
    "\n",
    "**While Loop**\n",
    "- Executes while *condition* true.\n",
    "\n",
    "**For Loop**\n",
    "- Executes for each *item* in *iterable*."
   ]
  },
  {
   "cell_type": "markdown",
   "id": "b6220870",
   "metadata": {},
   "source": [
    "# While Loop"
   ]
  },
  {
   "cell_type": "code",
   "execution_count": 1,
   "id": "33b5564d",
   "metadata": {},
   "outputs": [],
   "source": [
    "# While Loop Example"
   ]
  },
  {
   "cell_type": "code",
   "execution_count": null,
   "id": "812c44ea",
   "metadata": {},
   "outputs": [],
   "source": [
    "# While Loop\n",
    "# For Loop"
   ]
  },
  {
   "cell_type": "code",
   "execution_count": null,
   "id": "ae8e9296",
   "metadata": {},
   "outputs": [],
   "source": [
    "# C\n",
    "while(condition){\n",
    "    code\n",
    "}"
   ]
  },
  {
   "cell_type": "code",
   "execution_count": null,
   "id": "4af21edf",
   "metadata": {},
   "outputs": [],
   "source": [
    "# Python\n",
    "while condition:\n",
    "    code"
   ]
  },
  {
   "cell_type": "code",
   "execution_count": 1,
   "id": "171a0774",
   "metadata": {},
   "outputs": [
    {
     "name": "stdout",
     "output_type": "stream",
     "text": [
      "Enter the number: 11\n",
      "11\n",
      "22\n",
      "33\n",
      "44\n",
      "55\n",
      "66\n",
      "77\n",
      "88\n",
      "99\n",
      "110\n"
     ]
    }
   ],
   "source": [
    "# 1. Print Multiplication Table\n",
    "number = int(input(\"Enter the number: \"))\n",
    "i = 1\n",
    "while i < 11:\n",
    "    print(number * i)\n",
    "    i += 1"
   ]
  },
  {
   "cell_type": "code",
   "execution_count": 2,
   "id": "ba5007a4",
   "metadata": {},
   "outputs": [
    {
     "name": "stdout",
     "output_type": "stream",
     "text": [
      "Enter the number: 11\n",
      "11 * 1 = 11\n",
      "11 * 2 = 22\n",
      "11 * 3 = 33\n",
      "11 * 4 = 44\n",
      "11 * 5 = 55\n",
      "11 * 6 = 66\n",
      "11 * 7 = 77\n",
      "11 * 8 = 88\n",
      "11 * 9 = 99\n",
      "11 * 10 = 110\n"
     ]
    }
   ],
   "source": [
    "number = int(input(\"Enter the number: \"))\n",
    "i = 1\n",
    "while i < 11:\n",
    "    print(number, \"*\", i, \"=\", number * i)\n",
    "    i += 1"
   ]
  },
  {
   "cell_type": "code",
   "execution_count": 2,
   "id": "6048ec1e",
   "metadata": {},
   "outputs": [
    {
     "name": "stdout",
     "output_type": "stream",
     "text": [
      "1\n",
      "2\n",
      "limit crossed\n"
     ]
    }
   ],
   "source": [
    "# while loop with else\n",
    "x = 1\n",
    "while x < 3:\n",
    "  print(x)\n",
    "  x += 1\n",
    "else:\n",
    "  print('limit crossed')"
   ]
  },
  {
   "cell_type": "code",
   "execution_count": 3,
   "id": "3a71a65e",
   "metadata": {},
   "outputs": [
    {
     "name": "stdout",
     "output_type": "stream",
     "text": [
      "Enter the number: 1234\n",
      "Sum of digits: 10\n"
     ]
    }
   ],
   "source": [
    "# 2. Sum of Digits\n",
    "number = int(input(\"Enter the number: \"))\n",
    "sum_digits = 0\n",
    "while number > 0:\n",
    "    digit = number % 10\n",
    "    sum_digits += digit\n",
    "    number //= 10\n",
    "print(f\"Sum of digits: {sum_digits}\")"
   ]
  },
  {
   "cell_type": "code",
   "execution_count": 4,
   "id": "b44db62e",
   "metadata": {},
   "outputs": [
    {
     "name": "stdout",
     "output_type": "stream",
     "text": [
      "Enter a number (0 to stop): 5\n",
      "Enter a number (0 to stop): 4\n",
      "Enter a number (0 to stop): 3\n",
      "Enter a number (0 to stop): 2\n",
      "Enter a number (0 to stop): 1\n",
      "Enter a number (0 to stop): 0\n",
      "Average of entered numbers: 3.0\n"
     ]
    }
   ],
   "source": [
    "# 3. Average of Numbers Until 0\n",
    "count = 0\n",
    "total = 0\n",
    "while True:\n",
    "    number = int(input(\"Enter a number (0 to stop): \"))\n",
    "    if number == 0:\n",
    "        break\n",
    "    total += number\n",
    "    count += 1\n",
    "if count > 0:\n",
    "    average = total / count\n",
    "    print(f\"Average of entered numbers: {average}\")\n",
    "else:\n",
    "    print(\"No numbers entered.\")"
   ]
  }
 ],
 "metadata": {
  "kernelspec": {
   "display_name": "Python 3 (ipykernel)",
   "language": "python",
   "name": "python3"
  },
  "language_info": {
   "codemirror_mode": {
    "name": "ipython",
    "version": 3
   },
   "file_extension": ".py",
   "mimetype": "text/x-python",
   "name": "python",
   "nbconvert_exporter": "python",
   "pygments_lexer": "ipython3",
   "version": "3.10.9"
  }
 },
 "nbformat": 4,
 "nbformat_minor": 5
}

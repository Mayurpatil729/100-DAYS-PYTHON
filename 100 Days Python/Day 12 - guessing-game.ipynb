{
 "cells": [
  {
   "cell_type": "code",
   "execution_count": 1,
   "id": "eb2b2057",
   "metadata": {},
   "outputs": [],
   "source": [
    "import random"
   ]
  },
  {
   "cell_type": "code",
   "execution_count": 2,
   "id": "524fa522",
   "metadata": {},
   "outputs": [
    {
     "data": {
      "text/plain": [
       "31"
      ]
     },
     "execution_count": 2,
     "metadata": {},
     "output_type": "execute_result"
    }
   ],
   "source": [
    "random.randint(1, 100)"
   ]
  },
  {
   "cell_type": "code",
   "execution_count": 3,
   "id": "11b1273b",
   "metadata": {},
   "outputs": [
    {
     "name": "stdout",
     "output_type": "stream",
     "text": [
      "Chal guess kar: 50\n",
      "Guess higher\n",
      "Chal guess kar: 60\n",
      "Guess higher\n",
      "Chal guess kar: 70\n",
      "Guess higher\n",
      "Chal guess kar: 80\n",
      "Guess lower\n",
      "Chal guess kar: 75\n",
      "Guess lower\n",
      "Chal guess kar: 73\n",
      "Guess higher\n",
      "Chal guess kar: 74\n",
      "Sahi Jawab\n",
      "You took 7 attempts\n"
     ]
    }
   ],
   "source": [
    "jackpot = random.randint(1, 100)\n",
    "guess = int(input(\"Chal guess kar: \"))\n",
    "counter = 1\n",
    "while guess != jackpot:\n",
    "    if guess < jackpot:\n",
    "        print(\"Guess higher\")\n",
    "    else:\n",
    "        print(\"Guess lower\")   \n",
    "    guess = int(input(\"Chal guess kar: \"))\n",
    "    counter += 1\n",
    "print(\"Sahi Jawab\")\n",
    "print(\"You took\", counter, \"attempts\")"
   ]
  }
 ],
 "metadata": {
  "kernelspec": {
   "display_name": "Python 3 (ipykernel)",
   "language": "python",
   "name": "python3"
  },
  "language_info": {
   "codemirror_mode": {
    "name": "ipython",
    "version": 3
   },
   "file_extension": ".py",
   "mimetype": "text/x-python",
   "name": "python",
   "nbconvert_exporter": "python",
   "pygments_lexer": "ipython3",
   "version": "3.10.9"
  }
 },
 "nbformat": 4,
 "nbformat_minor": 5
}

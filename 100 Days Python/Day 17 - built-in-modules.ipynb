{
 "cells": [
  {
   "cell_type": "markdown",
   "id": "6975c47a",
   "metadata": {},
   "source": [
    "# What are Modules?\n",
    "\n",
    "- **Code libraries** in Python.\n",
    "- **Contain functions** for use.\n",
    "\n",
    "*Examples:*\n",
    "- **Math**: Math ops\n",
    "- **Random**: Random numbers\n",
    "- **os**: OS interaction\n",
    "- **time**: Time tasks"
   ]
  },
  {
   "cell_type": "code",
   "execution_count": 1,
   "id": "c827ad4b",
   "metadata": {},
   "outputs": [
    {
     "name": "stdout",
     "output_type": "stream",
     "text": [
      "\n",
      "Please wait a moment while I gather a list of all available modules...\n",
      "\n"
     ]
    },
    {
     "name": "stderr",
     "output_type": "stream",
     "text": [
      "C:\\Users\\pc\\anaconda3\\lib\\site-packages\\IPython\\kernel\\__init__.py:12: ShimWarning: The `IPython.kernel` package has been deprecated since IPython 4.0.You should import from ipykernel or jupyter_client instead.\n",
      "  warn(\"The `IPython.kernel` package has been deprecated since IPython 4.0.\"\n",
      "C:\\Users\\pc\\anaconda3\\lib\\pkgutil.py:93: UserWarning: The numpy.array_api submodule is still experimental. See NEP 47.\n",
      "  __import__(info.name)\n"
     ]
    },
    {
     "name": "stdout",
     "output_type": "stream",
     "text": [
      "IPython             bs4                 mailcap             sspicon\n",
      "OpenSSL             builtins            markupsafe          stat\n",
      "PIL                 bz2                 marshal             statistics\n",
      "PyQt5               cProfile            math                storemagic\n",
      "__future__          calendar            matplotlib_inline   string\n",
      "_abc                certifi             menuinst            stringprep\n",
      "_aix_support        cffi                mimetypes           struct\n",
      "_ast                cgi                 mistune             subprocess\n",
      "_asyncio            cgitb               mmap                sunau\n",
      "_bisect             chardet             mmapfile            symbol\n",
      "_blake2             charset_normalizer  mmsystem            sympyprinting\n",
      "_bootlocale         chunk               modulefinder        symtable\n",
      "_bootsubprocess     click               msilib              sys\n",
      "_bz2                clyent              msvcrt              sysconfig\n",
      "_cffi_backend       cmath               multiprocessing     tabnanny\n",
      "_codecs             cmd                 navigator_updater   tarfile\n",
      "_codecs_cn          code                nbclassic           telnetlib\n",
      "_codecs_hk          codecs              nbclient            tempfile\n",
      "_codecs_iso2022     codeop              nbconvert           terminado\n",
      "_codecs_jp          collections         nbformat            test\n",
      "_codecs_kr          colorama            nest_asyncio        test_pycosat\n",
      "_codecs_tw          colorsys            netbios             testpath\n",
      "_collections        commctrl            netrc               tests\n",
      "_collections_abc    compileall          nntplib             textwrap\n",
      "_compat_pickle      concurrent          notebook            this\n",
      "_compression        conda               nt                  threading\n",
      "_contextvars        conda_content_trust ntpath              time\n",
      "_csv                conda_env           ntsecuritycon       timeit\n",
      "_ctypes             conda_package_handling nturl2path          timer\n",
      "_ctypes_test        conda_token         numbers             tkinter\n",
      "_datetime           conda_verify        numpy               token\n",
      "_decimal            configparser        odbc                tokenize\n",
      "_distutils_hack     contextlib          olefile             tornado\n",
      "_elementtree        contextvars         opcode              tqdm\n",
      "_functools          copy                operator            trace\n",
      "_hashlib            copyreg             optparse            traceback\n",
      "_heapq              crypt               os                  tracemalloc\n",
      "_imp                cryptography        packaging           traitlets\n",
      "_io                 csv                 pandas              tty\n",
      "_json               ctypes              pandocfilters       turtle\n",
      "_locale             curses              parser              turtledemo\n",
      "_lsprof             cwp                 parso               types\n",
      "_lzma               cythonmagic         past                typing\n",
      "_markupbase         dataclasses         pathlib             ujson\n",
      "_md5                datetime            pdb                 unicodedata\n",
      "_msi                dateutil            perfmon             unittest\n",
      "_multibytecodec     dbi                 pickle              urllib\n",
      "_multiprocessing    dbm                 pickleshare         urllib3\n",
      "_nsis               dde                 pickletools         uu\n",
      "_opcode             debugpy             pip                 uuid\n",
      "_operator           decimal             pipes               venv\n",
      "_osx_support        decorator           pkg_resources       warnings\n",
      "_overlapped         defusedxml          pkgutil             wave\n",
      "_peg_parser         difflib             platform            wcwidth\n",
      "_pickle             dis                 plistlib            weakref\n",
      "_py_abc             distutils           poplib              webbrowser\n",
      "_pydecimal          doctest             posixpath           webencodings\n",
      "_pyio               email               pprint              werkzeug\n",
      "_pyrsistent_version encodings           profile             wheel\n",
      "_queue              ensurepip           prometheus_client   widgetsnbextension\n",
      "_random             entrypoints         prompt_toolkit      win2kras\n",
      "_sha1               enum                pstats              win32api\n",
      "_sha256             errno               psutil              win32clipboard\n",
      "_sha3               faulthandler        pty                 win32com\n",
      "_sha512             filecmp             pvectorc            win32con\n",
      "_signal             fileinput           py_compile          win32console\n",
      "_sitebuiltins       flask               pyclbr              win32cred\n",
      "_socket             fnmatch             pycosat             win32crypt\n",
      "_sqlite3            formatter           pycparser           win32cryptcon\n",
      "_sre                fractions           pydoc               win32event\n",
      "_ssl                ftplib              pydoc_data          win32evtlog\n",
      "_stat               functools           pyexpat             win32evtlogutil\n",
      "_statistics         future              pygments            win32file\n",
      "_string             gc                  pyparsing           win32gui\n",
      "_strptime           genericpath         pyrsistent          win32gui_struct\n",
      "_struct             getopt              pythoncom           win32help\n",
      "_symtable           getpass             pytz                win32inet\n",
      "_system_path        gettext             pywin               win32inetcon\n",
      "_testbuffer         glob                pywin32_bootstrap   win32job\n",
      "_testcapi           graphlib            pywin32_testutil    win32lz\n",
      "_testconsole        gzip                pywintypes          win32net\n",
      "_testimportmultiple hashlib             qtpy                win32netcon\n",
      "_testinternalcapi   heapq               queue               win32pdh\n",
      "_testmultiphase     hmac                quopri              win32pdhquery\n",
      "_thread             html                random              win32pdhutil\n",
      "_threading_local    html5lib            rasutil             win32pipe\n",
      "_tkinter            http                re                  win32print\n",
      "_tracemalloc        idlelib             regcheck            win32process\n",
      "_uuid               idna                regutil             win32profile\n",
      "_warnings           imaplib             repo_cli            win32ras\n",
      "_weakref            imghdr              reprlib             win32rcparser\n",
      "_weakrefset         imp                 requests            win32security\n",
      "_win32sysloader     importlib           rlcompleter         win32service\n",
      "_winapi             importlib_metadata  rmagic              win32serviceutil\n",
      "_winxptheme         inspect             ruamel_yaml         win32timezone\n",
      "_xxsubinterpreters  io                  runpy               win32trace\n",
      "_yaml               ipaddress           sched               win32traceutil\n",
      "_zoneinfo           ipykernel           scripts             win32transaction\n",
      "abc                 ipykernel_launcher  secrets             win32ts\n",
      "adodbapi            ipython_genutils    select              win32ui\n",
      "afxres              ipywidgets          selectors           win32uiole\n",
      "aifc                isapi               send2trash          win32verstamp\n",
      "anaconda_navigator  itertools           servicemanager      win32wnet\n",
      "antigravity         itsdangerous        setuptools          win_inet_pton\n",
      "anyio               jedi                shelve              wincertstore\n",
      "argon2              jinja2              shlex               winerror\n",
      "argparse            json                shutil              winioctlcon\n",
      "array               json5               signal              winnt\n",
      "ast                 jsonschema          sip                 winperf\n",
      "async_generator     jupyter             sipconfig           winpty\n",
      "asynchat            jupyter_client      sipdistutils        winreg\n",
      "asyncio             jupyter_core        site                winsound\n",
      "asyncore            jupyter_server      six                 winxpgui\n",
      "atexit              jupyterlab          smtpd               winxptheme\n",
      "attr                jupyterlab_pygments smtplib             wsgiref\n",
      "audioop             jupyterlab_server   sndhdr              xdrlib\n",
      "autoreload          jupyterlab_widgets  sniffio             xml\n",
      "babel               jwt                 socket              xmlrpc\n",
      "backcall            keyword             socketserver        xmltodict\n",
      "backports           lib2to3             socks               xxsubtype\n",
      "base64              libfuturize         sockshandler        yaml\n",
      "bdb                 libpasteurize       soupsieve           zipapp\n",
      "binascii            linecache           sqlite3             zipfile\n",
      "binhex              locale              sre_compile         zipimport\n",
      "binstar_client      logging             sre_constants       zipp\n",
      "bisect              lxml                sre_parse           zlib\n",
      "bleach              lzma                ssl                 zmq\n",
      "brotli              mailbox             sspi                zoneinfo\n",
      "\n",
      "Enter any module name to get more help.  Or, type \"modules spam\" to search\n",
      "for modules whose name or summary contain the string \"spam\".\n",
      "\n"
     ]
    },
    {
     "name": "stderr",
     "output_type": "stream",
     "text": [
      "C:\\Users\\pc\\anaconda3\\lib\\pkgutil.py:108: VisibleDeprecationWarning: zmq.eventloop.minitornado is deprecated in pyzmq 14.0 and will be removed.\n",
      "    Install tornado itself to use zmq with the tornado IOLoop.\n",
      "    \n",
      "  yield from walk_packages(path, info.name+'.', onerror)\n"
     ]
    }
   ],
   "source": [
    "help('modules')"
   ]
  },
  {
   "cell_type": "code",
   "execution_count": 2,
   "id": "b5c2ca44",
   "metadata": {
    "scrolled": true
   },
   "outputs": [
    {
     "name": "stdout",
     "output_type": "stream",
     "text": [
      "['False', 'None', 'True', 'and', 'as', 'assert', 'async', 'await', 'break', 'class', 'continue', 'def', 'del', 'elif', 'else', 'except', 'finally', 'for', 'from', 'global', 'if', 'import', 'in', 'is', 'lambda', 'nonlocal', 'not', 'or', 'pass', 'raise', 'return', 'try', 'while', 'with', 'yield']\n"
     ]
    }
   ],
   "source": [
    "# keyword module\n",
    "import keyword\n",
    "print(keyword.kwlist)  # Reserved keywords in Python"
   ]
  },
  {
   "cell_type": "markdown",
   "id": "632f986e",
   "metadata": {},
   "source": [
    "### Math Module"
   ]
  },
  {
   "cell_type": "code",
   "execution_count": 2,
   "id": "ec581766",
   "metadata": {},
   "outputs": [],
   "source": [
    "# include <stdio.h>\n",
    "import math"
   ]
  },
  {
   "cell_type": "code",
   "execution_count": 3,
   "id": "0c76afdd",
   "metadata": {},
   "outputs": [
    {
     "data": {
      "text/plain": [
       "3.141592653589793"
      ]
     },
     "execution_count": 3,
     "metadata": {},
     "output_type": "execute_result"
    }
   ],
   "source": [
    "math.pi"
   ]
  },
  {
   "cell_type": "code",
   "execution_count": 4,
   "id": "6ac1e347",
   "metadata": {},
   "outputs": [
    {
     "data": {
      "text/plain": [
       "2.718281828459045"
      ]
     },
     "execution_count": 4,
     "metadata": {},
     "output_type": "execute_result"
    }
   ],
   "source": [
    "math.e"
   ]
  },
  {
   "cell_type": "code",
   "execution_count": 5,
   "id": "92777285",
   "metadata": {},
   "outputs": [
    {
     "data": {
      "text/plain": [
       "120"
      ]
     },
     "execution_count": 5,
     "metadata": {},
     "output_type": "execute_result"
    }
   ],
   "source": [
    "math.factorial(5)"
   ]
  },
  {
   "cell_type": "code",
   "execution_count": 6,
   "id": "81875d42",
   "metadata": {},
   "outputs": [
    {
     "data": {
      "text/plain": [
       "7"
      ]
     },
     "execution_count": 6,
     "metadata": {},
     "output_type": "execute_result"
    }
   ],
   "source": [
    "math.ceil(6.3)"
   ]
  },
  {
   "cell_type": "code",
   "execution_count": 7,
   "id": "5dc86635",
   "metadata": {},
   "outputs": [
    {
     "data": {
      "text/plain": [
       "6"
      ]
     },
     "execution_count": 7,
     "metadata": {},
     "output_type": "execute_result"
    }
   ],
   "source": [
    "math.floor(6.9)"
   ]
  },
  {
   "cell_type": "markdown",
   "id": "e954367e",
   "metadata": {},
   "source": [
    "### Random Module"
   ]
  },
  {
   "cell_type": "code",
   "execution_count": 8,
   "id": "894d866d",
   "metadata": {},
   "outputs": [],
   "source": [
    "import random"
   ]
  },
  {
   "cell_type": "code",
   "execution_count": 9,
   "id": "39ba8fe2",
   "metadata": {},
   "outputs": [
    {
     "data": {
      "text/plain": [
       "15"
      ]
     },
     "execution_count": 9,
     "metadata": {},
     "output_type": "execute_result"
    }
   ],
   "source": [
    "random.randint(1, 100)"
   ]
  },
  {
   "cell_type": "code",
   "execution_count": 10,
   "id": "09476dd9",
   "metadata": {},
   "outputs": [
    {
     "data": {
      "text/plain": [
       "[1, 3, 2, 5, 4]"
      ]
     },
     "execution_count": 10,
     "metadata": {},
     "output_type": "execute_result"
    }
   ],
   "source": [
    "a = [1, 2, 3, 4, 5]\n",
    "random.shuffle(a)\n",
    "a"
   ]
  },
  {
   "cell_type": "markdown",
   "id": "645bfaea",
   "metadata": {},
   "source": [
    "### Time Module"
   ]
  },
  {
   "cell_type": "code",
   "execution_count": 11,
   "id": "0ab1cfde",
   "metadata": {},
   "outputs": [],
   "source": [
    "import time"
   ]
  },
  {
   "cell_type": "code",
   "execution_count": 12,
   "id": "0f72a97f",
   "metadata": {},
   "outputs": [
    {
     "data": {
      "text/plain": [
       "1661709696.581269"
      ]
     },
     "execution_count": 12,
     "metadata": {},
     "output_type": "execute_result"
    }
   ],
   "source": [
    "time.time() # Current time (seconds)"
   ]
  },
  {
   "cell_type": "code",
   "execution_count": 13,
   "id": "07fdd5d5",
   "metadata": {},
   "outputs": [
    {
     "data": {
      "text/plain": [
       "'Sun Aug 28 23:31:38 2022'"
      ]
     },
     "execution_count": 13,
     "metadata": {},
     "output_type": "execute_result"
    }
   ],
   "source": [
    "time.ctime() # Current time (string)"
   ]
  },
  {
   "cell_type": "code",
   "execution_count": 14,
   "id": "629230ac",
   "metadata": {},
   "outputs": [
    {
     "name": "stdout",
     "output_type": "stream",
     "text": [
      "Hello\n",
      "World\n"
     ]
    }
   ],
   "source": [
    "print(\"Hello\")\n",
    "time.sleep(5) # Delay for 5 seconds\n",
    "print(\"World\")"
   ]
  },
  {
   "cell_type": "markdown",
   "id": "4d026824",
   "metadata": {},
   "source": [
    "### Datetime Module"
   ]
  },
  {
   "cell_type": "code",
   "execution_count": 1,
   "id": "ec47dd18",
   "metadata": {},
   "outputs": [
    {
     "name": "stdout",
     "output_type": "stream",
     "text": [
      "2024-06-27 00:03:28.535910\n"
     ]
    }
   ],
   "source": [
    "import datetime\n",
    "print(datetime.datetime.now()) # Current date/time"
   ]
  },
  {
   "cell_type": "markdown",
   "id": "e222133f",
   "metadata": {},
   "source": [
    "### OS Module"
   ]
  },
  {
   "cell_type": "code",
   "execution_count": 15,
   "id": "2839f55c",
   "metadata": {},
   "outputs": [],
   "source": [
    "import os"
   ]
  },
  {
   "cell_type": "code",
   "execution_count": 16,
   "id": "d2eb69b8",
   "metadata": {},
   "outputs": [
    {
     "data": {
      "text/plain": [
       "'C:\\\\Users\\\\pc\\\\100 Days of Python Programming'"
      ]
     },
     "execution_count": 16,
     "metadata": {},
     "output_type": "execute_result"
    }
   ],
   "source": [
    "os.getcwd() # Current working dir"
   ]
  },
  {
   "cell_type": "code",
   "execution_count": 17,
   "id": "a2a14d8d",
   "metadata": {},
   "outputs": [
    {
     "data": {
      "text/plain": [
       "['.ipynb_checkpoints',\n",
       " 'Day 01 - print-function.ipynb',\n",
       " 'Day 02 - data-types.ipynb',\n",
       " 'Day 03 - comments.ipynb',\n",
       " 'Day 04 - variables.ipynb',\n",
       " 'Day 05 - keywords-and-identifiers.ipynb',\n",
       " 'Day 06 - taking-user-input-and-type-conversion.ipynb',\n",
       " 'Day 07 - literals.ipynb',\n",
       " 'Day 08 - operators.ipynb',\n",
       " 'Day 09 - decision-control.ipynb',\n",
       " 'Day 10 - indentation.ipynb',\n",
       " 'Day 11 - while-loop.ipynb',\n",
       " 'Day 12 - guessing-game.ipynb',\n",
       " 'Day 13 - for-loop.ipynb',\n",
       " 'Day 14 - nested-loops.ipynb',\n",
       " 'Day 15 - break-continue-and-pass.ipynb',\n",
       " 'Day 16 - built-in-functions.ipynb',\n",
       " 'Day 17 - built-in-modules.ipynb',\n",
       " 'Day 18..ipynb',\n",
       " 'Day 19..ipynb',\n",
       " 'Day 20..ipynb',\n",
       " 'Day 21..ipynb',\n",
       " 'Day 22..ipynb',\n",
       " 'Day 23..ipynb',\n",
       " 'Day 24..ipynb',\n",
       " 'Day 25..ipynb']"
      ]
     },
     "execution_count": 17,
     "metadata": {},
     "output_type": "execute_result"
    }
   ],
   "source": [
    "os.listdir() # Files in dir"
   ]
  }
 ],
 "metadata": {
  "kernelspec": {
   "display_name": "Python 3 (ipykernel)",
   "language": "python",
   "name": "python3"
  },
  "language_info": {
   "codemirror_mode": {
    "name": "ipython",
    "version": 3
   },
   "file_extension": ".py",
   "mimetype": "text/x-python",
   "name": "python",
   "nbconvert_exporter": "python",
   "pygments_lexer": "ipython3",
   "version": "3.10.9"
  }
 },
 "nbformat": 4,
 "nbformat_minor": 5
}

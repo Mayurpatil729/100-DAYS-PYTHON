{
 "cells": [
  {
   "cell_type": "markdown",
   "id": "fccca9e4",
   "metadata": {},
   "source": [
    "# Strings\n",
    "\n",
    "**Seq. of Chars**\n",
    "\n",
    "In Python: *Unicode Chars*\n",
    "\n",
    "**Ops:**\n",
    "- Create\n",
    "- Access\n",
    "- Add Chars\n",
    "- Edit\n",
    "- Delete\n",
    "- Ops on Strings\n",
    "- String Functions"
   ]
  },
  {
   "cell_type": "markdown",
   "id": "8b6390fd",
   "metadata": {},
   "source": [
    "## 1. Create"
   ]
  },
  {
   "cell_type": "code",
   "execution_count": 1,
   "id": "4412dfaa",
   "metadata": {},
   "outputs": [
    {
     "name": "stdout",
     "output_type": "stream",
     "text": [
      "Hello\n"
     ]
    }
   ],
   "source": [
    "c = 'Hello'\n",
    "print(c)"
   ]
  },
  {
   "cell_type": "code",
   "execution_count": 2,
   "id": "f20f2ef2",
   "metadata": {},
   "outputs": [
    {
     "name": "stdout",
     "output_type": "stream",
     "text": [
      "Hello\n"
     ]
    }
   ],
   "source": [
    "c = \"Hello\"\n",
    "print(c)"
   ]
  },
  {
   "cell_type": "code",
   "execution_count": 3,
   "id": "f0ca4b39",
   "metadata": {},
   "outputs": [
    {
     "ename": "SyntaxError",
     "evalue": "invalid syntax (Temp/ipykernel_16404/2132155197.py, line 1)",
     "output_type": "error",
     "traceback": [
      "\u001b[1;36m  File \u001b[1;32m\"C:\\Users\\pc\\AppData\\Local\\Temp/ipykernel_16404/2132155197.py\"\u001b[1;36m, line \u001b[1;32m1\u001b[0m\n\u001b[1;33m    'It's raining outside'\u001b[0m\n\u001b[1;37m        ^\u001b[0m\n\u001b[1;31mSyntaxError\u001b[0m\u001b[1;31m:\u001b[0m invalid syntax\n"
     ]
    }
   ],
   "source": [
    "'It's raining outside'"
   ]
  },
  {
   "cell_type": "code",
   "execution_count": 4,
   "id": "9a668a2c",
   "metadata": {},
   "outputs": [
    {
     "data": {
      "text/plain": [
       "\"It's raining outside\""
      ]
     },
     "execution_count": 4,
     "metadata": {},
     "output_type": "execute_result"
    }
   ],
   "source": [
    "\"It's raining outside\""
   ]
  },
  {
   "cell_type": "code",
   "execution_count": 5,
   "id": "db129787",
   "metadata": {},
   "outputs": [
    {
     "name": "stdout",
     "output_type": "stream",
     "text": [
      "Hello\n"
     ]
    }
   ],
   "source": [
    "c = '''Hello''' # multi-line string\n",
    "print(c)"
   ]
  },
  {
   "cell_type": "code",
   "execution_count": 6,
   "id": "7811c7f5",
   "metadata": {},
   "outputs": [
    {
     "name": "stdout",
     "output_type": "stream",
     "text": [
      "Hello\n"
     ]
    }
   ],
   "source": [
    "c = \"\"\"Hello\"\"\"\n",
    "print(c)"
   ]
  },
  {
   "cell_type": "code",
   "execution_count": 7,
   "id": "7b2faea1",
   "metadata": {},
   "outputs": [
    {
     "data": {
      "text/plain": [
       "'Hello'"
      ]
     },
     "execution_count": 7,
     "metadata": {},
     "output_type": "execute_result"
    }
   ],
   "source": [
    "c = str(\"Hello\")\n",
    "c"
   ]
  },
  {
   "cell_type": "markdown",
   "id": "9626bdc7",
   "metadata": {},
   "source": [
    "## 2. Access"
   ]
  },
  {
   "cell_type": "markdown",
   "id": "39ea816d",
   "metadata": {},
   "source": [
    "### Accessing Substrings from a String"
   ]
  },
  {
   "cell_type": "code",
   "execution_count": 8,
   "id": "9223cfaf",
   "metadata": {},
   "outputs": [
    {
     "name": "stdout",
     "output_type": "stream",
     "text": [
      "hello\n"
     ]
    }
   ],
   "source": [
    "# Concept of Indexing\n",
    "c = \"hello\"\n",
    "print(c)"
   ]
  },
  {
   "cell_type": "code",
   "execution_count": 9,
   "id": "dced4e90",
   "metadata": {},
   "outputs": [
    {
     "name": "stdout",
     "output_type": "stream",
     "text": [
      "h\n"
     ]
    }
   ],
   "source": [
    "print(c[0])"
   ]
  },
  {
   "cell_type": "markdown",
   "id": "0e10decd",
   "metadata": {},
   "source": [
    "*Indexing Types:*\n",
    "- Positive\n",
    "- Negative"
   ]
  },
  {
   "cell_type": "code",
   "execution_count": 10,
   "id": "ec38c85a",
   "metadata": {},
   "outputs": [
    {
     "name": "stdout",
     "output_type": "stream",
     "text": [
      "o\n"
     ]
    }
   ],
   "source": [
    "print(c[-1])"
   ]
  },
  {
   "cell_type": "code",
   "execution_count": 11,
   "id": "894e39ad",
   "metadata": {},
   "outputs": [
    {
     "name": "stdout",
     "output_type": "stream",
     "text": [
      "Hello World\n"
     ]
    }
   ],
   "source": [
    "# Slicing\n",
    "c = \"Hello World\"\n",
    "print(c)"
   ]
  },
  {
   "cell_type": "code",
   "execution_count": 12,
   "id": "f77a18dc",
   "metadata": {},
   "outputs": [
    {
     "name": "stdout",
     "output_type": "stream",
     "text": [
      "Hello\n"
     ]
    }
   ],
   "source": [
    "print(c[0:5])"
   ]
  },
  {
   "cell_type": "code",
   "execution_count": 13,
   "id": "8a21efce",
   "metadata": {},
   "outputs": [
    {
     "name": "stdout",
     "output_type": "stream",
     "text": [
      "llo World\n"
     ]
    }
   ],
   "source": [
    "print(c[2:])"
   ]
  },
  {
   "cell_type": "code",
   "execution_count": 14,
   "id": "b611aa4e",
   "metadata": {},
   "outputs": [
    {
     "name": "stdout",
     "output_type": "stream",
     "text": [
      "Hell\n"
     ]
    }
   ],
   "source": [
    "print(c[:4])"
   ]
  },
  {
   "cell_type": "code",
   "execution_count": 15,
   "id": "94dcdf81",
   "metadata": {},
   "outputs": [
    {
     "name": "stdout",
     "output_type": "stream",
     "text": [
      "Hello World\n"
     ]
    }
   ],
   "source": [
    "print(c[:])"
   ]
  },
  {
   "cell_type": "code",
   "execution_count": 16,
   "id": "1e3002ad",
   "metadata": {},
   "outputs": [
    {
     "name": "stdout",
     "output_type": "stream",
     "text": [
      "lo\n"
     ]
    }
   ],
   "source": [
    "print(c[2:6:2])"
   ]
  },
  {
   "cell_type": "code",
   "execution_count": 17,
   "id": "5a9ead14",
   "metadata": {},
   "outputs": [
    {
     "name": "stdout",
     "output_type": "stream",
     "text": [
      "HlW\n"
     ]
    }
   ],
   "source": [
    "print(c[0:8:3])"
   ]
  },
  {
   "cell_type": "code",
   "execution_count": 18,
   "id": "d6d114ff",
   "metadata": {},
   "outputs": [
    {
     "name": "stdout",
     "output_type": "stream",
     "text": [
      "\n"
     ]
    }
   ],
   "source": [
    "print(c[0:6:-1])"
   ]
  },
  {
   "cell_type": "code",
   "execution_count": 19,
   "id": "64a9767b",
   "metadata": {},
   "outputs": [
    {
     "name": "stdout",
     "output_type": "stream",
     "text": [
      "Wr\n"
     ]
    }
   ],
   "source": [
    "print(c[-5:-1:2])"
   ]
  },
  {
   "cell_type": "code",
   "execution_count": 20,
   "id": "2de5bc2b",
   "metadata": {},
   "outputs": [
    {
     "name": "stdout",
     "output_type": "stream",
     "text": [
      "dlroW olleH\n"
     ]
    }
   ],
   "source": [
    "print(c[::-1])"
   ]
  },
  {
   "cell_type": "code",
   "execution_count": 21,
   "id": "4fa98480",
   "metadata": {},
   "outputs": [
    {
     "name": "stdout",
     "output_type": "stream",
     "text": [
      "dlro\n"
     ]
    }
   ],
   "source": [
    "print(c[-1:-5:-1])"
   ]
  },
  {
   "cell_type": "markdown",
   "id": "c7686c03",
   "metadata": {},
   "source": [
    "## 3. Add Chars"
   ]
  },
  {
   "cell_type": "code",
   "execution_count": 1,
   "id": "bd808394",
   "metadata": {},
   "outputs": [],
   "source": [
    "string1 = \"Hello\"\n",
    "string2 = 'World'"
   ]
  },
  {
   "cell_type": "code",
   "execution_count": 2,
   "id": "8427e7bc",
   "metadata": {},
   "outputs": [
    {
     "data": {
      "text/plain": [
       "'Hello World'"
      ]
     },
     "execution_count": 2,
     "metadata": {},
     "output_type": "execute_result"
    }
   ],
   "source": [
    "new_string = string1 + \" \" + string2\n",
    "new_string"
   ]
  },
  {
   "cell_type": "code",
   "execution_count": 3,
   "id": "64b5b21a",
   "metadata": {},
   "outputs": [
    {
     "data": {
      "text/plain": [
       "'Hello, how are you?'"
      ]
     },
     "execution_count": 3,
     "metadata": {},
     "output_type": "execute_result"
    }
   ],
   "source": [
    "another_string = string1 + \", how are you?\"\n",
    "another_string"
   ]
  },
  {
   "cell_type": "markdown",
   "id": "7a96b5ec",
   "metadata": {},
   "source": [
    "## 4. Edit & 5. Delete"
   ]
  },
  {
   "cell_type": "code",
   "execution_count": 22,
   "id": "809c657c",
   "metadata": {},
   "outputs": [
    {
     "name": "stdout",
     "output_type": "stream",
     "text": [
      "Hello\n"
     ]
    }
   ],
   "source": [
    "c = \"Hello\"\n",
    "print(c)"
   ]
  },
  {
   "cell_type": "code",
   "execution_count": 23,
   "id": "f71da545",
   "metadata": {},
   "outputs": [
    {
     "ename": "TypeError",
     "evalue": "'str' object does not support item assignment",
     "output_type": "error",
     "traceback": [
      "\u001b[1;31m---------------------------------------------------------------------------\u001b[0m",
      "\u001b[1;31mTypeError\u001b[0m                                 Traceback (most recent call last)",
      "\u001b[1;32m~\\AppData\\Local\\Temp/ipykernel_16404/2980535339.py\u001b[0m in \u001b[0;36m<module>\u001b[1;34m\u001b[0m\n\u001b[1;32m----> 1\u001b[1;33m \u001b[0mc\u001b[0m\u001b[1;33m[\u001b[0m\u001b[1;36m0\u001b[0m\u001b[1;33m]\u001b[0m \u001b[1;33m=\u001b[0m \u001b[1;34m'X'\u001b[0m\u001b[1;33m\u001b[0m\u001b[1;33m\u001b[0m\u001b[0m\n\u001b[0m",
      "\u001b[1;31mTypeError\u001b[0m: 'str' object does not support item assignment"
     ]
    }
   ],
   "source": [
    "c[0] = 'X'"
   ]
  },
  {
   "cell_type": "markdown",
   "id": "ea3f62f6",
   "metadata": {},
   "source": [
    "Strings are a Immutable Data Types"
   ]
  },
  {
   "cell_type": "code",
   "execution_count": 25,
   "id": "cc840a5a",
   "metadata": {},
   "outputs": [
    {
     "name": "stdout",
     "output_type": "stream",
     "text": [
      "World\n"
     ]
    }
   ],
   "source": [
    "c = \"World\"\n",
    "print(c)"
   ]
  },
  {
   "cell_type": "code",
   "execution_count": 26,
   "id": "b2a25e19",
   "metadata": {},
   "outputs": [
    {
     "ename": "TypeError",
     "evalue": "'str' object does not support item assignment",
     "output_type": "error",
     "traceback": [
      "\u001b[1;31m---------------------------------------------------------------------------\u001b[0m",
      "\u001b[1;31mTypeError\u001b[0m                                 Traceback (most recent call last)",
      "\u001b[1;32m~\\AppData\\Local\\Temp/ipykernel_16404/2773719593.py\u001b[0m in \u001b[0;36m<module>\u001b[1;34m\u001b[0m\n\u001b[1;32m----> 1\u001b[1;33m \u001b[0mc\u001b[0m\u001b[1;33m[\u001b[0m\u001b[1;36m5\u001b[0m\u001b[1;33m]\u001b[0m \u001b[1;33m=\u001b[0m \u001b[1;34m\"X\"\u001b[0m\u001b[1;33m\u001b[0m\u001b[1;33m\u001b[0m\u001b[0m\n\u001b[0m",
      "\u001b[1;31mTypeError\u001b[0m: 'str' object does not support item assignment"
     ]
    }
   ],
   "source": [
    "c[5] = \"X\""
   ]
  },
  {
   "cell_type": "code",
   "execution_count": 27,
   "id": "d6a436dc",
   "metadata": {},
   "outputs": [
    {
     "data": {
      "text/plain": [
       "'World'"
      ]
     },
     "execution_count": 27,
     "metadata": {},
     "output_type": "execute_result"
    }
   ],
   "source": [
    "# Deletion\n",
    "c"
   ]
  },
  {
   "cell_type": "code",
   "execution_count": 28,
   "id": "bf193f82",
   "metadata": {},
   "outputs": [],
   "source": [
    "del c"
   ]
  },
  {
   "cell_type": "code",
   "execution_count": 29,
   "id": "35addc12",
   "metadata": {},
   "outputs": [
    {
     "ename": "NameError",
     "evalue": "name 'c' is not defined",
     "output_type": "error",
     "traceback": [
      "\u001b[1;31m---------------------------------------------------------------------------\u001b[0m",
      "\u001b[1;31mNameError\u001b[0m                                 Traceback (most recent call last)",
      "\u001b[1;32m~\\AppData\\Local\\Temp/ipykernel_16404/2743823995.py\u001b[0m in \u001b[0;36m<module>\u001b[1;34m\u001b[0m\n\u001b[1;32m----> 1\u001b[1;33m \u001b[0mprint\u001b[0m\u001b[1;33m(\u001b[0m\u001b[0mc\u001b[0m\u001b[1;33m)\u001b[0m\u001b[1;33m\u001b[0m\u001b[1;33m\u001b[0m\u001b[0m\n\u001b[0m",
      "\u001b[1;31mNameError\u001b[0m: name 'c' is not defined"
     ]
    }
   ],
   "source": [
    "print(c)"
   ]
  },
  {
   "cell_type": "code",
   "execution_count": 30,
   "id": "5b3916b7",
   "metadata": {},
   "outputs": [],
   "source": [
    "c = \"hello\""
   ]
  },
  {
   "cell_type": "code",
   "execution_count": 31,
   "id": "096286eb",
   "metadata": {},
   "outputs": [
    {
     "name": "stdout",
     "output_type": "stream",
     "text": [
      "hello\n"
     ]
    }
   ],
   "source": [
    "print(c)"
   ]
  },
  {
   "cell_type": "code",
   "execution_count": 32,
   "id": "ecf13e7c",
   "metadata": {},
   "outputs": [
    {
     "ename": "TypeError",
     "evalue": "'str' object doesn't support item deletion",
     "output_type": "error",
     "traceback": [
      "\u001b[1;31m---------------------------------------------------------------------------\u001b[0m",
      "\u001b[1;31mTypeError\u001b[0m                                 Traceback (most recent call last)",
      "\u001b[1;32m~\\AppData\\Local\\Temp/ipykernel_16404/3601072613.py\u001b[0m in \u001b[0;36m<module>\u001b[1;34m\u001b[0m\n\u001b[1;32m----> 1\u001b[1;33m \u001b[1;32mdel\u001b[0m \u001b[0mc\u001b[0m\u001b[1;33m[\u001b[0m\u001b[1;36m0\u001b[0m\u001b[1;33m]\u001b[0m\u001b[1;33m\u001b[0m\u001b[1;33m\u001b[0m\u001b[0m\n\u001b[0m",
      "\u001b[1;31mTypeError\u001b[0m: 'str' object doesn't support item deletion"
     ]
    }
   ],
   "source": [
    "del c[0]"
   ]
  },
  {
   "cell_type": "code",
   "execution_count": 33,
   "id": "e139b44e",
   "metadata": {
    "scrolled": true
   },
   "outputs": [
    {
     "ename": "TypeError",
     "evalue": "'str' object does not support item deletion",
     "output_type": "error",
     "traceback": [
      "\u001b[1;31m---------------------------------------------------------------------------\u001b[0m",
      "\u001b[1;31mTypeError\u001b[0m                                 Traceback (most recent call last)",
      "\u001b[1;32m~\\AppData\\Local\\Temp/ipykernel_16404/3090026040.py\u001b[0m in \u001b[0;36m<module>\u001b[1;34m\u001b[0m\n\u001b[1;32m----> 1\u001b[1;33m \u001b[1;32mdel\u001b[0m \u001b[0mc\u001b[0m\u001b[1;33m[\u001b[0m\u001b[1;33m:\u001b[0m\u001b[1;36m3\u001b[0m\u001b[1;33m:\u001b[0m\u001b[1;36m2\u001b[0m\u001b[1;33m]\u001b[0m\u001b[1;33m\u001b[0m\u001b[1;33m\u001b[0m\u001b[0m\n\u001b[0m",
      "\u001b[1;31mTypeError\u001b[0m: 'str' object does not support item deletion"
     ]
    }
   ],
   "source": [
    "del c[:3:2]"
   ]
  },
  {
   "cell_type": "markdown",
   "id": "f8d39918",
   "metadata": {},
   "source": [
    "## 6. Ops on Strings\n",
    "\n",
    "- **Arithmetic**: Concatenation (`+`), Repetition (`*`)\n",
    "- **Relational**: Equality (`==`), Inequality (`!=`), Comparison (`<`, `>`, `<=`, `>=`)\n",
    "- **Logical**: `and`, `or`, `not`\n",
    "- **Loops**: `for` loop, `while` loop\n",
    "- **Membership**: `in`, `not in`"
   ]
  },
  {
   "cell_type": "code",
   "execution_count": 34,
   "id": "2baf1103",
   "metadata": {},
   "outputs": [
    {
     "data": {
      "text/plain": [
       "'Hello-World'"
      ]
     },
     "execution_count": 34,
     "metadata": {},
     "output_type": "execute_result"
    }
   ],
   "source": [
    "# Arithmetic\n",
    "\"Hello\" + \"-\" + \"World\""
   ]
  },
  {
   "cell_type": "code",
   "execution_count": 35,
   "id": "750de6c0",
   "metadata": {},
   "outputs": [
    {
     "name": "stdout",
     "output_type": "stream",
     "text": [
      "**************************************************\n"
     ]
    }
   ],
   "source": [
    "print(\"*\"*50)"
   ]
  },
  {
   "cell_type": "code",
   "execution_count": 36,
   "id": "73834c18",
   "metadata": {},
   "outputs": [
    {
     "name": "stdout",
     "output_type": "stream",
     "text": [
      "HelloHelloHelloHello\n"
     ]
    }
   ],
   "source": [
    "print(\"Hello\"*4)"
   ]
  },
  {
   "cell_type": "code",
   "execution_count": 37,
   "id": "6429cb92",
   "metadata": {},
   "outputs": [
    {
     "data": {
      "text/plain": [
       "False"
      ]
     },
     "execution_count": 37,
     "metadata": {},
     "output_type": "execute_result"
    }
   ],
   "source": [
    "# Relational\n",
    "\"Hello\" == \"World\""
   ]
  },
  {
   "cell_type": "code",
   "execution_count": 38,
   "id": "1cb0017e",
   "metadata": {},
   "outputs": [
    {
     "data": {
      "text/plain": [
       "True"
      ]
     },
     "execution_count": 38,
     "metadata": {},
     "output_type": "execute_result"
    }
   ],
   "source": [
    "\"Hello\" != \"World\""
   ]
  },
  {
   "cell_type": "code",
   "execution_count": 39,
   "id": "0084bfd5",
   "metadata": {},
   "outputs": [
    {
     "data": {
      "text/plain": [
       "False"
      ]
     },
     "execution_count": 39,
     "metadata": {},
     "output_type": "execute_result"
    }
   ],
   "source": [
    "\"Mumbai\" > \"Pune\" # Lexiographically"
   ]
  },
  {
   "cell_type": "code",
   "execution_count": 40,
   "id": "9e558085",
   "metadata": {},
   "outputs": [
    {
     "data": {
      "text/plain": [
       "False"
      ]
     },
     "execution_count": 40,
     "metadata": {},
     "output_type": "execute_result"
    }
   ],
   "source": [
    "\"Goa\" > \"Kolkata\""
   ]
  },
  {
   "cell_type": "code",
   "execution_count": 41,
   "id": "a55682cf",
   "metadata": {},
   "outputs": [
    {
     "data": {
      "text/plain": [
       "False"
      ]
     },
     "execution_count": 41,
     "metadata": {},
     "output_type": "execute_result"
    }
   ],
   "source": [
    "\"kol\" < \"Kol\""
   ]
  },
  {
   "cell_type": "code",
   "execution_count": 42,
   "id": "b2d10b40",
   "metadata": {},
   "outputs": [
    {
     "data": {
      "text/plain": [
       "'World'"
      ]
     },
     "execution_count": 42,
     "metadata": {},
     "output_type": "execute_result"
    }
   ],
   "source": [
    "# Logical\n",
    "\"Hello\" and \"World\""
   ]
  },
  {
   "cell_type": "code",
   "execution_count": 43,
   "id": "4b3efef0",
   "metadata": {},
   "outputs": [],
   "source": [
    "# \"\"        ---> False\n",
    "# \"saurabh\" ---> True"
   ]
  },
  {
   "cell_type": "code",
   "execution_count": 44,
   "id": "cbf703b8",
   "metadata": {},
   "outputs": [
    {
     "data": {
      "text/plain": [
       "''"
      ]
     },
     "execution_count": 44,
     "metadata": {},
     "output_type": "execute_result"
    }
   ],
   "source": [
    "\"\" and \"Hello\""
   ]
  },
  {
   "cell_type": "code",
   "execution_count": 45,
   "id": "62608e2f",
   "metadata": {},
   "outputs": [
    {
     "data": {
      "text/plain": [
       "'World'"
      ]
     },
     "execution_count": 45,
     "metadata": {},
     "output_type": "execute_result"
    }
   ],
   "source": [
    "\"\" or \"World\""
   ]
  },
  {
   "cell_type": "code",
   "execution_count": 46,
   "id": "08210492",
   "metadata": {},
   "outputs": [
    {
     "data": {
      "text/plain": [
       "'Hello'"
      ]
     },
     "execution_count": 46,
     "metadata": {},
     "output_type": "execute_result"
    }
   ],
   "source": [
    "\"Hello\" or \"World\""
   ]
  },
  {
   "cell_type": "code",
   "execution_count": 47,
   "id": "dbc02f9b",
   "metadata": {},
   "outputs": [
    {
     "data": {
      "text/plain": [
       "'World'"
      ]
     },
     "execution_count": 47,
     "metadata": {},
     "output_type": "execute_result"
    }
   ],
   "source": [
    "\"Hello\" and \"World\""
   ]
  },
  {
   "cell_type": "code",
   "execution_count": 48,
   "id": "cbaa3193",
   "metadata": {},
   "outputs": [
    {
     "data": {
      "text/plain": [
       "False"
      ]
     },
     "execution_count": 48,
     "metadata": {},
     "output_type": "execute_result"
    }
   ],
   "source": [
    "not \"Hello\""
   ]
  },
  {
   "cell_type": "code",
   "execution_count": 49,
   "id": "0478c70c",
   "metadata": {},
   "outputs": [
    {
     "name": "stdout",
     "output_type": "stream",
     "text": [
      "False\n"
     ]
    }
   ],
   "source": [
    "print(not \"Hello\")"
   ]
  },
  {
   "cell_type": "code",
   "execution_count": 50,
   "id": "90ae377b",
   "metadata": {},
   "outputs": [
    {
     "data": {
      "text/plain": [
       "True"
      ]
     },
     "execution_count": 50,
     "metadata": {},
     "output_type": "execute_result"
    }
   ],
   "source": [
    "not \"\""
   ]
  },
  {
   "cell_type": "code",
   "execution_count": 51,
   "id": "d4d44aba",
   "metadata": {},
   "outputs": [
    {
     "name": "stdout",
     "output_type": "stream",
     "text": [
      "H\n",
      "e\n",
      "l\n",
      "l\n",
      "o\n",
      " \n",
      "W\n",
      "o\n",
      "r\n",
      "l\n",
      "d\n"
     ]
    }
   ],
   "source": [
    "# Loops on Strings\n",
    "c = \"Hello World\"\n",
    "for i in c:\n",
    "    print(i)"
   ]
  },
  {
   "cell_type": "code",
   "execution_count": 52,
   "id": "857f9ea9",
   "metadata": {},
   "outputs": [
    {
     "name": "stdout",
     "output_type": "stream",
     "text": [
      "l\n",
      "l\n",
      "o\n",
      " \n",
      "W\n"
     ]
    }
   ],
   "source": [
    "for i in c[2:7]:\n",
    "    print(i)"
   ]
  },
  {
   "cell_type": "code",
   "execution_count": 53,
   "id": "aef20308",
   "metadata": {},
   "outputs": [
    {
     "name": "stdout",
     "output_type": "stream",
     "text": [
      "l\n",
      "o\n",
      "W\n"
     ]
    }
   ],
   "source": [
    "for i in c[2:7:2]:\n",
    "    print(i)"
   ]
  },
  {
   "cell_type": "code",
   "execution_count": 54,
   "id": "0987ef0f",
   "metadata": {},
   "outputs": [
    {
     "name": "stdout",
     "output_type": "stream",
     "text": [
      "d\n",
      "l\n",
      "r\n",
      "o\n",
      "W\n",
      " \n",
      "o\n",
      "l\n",
      "l\n",
      "e\n",
      "H\n"
     ]
    }
   ],
   "source": [
    "for i in c[::-1]:\n",
    "    print(i)"
   ]
  },
  {
   "cell_type": "code",
   "execution_count": 55,
   "id": "ef354f45",
   "metadata": {},
   "outputs": [
    {
     "data": {
      "text/plain": [
       "'Hello World'"
      ]
     },
     "execution_count": 55,
     "metadata": {},
     "output_type": "execute_result"
    }
   ],
   "source": [
    "# Membership\n",
    "c"
   ]
  },
  {
   "cell_type": "code",
   "execution_count": 56,
   "id": "266f870e",
   "metadata": {},
   "outputs": [
    {
     "data": {
      "text/plain": [
       "True"
      ]
     },
     "execution_count": 56,
     "metadata": {},
     "output_type": "execute_result"
    }
   ],
   "source": [
    "'H' in c"
   ]
  },
  {
   "cell_type": "code",
   "execution_count": 57,
   "id": "89b7bf83",
   "metadata": {},
   "outputs": [
    {
     "data": {
      "text/plain": [
       "False"
      ]
     },
     "execution_count": 57,
     "metadata": {},
     "output_type": "execute_result"
    }
   ],
   "source": [
    "'h' in c"
   ]
  },
  {
   "cell_type": "code",
   "execution_count": 58,
   "id": "9d789271",
   "metadata": {},
   "outputs": [
    {
     "data": {
      "text/plain": [
       "False"
      ]
     },
     "execution_count": 58,
     "metadata": {},
     "output_type": "execute_result"
    }
   ],
   "source": [
    "'World' not in c"
   ]
  },
  {
   "cell_type": "markdown",
   "id": "7a9de80e",
   "metadata": {},
   "source": [
    "## 7. String Functions"
   ]
  },
  {
   "cell_type": "markdown",
   "id": "f17c2751",
   "metadata": {},
   "source": [
    "### 1. Common Functions\n",
    "\n",
    "- `len()`\n",
    "- `max()`\n",
    "- `min()`\n",
    "- `sorted()`"
   ]
  },
  {
   "cell_type": "code",
   "execution_count": 59,
   "id": "a8ad5bc9",
   "metadata": {},
   "outputs": [
    {
     "data": {
      "text/plain": [
       "7"
      ]
     },
     "execution_count": 59,
     "metadata": {},
     "output_type": "execute_result"
    }
   ],
   "source": [
    "c = 'kolkata'\n",
    "len(c)"
   ]
  },
  {
   "cell_type": "code",
   "execution_count": 60,
   "id": "ee2c895b",
   "metadata": {},
   "outputs": [
    {
     "data": {
      "text/plain": [
       "'t'"
      ]
     },
     "execution_count": 60,
     "metadata": {},
     "output_type": "execute_result"
    }
   ],
   "source": [
    "max(c)"
   ]
  },
  {
   "cell_type": "code",
   "execution_count": 61,
   "id": "02445b2b",
   "metadata": {},
   "outputs": [
    {
     "data": {
      "text/plain": [
       "'a'"
      ]
     },
     "execution_count": 61,
     "metadata": {},
     "output_type": "execute_result"
    }
   ],
   "source": [
    "min(c)"
   ]
  },
  {
   "cell_type": "code",
   "execution_count": 62,
   "id": "7c0c7774",
   "metadata": {},
   "outputs": [
    {
     "data": {
      "text/plain": [
       "['a', 'a', 'k', 'k', 'l', 'o', 't']"
      ]
     },
     "execution_count": 62,
     "metadata": {},
     "output_type": "execute_result"
    }
   ],
   "source": [
    "sorted(c)"
   ]
  },
  {
   "cell_type": "code",
   "execution_count": 63,
   "id": "5c1265b1",
   "metadata": {},
   "outputs": [
    {
     "data": {
      "text/plain": [
       "['t', 'o', 'l', 'k', 'k', 'a', 'a']"
      ]
     },
     "execution_count": 63,
     "metadata": {},
     "output_type": "execute_result"
    }
   ],
   "source": [
    "sorted(c, reverse=True)"
   ]
  },
  {
   "cell_type": "markdown",
   "id": "04993932",
   "metadata": {},
   "source": [
    "### 2. Capitalize/Title/Upper/Lower/Swapcase"
   ]
  },
  {
   "cell_type": "code",
   "execution_count": 64,
   "id": "f5ea2470",
   "metadata": {},
   "outputs": [
    {
     "data": {
      "text/plain": [
       "'Kolkata'"
      ]
     },
     "execution_count": 64,
     "metadata": {},
     "output_type": "execute_result"
    }
   ],
   "source": [
    "c\n",
    "c.capitalize()"
   ]
  },
  {
   "cell_type": "code",
   "execution_count": 65,
   "id": "1c70ac57",
   "metadata": {},
   "outputs": [
    {
     "data": {
      "text/plain": [
       "'kolkata'"
      ]
     },
     "execution_count": 65,
     "metadata": {},
     "output_type": "execute_result"
    }
   ],
   "source": [
    "c"
   ]
  },
  {
   "cell_type": "code",
   "execution_count": 66,
   "id": "78f85ce0",
   "metadata": {},
   "outputs": [
    {
     "data": {
      "text/plain": [
       "'It is raining today'"
      ]
     },
     "execution_count": 66,
     "metadata": {},
     "output_type": "execute_result"
    }
   ],
   "source": [
    "'it is raining today'.capitalize()"
   ]
  },
  {
   "cell_type": "code",
   "execution_count": 67,
   "id": "aae1c586",
   "metadata": {},
   "outputs": [
    {
     "data": {
      "text/plain": [
       "'It Is Raining Today'"
      ]
     },
     "execution_count": 67,
     "metadata": {},
     "output_type": "execute_result"
    }
   ],
   "source": [
    "'it is raining today'.title()"
   ]
  },
  {
   "cell_type": "code",
   "execution_count": 68,
   "id": "777ccba5",
   "metadata": {},
   "outputs": [
    {
     "data": {
      "text/plain": [
       "'kolkata'"
      ]
     },
     "execution_count": 68,
     "metadata": {},
     "output_type": "execute_result"
    }
   ],
   "source": [
    "c.upper().lower()"
   ]
  },
  {
   "cell_type": "code",
   "execution_count": 69,
   "id": "3d0f5d57",
   "metadata": {},
   "outputs": [
    {
     "data": {
      "text/plain": [
       "'kOlKaTa'"
      ]
     },
     "execution_count": 69,
     "metadata": {},
     "output_type": "execute_result"
    }
   ],
   "source": [
    "\"KoLkAtA\".swapcase()"
   ]
  },
  {
   "cell_type": "markdown",
   "id": "2e3cf6c9",
   "metadata": {},
   "source": [
    "### 3. Count"
   ]
  },
  {
   "cell_type": "code",
   "execution_count": 70,
   "id": "8e55158c",
   "metadata": {},
   "outputs": [
    {
     "data": {
      "text/plain": [
       "4"
      ]
     },
     "execution_count": 70,
     "metadata": {},
     "output_type": "execute_result"
    }
   ],
   "source": [
    "\"it is raining\".count(\"i\")"
   ]
  },
  {
   "cell_type": "code",
   "execution_count": 71,
   "id": "d4c8bce6",
   "metadata": {},
   "outputs": [
    {
     "data": {
      "text/plain": [
       "1"
      ]
     },
     "execution_count": 71,
     "metadata": {},
     "output_type": "execute_result"
    }
   ],
   "source": [
    "\"it is raining\".count(\"ing\")"
   ]
  },
  {
   "cell_type": "code",
   "execution_count": 72,
   "id": "c37ece4a",
   "metadata": {},
   "outputs": [
    {
     "data": {
      "text/plain": [
       "0"
      ]
     },
     "execution_count": 72,
     "metadata": {},
     "output_type": "execute_result"
    }
   ],
   "source": [
    "\"it is raining\".count(\"x\")"
   ]
  },
  {
   "cell_type": "markdown",
   "id": "b17b5992",
   "metadata": {},
   "source": [
    "### 4. Find/Index"
   ]
  },
  {
   "cell_type": "code",
   "execution_count": 73,
   "id": "2ecd5bd9",
   "metadata": {},
   "outputs": [
    {
     "data": {
      "text/plain": [
       "0"
      ]
     },
     "execution_count": 73,
     "metadata": {},
     "output_type": "execute_result"
    }
   ],
   "source": [
    "\"it is raining\".find(\"i\")"
   ]
  },
  {
   "cell_type": "code",
   "execution_count": 74,
   "id": "e1857198",
   "metadata": {},
   "outputs": [
    {
     "data": {
      "text/plain": [
       "12"
      ]
     },
     "execution_count": 74,
     "metadata": {},
     "output_type": "execute_result"
    }
   ],
   "source": [
    "\"it is raining\".find(\"g\")"
   ]
  },
  {
   "cell_type": "code",
   "execution_count": 75,
   "id": "5b28065c",
   "metadata": {},
   "outputs": [
    {
     "data": {
      "text/plain": [
       "6"
      ]
     },
     "execution_count": 75,
     "metadata": {},
     "output_type": "execute_result"
    }
   ],
   "source": [
    "\"it is raining\".find(\"raining\")"
   ]
  },
  {
   "cell_type": "code",
   "execution_count": 76,
   "id": "0ab11329",
   "metadata": {},
   "outputs": [
    {
     "data": {
      "text/plain": [
       "-1"
      ]
     },
     "execution_count": 76,
     "metadata": {},
     "output_type": "execute_result"
    }
   ],
   "source": [
    "\"it is raining\".find(\"x\")"
   ]
  },
  {
   "cell_type": "code",
   "execution_count": 77,
   "id": "fe88a786",
   "metadata": {},
   "outputs": [
    {
     "data": {
      "text/plain": [
       "6"
      ]
     },
     "execution_count": 77,
     "metadata": {},
     "output_type": "execute_result"
    }
   ],
   "source": [
    "\"it is raining\".index(\"raining\")"
   ]
  },
  {
   "cell_type": "code",
   "execution_count": 78,
   "id": "a1a55bad",
   "metadata": {},
   "outputs": [
    {
     "ename": "ValueError",
     "evalue": "substring not found",
     "output_type": "error",
     "traceback": [
      "\u001b[1;31m---------------------------------------------------------------------------\u001b[0m",
      "\u001b[1;31mValueError\u001b[0m                                Traceback (most recent call last)",
      "\u001b[1;32m~\\AppData\\Local\\Temp/ipykernel_16404/4196732353.py\u001b[0m in \u001b[0;36m<module>\u001b[1;34m\u001b[0m\n\u001b[1;32m----> 1\u001b[1;33m \u001b[1;34m\"it is raining\"\u001b[0m\u001b[1;33m.\u001b[0m\u001b[0mindex\u001b[0m\u001b[1;33m(\u001b[0m\u001b[1;34m\"x\"\u001b[0m\u001b[1;33m)\u001b[0m\u001b[1;33m\u001b[0m\u001b[1;33m\u001b[0m\u001b[0m\n\u001b[0m",
      "\u001b[1;31mValueError\u001b[0m: substring not found"
     ]
    }
   ],
   "source": [
    "\"it is raining\".index(\"x\")"
   ]
  },
  {
   "cell_type": "markdown",
   "id": "86c8ed7c",
   "metadata": {},
   "source": [
    "### 5. endswith/startswith"
   ]
  },
  {
   "cell_type": "code",
   "execution_count": 79,
   "id": "8e4ccb9d",
   "metadata": {},
   "outputs": [
    {
     "data": {
      "text/plain": [
       "True"
      ]
     },
     "execution_count": 79,
     "metadata": {},
     "output_type": "execute_result"
    }
   ],
   "source": [
    "\"it is raining\".endswith(\"ing\")"
   ]
  },
  {
   "cell_type": "code",
   "execution_count": 80,
   "id": "27b355a6",
   "metadata": {},
   "outputs": [
    {
     "data": {
      "text/plain": [
       "False"
      ]
     },
     "execution_count": 80,
     "metadata": {},
     "output_type": "execute_result"
    }
   ],
   "source": [
    "\"it is raining\".endswith(\"ingf\")"
   ]
  },
  {
   "cell_type": "code",
   "execution_count": 81,
   "id": "4221068e",
   "metadata": {},
   "outputs": [
    {
     "data": {
      "text/plain": [
       "True"
      ]
     },
     "execution_count": 81,
     "metadata": {},
     "output_type": "execute_result"
    }
   ],
   "source": [
    "\"it is raining\".startswith(\"it\")"
   ]
  },
  {
   "cell_type": "markdown",
   "id": "670c673a",
   "metadata": {},
   "source": [
    "### 6. format"
   ]
  },
  {
   "cell_type": "code",
   "execution_count": 82,
   "id": "9fc9e830",
   "metadata": {},
   "outputs": [
    {
     "data": {
      "text/plain": [
       "'Hello my name is Saurabh and I am 22'"
      ]
     },
     "execution_count": 82,
     "metadata": {},
     "output_type": "execute_result"
    }
   ],
   "source": [
    "\"Hello my name is {} and I am {}\".format(\"Saurabh\", 22)"
   ]
  },
  {
   "cell_type": "code",
   "execution_count": 83,
   "id": "277faafa",
   "metadata": {},
   "outputs": [
    {
     "data": {
      "text/plain": [
       "'Hello my name is 22 and I am Saurabh'"
      ]
     },
     "execution_count": 83,
     "metadata": {},
     "output_type": "execute_result"
    }
   ],
   "source": [
    "\"Hello my name is {1} and I am {0}\".format(\"Saurabh\", 22)"
   ]
  },
  {
   "cell_type": "code",
   "execution_count": 84,
   "id": "62cb305a",
   "metadata": {},
   "outputs": [
    {
     "data": {
      "text/plain": [
       "'Hello my name is Saurabh and I am 22'"
      ]
     },
     "execution_count": 84,
     "metadata": {},
     "output_type": "execute_result"
    }
   ],
   "source": [
    "\"Hello my name is {name} and I am {age}\".format(name = \"Saurabh\", age = 22)"
   ]
  },
  {
   "cell_type": "code",
   "execution_count": 85,
   "id": "e0e3d076",
   "metadata": {},
   "outputs": [
    {
     "data": {
      "text/plain": [
       "'Hello my name is 22 and I am Saurabh'"
      ]
     },
     "execution_count": 85,
     "metadata": {},
     "output_type": "execute_result"
    }
   ],
   "source": [
    "\"Hello my name is {age} and I am {name}\".format(name = \"Saurabh\", age = 22)"
   ]
  },
  {
   "cell_type": "code",
   "execution_count": 86,
   "id": "0b723495",
   "metadata": {},
   "outputs": [
    {
     "data": {
      "text/plain": [
       "'Hello my name is Saurabh and I am Saurabh'"
      ]
     },
     "execution_count": 86,
     "metadata": {},
     "output_type": "execute_result"
    }
   ],
   "source": [
    "\"Hello my name is {name} and I am {name}\".format(name = \"Saurabh\", age = 22, weight = 90)"
   ]
  },
  {
   "cell_type": "markdown",
   "id": "e5a43da6",
   "metadata": {},
   "source": [
    "### 7. isalnum/isalpha/isdecimal/isdigit/isidentifier"
   ]
  },
  {
   "cell_type": "code",
   "execution_count": 87,
   "id": "af9787e8",
   "metadata": {},
   "outputs": [
    {
     "data": {
      "text/plain": [
       "True"
      ]
     },
     "execution_count": 87,
     "metadata": {},
     "output_type": "execute_result"
    }
   ],
   "source": [
    "\"FLAT20\".isalnum() # Alphanumeric"
   ]
  },
  {
   "cell_type": "code",
   "execution_count": 88,
   "id": "12b41102",
   "metadata": {},
   "outputs": [
    {
     "data": {
      "text/plain": [
       "False"
      ]
     },
     "execution_count": 88,
     "metadata": {},
     "output_type": "execute_result"
    }
   ],
   "source": [
    "\"FLAT20&\".isalnum()"
   ]
  },
  {
   "cell_type": "code",
   "execution_count": 89,
   "id": "1fb1adaf",
   "metadata": {},
   "outputs": [
    {
     "data": {
      "text/plain": [
       "True"
      ]
     },
     "execution_count": 89,
     "metadata": {},
     "output_type": "execute_result"
    }
   ],
   "source": [
    "\"FLAT\".isalpha() # Alphabetic"
   ]
  },
  {
   "cell_type": "code",
   "execution_count": 90,
   "id": "49e90b7a",
   "metadata": {
    "scrolled": true
   },
   "outputs": [
    {
     "data": {
      "text/plain": [
       "False"
      ]
     },
     "execution_count": 90,
     "metadata": {},
     "output_type": "execute_result"
    }
   ],
   "source": [
    "\"FLAT20\".isalpha()"
   ]
  },
  {
   "cell_type": "code",
   "execution_count": 91,
   "id": "85884011",
   "metadata": {},
   "outputs": [
    {
     "data": {
      "text/plain": [
       "True"
      ]
     },
     "execution_count": 91,
     "metadata": {},
     "output_type": "execute_result"
    }
   ],
   "source": [
    "\"20\".isdigit()"
   ]
  },
  {
   "cell_type": "code",
   "execution_count": 92,
   "id": "f1faf91e",
   "metadata": {},
   "outputs": [
    {
     "data": {
      "text/plain": [
       "False"
      ]
     },
     "execution_count": 92,
     "metadata": {},
     "output_type": "execute_result"
    }
   ],
   "source": [
    "\"20A\".isdigit()"
   ]
  },
  {
   "cell_type": "code",
   "execution_count": 93,
   "id": "a0fd0c61",
   "metadata": {},
   "outputs": [
    {
     "data": {
      "text/plain": [
       "False"
      ]
     },
     "execution_count": 93,
     "metadata": {},
     "output_type": "execute_result"
    }
   ],
   "source": [
    "\"Hello World\".isidentifier()"
   ]
  },
  {
   "cell_type": "code",
   "execution_count": 94,
   "id": "ef59136d",
   "metadata": {},
   "outputs": [
    {
     "data": {
      "text/plain": [
       "True"
      ]
     },
     "execution_count": 94,
     "metadata": {},
     "output_type": "execute_result"
    }
   ],
   "source": [
    "\"Hello_World\".isidentifier()"
   ]
  },
  {
   "cell_type": "markdown",
   "id": "3c5ea160",
   "metadata": {},
   "source": [
    "### 8. Split"
   ]
  },
  {
   "cell_type": "code",
   "execution_count": 95,
   "id": "18d9236e",
   "metadata": {},
   "outputs": [
    {
     "data": {
      "text/plain": [
       "['who', 'is', 'the', 'pm', 'of', 'india']"
      ]
     },
     "execution_count": 95,
     "metadata": {},
     "output_type": "execute_result"
    }
   ],
   "source": [
    "\"who is the pm of india\".split()"
   ]
  },
  {
   "cell_type": "code",
   "execution_count": 96,
   "id": "159cf8a5",
   "metadata": {},
   "outputs": [
    {
     "data": {
      "text/plain": [
       "['who is the ', ' of india']"
      ]
     },
     "execution_count": 96,
     "metadata": {},
     "output_type": "execute_result"
    }
   ],
   "source": [
    "\"who is the pm of india\".split(\"pm\")"
   ]
  },
  {
   "cell_type": "code",
   "execution_count": 97,
   "id": "f85ff5cf",
   "metadata": {},
   "outputs": [
    {
     "data": {
      "text/plain": [
       "['who ', 's the pm of ', 'nd', 'a']"
      ]
     },
     "execution_count": 97,
     "metadata": {},
     "output_type": "execute_result"
    }
   ],
   "source": [
    "\"who is the pm of india\".split(\"i\")"
   ]
  },
  {
   "cell_type": "code",
   "execution_count": 98,
   "id": "3de44ecd",
   "metadata": {},
   "outputs": [
    {
     "data": {
      "text/plain": [
       "['who is the pm of india']"
      ]
     },
     "execution_count": 98,
     "metadata": {},
     "output_type": "execute_result"
    }
   ],
   "source": [
    "\"who is the pm of india\".split(\"x\")"
   ]
  },
  {
   "cell_type": "markdown",
   "id": "c86d6481",
   "metadata": {},
   "source": [
    "### 9. Join"
   ]
  },
  {
   "cell_type": "code",
   "execution_count": 99,
   "id": "1fe3cc93",
   "metadata": {},
   "outputs": [
    {
     "data": {
      "text/plain": [
       "'who is the pm of india'"
      ]
     },
     "execution_count": 99,
     "metadata": {},
     "output_type": "execute_result"
    }
   ],
   "source": [
    "\" \".join(['who', 'is', 'the', 'pm', 'of', 'india'])"
   ]
  },
  {
   "cell_type": "code",
   "execution_count": 100,
   "id": "1e56a2fb",
   "metadata": {},
   "outputs": [
    {
     "data": {
      "text/plain": [
       "'who-is-the-pm-of-india'"
      ]
     },
     "execution_count": 100,
     "metadata": {},
     "output_type": "execute_result"
    }
   ],
   "source": [
    "\"-\".join(['who', 'is', 'the', 'pm', 'of', 'india'])"
   ]
  },
  {
   "cell_type": "markdown",
   "id": "ec614afe",
   "metadata": {},
   "source": [
    "### 10. Replace"
   ]
  },
  {
   "cell_type": "code",
   "execution_count": 101,
   "id": "e4a5a37d",
   "metadata": {},
   "outputs": [
    {
     "data": {
      "text/plain": [
       "'Hi my name is Siddhant'"
      ]
     },
     "execution_count": 101,
     "metadata": {},
     "output_type": "execute_result"
    }
   ],
   "source": [
    "\"Hi my name is Saurabh\".replace(\"Saurabh\", \"Siddhant\")"
   ]
  },
  {
   "cell_type": "markdown",
   "id": "fc1c1928",
   "metadata": {},
   "source": [
    "### 11. Strip"
   ]
  },
  {
   "cell_type": "code",
   "execution_count": 102,
   "id": "a1e6f54a",
   "metadata": {},
   "outputs": [
    {
     "data": {
      "text/plain": [
       "'          Saurabh           '"
      ]
     },
     "execution_count": 102,
     "metadata": {},
     "output_type": "execute_result"
    }
   ],
   "source": [
    "name = \"          Saurabh           \"\n",
    "name"
   ]
  },
  {
   "cell_type": "code",
   "execution_count": 103,
   "id": "858100a5",
   "metadata": {},
   "outputs": [
    {
     "data": {
      "text/plain": [
       "'Hi          Saurabh           '"
      ]
     },
     "execution_count": 103,
     "metadata": {},
     "output_type": "execute_result"
    }
   ],
   "source": [
    "\"Hi\" + name"
   ]
  },
  {
   "cell_type": "code",
   "execution_count": 104,
   "id": "e94d04b0",
   "metadata": {},
   "outputs": [
    {
     "data": {
      "text/plain": [
       "'Saurabh'"
      ]
     },
     "execution_count": 104,
     "metadata": {},
     "output_type": "execute_result"
    }
   ],
   "source": [
    "name.strip()"
   ]
  },
  {
   "cell_type": "markdown",
   "id": "0a0beba3",
   "metadata": {},
   "source": [
    "## Example Programs"
   ]
  },
  {
   "cell_type": "code",
   "execution_count": 2,
   "id": "8a76c9ff",
   "metadata": {},
   "outputs": [
    {
     "name": "stdout",
     "output_type": "stream",
     "text": [
      "enter the string: saurabh\n",
      "length of string is 7\n"
     ]
    }
   ],
   "source": [
    "# 1. Length of String without len()\n",
    "s = input('enter the string: ')\n",
    "counter = 0\n",
    "for i in s:\n",
    "  counter += 1\n",
    "print('length of string is', counter)"
   ]
  },
  {
   "cell_type": "code",
   "execution_count": 4,
   "id": "b52f62c3",
   "metadata": {},
   "outputs": [
    {
     "name": "stdout",
     "output_type": "stream",
     "text": [
      "enter the email: saurabhsinghdhami@gmail.com\n",
      "saurabhsinghdhami\n"
     ]
    }
   ],
   "source": [
    "# 2. Extract username from email\n",
    "# Eg: saurabhsinghdhami@gmail.com ---> saurabhsinghdhami\n",
    "s = input('enter the email: ')\n",
    "pos = s.index('@')\n",
    "print(s[0:pos])"
   ]
  },
  {
   "cell_type": "code",
   "execution_count": 5,
   "id": "621b59f8",
   "metadata": {},
   "outputs": [
    {
     "name": "stdout",
     "output_type": "stream",
     "text": [
      "enter the email: saurabhsinghdhami@gmail.com\n",
      "what would like to search for: a\n",
      "frequency 4\n"
     ]
    }
   ],
   "source": [
    "# 3. Count character frequency in a string\n",
    "s = input('enter the email: ')\n",
    "term = input('what would like to search for: ')\n",
    "counter = 0\n",
    "for i in s:\n",
    "  if i == term:\n",
    "    counter += 1\n",
    "print('frequency', counter)"
   ]
  },
  {
   "cell_type": "code",
   "execution_count": 6,
   "id": "a0c2e0f9",
   "metadata": {},
   "outputs": [
    {
     "name": "stdout",
     "output_type": "stream",
     "text": [
      "enter the string: saurabh singh dhami\n",
      "what would like to remove: s\n",
      "aurabh ingh dhami\n"
     ]
    }
   ],
   "source": [
    "# 4. Remove Character from String\n",
    "s = input('enter the string: ')\n",
    "term = input('what would like to remove: ')\n",
    "result = ''\n",
    "for i in s:\n",
    "  if i != term:\n",
    "    result += i\n",
    "print(result)"
   ]
  },
  {
   "cell_type": "code",
   "execution_count": 7,
   "id": "dbe4b80c",
   "metadata": {},
   "outputs": [
    {
     "name": "stdout",
     "output_type": "stream",
     "text": [
      "enter the string: nitin\n",
      "Palindrome\n"
     ]
    }
   ],
   "source": [
    "# 5. Check if a string is a palindrome\n",
    "s = input('enter the string: ')\n",
    "flag = True\n",
    "for i in range(0,len(s)//2):\n",
    "  if s[i] != s[len(s) - i -1]:\n",
    "    flag = False\n",
    "    print('Not a Palindrome')\n",
    "    break\n",
    "if flag:\n",
    "  print('Palindrome')"
   ]
  },
  {
   "cell_type": "code",
   "execution_count": 8,
   "id": "b3df702b",
   "metadata": {},
   "outputs": [
    {
     "name": "stdout",
     "output_type": "stream",
     "text": [
      "enter the string: hi how are you?\n",
      "['hi', 'how', 'are', 'you?']\n"
     ]
    }
   ],
   "source": [
    "# 6. Word Count Without split()\n",
    "s = input('enter the string: ')\n",
    "L = []\n",
    "temp = ''\n",
    "for i in s:\n",
    "  if i != ' ':\n",
    "    temp += i\n",
    "  else:\n",
    "    L.append(temp)\n",
    "    temp = ''\n",
    "L.append(temp)\n",
    "print(L)"
   ]
  },
  {
   "cell_type": "code",
   "execution_count": 9,
   "id": "279e2701",
   "metadata": {},
   "outputs": [
    {
     "name": "stdout",
     "output_type": "stream",
     "text": [
      "enter the string: Hi My NaMe Is SaUrAbH SiNgH DhAmI\n",
      "Hi My Name Is Saurabh Singh Dhami\n"
     ]
    }
   ],
   "source": [
    "# 7. Convert String to Title Case (No title())\n",
    "s = input('enter the string: ')\n",
    "L = []\n",
    "for i in s.split():\n",
    "  L.append(i[0].upper() + i[1:].lower())\n",
    "print(\" \".join(L))"
   ]
  },
  {
   "cell_type": "code",
   "execution_count": 10,
   "id": "ec8ecf64",
   "metadata": {},
   "outputs": [
    {
     "name": "stdout",
     "output_type": "stream",
     "text": [
      "enter the number: 345\n",
      "345\n",
      "<class 'str'>\n"
     ]
    }
   ],
   "source": [
    "# 8. Integer to String Conversion\n",
    "number = int(input('enter the number: '))\n",
    "digits = '0123456789'\n",
    "result = ''\n",
    "while number != 0:\n",
    "  result = digits[number % 10] + result\n",
    "  number //= 10\n",
    "print(result)\n",
    "print(type(result))"
   ]
  }
 ],
 "metadata": {
  "kernelspec": {
   "display_name": "Python 3 (ipykernel)",
   "language": "python",
   "name": "python3"
  },
  "language_info": {
   "codemirror_mode": {
    "name": "ipython",
    "version": 3
   },
   "file_extension": ".py",
   "mimetype": "text/x-python",
   "name": "python",
   "nbconvert_exporter": "python",
   "pygments_lexer": "ipython3",
   "version": "3.10.9"
  }
 },
 "nbformat": 4,
 "nbformat_minor": 5
}

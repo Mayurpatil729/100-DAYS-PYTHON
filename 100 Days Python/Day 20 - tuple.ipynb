{
 "cells": [
  {
   "cell_type": "markdown",
   "id": "82022ef5",
   "metadata": {},
   "source": [
    "# Tuples\n",
    "\n",
    "Immutable list-like collection.\n",
    "\n",
    "## Characteristics:\n",
    "- Ordered elements.\n",
    "- Unmodifiable post-creation.\n",
    "- Allows duplicates."
   ]
  },
  {
   "cell_type": "markdown",
   "id": "c21fd7ff",
   "metadata": {},
   "source": [
    "1. Create\n",
    "2. Access\n",
    "3. Edit\n",
    "4. Add\n",
    "5. Delete\n",
    "6. Operations\n",
    "7. Functions"
   ]
  },
  {
   "cell_type": "markdown",
   "id": "b01436d3",
   "metadata": {},
   "source": [
    "### 1. Create"
   ]
  },
  {
   "cell_type": "code",
   "execution_count": 1,
   "id": "ffb07725",
   "metadata": {},
   "outputs": [
    {
     "data": {
      "text/plain": [
       "()"
      ]
     },
     "execution_count": 1,
     "metadata": {},
     "output_type": "execute_result"
    }
   ],
   "source": [
    "# empty\n",
    "T1 = ()\n",
    "T1"
   ]
  },
  {
   "cell_type": "code",
   "execution_count": 2,
   "id": "d35653df",
   "metadata": {},
   "outputs": [
    {
     "data": {
      "text/plain": [
       "(1, 2, 3, 4, 5)"
      ]
     },
     "execution_count": 2,
     "metadata": {},
     "output_type": "execute_result"
    }
   ],
   "source": [
    "# homo\n",
    "T2 = (1, 2, 3, 4, 5)\n",
    "T2"
   ]
  },
  {
   "cell_type": "code",
   "execution_count": 3,
   "id": "1cb19b5f",
   "metadata": {},
   "outputs": [
    {
     "data": {
      "text/plain": [
       "('Hello', 4, 5, 6)"
      ]
     },
     "execution_count": 3,
     "metadata": {},
     "output_type": "execute_result"
    }
   ],
   "source": [
    "# hetro\n",
    "T3 = (\"Hello\", 4, 5, 6)\n",
    "T3"
   ]
  },
  {
   "cell_type": "code",
   "execution_count": 4,
   "id": "d9e62c4a",
   "metadata": {},
   "outputs": [
    {
     "data": {
      "text/plain": [
       "(1, 2, 3, (4, 5))"
      ]
     },
     "execution_count": 4,
     "metadata": {},
     "output_type": "execute_result"
    }
   ],
   "source": [
    "# tuple\n",
    "T4 = (1, 2, 3, (4, 5))\n",
    "T4"
   ]
  },
  {
   "cell_type": "code",
   "execution_count": 5,
   "id": "63a3df1d",
   "metadata": {},
   "outputs": [
    {
     "data": {
      "text/plain": [
       "1"
      ]
     },
     "execution_count": 5,
     "metadata": {},
     "output_type": "execute_result"
    }
   ],
   "source": [
    "T5 = (1)\n",
    "T5"
   ]
  },
  {
   "cell_type": "code",
   "execution_count": 6,
   "id": "268598e0",
   "metadata": {},
   "outputs": [
    {
     "data": {
      "text/plain": [
       "int"
      ]
     },
     "execution_count": 6,
     "metadata": {},
     "output_type": "execute_result"
    }
   ],
   "source": [
    "type(T5)"
   ]
  },
  {
   "cell_type": "code",
   "execution_count": 7,
   "id": "f12ed82d",
   "metadata": {},
   "outputs": [
    {
     "data": {
      "text/plain": [
       "str"
      ]
     },
     "execution_count": 7,
     "metadata": {},
     "output_type": "execute_result"
    }
   ],
   "source": [
    "# Type Conversion\n",
    "T5 = (\"Hello\")\n",
    "type(T5)"
   ]
  },
  {
   "cell_type": "code",
   "execution_count": 8,
   "id": "bf5492a5",
   "metadata": {},
   "outputs": [
    {
     "data": {
      "text/plain": [
       "tuple"
      ]
     },
     "execution_count": 8,
     "metadata": {},
     "output_type": "execute_result"
    }
   ],
   "source": [
    "# Single-item tuple creation\n",
    "T5 = (\"Hello\",)\n",
    "type(T5)"
   ]
  },
  {
   "cell_type": "code",
   "execution_count": 9,
   "id": "f71eb60b",
   "metadata": {},
   "outputs": [
    {
     "data": {
      "text/plain": [
       "('G', 'o', 'a')"
      ]
     },
     "execution_count": 9,
     "metadata": {},
     "output_type": "execute_result"
    }
   ],
   "source": [
    "T6 = tuple(\"Goa\")\n",
    "T6"
   ]
  },
  {
   "cell_type": "code",
   "execution_count": 10,
   "id": "addb36e1",
   "metadata": {},
   "outputs": [
    {
     "data": {
      "text/plain": [
       "(1, 2, 3, 4)"
      ]
     },
     "execution_count": 10,
     "metadata": {},
     "output_type": "execute_result"
    }
   ],
   "source": [
    "T6 = tuple([1, 2, 3, 4])\n",
    "T6"
   ]
  },
  {
   "cell_type": "markdown",
   "id": "10160040",
   "metadata": {},
   "source": [
    "### 2. Access\n",
    "\n",
    "- Indexing\n",
    "- Slicing"
   ]
  },
  {
   "cell_type": "code",
   "execution_count": 11,
   "id": "b0d1e0cb",
   "metadata": {},
   "outputs": [
    {
     "data": {
      "text/plain": [
       "(1, 2, 3, 4, 5)"
      ]
     },
     "execution_count": 11,
     "metadata": {},
     "output_type": "execute_result"
    }
   ],
   "source": [
    "T2"
   ]
  },
  {
   "cell_type": "code",
   "execution_count": 12,
   "id": "8f4fc742",
   "metadata": {},
   "outputs": [
    {
     "data": {
      "text/plain": [
       "1"
      ]
     },
     "execution_count": 12,
     "metadata": {},
     "output_type": "execute_result"
    }
   ],
   "source": [
    "T2[0]"
   ]
  },
  {
   "cell_type": "code",
   "execution_count": 13,
   "id": "e7bba897",
   "metadata": {},
   "outputs": [
    {
     "data": {
      "text/plain": [
       "5"
      ]
     },
     "execution_count": 13,
     "metadata": {},
     "output_type": "execute_result"
    }
   ],
   "source": [
    "T2[-1]"
   ]
  },
  {
   "cell_type": "code",
   "execution_count": 14,
   "id": "809cc9e8",
   "metadata": {},
   "outputs": [
    {
     "data": {
      "text/plain": [
       "(1, 2, 3, 4)"
      ]
     },
     "execution_count": 14,
     "metadata": {},
     "output_type": "execute_result"
    }
   ],
   "source": [
    "T2[:4]"
   ]
  },
  {
   "cell_type": "code",
   "execution_count": 15,
   "id": "933ff128",
   "metadata": {},
   "outputs": [
    {
     "data": {
      "text/plain": [
       "(1, 2, 3, (4, 5))"
      ]
     },
     "execution_count": 15,
     "metadata": {},
     "output_type": "execute_result"
    }
   ],
   "source": [
    "T4"
   ]
  },
  {
   "cell_type": "code",
   "execution_count": 16,
   "id": "a95203da",
   "metadata": {},
   "outputs": [
    {
     "data": {
      "text/plain": [
       "4"
      ]
     },
     "execution_count": 16,
     "metadata": {},
     "output_type": "execute_result"
    }
   ],
   "source": [
    "T4[-1][0]"
   ]
  },
  {
   "cell_type": "markdown",
   "id": "bf86a42a",
   "metadata": {},
   "source": [
    "### 3. Edit"
   ]
  },
  {
   "cell_type": "code",
   "execution_count": 17,
   "id": "69722935",
   "metadata": {},
   "outputs": [],
   "source": [
    "L = [1, 2, 3, 4, 5]"
   ]
  },
  {
   "cell_type": "code",
   "execution_count": 18,
   "id": "8810dd64",
   "metadata": {},
   "outputs": [
    {
     "data": {
      "text/plain": [
       "[100, 2, 3, 4, 5]"
      ]
     },
     "execution_count": 18,
     "metadata": {},
     "output_type": "execute_result"
    }
   ],
   "source": [
    "L[0] = 100\n",
    "L"
   ]
  },
  {
   "cell_type": "code",
   "execution_count": 19,
   "id": "347f2833",
   "metadata": {},
   "outputs": [
    {
     "data": {
      "text/plain": [
       "(1, 2, 3, 4, 5)"
      ]
     },
     "execution_count": 19,
     "metadata": {},
     "output_type": "execute_result"
    }
   ],
   "source": [
    "T2"
   ]
  },
  {
   "cell_type": "code",
   "execution_count": 20,
   "id": "929e6bcb",
   "metadata": {},
   "outputs": [
    {
     "ename": "TypeError",
     "evalue": "'tuple' object does not support item assignment",
     "output_type": "error",
     "traceback": [
      "\u001b[1;31m---------------------------------------------------------------------------\u001b[0m",
      "\u001b[1;31mTypeError\u001b[0m                                 Traceback (most recent call last)",
      "\u001b[1;32m~\\AppData\\Local\\Temp/ipykernel_22232/394845330.py\u001b[0m in \u001b[0;36m<module>\u001b[1;34m\u001b[0m\n\u001b[1;32m----> 1\u001b[1;33m \u001b[0mT2\u001b[0m\u001b[1;33m[\u001b[0m\u001b[1;36m0\u001b[0m\u001b[1;33m]\u001b[0m \u001b[1;33m=\u001b[0m \u001b[1;36m100\u001b[0m\u001b[1;33m\u001b[0m\u001b[1;33m\u001b[0m\u001b[0m\n\u001b[0m",
      "\u001b[1;31mTypeError\u001b[0m: 'tuple' object does not support item assignment"
     ]
    }
   ],
   "source": [
    "T2[0] = 100\n",
    "# Immutable, like strings"
   ]
  },
  {
   "cell_type": "code",
   "execution_count": 21,
   "id": "93945587",
   "metadata": {},
   "outputs": [],
   "source": [
    "# Tuples = immutable (like strings)"
   ]
  },
  {
   "cell_type": "markdown",
   "id": "2ab824f2",
   "metadata": {},
   "source": [
    "### 4. Add"
   ]
  },
  {
   "cell_type": "code",
   "execution_count": 22,
   "id": "c5c599c0",
   "metadata": {},
   "outputs": [],
   "source": [
    "# not possible\n",
    "# Tuples: immutable"
   ]
  },
  {
   "cell_type": "markdown",
   "id": "0ddb9f56",
   "metadata": {},
   "source": [
    "### 5. Delete"
   ]
  },
  {
   "cell_type": "code",
   "execution_count": 23,
   "id": "6ba0741d",
   "metadata": {},
   "outputs": [
    {
     "data": {
      "text/plain": [
       "()"
      ]
     },
     "execution_count": 23,
     "metadata": {},
     "output_type": "execute_result"
    }
   ],
   "source": [
    "T1"
   ]
  },
  {
   "cell_type": "code",
   "execution_count": 24,
   "id": "cc9fe047",
   "metadata": {},
   "outputs": [
    {
     "ename": "NameError",
     "evalue": "name 'T1' is not defined",
     "output_type": "error",
     "traceback": [
      "\u001b[1;31m---------------------------------------------------------------------------\u001b[0m",
      "\u001b[1;31mNameError\u001b[0m                                 Traceback (most recent call last)",
      "\u001b[1;32m~\\AppData\\Local\\Temp/ipykernel_22232/1707313094.py\u001b[0m in \u001b[0;36m<module>\u001b[1;34m\u001b[0m\n\u001b[0;32m      1\u001b[0m \u001b[1;32mdel\u001b[0m \u001b[0mT1\u001b[0m\u001b[1;33m\u001b[0m\u001b[1;33m\u001b[0m\u001b[0m\n\u001b[1;32m----> 2\u001b[1;33m \u001b[0mT1\u001b[0m\u001b[1;33m\u001b[0m\u001b[1;33m\u001b[0m\u001b[0m\n\u001b[0m",
      "\u001b[1;31mNameError\u001b[0m: name 'T1' is not defined"
     ]
    }
   ],
   "source": [
    "del T1\n",
    "T1"
   ]
  },
  {
   "cell_type": "code",
   "execution_count": 25,
   "id": "003165fd",
   "metadata": {},
   "outputs": [
    {
     "data": {
      "text/plain": [
       "('Hello', 4, 5, 6)"
      ]
     },
     "execution_count": 25,
     "metadata": {},
     "output_type": "execute_result"
    }
   ],
   "source": [
    "T3"
   ]
  },
  {
   "cell_type": "code",
   "execution_count": 26,
   "id": "854a5b38",
   "metadata": {},
   "outputs": [
    {
     "data": {
      "text/plain": [
       "(1, 2, 3, 4, 5)"
      ]
     },
     "execution_count": 26,
     "metadata": {},
     "output_type": "execute_result"
    }
   ],
   "source": [
    "T2"
   ]
  },
  {
   "cell_type": "code",
   "execution_count": 27,
   "id": "c2b656e2",
   "metadata": {},
   "outputs": [
    {
     "ename": "SyntaxError",
     "evalue": "cannot delete function call (Temp/ipykernel_22232/1610192391.py, line 1)",
     "output_type": "error",
     "traceback": [
      "\u001b[1;36m  File \u001b[1;32m\"C:\\Users\\pc\\AppData\\Local\\Temp/ipykernel_22232/1610192391.py\"\u001b[1;36m, line \u001b[1;32m1\u001b[0m\n\u001b[1;33m    del T2(-1)\u001b[0m\n\u001b[1;37m        ^\u001b[0m\n\u001b[1;31mSyntaxError\u001b[0m\u001b[1;31m:\u001b[0m cannot delete function call\n"
     ]
    }
   ],
   "source": [
    "del T2(-1)"
   ]
  },
  {
   "cell_type": "code",
   "execution_count": 28,
   "id": "d9ff11b9",
   "metadata": {},
   "outputs": [],
   "source": [
    "# Tuples are immutable"
   ]
  },
  {
   "cell_type": "markdown",
   "id": "480f2605",
   "metadata": {},
   "source": [
    "### 6. Operations"
   ]
  },
  {
   "cell_type": "code",
   "execution_count": 29,
   "id": "2af92839",
   "metadata": {},
   "outputs": [
    {
     "data": {
      "text/plain": [
       "(1, 2, 3, 4, 5)"
      ]
     },
     "execution_count": 29,
     "metadata": {},
     "output_type": "execute_result"
    }
   ],
   "source": [
    "T2"
   ]
  },
  {
   "cell_type": "code",
   "execution_count": 30,
   "id": "ae94d791",
   "metadata": {},
   "outputs": [
    {
     "data": {
      "text/plain": [
       "('Hello', 4, 5, 6)"
      ]
     },
     "execution_count": 30,
     "metadata": {},
     "output_type": "execute_result"
    }
   ],
   "source": [
    "T3"
   ]
  },
  {
   "cell_type": "code",
   "execution_count": null,
   "id": "e50bb792",
   "metadata": {},
   "outputs": [],
   "source": [
    "# + and *"
   ]
  },
  {
   "cell_type": "code",
   "execution_count": 31,
   "id": "4cf54dde",
   "metadata": {},
   "outputs": [
    {
     "data": {
      "text/plain": [
       "(1, 2, 3, 4, 5, 'Hello', 4, 5, 6)"
      ]
     },
     "execution_count": 31,
     "metadata": {},
     "output_type": "execute_result"
    }
   ],
   "source": [
    "T2 + T3"
   ]
  },
  {
   "cell_type": "code",
   "execution_count": 32,
   "id": "a4a96fca",
   "metadata": {},
   "outputs": [
    {
     "data": {
      "text/plain": [
       "(1, 2, 3, 4, 5, 1, 2, 3, 4, 5, 1, 2, 3, 4, 5)"
      ]
     },
     "execution_count": 32,
     "metadata": {},
     "output_type": "execute_result"
    }
   ],
   "source": [
    "T2 * 3"
   ]
  },
  {
   "cell_type": "code",
   "execution_count": 33,
   "id": "f9ea37af",
   "metadata": {},
   "outputs": [
    {
     "name": "stdout",
     "output_type": "stream",
     "text": [
      "1\n",
      "2\n",
      "3\n",
      "4\n",
      "5\n"
     ]
    }
   ],
   "source": [
    "# iteration\n",
    "for i in T2:\n",
    "    print(i)"
   ]
  },
  {
   "cell_type": "code",
   "execution_count": 34,
   "id": "d16ae989",
   "metadata": {},
   "outputs": [
    {
     "data": {
      "text/plain": [
       "True"
      ]
     },
     "execution_count": 34,
     "metadata": {},
     "output_type": "execute_result"
    }
   ],
   "source": [
    "# membership\n",
    "1 in T2"
   ]
  },
  {
   "cell_type": "markdown",
   "id": "73651066",
   "metadata": {},
   "source": [
    "### 7. Functions"
   ]
  },
  {
   "cell_type": "code",
   "execution_count": 35,
   "id": "4bb800f6",
   "metadata": {},
   "outputs": [
    {
     "data": {
      "text/plain": [
       "5"
      ]
     },
     "execution_count": 35,
     "metadata": {},
     "output_type": "execute_result"
    }
   ],
   "source": [
    "len(T2)"
   ]
  },
  {
   "cell_type": "code",
   "execution_count": 36,
   "id": "1e7d03a0",
   "metadata": {},
   "outputs": [
    {
     "data": {
      "text/plain": [
       "1"
      ]
     },
     "execution_count": 36,
     "metadata": {},
     "output_type": "execute_result"
    }
   ],
   "source": [
    "min(T2)"
   ]
  },
  {
   "cell_type": "code",
   "execution_count": 37,
   "id": "ebe09e84",
   "metadata": {},
   "outputs": [
    {
     "data": {
      "text/plain": [
       "5"
      ]
     },
     "execution_count": 37,
     "metadata": {},
     "output_type": "execute_result"
    }
   ],
   "source": [
    "max(T2)"
   ]
  },
  {
   "cell_type": "code",
   "execution_count": 38,
   "id": "0763b4d1",
   "metadata": {},
   "outputs": [
    {
     "data": {
      "text/plain": [
       "15"
      ]
     },
     "execution_count": 38,
     "metadata": {},
     "output_type": "execute_result"
    }
   ],
   "source": [
    "sum(T2)"
   ]
  },
  {
   "cell_type": "code",
   "execution_count": 39,
   "id": "7653cf56",
   "metadata": {},
   "outputs": [
    {
     "data": {
      "text/plain": [
       "[1, 2, 3, 4, 5]"
      ]
     },
     "execution_count": 39,
     "metadata": {},
     "output_type": "execute_result"
    }
   ],
   "source": [
    "sorted(T2)"
   ]
  },
  {
   "cell_type": "code",
   "execution_count": 40,
   "id": "770bcedd",
   "metadata": {},
   "outputs": [
    {
     "data": {
      "text/plain": [
       "[5, 4, 3, 2, 1]"
      ]
     },
     "execution_count": 40,
     "metadata": {},
     "output_type": "execute_result"
    }
   ],
   "source": [
    "sorted(T2, reverse = True)"
   ]
  },
  {
   "cell_type": "code",
   "execution_count": 1,
   "id": "c1f35deb",
   "metadata": {},
   "outputs": [
    {
     "data": {
      "text/plain": [
       "0"
      ]
     },
     "execution_count": 1,
     "metadata": {},
     "output_type": "execute_result"
    }
   ],
   "source": [
    "# count\n",
    "t = (1, 2, 3, 4, 5)\n",
    "t.count(50)"
   ]
  },
  {
   "cell_type": "code",
   "execution_count": 2,
   "id": "02549525",
   "metadata": {},
   "outputs": [
    {
     "ename": "ValueError",
     "evalue": "tuple.index(x): x not in tuple",
     "output_type": "error",
     "traceback": [
      "\u001b[1;31m---------------------------------------------------------------------------\u001b[0m",
      "\u001b[1;31mValueError\u001b[0m                                Traceback (most recent call last)",
      "Cell \u001b[1;32mIn[2], line 2\u001b[0m\n\u001b[0;32m      1\u001b[0m \u001b[38;5;66;03m# index\u001b[39;00m\n\u001b[1;32m----> 2\u001b[0m \u001b[43mt\u001b[49m\u001b[38;5;241;43m.\u001b[39;49m\u001b[43mindex\u001b[49m\u001b[43m(\u001b[49m\u001b[38;5;241;43m50\u001b[39;49m\u001b[43m)\u001b[49m\n",
      "\u001b[1;31mValueError\u001b[0m: tuple.index(x): x not in tuple"
     ]
    }
   ],
   "source": [
    "# index\n",
    "t.index(50)"
   ]
  },
  {
   "cell_type": "markdown",
   "id": "891aa024",
   "metadata": {},
   "source": [
    "## Lists vs Tuples\n",
    "\n",
    "### Syntax:\n",
    "  - Lists: `[ ]`  \n",
    "  - Tuples: `( )`\n",
    "\n",
    "### Mutability:\n",
    "  - Lists: Mutable  \n",
    "  - Tuples: Immutable\n",
    "\n",
    "### Speed:\n",
    "  - Lists: Slower (mutable)  \n",
    "  - Tuples: Faster (immutable)\n",
    "\n",
    "### Memory:\n",
    "  - Lists: Higher  \n",
    "  - Tuples: Lower\n",
    "\n",
    "### Functionality:\n",
    "  - Both: Indexing, slicing  \n",
    "  - Lists: More methods\n",
    "\n",
    "### Error-Prone:\n",
    "  - Lists: Modifiable  \n",
    "  - Tuples: Safer\n",
    "\n",
    "### Use Case:\n",
    "  - Lists: Dynamic  \n",
    "  - Tuples: Static"
   ]
  },
  {
   "cell_type": "code",
   "execution_count": 3,
   "id": "48b0d631",
   "metadata": {},
   "outputs": [
    {
     "name": "stdout",
     "output_type": "stream",
     "text": [
      "List time 9.570151567459106\n",
      "Tuple time 8.412890911102295\n"
     ]
    }
   ],
   "source": [
    "import time \n",
    "L = list(range(100000000))\n",
    "T = tuple(range(100000000))\n",
    "\n",
    "# List timing\n",
    "start = time.time()\n",
    "for i in L:\n",
    "  i*5\n",
    "print('List time', time.time()-start)\n",
    "\n",
    "# Tuple timing\n",
    "start = time.time()\n",
    "for i in T:\n",
    "  i*5\n",
    "print('Tuple time', time.time()-start)"
   ]
  },
  {
   "cell_type": "code",
   "execution_count": 4,
   "id": "3cbaec08",
   "metadata": {},
   "outputs": [
    {
     "name": "stdout",
     "output_type": "stream",
     "text": [
      "List size 8056\n",
      "Tuple size 8040\n"
     ]
    }
   ],
   "source": [
    "import sys\n",
    "L = list(range(1000))\n",
    "T = tuple(range(1000))\n",
    "print('List size', sys.getsizeof(L))\n",
    "print('Tuple size', sys.getsizeof(T))"
   ]
  },
  {
   "cell_type": "code",
   "execution_count": 5,
   "id": "8d068023",
   "metadata": {},
   "outputs": [
    {
     "name": "stdout",
     "output_type": "stream",
     "text": [
      "[1, 2, 3, 4]\n",
      "[1, 2, 3, 4]\n"
     ]
    }
   ],
   "source": [
    "a = [1, 2, 3]\n",
    "b = a\n",
    "a.append(4)\n",
    "print(a)\n",
    "print(b)"
   ]
  },
  {
   "cell_type": "code",
   "execution_count": 6,
   "id": "9929cd3a",
   "metadata": {},
   "outputs": [
    {
     "name": "stdout",
     "output_type": "stream",
     "text": [
      "(1, 2, 3, 4)\n",
      "(1, 2, 3)\n"
     ]
    }
   ],
   "source": [
    "a = (1, 2, 3)\n",
    "b = a\n",
    "a = a + (4,)\n",
    "print(a)\n",
    "print(b)"
   ]
  },
  {
   "cell_type": "markdown",
   "id": "eba17a48",
   "metadata": {},
   "source": [
    "## Q. Why use Tuples?\n",
    "\n",
    "- Immutable; prevents changes.\n",
    "- Ensures data integrity.\n",
    "- Use for fixed collections.\n",
    "- Example:\n",
    "  ```python\n",
    "  college_database = ('CS', 'Math', 'Physics')\n",
    "  # college_database[0] = 'Electronics'  # TypeError\n",
    "  ```\n",
    "- Use for static data; lists for mutable."
   ]
  },
  {
   "cell_type": "markdown",
   "id": "c0fc54b2",
   "metadata": {},
   "source": [
    "## Special Syntax"
   ]
  },
  {
   "cell_type": "code",
   "execution_count": 7,
   "id": "832f7db3",
   "metadata": {},
   "outputs": [
    {
     "name": "stdout",
     "output_type": "stream",
     "text": [
      "1 2 3\n"
     ]
    }
   ],
   "source": [
    "# tuple unpacking\n",
    "a, b, c = (1, 2, 3)\n",
    "print(a, b, c)"
   ]
  },
  {
   "cell_type": "code",
   "execution_count": 8,
   "id": "d2fc7a1c",
   "metadata": {},
   "outputs": [
    {
     "ename": "ValueError",
     "evalue": "too many values to unpack (expected 2)",
     "output_type": "error",
     "traceback": [
      "\u001b[1;31m---------------------------------------------------------------------------\u001b[0m",
      "\u001b[1;31mValueError\u001b[0m                                Traceback (most recent call last)",
      "Cell \u001b[1;32mIn[8], line 1\u001b[0m\n\u001b[1;32m----> 1\u001b[0m a,b \u001b[38;5;241m=\u001b[39m (\u001b[38;5;241m1\u001b[39m,\u001b[38;5;241m2\u001b[39m,\u001b[38;5;241m3\u001b[39m)\n\u001b[0;32m      2\u001b[0m \u001b[38;5;28mprint\u001b[39m(a,b)\n",
      "\u001b[1;31mValueError\u001b[0m: too many values to unpack (expected 2)"
     ]
    }
   ],
   "source": [
    "a, b = (1, 2, 3)\n",
    "print(a, b)"
   ]
  },
  {
   "cell_type": "code",
   "execution_count": 9,
   "id": "ccb643e3",
   "metadata": {},
   "outputs": [
    {
     "name": "stdout",
     "output_type": "stream",
     "text": [
      "2 1\n"
     ]
    }
   ],
   "source": [
    "a = 1\n",
    "b = 2\n",
    "a, b = b, a\n",
    "print(a, b)"
   ]
  },
  {
   "cell_type": "code",
   "execution_count": 10,
   "id": "d22d7769",
   "metadata": {},
   "outputs": [
    {
     "name": "stdout",
     "output_type": "stream",
     "text": [
      "1 2\n",
      "[3, 4]\n"
     ]
    }
   ],
   "source": [
    "a, b, *others = (1, 2, 3, 4)\n",
    "print(a, b)\n",
    "print(others)"
   ]
  },
  {
   "cell_type": "code",
   "execution_count": 11,
   "id": "522a0612",
   "metadata": {},
   "outputs": [
    {
     "data": {
      "text/plain": [
       "((1, 5), (2, 6), (3, 7), (4, 8))"
      ]
     },
     "execution_count": 11,
     "metadata": {},
     "output_type": "execute_result"
    }
   ],
   "source": [
    "# zipping tuples\n",
    "a = (1, 2, 3, 4)\n",
    "b = (5, 6, 7, 8)\n",
    "tuple(zip(a, b))"
   ]
  }
 ],
 "metadata": {
  "kernelspec": {
   "display_name": "Python 3 (ipykernel)",
   "language": "python",
   "name": "python3"
  },
  "language_info": {
   "codemirror_mode": {
    "name": "ipython",
    "version": 3
   },
   "file_extension": ".py",
   "mimetype": "text/x-python",
   "name": "python",
   "nbconvert_exporter": "python",
   "pygments_lexer": "ipython3",
   "version": "3.10.9"
  }
 },
 "nbformat": 4,
 "nbformat_minor": 5
}

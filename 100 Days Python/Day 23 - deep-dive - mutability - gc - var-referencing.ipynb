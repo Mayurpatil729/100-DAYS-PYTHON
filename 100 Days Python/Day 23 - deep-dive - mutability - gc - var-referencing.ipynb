{
 "cells": [
  {
   "cell_type": "markdown",
   "id": "0bfbce7d",
   "metadata": {},
   "source": [
    "# Variable and Memory References"
   ]
  },
  {
   "cell_type": "code",
   "execution_count": 1,
   "id": "b86db176",
   "metadata": {},
   "outputs": [
    {
     "ename": "NameError",
     "evalue": "name 'a' is not defined",
     "output_type": "error",
     "traceback": [
      "\u001b[1;31m---------------------------------------------------------------------------\u001b[0m",
      "\u001b[1;31mNameError\u001b[0m                                 Traceback (most recent call last)",
      "\u001b[1;32m~\\AppData\\Local\\Temp/ipykernel_14692/4139848714.py\u001b[0m in \u001b[0;36m<module>\u001b[1;34m\u001b[0m\n\u001b[0;32m      1\u001b[0m \u001b[1;31m# python calls variable as name\u001b[0m\u001b[1;33m\u001b[0m\u001b[1;33m\u001b[0m\u001b[0m\n\u001b[1;32m----> 2\u001b[1;33m \u001b[0ma\u001b[0m\u001b[1;33m\u001b[0m\u001b[1;33m\u001b[0m\u001b[0m\n\u001b[0m",
      "\u001b[1;31mNameError\u001b[0m: name 'a' is not defined"
     ]
    }
   ],
   "source": [
    "# python calls variable as name\n",
    "a"
   ]
  },
  {
   "cell_type": "markdown",
   "id": "62263d9e",
   "metadata": {},
   "source": [
    "## Call by Object Reference"
   ]
  },
  {
   "cell_type": "markdown",
   "id": "449ed571",
   "metadata": {},
   "source": [
    "## Variable Assignment:\n",
    "\n",
    "```python\n",
    "a = 4\n",
    "```\n",
    "\n",
    "`a = 4`: `a` points to memory location of `4`.\n",
    "\n",
    "*4 stored in a*: `4` in memory, `a` ---> `4`'s address."
   ]
  },
  {
   "cell_type": "code",
   "execution_count": 3,
   "id": "fb7d6229",
   "metadata": {},
   "outputs": [
    {
     "data": {
      "text/plain": [
       "2420901374352"
      ]
     },
     "execution_count": 3,
     "metadata": {},
     "output_type": "execute_result"
    }
   ],
   "source": [
    "id(a)"
   ]
  },
  {
   "cell_type": "code",
   "execution_count": 4,
   "id": "8343001b",
   "metadata": {},
   "outputs": [
    {
     "data": {
      "text/plain": [
       "'0x29f47286990'"
      ]
     },
     "execution_count": 4,
     "metadata": {},
     "output_type": "execute_result"
    }
   ],
   "source": [
    "hex(2883116886416)"
   ]
  },
  {
   "cell_type": "code",
   "execution_count": 5,
   "id": "f39dde73",
   "metadata": {},
   "outputs": [
    {
     "data": {
      "text/plain": [
       "2420901374352"
      ]
     },
     "execution_count": 5,
     "metadata": {},
     "output_type": "execute_result"
    }
   ],
   "source": [
    "id(4)"
   ]
  },
  {
   "cell_type": "markdown",
   "id": "7e4d78e5",
   "metadata": {},
   "source": [
    "## Aliasing"
   ]
  },
  {
   "cell_type": "code",
   "execution_count": 6,
   "id": "ee701601",
   "metadata": {},
   "outputs": [],
   "source": [
    "a = 5\n",
    "b = a\n",
    "# aliasing"
   ]
  },
  {
   "cell_type": "code",
   "execution_count": 7,
   "id": "2ec9c73f",
   "metadata": {},
   "outputs": [
    {
     "data": {
      "text/plain": [
       "2420901374384"
      ]
     },
     "execution_count": 7,
     "metadata": {},
     "output_type": "execute_result"
    }
   ],
   "source": [
    "id(a)"
   ]
  },
  {
   "cell_type": "code",
   "execution_count": 8,
   "id": "5dadbc4e",
   "metadata": {},
   "outputs": [
    {
     "data": {
      "text/plain": [
       "2420901374384"
      ]
     },
     "execution_count": 8,
     "metadata": {},
     "output_type": "execute_result"
    }
   ],
   "source": [
    "id(b)"
   ]
  },
  {
   "cell_type": "code",
   "execution_count": 1,
   "id": "8e210ef3",
   "metadata": {},
   "outputs": [],
   "source": [
    "# a & b reference the same memory address."
   ]
  },
  {
   "cell_type": "code",
   "execution_count": 10,
   "id": "4a6c908d",
   "metadata": {},
   "outputs": [],
   "source": [
    "c = b"
   ]
  },
  {
   "cell_type": "code",
   "execution_count": 11,
   "id": "2a034122",
   "metadata": {},
   "outputs": [
    {
     "data": {
      "text/plain": [
       "2420901374384"
      ]
     },
     "execution_count": 11,
     "metadata": {},
     "output_type": "execute_result"
    }
   ],
   "source": [
    "id(c)"
   ]
  },
  {
   "cell_type": "code",
   "execution_count": 2,
   "id": "ecea3a15",
   "metadata": {},
   "outputs": [],
   "source": [
    "# c also starts pointing the same memory address."
   ]
  },
  {
   "cell_type": "code",
   "execution_count": 13,
   "id": "87a9a46c",
   "metadata": {},
   "outputs": [],
   "source": [
    "del(a)"
   ]
  },
  {
   "cell_type": "code",
   "execution_count": 14,
   "id": "f71aa272",
   "metadata": {},
   "outputs": [
    {
     "data": {
      "text/plain": [
       "5"
      ]
     },
     "execution_count": 14,
     "metadata": {},
     "output_type": "execute_result"
    }
   ],
   "source": [
    "b"
   ]
  },
  {
   "cell_type": "code",
   "execution_count": 15,
   "id": "e68ae924",
   "metadata": {},
   "outputs": [],
   "source": [
    "del(b)"
   ]
  },
  {
   "cell_type": "code",
   "execution_count": 16,
   "id": "ae3f400f",
   "metadata": {},
   "outputs": [
    {
     "data": {
      "text/plain": [
       "5"
      ]
     },
     "execution_count": 16,
     "metadata": {},
     "output_type": "execute_result"
    }
   ],
   "source": [
    "c"
   ]
  },
  {
   "cell_type": "code",
   "execution_count": 3,
   "id": "32dbcd88",
   "metadata": {},
   "outputs": [],
   "source": [
    "# removing reference, not actual value/name. original value remains intact."
   ]
  },
  {
   "cell_type": "code",
   "execution_count": 18,
   "id": "95313a02",
   "metadata": {},
   "outputs": [],
   "source": [
    "a  = 5\n",
    "b = a\n",
    "a = 6"
   ]
  },
  {
   "cell_type": "code",
   "execution_count": 19,
   "id": "49190c28",
   "metadata": {},
   "outputs": [
    {
     "data": {
      "text/plain": [
       "5"
      ]
     },
     "execution_count": 19,
     "metadata": {},
     "output_type": "execute_result"
    }
   ],
   "source": [
    "b"
   ]
  },
  {
   "cell_type": "code",
   "execution_count": 4,
   "id": "18e0a17e",
   "metadata": {},
   "outputs": [],
   "source": [
    "# Initially, a = b = 5\n",
    "# Changing a to 6 leaves b at 5"
   ]
  },
  {
   "cell_type": "markdown",
   "id": "6b088ffa",
   "metadata": {},
   "source": [
    "## Reference Counting"
   ]
  },
  {
   "cell_type": "code",
   "execution_count": 21,
   "id": "36ef003a",
   "metadata": {},
   "outputs": [],
   "source": [
    "# Reference Counting tracks variables referencing a memory address.\n",
    "a = \"erherherh\" # Memory address X\n",
    "b = a           # b ---> X\n",
    "c = b           # c ---> X"
   ]
  },
  {
   "cell_type": "code",
   "execution_count": 22,
   "id": "6e302fba",
   "metadata": {},
   "outputs": [
    {
     "data": {
      "text/plain": [
       "2420982108464"
      ]
     },
     "execution_count": 22,
     "metadata": {},
     "output_type": "execute_result"
    }
   ],
   "source": [
    "id(a)"
   ]
  },
  {
   "cell_type": "code",
   "execution_count": 23,
   "id": "445c1cc6",
   "metadata": {},
   "outputs": [
    {
     "data": {
      "text/plain": [
       "2420982108464"
      ]
     },
     "execution_count": 23,
     "metadata": {},
     "output_type": "execute_result"
    }
   ],
   "source": [
    "id(b)"
   ]
  },
  {
   "cell_type": "code",
   "execution_count": 24,
   "id": "c0b89285",
   "metadata": {},
   "outputs": [
    {
     "data": {
      "text/plain": [
       "2420982108464"
      ]
     },
     "execution_count": 24,
     "metadata": {},
     "output_type": "execute_result"
    }
   ],
   "source": [
    "id(c)"
   ]
  },
  {
   "cell_type": "code",
   "execution_count": 25,
   "id": "64da15d0",
   "metadata": {},
   "outputs": [
    {
     "data": {
      "text/plain": [
       "'erherherh'"
      ]
     },
     "execution_count": 25,
     "metadata": {},
     "output_type": "execute_result"
    }
   ],
   "source": [
    "b"
   ]
  },
  {
   "cell_type": "code",
   "execution_count": 26,
   "id": "99383561",
   "metadata": {},
   "outputs": [
    {
     "data": {
      "text/plain": [
       "'erherherh'"
      ]
     },
     "execution_count": 26,
     "metadata": {},
     "output_type": "execute_result"
    }
   ],
   "source": [
    "c"
   ]
  },
  {
   "cell_type": "code",
   "execution_count": 27,
   "id": "43061777",
   "metadata": {},
   "outputs": [],
   "source": [
    "import sys"
   ]
  },
  {
   "cell_type": "code",
   "execution_count": 28,
   "id": "f499c6de",
   "metadata": {},
   "outputs": [
    {
     "data": {
      "text/plain": [
       "16"
      ]
     },
     "execution_count": 28,
     "metadata": {},
     "output_type": "execute_result"
    }
   ],
   "source": [
    "sys.getrefcount(a)"
   ]
  },
  {
   "cell_type": "markdown",
   "id": "d69062d6",
   "metadata": {},
   "source": [
    "**`sys.getrefcount()`**:\n",
    "\n",
    "Shows +1 reference count.\n",
    "\n",
    "Internally adds a temporary reference."
   ]
  },
  {
   "cell_type": "code",
   "execution_count": 30,
   "id": "0c2f9eb7",
   "metadata": {},
   "outputs": [],
   "source": [
    "a = \"abcdef\"\n",
    "b = a\n",
    "c = b"
   ]
  },
  {
   "cell_type": "code",
   "execution_count": 31,
   "id": "cc052594",
   "metadata": {},
   "outputs": [
    {
     "data": {
      "text/plain": [
       "4"
      ]
     },
     "execution_count": 31,
     "metadata": {},
     "output_type": "execute_result"
    }
   ],
   "source": [
    "sys.getrefcount(a)"
   ]
  },
  {
   "cell_type": "markdown",
   "id": "a36a4bbe",
   "metadata": {},
   "source": [
    "# Garbage Collection\n",
    "\n",
    "**Unused memory** remains after references are deleted.\n",
    "\n",
    "**Garbage Collector** manages and frees this space.\n",
    "\n",
    "Periodic deletion of unreferenced values is called **Garbage Collection**"
   ]
  },
  {
   "cell_type": "markdown",
   "id": "4ea8f9bf",
   "metadata": {},
   "source": [
    "## Wierd Stuff\n",
    "\n",
    "### *Python's Wierd Behaviour/Oddities*:\n",
    "\n",
    "1. **Ref Count Anomaly/Getrefcount Anomaly**: `sys.getrefcount()` shows an extra count due to temp ref.\n",
    "2. **Integer Caching**: Caches -5 to 256 integers for optimization.\n",
    "3. **String Interning**: Same string literals share memory."
   ]
  },
  {
   "cell_type": "code",
   "execution_count": 33,
   "id": "72fa51e3",
   "metadata": {},
   "outputs": [],
   "source": [
    "# WB 1\n",
    "a = 2\n",
    "b = a\n",
    "c = b"
   ]
  },
  {
   "cell_type": "code",
   "execution_count": 34,
   "id": "2d3e93d3",
   "metadata": {},
   "outputs": [
    {
     "data": {
      "text/plain": [
       "1681"
      ]
     },
     "execution_count": 34,
     "metadata": {},
     "output_type": "execute_result"
    }
   ],
   "source": [
    "sys.getrefcount(a)"
   ]
  },
  {
   "cell_type": "code",
   "execution_count": 5,
   "id": "591b0b94",
   "metadata": {},
   "outputs": [],
   "source": [
    "# System vars often use 2.\n",
    "# a = 2 ---> a points to 2's existing mem loc, no new 2 created."
   ]
  },
  {
   "cell_type": "code",
   "execution_count": 36,
   "id": "82e9bb30",
   "metadata": {},
   "outputs": [],
   "source": [
    "a = 61\n",
    "b = a\n",
    "c = b"
   ]
  },
  {
   "cell_type": "code",
   "execution_count": 37,
   "id": "33e6371a",
   "metadata": {},
   "outputs": [
    {
     "data": {
      "text/plain": [
       "25"
      ]
     },
     "execution_count": 37,
     "metadata": {},
     "output_type": "execute_result"
    }
   ],
   "source": [
    "sys.getrefcount(a)"
   ]
  },
  {
   "cell_type": "code",
   "execution_count": 38,
   "id": "5f24d209",
   "metadata": {},
   "outputs": [],
   "source": [
    "a = 717\n",
    "b = a\n",
    "c = b"
   ]
  },
  {
   "cell_type": "code",
   "execution_count": 39,
   "id": "a5a15e69",
   "metadata": {},
   "outputs": [
    {
     "data": {
      "text/plain": [
       "4"
      ]
     },
     "execution_count": 39,
     "metadata": {},
     "output_type": "execute_result"
    }
   ],
   "source": [
    "sys.getrefcount(a)"
   ]
  },
  {
   "cell_type": "code",
   "execution_count": 40,
   "id": "0b2841c7",
   "metadata": {},
   "outputs": [],
   "source": [
    "a = 717\n",
    "# this is not aliasing"
   ]
  },
  {
   "cell_type": "code",
   "execution_count": 41,
   "id": "5c311a5b",
   "metadata": {},
   "outputs": [
    {
     "data": {
      "text/plain": [
       "2"
      ]
     },
     "execution_count": 41,
     "metadata": {},
     "output_type": "execute_result"
    }
   ],
   "source": [
    "sys.getrefcount(a)"
   ]
  },
  {
   "cell_type": "code",
   "execution_count": 42,
   "id": "0b591906",
   "metadata": {},
   "outputs": [],
   "source": [
    "d = c\n",
    "# this is aliasing"
   ]
  },
  {
   "cell_type": "code",
   "execution_count": 43,
   "id": "fbfcd09d",
   "metadata": {},
   "outputs": [
    {
     "data": {
      "text/plain": [
       "2"
      ]
     },
     "execution_count": 43,
     "metadata": {},
     "output_type": "execute_result"
    }
   ],
   "source": [
    "sys.getrefcount(a)"
   ]
  },
  {
   "cell_type": "code",
   "execution_count": 44,
   "id": "0d066304",
   "metadata": {},
   "outputs": [],
   "source": [
    "a = 4\n",
    "b = 4"
   ]
  },
  {
   "cell_type": "code",
   "execution_count": 45,
   "id": "d92fc98b",
   "metadata": {},
   "outputs": [
    {
     "data": {
      "text/plain": [
       "2420901374352"
      ]
     },
     "execution_count": 45,
     "metadata": {},
     "output_type": "execute_result"
    }
   ],
   "source": [
    "id(a)"
   ]
  },
  {
   "cell_type": "code",
   "execution_count": 46,
   "id": "028e0519",
   "metadata": {},
   "outputs": [
    {
     "data": {
      "text/plain": [
       "2420901374352"
      ]
     },
     "execution_count": 46,
     "metadata": {},
     "output_type": "execute_result"
    }
   ],
   "source": [
    "id(b)"
   ]
  },
  {
   "cell_type": "code",
   "execution_count": 47,
   "id": "67cb77b7",
   "metadata": {},
   "outputs": [],
   "source": [
    "a = 256\n",
    "b = 256"
   ]
  },
  {
   "cell_type": "code",
   "execution_count": 48,
   "id": "561eb8e3",
   "metadata": {},
   "outputs": [
    {
     "data": {
      "text/plain": [
       "2420901570960"
      ]
     },
     "execution_count": 48,
     "metadata": {},
     "output_type": "execute_result"
    }
   ],
   "source": [
    "id(a)"
   ]
  },
  {
   "cell_type": "code",
   "execution_count": 49,
   "id": "09ccdbf7",
   "metadata": {},
   "outputs": [
    {
     "data": {
      "text/plain": [
       "2420901570960"
      ]
     },
     "execution_count": 49,
     "metadata": {},
     "output_type": "execute_result"
    }
   ],
   "source": [
    "id(b)"
   ]
  },
  {
   "cell_type": "code",
   "execution_count": 50,
   "id": "0ec68576",
   "metadata": {},
   "outputs": [],
   "source": [
    "a = 257\n",
    "b = 257"
   ]
  },
  {
   "cell_type": "code",
   "execution_count": 51,
   "id": "35ad7b22",
   "metadata": {},
   "outputs": [
    {
     "data": {
      "text/plain": [
       "2420982884720"
      ]
     },
     "execution_count": 51,
     "metadata": {},
     "output_type": "execute_result"
    }
   ],
   "source": [
    "id(a)"
   ]
  },
  {
   "cell_type": "code",
   "execution_count": 52,
   "id": "441cde0a",
   "metadata": {},
   "outputs": [
    {
     "data": {
      "text/plain": [
       "2420982884400"
      ]
     },
     "execution_count": 52,
     "metadata": {},
     "output_type": "execute_result"
    }
   ],
   "source": [
    "id(b)"
   ]
  },
  {
   "cell_type": "code",
   "execution_count": 53,
   "id": "0c3f17ad",
   "metadata": {},
   "outputs": [],
   "source": [
    "a = -5\n",
    "b = -5"
   ]
  },
  {
   "cell_type": "code",
   "execution_count": 54,
   "id": "5f653efb",
   "metadata": {},
   "outputs": [
    {
     "data": {
      "text/plain": [
       "2420901374064"
      ]
     },
     "execution_count": 54,
     "metadata": {},
     "output_type": "execute_result"
    }
   ],
   "source": [
    "id(a)"
   ]
  },
  {
   "cell_type": "code",
   "execution_count": 55,
   "id": "fb27f108",
   "metadata": {},
   "outputs": [
    {
     "data": {
      "text/plain": [
       "2420901374064"
      ]
     },
     "execution_count": 55,
     "metadata": {},
     "output_type": "execute_result"
    }
   ],
   "source": [
    "id(b)"
   ]
  },
  {
   "cell_type": "code",
   "execution_count": 56,
   "id": "f40f972f",
   "metadata": {},
   "outputs": [],
   "source": [
    "a = -6\n",
    "b = -6"
   ]
  },
  {
   "cell_type": "code",
   "execution_count": 57,
   "id": "62863a04",
   "metadata": {},
   "outputs": [
    {
     "data": {
      "text/plain": [
       "2420982884240"
      ]
     },
     "execution_count": 57,
     "metadata": {},
     "output_type": "execute_result"
    }
   ],
   "source": [
    "id(a)"
   ]
  },
  {
   "cell_type": "code",
   "execution_count": 58,
   "id": "1fc011e6",
   "metadata": {},
   "outputs": [
    {
     "data": {
      "text/plain": [
       "2420982884752"
      ]
     },
     "execution_count": 58,
     "metadata": {},
     "output_type": "execute_result"
    }
   ],
   "source": [
    "id(b)"
   ]
  },
  {
   "cell_type": "markdown",
   "id": "21606293",
   "metadata": {},
   "source": [
    "## Variable IDs in Python\n",
    "\n",
    "- **Range -5 to 256**: Same ID for vars.\n",
    "- **Outside this range**: Different IDs.\n",
    "\n",
    "*This is due to software optimization.*"
   ]
  },
  {
   "cell_type": "code",
   "execution_count": 60,
   "id": "4bb4ea6f",
   "metadata": {},
   "outputs": [],
   "source": [
    "a = 'haldia'\n",
    "b = 'haldia'"
   ]
  },
  {
   "cell_type": "code",
   "execution_count": 61,
   "id": "04fee11d",
   "metadata": {},
   "outputs": [
    {
     "data": {
      "text/plain": [
       "2420982910320"
      ]
     },
     "execution_count": 61,
     "metadata": {},
     "output_type": "execute_result"
    }
   ],
   "source": [
    "id(a)"
   ]
  },
  {
   "cell_type": "code",
   "execution_count": 62,
   "id": "9810bee8",
   "metadata": {},
   "outputs": [
    {
     "data": {
      "text/plain": [
       "2420982910320"
      ]
     },
     "execution_count": 62,
     "metadata": {},
     "output_type": "execute_result"
    }
   ],
   "source": [
    "id(b)"
   ]
  },
  {
   "cell_type": "code",
   "execution_count": 63,
   "id": "3d6eed68",
   "metadata": {},
   "outputs": [],
   "source": [
    "a = 'haldia inst tech'\n",
    "b = 'haldia inst tech'"
   ]
  },
  {
   "cell_type": "code",
   "execution_count": 64,
   "id": "81bd23f2",
   "metadata": {},
   "outputs": [
    {
     "data": {
      "text/plain": [
       "2420982917600"
      ]
     },
     "execution_count": 64,
     "metadata": {},
     "output_type": "execute_result"
    }
   ],
   "source": [
    "id(a)"
   ]
  },
  {
   "cell_type": "code",
   "execution_count": 65,
   "id": "a79a935f",
   "metadata": {},
   "outputs": [
    {
     "data": {
      "text/plain": [
       "2420982915680"
      ]
     },
     "execution_count": 65,
     "metadata": {},
     "output_type": "execute_result"
    }
   ],
   "source": [
    "id(b)"
   ]
  },
  {
   "cell_type": "code",
   "execution_count": 66,
   "id": "5e6f6e43",
   "metadata": {},
   "outputs": [],
   "source": [
    "a = 'haldia_inst_tech'\n",
    "b = 'haldia_inst_tech'"
   ]
  },
  {
   "cell_type": "code",
   "execution_count": 67,
   "id": "bc4afbdd",
   "metadata": {},
   "outputs": [
    {
     "data": {
      "text/plain": [
       "2420982917680"
      ]
     },
     "execution_count": 67,
     "metadata": {},
     "output_type": "execute_result"
    }
   ],
   "source": [
    "id(a)"
   ]
  },
  {
   "cell_type": "code",
   "execution_count": 68,
   "id": "7185be76",
   "metadata": {},
   "outputs": [
    {
     "data": {
      "text/plain": [
       "2420982917680"
      ]
     },
     "execution_count": 68,
     "metadata": {},
     "output_type": "execute_result"
    }
   ],
   "source": [
    "id(b)"
   ]
  },
  {
   "cell_type": "code",
   "execution_count": 6,
   "id": "4ecc94f5",
   "metadata": {},
   "outputs": [],
   "source": [
    "# Valid Identifiers yield Same IDs.\n",
    "# Invalid Identifiers creates Different IDs."
   ]
  },
  {
   "cell_type": "markdown",
   "id": "351c5dba",
   "metadata": {},
   "source": [
    "# Mutability"
   ]
  },
  {
   "cell_type": "code",
   "execution_count": 70,
   "id": "84c31518",
   "metadata": {},
   "outputs": [],
   "source": [
    "L = [1, 2, 3]"
   ]
  },
  {
   "cell_type": "code",
   "execution_count": 71,
   "id": "d2bb2ca3",
   "metadata": {},
   "outputs": [
    {
     "data": {
      "text/plain": [
       "2420982908608"
      ]
     },
     "execution_count": 71,
     "metadata": {},
     "output_type": "execute_result"
    }
   ],
   "source": [
    "id(L)"
   ]
  },
  {
   "cell_type": "code",
   "execution_count": 72,
   "id": "8cea1bdf",
   "metadata": {},
   "outputs": [
    {
     "data": {
      "text/plain": [
       "2420901374256"
      ]
     },
     "execution_count": 72,
     "metadata": {},
     "output_type": "execute_result"
    }
   ],
   "source": [
    "id(1)"
   ]
  },
  {
   "cell_type": "code",
   "execution_count": 73,
   "id": "89eefdd5",
   "metadata": {},
   "outputs": [
    {
     "data": {
      "text/plain": [
       "2420901374256"
      ]
     },
     "execution_count": 73,
     "metadata": {},
     "output_type": "execute_result"
    }
   ],
   "source": [
    "id(L[0])"
   ]
  },
  {
   "cell_type": "code",
   "execution_count": 74,
   "id": "cde87d55",
   "metadata": {},
   "outputs": [
    {
     "data": {
      "text/plain": [
       "2420901374288"
      ]
     },
     "execution_count": 74,
     "metadata": {},
     "output_type": "execute_result"
    }
   ],
   "source": [
    "id(2)"
   ]
  },
  {
   "cell_type": "code",
   "execution_count": 75,
   "id": "0aee9a10",
   "metadata": {},
   "outputs": [
    {
     "data": {
      "text/plain": [
       "2420901374320"
      ]
     },
     "execution_count": 75,
     "metadata": {},
     "output_type": "execute_result"
    }
   ],
   "source": [
    "id(3)"
   ]
  },
  {
   "cell_type": "code",
   "execution_count": 76,
   "id": "841fdb15",
   "metadata": {},
   "outputs": [],
   "source": [
    "L[2] = 1"
   ]
  },
  {
   "cell_type": "code",
   "execution_count": 77,
   "id": "07a366e4",
   "metadata": {},
   "outputs": [
    {
     "data": {
      "text/plain": [
       "[1, 2, 1]"
      ]
     },
     "execution_count": 77,
     "metadata": {},
     "output_type": "execute_result"
    }
   ],
   "source": [
    "L"
   ]
  },
  {
   "cell_type": "code",
   "execution_count": 78,
   "id": "6af3d74c",
   "metadata": {},
   "outputs": [
    {
     "data": {
      "text/plain": [
       "2420901374256"
      ]
     },
     "execution_count": 78,
     "metadata": {},
     "output_type": "execute_result"
    }
   ],
   "source": [
    "id(L[2])"
   ]
  },
  {
   "cell_type": "code",
   "execution_count": 79,
   "id": "41f6d98a",
   "metadata": {},
   "outputs": [],
   "source": [
    "L = [1, 2, 3, [4, 5]]"
   ]
  },
  {
   "cell_type": "markdown",
   "id": "920c102a",
   "metadata": {},
   "source": [
    "## Mutability ---> *Ability to modify data at its memory location*.\n",
    "\n",
    "Depends on Data type.\n",
    "\n",
    "### Immutable Data Types\n",
    "- `str`, `int`, `float`, `bool`, `complex`, `tuple`\n",
    "\n",
    "### Mutable Data Types\n",
    "- `list`, `dict`, `set`"
   ]
  },
  {
   "cell_type": "code",
   "execution_count": 83,
   "id": "e03f928e",
   "metadata": {},
   "outputs": [],
   "source": [
    "a = 'Hello'"
   ]
  },
  {
   "cell_type": "code",
   "execution_count": 84,
   "id": "013a82dc",
   "metadata": {},
   "outputs": [
    {
     "data": {
      "text/plain": [
       "2420982941168"
      ]
     },
     "execution_count": 84,
     "metadata": {},
     "output_type": "execute_result"
    }
   ],
   "source": [
    "id(a)"
   ]
  },
  {
   "cell_type": "code",
   "execution_count": 85,
   "id": "cc2a9dee",
   "metadata": {},
   "outputs": [],
   "source": [
    "a = a + 'World'"
   ]
  },
  {
   "cell_type": "code",
   "execution_count": 86,
   "id": "6b05e5af",
   "metadata": {},
   "outputs": [
    {
     "data": {
      "text/plain": [
       "'HelloWorld'"
      ]
     },
     "execution_count": 86,
     "metadata": {},
     "output_type": "execute_result"
    }
   ],
   "source": [
    "a"
   ]
  },
  {
   "cell_type": "code",
   "execution_count": 87,
   "id": "2e2c7511",
   "metadata": {},
   "outputs": [
    {
     "data": {
      "text/plain": [
       "2420982924208"
      ]
     },
     "execution_count": 87,
     "metadata": {},
     "output_type": "execute_result"
    }
   ],
   "source": [
    "id(a)"
   ]
  },
  {
   "cell_type": "code",
   "execution_count": 88,
   "id": "b42261bc",
   "metadata": {},
   "outputs": [],
   "source": [
    "T = (1, 2, 3)"
   ]
  },
  {
   "cell_type": "code",
   "execution_count": 89,
   "id": "5873611f",
   "metadata": {},
   "outputs": [
    {
     "data": {
      "text/plain": [
       "2420982094144"
      ]
     },
     "execution_count": 89,
     "metadata": {},
     "output_type": "execute_result"
    }
   ],
   "source": [
    "id(T)"
   ]
  },
  {
   "cell_type": "code",
   "execution_count": 90,
   "id": "462ad657",
   "metadata": {},
   "outputs": [],
   "source": [
    "T = T + (5, 6)"
   ]
  },
  {
   "cell_type": "code",
   "execution_count": 91,
   "id": "7f7c119c",
   "metadata": {},
   "outputs": [
    {
     "data": {
      "text/plain": [
       "(1, 2, 3, 5, 6)"
      ]
     },
     "execution_count": 91,
     "metadata": {},
     "output_type": "execute_result"
    }
   ],
   "source": [
    "T"
   ]
  },
  {
   "cell_type": "code",
   "execution_count": 92,
   "id": "87dd8c11",
   "metadata": {},
   "outputs": [
    {
     "data": {
      "text/plain": [
       "2420981669536"
      ]
     },
     "execution_count": 92,
     "metadata": {},
     "output_type": "execute_result"
    }
   ],
   "source": [
    "id(T)"
   ]
  },
  {
   "cell_type": "code",
   "execution_count": 93,
   "id": "31758716",
   "metadata": {},
   "outputs": [],
   "source": [
    "L = [1, 2, 3]"
   ]
  },
  {
   "cell_type": "code",
   "execution_count": 94,
   "id": "fab73952",
   "metadata": {},
   "outputs": [
    {
     "data": {
      "text/plain": [
       "2420982910464"
      ]
     },
     "execution_count": 94,
     "metadata": {},
     "output_type": "execute_result"
    }
   ],
   "source": [
    "id(L)"
   ]
  },
  {
   "cell_type": "code",
   "execution_count": 95,
   "id": "61c2b777",
   "metadata": {},
   "outputs": [],
   "source": [
    "L.append(4)"
   ]
  },
  {
   "cell_type": "code",
   "execution_count": 96,
   "id": "904f236e",
   "metadata": {},
   "outputs": [
    {
     "data": {
      "text/plain": [
       "[1, 2, 3, 4]"
      ]
     },
     "execution_count": 96,
     "metadata": {},
     "output_type": "execute_result"
    }
   ],
   "source": [
    "L"
   ]
  },
  {
   "cell_type": "code",
   "execution_count": 97,
   "id": "f4a4dcbc",
   "metadata": {},
   "outputs": [
    {
     "data": {
      "text/plain": [
       "2420982910464"
      ]
     },
     "execution_count": 97,
     "metadata": {},
     "output_type": "execute_result"
    }
   ],
   "source": [
    "id(L)"
   ]
  },
  {
   "cell_type": "code",
   "execution_count": 7,
   "id": "e8171a7a",
   "metadata": {},
   "outputs": [],
   "source": [
    "# Immutable Data Types:\n",
    "# Ops = new objs, new mem locs, new refs.\n",
    "\n",
    "# Mutable Data Types:\n",
    "# Ops = in-place, same addr."
   ]
  },
  {
   "cell_type": "markdown",
   "id": "295b62d4",
   "metadata": {},
   "source": [
    "## Side Effects of Mutation"
   ]
  },
  {
   "cell_type": "code",
   "execution_count": 99,
   "id": "7d645d4e",
   "metadata": {},
   "outputs": [],
   "source": [
    "# Mutability can be dangerous sometimes\n",
    "L = [1, 2, 3]"
   ]
  },
  {
   "cell_type": "code",
   "execution_count": 100,
   "id": "834f40f3",
   "metadata": {},
   "outputs": [],
   "source": [
    "L1 = L"
   ]
  },
  {
   "cell_type": "code",
   "execution_count": 101,
   "id": "a5697d20",
   "metadata": {},
   "outputs": [
    {
     "data": {
      "text/plain": [
       "[1, 2, 3]"
      ]
     },
     "execution_count": 101,
     "metadata": {},
     "output_type": "execute_result"
    }
   ],
   "source": [
    "L1"
   ]
  },
  {
   "cell_type": "code",
   "execution_count": 102,
   "id": "c79bd270",
   "metadata": {},
   "outputs": [
    {
     "data": {
      "text/plain": [
       "2420982893056"
      ]
     },
     "execution_count": 102,
     "metadata": {},
     "output_type": "execute_result"
    }
   ],
   "source": [
    "id(L)"
   ]
  },
  {
   "cell_type": "code",
   "execution_count": 103,
   "id": "04cd4ba8",
   "metadata": {},
   "outputs": [
    {
     "data": {
      "text/plain": [
       "2420982893056"
      ]
     },
     "execution_count": 103,
     "metadata": {},
     "output_type": "execute_result"
    }
   ],
   "source": [
    "id(L1)"
   ]
  },
  {
   "cell_type": "code",
   "execution_count": 104,
   "id": "507c45cd",
   "metadata": {},
   "outputs": [],
   "source": [
    "L1.append(4)"
   ]
  },
  {
   "cell_type": "code",
   "execution_count": 105,
   "id": "bcda29f9",
   "metadata": {},
   "outputs": [
    {
     "data": {
      "text/plain": [
       "2420982893056"
      ]
     },
     "execution_count": 105,
     "metadata": {},
     "output_type": "execute_result"
    }
   ],
   "source": [
    "id(L1)"
   ]
  },
  {
   "cell_type": "code",
   "execution_count": 106,
   "id": "abd2f709",
   "metadata": {},
   "outputs": [
    {
     "data": {
      "text/plain": [
       "[1, 2, 3, 4]"
      ]
     },
     "execution_count": 106,
     "metadata": {},
     "output_type": "execute_result"
    }
   ],
   "source": [
    "L1"
   ]
  },
  {
   "cell_type": "code",
   "execution_count": 107,
   "id": "ac5e3e7f",
   "metadata": {},
   "outputs": [
    {
     "data": {
      "text/plain": [
       "[1, 2, 3, 4]"
      ]
     },
     "execution_count": 107,
     "metadata": {},
     "output_type": "execute_result"
    }
   ],
   "source": [
    "L"
   ]
  },
  {
   "cell_type": "markdown",
   "id": "cc5f649f",
   "metadata": {},
   "source": [
    "## Cloning"
   ]
  },
  {
   "cell_type": "code",
   "execution_count": 108,
   "id": "813ab6ac",
   "metadata": {},
   "outputs": [
    {
     "data": {
      "text/plain": [
       "[1, 2, 3, 4]"
      ]
     },
     "execution_count": 108,
     "metadata": {},
     "output_type": "execute_result"
    }
   ],
   "source": [
    "L"
   ]
  },
  {
   "cell_type": "code",
   "execution_count": 109,
   "id": "02061a65",
   "metadata": {},
   "outputs": [],
   "source": [
    "L1 = L[:]"
   ]
  },
  {
   "cell_type": "code",
   "execution_count": 110,
   "id": "c17c369c",
   "metadata": {},
   "outputs": [
    {
     "data": {
      "text/plain": [
       "2420982893056"
      ]
     },
     "execution_count": 110,
     "metadata": {},
     "output_type": "execute_result"
    }
   ],
   "source": [
    "id(L)"
   ]
  },
  {
   "cell_type": "code",
   "execution_count": 111,
   "id": "644f79ac",
   "metadata": {},
   "outputs": [
    {
     "data": {
      "text/plain": [
       "2420982138432"
      ]
     },
     "execution_count": 111,
     "metadata": {},
     "output_type": "execute_result"
    }
   ],
   "source": [
    "id(L1)"
   ]
  },
  {
   "cell_type": "code",
   "execution_count": 112,
   "id": "f90b2a56",
   "metadata": {},
   "outputs": [],
   "source": [
    "L1.append(5)"
   ]
  },
  {
   "cell_type": "code",
   "execution_count": 113,
   "id": "c06a0a18",
   "metadata": {},
   "outputs": [
    {
     "data": {
      "text/plain": [
       "[1, 2, 3, 4, 5]"
      ]
     },
     "execution_count": 113,
     "metadata": {},
     "output_type": "execute_result"
    }
   ],
   "source": [
    "L1"
   ]
  },
  {
   "cell_type": "code",
   "execution_count": 114,
   "id": "41bcd443",
   "metadata": {},
   "outputs": [
    {
     "data": {
      "text/plain": [
       "[1, 2, 3, 4]"
      ]
     },
     "execution_count": 114,
     "metadata": {},
     "output_type": "execute_result"
    }
   ],
   "source": [
    "L"
   ]
  },
  {
   "cell_type": "code",
   "execution_count": 115,
   "id": "284f3649",
   "metadata": {},
   "outputs": [],
   "source": [
    "# In cloning we create a copy of the list at a different memory address"
   ]
  },
  {
   "cell_type": "code",
   "execution_count": 116,
   "id": "0ab00508",
   "metadata": {},
   "outputs": [],
   "source": [
    "a = (1, 2, 3, [4, 5])"
   ]
  },
  {
   "cell_type": "code",
   "execution_count": 117,
   "id": "2633b50a",
   "metadata": {},
   "outputs": [
    {
     "data": {
      "text/plain": [
       "(1, 2, 3, [4, 5])"
      ]
     },
     "execution_count": 117,
     "metadata": {},
     "output_type": "execute_result"
    }
   ],
   "source": [
    "a"
   ]
  },
  {
   "cell_type": "code",
   "execution_count": 118,
   "id": "7cfe7676",
   "metadata": {},
   "outputs": [],
   "source": [
    "a[-1][-1] = 500"
   ]
  },
  {
   "cell_type": "code",
   "execution_count": 119,
   "id": "fdeaccad",
   "metadata": {},
   "outputs": [
    {
     "data": {
      "text/plain": [
       "(1, 2, 3, [4, 500])"
      ]
     },
     "execution_count": 119,
     "metadata": {},
     "output_type": "execute_result"
    }
   ],
   "source": [
    "a"
   ]
  },
  {
   "cell_type": "code",
   "execution_count": 120,
   "id": "244ee896",
   "metadata": {},
   "outputs": [],
   "source": [
    "a = [1, 2, 3, (4, 5)]"
   ]
  },
  {
   "cell_type": "code",
   "execution_count": 121,
   "id": "c157797d",
   "metadata": {},
   "outputs": [
    {
     "data": {
      "text/plain": [
       "[1, 2, 3, (4, 5)]"
      ]
     },
     "execution_count": 121,
     "metadata": {},
     "output_type": "execute_result"
    }
   ],
   "source": [
    "a"
   ]
  },
  {
   "cell_type": "code",
   "execution_count": 122,
   "id": "55ac27c5",
   "metadata": {},
   "outputs": [
    {
     "ename": "SyntaxError",
     "evalue": "cannot assign to function call (Temp/ipykernel_14692/4218575189.py, line 1)",
     "output_type": "error",
     "traceback": [
      "\u001b[1;36m  File \u001b[1;32m\"C:\\Users\\pc\\AppData\\Local\\Temp/ipykernel_14692/4218575189.py\"\u001b[1;36m, line \u001b[1;32m1\u001b[0m\n\u001b[1;33m    a(-1)(-1) = 500\u001b[0m\n\u001b[1;37m    ^\u001b[0m\n\u001b[1;31mSyntaxError\u001b[0m\u001b[1;31m:\u001b[0m cannot assign to function call\n"
     ]
    }
   ],
   "source": [
    "a(-1)(-1) = 500"
   ]
  },
  {
   "cell_type": "code",
   "execution_count": 123,
   "id": "eccc3cf0",
   "metadata": {},
   "outputs": [],
   "source": [
    "a = [1, 2]"
   ]
  },
  {
   "cell_type": "code",
   "execution_count": 124,
   "id": "37682f98",
   "metadata": {},
   "outputs": [],
   "source": [
    "b = [3, 4]"
   ]
  },
  {
   "cell_type": "code",
   "execution_count": 125,
   "id": "d6dd59ce",
   "metadata": {},
   "outputs": [],
   "source": [
    "c = (a, b)"
   ]
  },
  {
   "cell_type": "code",
   "execution_count": 126,
   "id": "faaac574",
   "metadata": {},
   "outputs": [
    {
     "data": {
      "text/plain": [
       "([1, 2], [3, 4])"
      ]
     },
     "execution_count": 126,
     "metadata": {},
     "output_type": "execute_result"
    }
   ],
   "source": [
    "c"
   ]
  },
  {
   "cell_type": "code",
   "execution_count": 127,
   "id": "90d72465",
   "metadata": {},
   "outputs": [
    {
     "data": {
      "text/plain": [
       "2420982924544"
      ]
     },
     "execution_count": 127,
     "metadata": {},
     "output_type": "execute_result"
    }
   ],
   "source": [
    "id(a)"
   ]
  },
  {
   "cell_type": "code",
   "execution_count": 128,
   "id": "a158d8e0",
   "metadata": {},
   "outputs": [
    {
     "data": {
      "text/plain": [
       "2420982150336"
      ]
     },
     "execution_count": 128,
     "metadata": {},
     "output_type": "execute_result"
    }
   ],
   "source": [
    "id(b)"
   ]
  },
  {
   "cell_type": "code",
   "execution_count": 129,
   "id": "e27b701c",
   "metadata": {},
   "outputs": [
    {
     "data": {
      "text/plain": [
       "2420981226688"
      ]
     },
     "execution_count": 129,
     "metadata": {},
     "output_type": "execute_result"
    }
   ],
   "source": [
    "id(c)"
   ]
  },
  {
   "cell_type": "code",
   "execution_count": 130,
   "id": "c6664ffc",
   "metadata": {},
   "outputs": [],
   "source": [
    "c[0][0] = 100"
   ]
  },
  {
   "cell_type": "code",
   "execution_count": 131,
   "id": "fa94c990",
   "metadata": {},
   "outputs": [
    {
     "data": {
      "text/plain": [
       "([100, 2], [3, 4])"
      ]
     },
     "execution_count": 131,
     "metadata": {},
     "output_type": "execute_result"
    }
   ],
   "source": [
    "c"
   ]
  },
  {
   "cell_type": "code",
   "execution_count": 132,
   "id": "9adb262f",
   "metadata": {},
   "outputs": [
    {
     "data": {
      "text/plain": [
       "2420982924544"
      ]
     },
     "execution_count": 132,
     "metadata": {},
     "output_type": "execute_result"
    }
   ],
   "source": [
    "id(a)"
   ]
  },
  {
   "cell_type": "code",
   "execution_count": 133,
   "id": "b27eb2af",
   "metadata": {},
   "outputs": [
    {
     "data": {
      "text/plain": [
       "2420981226688"
      ]
     },
     "execution_count": 133,
     "metadata": {},
     "output_type": "execute_result"
    }
   ],
   "source": [
    "id(c)"
   ]
  },
  {
   "cell_type": "code",
   "execution_count": 134,
   "id": "832bf56b",
   "metadata": {},
   "outputs": [],
   "source": [
    "L = [1, 2, 3]"
   ]
  },
  {
   "cell_type": "code",
   "execution_count": 135,
   "id": "04b9dc5f",
   "metadata": {},
   "outputs": [
    {
     "data": {
      "text/plain": [
       "2420982145216"
      ]
     },
     "execution_count": 135,
     "metadata": {},
     "output_type": "execute_result"
    }
   ],
   "source": [
    "id(L)"
   ]
  },
  {
   "cell_type": "code",
   "execution_count": 136,
   "id": "c5357f05",
   "metadata": {},
   "outputs": [],
   "source": [
    "L = L + [4, 5]"
   ]
  },
  {
   "cell_type": "code",
   "execution_count": 137,
   "id": "5369c667",
   "metadata": {},
   "outputs": [
    {
     "data": {
      "text/plain": [
       "2420982891072"
      ]
     },
     "execution_count": 137,
     "metadata": {},
     "output_type": "execute_result"
    }
   ],
   "source": [
    "id(L)"
   ]
  },
  {
   "cell_type": "markdown",
   "id": "a81b3719",
   "metadata": {},
   "source": [
    "`append`, `edit`, `insert`, `extend` modifies list in place (mutable); same memory address.\n",
    "\n",
    "Concatenation creates new list; different memory address."
   ]
  },
  {
   "cell_type": "code",
   "execution_count": 139,
   "id": "35193f18",
   "metadata": {},
   "outputs": [
    {
     "data": {
      "text/plain": [
       "([100, 2], [3, 4])"
      ]
     },
     "execution_count": 139,
     "metadata": {},
     "output_type": "execute_result"
    }
   ],
   "source": [
    "c"
   ]
  },
  {
   "cell_type": "code",
   "execution_count": 140,
   "id": "ee1c6452",
   "metadata": {},
   "outputs": [
    {
     "ename": "TypeError",
     "evalue": "'tuple' object does not support item assignment",
     "output_type": "error",
     "traceback": [
      "\u001b[1;31m---------------------------------------------------------------------------\u001b[0m",
      "\u001b[1;31mTypeError\u001b[0m                                 Traceback (most recent call last)",
      "\u001b[1;32m~\\AppData\\Local\\Temp/ipykernel_14692/3447556373.py\u001b[0m in \u001b[0;36m<module>\u001b[1;34m\u001b[0m\n\u001b[1;32m----> 1\u001b[1;33m \u001b[0mc\u001b[0m\u001b[1;33m[\u001b[0m\u001b[1;36m0\u001b[0m\u001b[1;33m]\u001b[0m \u001b[1;33m=\u001b[0m \u001b[0mc\u001b[0m\u001b[1;33m[\u001b[0m\u001b[1;36m0\u001b[0m\u001b[1;33m]\u001b[0m \u001b[1;33m+\u001b[0m \u001b[1;33m[\u001b[0m\u001b[1;36m5\u001b[0m\u001b[1;33m,\u001b[0m\u001b[1;36m6\u001b[0m\u001b[1;33m]\u001b[0m\u001b[1;33m\u001b[0m\u001b[1;33m\u001b[0m\u001b[0m\n\u001b[0m",
      "\u001b[1;31mTypeError\u001b[0m: 'tuple' object does not support item assignment"
     ]
    }
   ],
   "source": [
    "c[0] = c[0] + [5, 6]"
   ]
  },
  {
   "cell_type": "code",
   "execution_count": 141,
   "id": "cbc3cc88",
   "metadata": {},
   "outputs": [
    {
     "data": {
      "text/plain": [
       "([100, 2], [3, 4])"
      ]
     },
     "execution_count": 141,
     "metadata": {},
     "output_type": "execute_result"
    }
   ],
   "source": [
    "c"
   ]
  },
  {
   "cell_type": "code",
   "execution_count": 142,
   "id": "b03950a1",
   "metadata": {},
   "outputs": [
    {
     "data": {
      "text/plain": [
       "[100, 2]"
      ]
     },
     "execution_count": 142,
     "metadata": {},
     "output_type": "execute_result"
    }
   ],
   "source": [
    "a"
   ]
  },
  {
   "cell_type": "code",
   "execution_count": 143,
   "id": "810672f6",
   "metadata": {},
   "outputs": [],
   "source": [
    "a = a + [5, 6]"
   ]
  },
  {
   "cell_type": "code",
   "execution_count": 144,
   "id": "99c0c655",
   "metadata": {},
   "outputs": [
    {
     "data": {
      "text/plain": [
       "[100, 2, 5, 6]"
      ]
     },
     "execution_count": 144,
     "metadata": {},
     "output_type": "execute_result"
    }
   ],
   "source": [
    "a"
   ]
  },
  {
   "cell_type": "code",
   "execution_count": 145,
   "id": "26939340",
   "metadata": {},
   "outputs": [
    {
     "data": {
      "text/plain": [
       "([100, 2], [3, 4])"
      ]
     },
     "execution_count": 145,
     "metadata": {},
     "output_type": "execute_result"
    }
   ],
   "source": [
    "c"
   ]
  }
 ],
 "metadata": {
  "kernelspec": {
   "display_name": "Python 3 (ipykernel)",
   "language": "python",
   "name": "python3"
  },
  "language_info": {
   "codemirror_mode": {
    "name": "ipython",
    "version": 3
   },
   "file_extension": ".py",
   "mimetype": "text/x-python",
   "name": "python",
   "nbconvert_exporter": "python",
   "pygments_lexer": "ipython3",
   "version": "3.10.9"
  }
 },
 "nbformat": 4,
 "nbformat_minor": 5
}

{
 "cells": [
  {
   "cell_type": "markdown",
   "id": "d9f792dd",
   "metadata": {},
   "source": [
    "# What are Functions?\n",
    "\n",
    "Block of code for specific tasks.\n",
    "\n",
    "## Black Box Concept:\n",
    "\n",
    "Ignore internal code; focus on inputs/outputs.\n",
    "\n",
    "## Advantages:\n",
    "- Reusability\n",
    "- Avoids repetition"
   ]
  },
  {
   "cell_type": "markdown",
   "id": "81f4a2c7",
   "metadata": {},
   "source": [
    "## Two Key Points Regarding Functions:\n",
    "\n",
    "### 1. Abstraction\n",
    "- Hides internal workings.\n",
    "- Users know **\"what\"** it does, not **\"how\"**.\n",
    "\n",
    "### 2. Decomposition\n",
    "- Splits systems into modules.\n",
    "- Each module offers specific functionality.\n",
    "- Modules can impact others."
   ]
  },
  {
   "cell_type": "code",
   "execution_count": null,
   "id": "f3007151",
   "metadata": {},
   "outputs": [],
   "source": [
    "# Components of a Function\n",
    "\n",
    "def function_name(parameters):\n",
    "    \"\"\"docstring\"\"\"\n",
    "    statement(s)\n",
    "\n",
    "`def`       ---> Function start.\n",
    "Name        ---> Function identifier.\n",
    "Params      ---> Input values.\n",
    "Colon (`:`) ---> Ends header.\n",
    "Docstring   ---> Function description.\n",
    "Body        ---> Statements.\n",
    "`return`    ---> Output value (optional).\n",
    "\n",
    "function_name(values)"
   ]
  },
  {
   "cell_type": "markdown",
   "id": "a978d2b4",
   "metadata": {},
   "source": [
    "## Let's create a function"
   ]
  },
  {
   "cell_type": "code",
   "execution_count": 5,
   "id": "44a98687",
   "metadata": {},
   "outputs": [],
   "source": [
    "# Check if number is even/odd\n",
    "def is_even(number):\n",
    "    \"\"\"\n",
    "    This function tells if a given number is odd or even\n",
    "    Input - any valid integer\n",
    "    Output - odd/even\n",
    "    Created By - Saurabh\n",
    "    Last edited - 22 Oct 2022\n",
    "    \"\"\" \n",
    "    if number % 2 == 0:\n",
    "        return \"Even\"\n",
    "    else:\n",
    "        return \"Odd\""
   ]
  },
  {
   "cell_type": "code",
   "execution_count": 6,
   "id": "4907afb6",
   "metadata": {},
   "outputs": [
    {
     "name": "stdout",
     "output_type": "stream",
     "text": [
      "Odd\n",
      "Even\n",
      "Odd\n",
      "Even\n",
      "Odd\n",
      "Even\n",
      "Odd\n",
      "Even\n",
      "Odd\n",
      "Even\n"
     ]
    }
   ],
   "source": [
    "for i in range(1, 11):\n",
    "    print(is_even(i))"
   ]
  },
  {
   "cell_type": "code",
   "execution_count": 7,
   "id": "f8d11140",
   "metadata": {},
   "outputs": [
    {
     "name": "stdout",
     "output_type": "stream",
     "text": [
      "\n",
      "    This function tells if a given number is odd or even\n",
      "    Input - any valid integer\n",
      "    Output - odd/even\n",
      "    Created By - Saurabh\n",
      "    Last edited - 22 Oct 2022\n",
      "    \n"
     ]
    }
   ],
   "source": [
    "print(is_even.__doc__)"
   ]
  },
  {
   "cell_type": "code",
   "execution_count": 8,
   "id": "1aeef28c",
   "metadata": {},
   "outputs": [
    {
     "data": {
      "text/plain": [
       "\"print(value, ..., sep=' ', end='\\\\n', file=sys.stdout, flush=False)\\n\\nPrints the values to a stream, or to sys.stdout by default.\\nOptional keyword arguments:\\nfile:  a file-like object (stream); defaults to the current sys.stdout.\\nsep:   string inserted between values, default a space.\\nend:   string appended after the last value, default a newline.\\nflush: whether to forcibly flush the stream.\""
      ]
     },
     "execution_count": 8,
     "metadata": {},
     "output_type": "execute_result"
    }
   ],
   "source": [
    "print.__doc__"
   ]
  },
  {
   "cell_type": "code",
   "execution_count": 9,
   "id": "ca7a94f1",
   "metadata": {},
   "outputs": [
    {
     "data": {
      "text/plain": [
       "\"type(object_or_name, bases, dict)\\ntype(object) -> the object's type\\ntype(name, bases, dict) -> a new type\""
      ]
     },
     "execution_count": 9,
     "metadata": {},
     "output_type": "execute_result"
    }
   ],
   "source": [
    "type.__doc__"
   ]
  },
  {
   "cell_type": "markdown",
   "id": "efd52aa9",
   "metadata": {},
   "source": [
    "## Functions: 2 Perspectives\n",
    "\n",
    "1. Creator's perspective\n",
    "2. User's perspective"
   ]
  },
  {
   "cell_type": "code",
   "execution_count": 11,
   "id": "d3ce5097",
   "metadata": {},
   "outputs": [
    {
     "data": {
      "text/plain": [
       "'C:\\\\Users\\\\pc\\\\100 Days of Python Programming'"
      ]
     },
     "execution_count": 11,
     "metadata": {},
     "output_type": "execute_result"
    }
   ],
   "source": [
    "pwd"
   ]
  },
  {
   "cell_type": "code",
   "execution_count": 1,
   "id": "c3b74e90",
   "metadata": {},
   "outputs": [],
   "source": [
    "# Creating `is_even.py` file w `is_even()` function ---> to import into Jupyter Notebook."
   ]
  },
  {
   "cell_type": "code",
   "execution_count": 13,
   "id": "9358440e",
   "metadata": {},
   "outputs": [],
   "source": [
    "import func_demo"
   ]
  },
  {
   "cell_type": "code",
   "execution_count": 14,
   "id": "563a4e86",
   "metadata": {},
   "outputs": [
    {
     "data": {
      "text/plain": [
       "'Even'"
      ]
     },
     "execution_count": 14,
     "metadata": {},
     "output_type": "execute_result"
    }
   ],
   "source": [
    "func_demo.is_even(34)"
   ]
  },
  {
   "cell_type": "code",
   "execution_count": 15,
   "id": "c1aa69c3",
   "metadata": {},
   "outputs": [
    {
     "ename": "TypeError",
     "evalue": "not all arguments converted during string formatting",
     "output_type": "error",
     "traceback": [
      "\u001b[1;31m---------------------------------------------------------------------------\u001b[0m",
      "\u001b[1;31mTypeError\u001b[0m                                 Traceback (most recent call last)",
      "\u001b[1;32m~\\AppData\\Local\\Temp/ipykernel_21972/3239686104.py\u001b[0m in \u001b[0;36m<module>\u001b[1;34m\u001b[0m\n\u001b[1;32m----> 1\u001b[1;33m \u001b[0mfunc_demo\u001b[0m\u001b[1;33m.\u001b[0m\u001b[0mis_even\u001b[0m\u001b[1;33m(\u001b[0m\u001b[1;34m\"Hello\"\u001b[0m\u001b[1;33m)\u001b[0m\u001b[1;33m\u001b[0m\u001b[1;33m\u001b[0m\u001b[0m\n\u001b[0m",
      "\u001b[1;32m~\\100 Days of Python Programming\\func_demo.py\u001b[0m in \u001b[0;36mis_even\u001b[1;34m(number)\u001b[0m\n\u001b[0;32m      8\u001b[0m     \"\"\"\n\u001b[0;32m      9\u001b[0m \u001b[1;33m\u001b[0m\u001b[0m\n\u001b[1;32m---> 10\u001b[1;33m     \u001b[1;32mif\u001b[0m \u001b[0mnumber\u001b[0m \u001b[1;33m%\u001b[0m \u001b[1;36m2\u001b[0m \u001b[1;33m==\u001b[0m \u001b[1;36m0\u001b[0m\u001b[1;33m:\u001b[0m\u001b[1;33m\u001b[0m\u001b[1;33m\u001b[0m\u001b[0m\n\u001b[0m\u001b[0;32m     11\u001b[0m         \u001b[1;32mreturn\u001b[0m \u001b[1;34m\"Even\"\u001b[0m\u001b[1;33m\u001b[0m\u001b[1;33m\u001b[0m\u001b[0m\n\u001b[0;32m     12\u001b[0m     \u001b[1;32melse\u001b[0m\u001b[1;33m:\u001b[0m\u001b[1;33m\u001b[0m\u001b[1;33m\u001b[0m\u001b[0m\n",
      "\u001b[1;31mTypeError\u001b[0m: not all arguments converted during string formatting"
     ]
    }
   ],
   "source": [
    "func_demo.is_even(\"Hello\")"
   ]
  },
  {
   "cell_type": "code",
   "execution_count": 16,
   "id": "1b5b555a",
   "metadata": {},
   "outputs": [],
   "source": [
    "def is_even(number):\n",
    "    if type(number) == int:\n",
    "        if number % 2 == 0:\n",
    "            return \"Even\"\n",
    "        else:\n",
    "            return \"Odd\"\n",
    "    else:\n",
    "        return \"Not allowed\""
   ]
  },
  {
   "cell_type": "code",
   "execution_count": 17,
   "id": "ef6ffb36",
   "metadata": {},
   "outputs": [],
   "source": [
    "import func_demo2 as fd"
   ]
  },
  {
   "cell_type": "code",
   "execution_count": 18,
   "id": "adefc3d6",
   "metadata": {},
   "outputs": [
    {
     "data": {
      "text/plain": [
       "'Not allowed'"
      ]
     },
     "execution_count": 18,
     "metadata": {},
     "output_type": "execute_result"
    }
   ],
   "source": [
    "fd.is_even(\"Hello\")"
   ]
  },
  {
   "cell_type": "markdown",
   "id": "34410d13",
   "metadata": {},
   "source": [
    "## Parameters Vs Arguments\n",
    "\n",
    "### Parameters:\n",
    "- Vars in `()` during func definition..\n",
    "- Defined in func declaration.\n",
    "  \n",
    "```python\n",
    "def func(param1, param2):\n",
    "    # Body\n",
    "```\n",
    "  \n",
    "### Arguments:\n",
    "- Values passed at func call.\n",
    "- Inputs during function invocation.\n",
    "  \n",
    "```python\n",
    "func(arg1, arg2)\n",
    "```"
   ]
  },
  {
   "cell_type": "markdown",
   "id": "ce4e6450",
   "metadata": {},
   "source": [
    "*1. Default Argument*\n",
    "\n",
    "*2. Positional Argument*\n",
    "\n",
    "*3. Keyword Argument*\n",
    "\n",
    "*4. Arbitrary Argument (`*args`)*"
   ]
  },
  {
   "cell_type": "code",
   "execution_count": 20,
   "id": "4d905403",
   "metadata": {},
   "outputs": [],
   "source": [
    "def power(a, b):\n",
    "    return a**b"
   ]
  },
  {
   "cell_type": "code",
   "execution_count": 21,
   "id": "9e5d3407",
   "metadata": {},
   "outputs": [
    {
     "data": {
      "text/plain": [
       "8"
      ]
     },
     "execution_count": 21,
     "metadata": {},
     "output_type": "execute_result"
    }
   ],
   "source": [
    "power(2, 3)"
   ]
  },
  {
   "cell_type": "code",
   "execution_count": 22,
   "id": "e0be6bc9",
   "metadata": {},
   "outputs": [
    {
     "data": {
      "text/plain": [
       "9"
      ]
     },
     "execution_count": 22,
     "metadata": {},
     "output_type": "execute_result"
    }
   ],
   "source": [
    "power(3, 2)"
   ]
  },
  {
   "cell_type": "code",
   "execution_count": 23,
   "id": "6fa71961",
   "metadata": {},
   "outputs": [
    {
     "ename": "TypeError",
     "evalue": "power() missing 1 required positional argument: 'b'",
     "output_type": "error",
     "traceback": [
      "\u001b[1;31m---------------------------------------------------------------------------\u001b[0m",
      "\u001b[1;31mTypeError\u001b[0m                                 Traceback (most recent call last)",
      "\u001b[1;32m~\\AppData\\Local\\Temp/ipykernel_21972/512475094.py\u001b[0m in \u001b[0;36m<module>\u001b[1;34m\u001b[0m\n\u001b[1;32m----> 1\u001b[1;33m \u001b[0mpower\u001b[0m\u001b[1;33m(\u001b[0m\u001b[1;36m3\u001b[0m\u001b[1;33m)\u001b[0m\u001b[1;33m\u001b[0m\u001b[1;33m\u001b[0m\u001b[0m\n\u001b[0m",
      "\u001b[1;31mTypeError\u001b[0m: power() missing 1 required positional argument: 'b'"
     ]
    }
   ],
   "source": [
    "power(3)"
   ]
  },
  {
   "cell_type": "code",
   "execution_count": 24,
   "id": "8fd19be9",
   "metadata": {},
   "outputs": [
    {
     "ename": "TypeError",
     "evalue": "power() missing 2 required positional arguments: 'a' and 'b'",
     "output_type": "error",
     "traceback": [
      "\u001b[1;31m---------------------------------------------------------------------------\u001b[0m",
      "\u001b[1;31mTypeError\u001b[0m                                 Traceback (most recent call last)",
      "\u001b[1;32m~\\AppData\\Local\\Temp/ipykernel_21972/964676364.py\u001b[0m in \u001b[0;36m<module>\u001b[1;34m\u001b[0m\n\u001b[1;32m----> 1\u001b[1;33m \u001b[0mpower\u001b[0m\u001b[1;33m(\u001b[0m\u001b[1;33m)\u001b[0m\u001b[1;33m\u001b[0m\u001b[1;33m\u001b[0m\u001b[0m\n\u001b[0m",
      "\u001b[1;31mTypeError\u001b[0m: power() missing 2 required positional arguments: 'a' and 'b'"
     ]
    }
   ],
   "source": [
    "power()"
   ]
  },
  {
   "cell_type": "code",
   "execution_count": 25,
   "id": "b5c49cbb",
   "metadata": {},
   "outputs": [],
   "source": [
    "# Default Argument: Function arguments with default values.\n",
    "def power(a=1, b=1):\n",
    "    return a**b"
   ]
  },
  {
   "cell_type": "code",
   "execution_count": 26,
   "id": "8c18a335",
   "metadata": {},
   "outputs": [
    {
     "data": {
      "text/plain": [
       "8"
      ]
     },
     "execution_count": 26,
     "metadata": {},
     "output_type": "execute_result"
    }
   ],
   "source": [
    "power(2,3)"
   ]
  },
  {
   "cell_type": "code",
   "execution_count": 27,
   "id": "f5a3953e",
   "metadata": {},
   "outputs": [
    {
     "data": {
      "text/plain": [
       "2"
      ]
     },
     "execution_count": 27,
     "metadata": {},
     "output_type": "execute_result"
    }
   ],
   "source": [
    "power(2)"
   ]
  },
  {
   "cell_type": "code",
   "execution_count": 28,
   "id": "b543c075",
   "metadata": {},
   "outputs": [
    {
     "data": {
      "text/plain": [
       "1"
      ]
     },
     "execution_count": 28,
     "metadata": {},
     "output_type": "execute_result"
    }
   ],
   "source": [
    "power()"
   ]
  },
  {
   "cell_type": "code",
   "execution_count": null,
   "id": "0e016be4",
   "metadata": {},
   "outputs": [],
   "source": [
    "# Positional Arguments: Values assigned by call order.\n",
    "power(2, 3)"
   ]
  },
  {
   "cell_type": "code",
   "execution_count": 30,
   "id": "d3689192",
   "metadata": {},
   "outputs": [
    {
     "data": {
      "text/plain": [
       "9"
      ]
     },
     "execution_count": 30,
     "metadata": {},
     "output_type": "execute_result"
    }
   ],
   "source": [
    "# Keyword Argument: Values assigned to args by name at call time.\n",
    "\n",
    "# NOTE: *Keyword args* will Overrides *Positional args*.\n",
    "\n",
    "# Priority ---> Keyword args > Positional args.\n",
    "\n",
    "power(b=2, a=3)"
   ]
  },
  {
   "cell_type": "code",
   "execution_count": 32,
   "id": "2bf0da72",
   "metadata": {},
   "outputs": [],
   "source": [
    "# Arbitrary Argument: Accepts any number of args.\n",
    "# Useful when the number of arguments is unknown.\n",
    "def flexi(*number):\n",
    "    product = 1\n",
    "    for i in number:\n",
    "        product *= i\n",
    "    print(product)"
   ]
  },
  {
   "cell_type": "code",
   "execution_count": 33,
   "id": "5327b547",
   "metadata": {},
   "outputs": [
    {
     "name": "stdout",
     "output_type": "stream",
     "text": [
      "1\n"
     ]
    }
   ],
   "source": [
    "flexi(1)"
   ]
  },
  {
   "cell_type": "code",
   "execution_count": 34,
   "id": "e950d1b2",
   "metadata": {},
   "outputs": [
    {
     "name": "stdout",
     "output_type": "stream",
     "text": [
      "2\n"
     ]
    }
   ],
   "source": [
    "flexi(1, 2)"
   ]
  },
  {
   "cell_type": "code",
   "execution_count": 35,
   "id": "21dd7a36",
   "metadata": {},
   "outputs": [
    {
     "name": "stdout",
     "output_type": "stream",
     "text": [
      "6\n"
     ]
    }
   ],
   "source": [
    "flexi(1, 2, 3)"
   ]
  },
  {
   "cell_type": "code",
   "execution_count": 36,
   "id": "24f3ca54",
   "metadata": {},
   "outputs": [
    {
     "name": "stdout",
     "output_type": "stream",
     "text": [
      "362880\n"
     ]
    }
   ],
   "source": [
    "flexi(1, 2, 3, 4, 5, 6, 7, 8, 9)"
   ]
  },
  {
   "cell_type": "code",
   "execution_count": 37,
   "id": "8eb620d9",
   "metadata": {},
   "outputs": [],
   "source": [
    "def flexi(*number): # Flexible inputs ---> tuple\n",
    "    product = 1\n",
    "    print(number)\n",
    "    print(type)\n",
    "    for i in number:\n",
    "        product *= i\n",
    "    print(product)"
   ]
  },
  {
   "cell_type": "code",
   "execution_count": 38,
   "id": "4bc61e91",
   "metadata": {},
   "outputs": [
    {
     "name": "stdout",
     "output_type": "stream",
     "text": [
      "(1, 2, 3, 4, 5)\n",
      "<class 'type'>\n",
      "120\n"
     ]
    }
   ],
   "source": [
    "flexi(1, 2, 3, 4, 5)"
   ]
  },
  {
   "cell_type": "markdown",
   "id": "84b1742d",
   "metadata": {},
   "source": [
    "## `*args` and `**kwargs`\n",
    "\n",
    "`*args`: Variable-length positional arguments.\n",
    "```python\n",
    "def func(*args)\n",
    "```\n",
    "`**kwargs`: Variable-length keyword arguments.\n",
    "```python\n",
    "def func(**kwargs)\n",
    "```"
   ]
  },
  {
   "cell_type": "code",
   "execution_count": 1,
   "id": "8dbdeacb",
   "metadata": {},
   "outputs": [],
   "source": [
    "# *args\n",
    "# Pass variable non-keyword args to func\n",
    "def multiply(*kwargs):\n",
    "  product = 1\n",
    "  for i in kwargs:\n",
    "    product *= i\n",
    "  print(kwargs)\n",
    "  return product"
   ]
  },
  {
   "cell_type": "code",
   "execution_count": 2,
   "id": "83924209",
   "metadata": {
    "scrolled": true
   },
   "outputs": [
    {
     "name": "stdout",
     "output_type": "stream",
     "text": [
      "(1, 2, 3, 4, 5, 6, 7, 8, 9, 10, 12)\n"
     ]
    },
    {
     "data": {
      "text/plain": [
       "43545600"
      ]
     },
     "execution_count": 2,
     "metadata": {},
     "output_type": "execute_result"
    }
   ],
   "source": [
    "multiply(1, 2, 3, 4, 5, 6, 7, 8, 9, 10, 12)"
   ]
  },
  {
   "cell_type": "code",
   "execution_count": 3,
   "id": "15172d56",
   "metadata": {},
   "outputs": [],
   "source": [
    "# **kwargs\n",
    "# Pass any no. of keyword args (key-value pairs).\n",
    "# Acts like a dict.\n",
    "def display(**salman):\n",
    "  for (key, value) in salman.items():\n",
    "    print(key, '->', value)"
   ]
  },
  {
   "cell_type": "code",
   "execution_count": 4,
   "id": "2815a8ed",
   "metadata": {},
   "outputs": [
    {
     "name": "stdout",
     "output_type": "stream",
     "text": [
      "india -> delhi\n",
      "srilanka -> colombo\n",
      "nepal -> kathmandu\n",
      "pakistan -> islamabad\n"
     ]
    }
   ],
   "source": [
    "display(india='delhi', srilanka='colombo', nepal='kathmandu', pakistan='islamabad')"
   ]
  },
  {
   "cell_type": "markdown",
   "id": "7c811066",
   "metadata": {},
   "source": [
    "### Notes: while using `*args` and `**kwargs`\n",
    "- Argument order: `normal` ---> `*args` ---> `**kwargs`\n",
    "- The words “`args`” and “`kwargs`” are only a convention, you can use any name of your choice"
   ]
  },
  {
   "cell_type": "markdown",
   "id": "01115656",
   "metadata": {},
   "source": [
    "## How Functions Are Executed in Memory?\n",
    "\n",
    "Functions in Python are defined when `def` is encountered. Execution continues until a function call (e.g., `print`) is made. Each call allocates a separate memory block for that function. Variables within a function are confined to its own block.\n",
    "\n",
    "analogy ---> *RAM == city, program == house, function == room*.\n",
    "\n",
    "Functions operate independently, like distinct programs; their memory is released post-completion."
   ]
  },
  {
   "cell_type": "code",
   "execution_count": null,
   "id": "409fc9d2",
   "metadata": {},
   "outputs": [],
   "source": [
    "Withour return statement\n",
    "L = [1, 2, 3]\n",
    "print(L.append(4))\n",
    "print(L)"
   ]
  },
  {
   "cell_type": "markdown",
   "id": "979a8015",
   "metadata": {},
   "source": [
    "## Global Var and Local Var"
   ]
  },
  {
   "cell_type": "markdown",
   "id": "8bb4f3a5",
   "metadata": {},
   "source": [
    "## Examples:"
   ]
  },
  {
   "cell_type": "code",
   "execution_count": 39,
   "id": "547b0b5a",
   "metadata": {},
   "outputs": [
    {
     "name": "stdout",
     "output_type": "stream",
     "text": [
      "inside func_a: \n",
      "None\n",
      "inside func_b: \n",
      "7\n",
      "inside func_c: \n",
      "inside func_a: \n",
      "None\n"
     ]
    }
   ],
   "source": [
    "# Functions as Arguments\n",
    "def func_a():\n",
    "    print(\"inside func_a: \")\n",
    "    # No return value ---> `None`\n",
    "def func_b(y):\n",
    "    print(\"inside func_b: \")\n",
    "    return y\n",
    "def func_c(z):\n",
    "    print(\"inside func_c: \")\n",
    "    return z()\n",
    "print(func_a())\n",
    "print(5 + func_b(2))\n",
    "print(func_c(func_a))"
   ]
  },
  {
   "cell_type": "code",
   "execution_count": 40,
   "id": "06e3cf5c",
   "metadata": {},
   "outputs": [
    {
     "name": "stdout",
     "output_type": "stream",
     "text": [
      "2\n",
      "5\n"
     ]
    }
   ],
   "source": [
    "# Variable scope & function behavior\n",
    "\n",
    "def f(y):\n",
    "    x = 1    # Local x\n",
    "    x += 1\n",
    "    print(x)\n",
    "\n",
    "x = 5        # Global x\n",
    "f(x)         # Calls f()\n",
    "print(x)\n",
    "\n",
    "# Functions have local scope. Global vars coexist but are not affected."
   ]
  },
  {
   "cell_type": "markdown",
   "id": "4e028660",
   "metadata": {},
   "source": [
    "### Local Variables: Inside function.\n",
    "\n",
    "### Global Variables: Outside any function, in main program."
   ]
  },
  {
   "cell_type": "code",
   "execution_count": 42,
   "id": "e313414a",
   "metadata": {},
   "outputs": [
    {
     "name": "stdout",
     "output_type": "stream",
     "text": [
      "5\n",
      "6\n",
      "5\n"
     ]
    }
   ],
   "source": [
    "def g(y):\n",
    "    print(x)     # x (global) used in g()\n",
    "    print(x + 1) # x (global) remains 5; new int (6) created, x unchanged\n",
    "\n",
    "x = 5\n",
    "g(x)\n",
    "print(x)       # x = 5 remains unchanged"
   ]
  },
  {
   "cell_type": "code",
   "execution_count": 43,
   "id": "6b26b444",
   "metadata": {},
   "outputs": [
    {
     "ename": "UnboundLocalError",
     "evalue": "local variable 'x' referenced before assignment",
     "output_type": "error",
     "traceback": [
      "\u001b[1;31m---------------------------------------------------------------------------\u001b[0m",
      "\u001b[1;31mUnboundLocalError\u001b[0m                         Traceback (most recent call last)",
      "\u001b[1;32m~\\AppData\\Local\\Temp/ipykernel_21972/2056165220.py\u001b[0m in \u001b[0;36m<module>\u001b[1;34m\u001b[0m\n\u001b[0;32m      3\u001b[0m \u001b[1;33m\u001b[0m\u001b[0m\n\u001b[0;32m      4\u001b[0m \u001b[0mx\u001b[0m \u001b[1;33m=\u001b[0m \u001b[1;36m5\u001b[0m\u001b[1;33m\u001b[0m\u001b[1;33m\u001b[0m\u001b[0m\n\u001b[1;32m----> 5\u001b[1;33m \u001b[0mh\u001b[0m\u001b[1;33m(\u001b[0m\u001b[0mx\u001b[0m\u001b[1;33m)\u001b[0m\u001b[1;33m\u001b[0m\u001b[1;33m\u001b[0m\u001b[0m\n\u001b[0m\u001b[0;32m      6\u001b[0m \u001b[0mprint\u001b[0m\u001b[1;33m(\u001b[0m\u001b[0mx\u001b[0m\u001b[1;33m)\u001b[0m\u001b[1;33m\u001b[0m\u001b[1;33m\u001b[0m\u001b[0m\n\u001b[0;32m      7\u001b[0m \u001b[1;33m\u001b[0m\u001b[0m\n",
      "\u001b[1;32m~\\AppData\\Local\\Temp/ipykernel_21972/2056165220.py\u001b[0m in \u001b[0;36mh\u001b[1;34m(y)\u001b[0m\n\u001b[0;32m      1\u001b[0m \u001b[1;32mdef\u001b[0m \u001b[0mh\u001b[0m\u001b[1;33m(\u001b[0m\u001b[0my\u001b[0m\u001b[1;33m)\u001b[0m\u001b[1;33m:\u001b[0m\u001b[1;33m\u001b[0m\u001b[1;33m\u001b[0m\u001b[0m\n\u001b[1;32m----> 2\u001b[1;33m     \u001b[0mx\u001b[0m \u001b[1;33m+=\u001b[0m \u001b[1;36m1\u001b[0m \u001b[1;31m# leads to an error without line \"global x\" inside h\u001b[0m\u001b[1;33m\u001b[0m\u001b[1;33m\u001b[0m\u001b[0m\n\u001b[0m\u001b[0;32m      3\u001b[0m \u001b[1;33m\u001b[0m\u001b[0m\n\u001b[0;32m      4\u001b[0m \u001b[0mx\u001b[0m \u001b[1;33m=\u001b[0m \u001b[1;36m5\u001b[0m\u001b[1;33m\u001b[0m\u001b[1;33m\u001b[0m\u001b[0m\n\u001b[0;32m      5\u001b[0m \u001b[0mh\u001b[0m\u001b[1;33m(\u001b[0m\u001b[0mx\u001b[0m\u001b[1;33m)\u001b[0m\u001b[1;33m\u001b[0m\u001b[1;33m\u001b[0m\u001b[0m\n",
      "\u001b[1;31mUnboundLocalError\u001b[0m: local variable 'x' referenced before assignment"
     ]
    }
   ],
   "source": [
    "def h(y):\n",
    "    x += 1  # Error: needs \"global x\" to modify x\n",
    "x = 5\n",
    "h(x)\n",
    "print(x)\n",
    "\n",
    "# Rule: Global vars: accessed but not modified in functions.\n",
    "# Concept 1: Globals exist outside funcs, accessed by any func.\n",
    "# Concept 2: Funcs without local vars can use globals.\n",
    "# Concept 3: Locals access globals but can't modify."
   ]
  },
  {
   "cell_type": "code",
   "execution_count": 44,
   "id": "cdbaa039",
   "metadata": {},
   "outputs": [
    {
     "name": "stdout",
     "output_type": "stream",
     "text": [
      "6\n"
     ]
    }
   ],
   "source": [
    "# EXPLICITLY Modifying Global Variables Locally\n",
    "def h(y):\n",
    "    global x # Note: Modifying global vars is discouraged\n",
    "    x += 1\n",
    "x = 5\n",
    "h(x)\n",
    "print(x)"
   ]
  },
  {
   "cell_type": "code",
   "execution_count": 45,
   "id": "4d2e19dd",
   "metadata": {},
   "outputs": [
    {
     "name": "stdout",
     "output_type": "stream",
     "text": [
      "in f(x): x = 4\n",
      "in main proram scope: z = 4\n",
      "in main program scope: x = 3\n"
     ]
    }
   ],
   "source": [
    "# Complicated Scope\n",
    "def f(x):\n",
    "    x += 1\n",
    "    print(\"in f(x): x =\", x)\n",
    "    return x\n",
    "\n",
    "x = 3\n",
    "z = f(x)\n",
    "print(\"in main proram scope: z =\", z)\n",
    "print(\"in main program scope: x =\", x)"
   ]
  },
  {
   "cell_type": "markdown",
   "id": "32ddb78b",
   "metadata": {},
   "source": [
    "## Nested Functions"
   ]
  },
  {
   "cell_type": "code",
   "execution_count": 46,
   "id": "01616d1e",
   "metadata": {},
   "outputs": [],
   "source": [
    "def f():\n",
    "    print(\"Inside f\")\n",
    "    def g():\n",
    "        print(\"Inside g\")\n",
    "    g()"
   ]
  },
  {
   "cell_type": "code",
   "execution_count": 47,
   "id": "593b4a26",
   "metadata": {},
   "outputs": [
    {
     "name": "stdout",
     "output_type": "stream",
     "text": [
      "Inside f\n",
      "Inside g\n"
     ]
    }
   ],
   "source": [
    "f()"
   ]
  },
  {
   "cell_type": "code",
   "execution_count": 48,
   "id": "a4840c98",
   "metadata": {},
   "outputs": [
    {
     "ename": "TypeError",
     "evalue": "g() missing 1 required positional argument: 'y'",
     "output_type": "error",
     "traceback": [
      "\u001b[1;31m---------------------------------------------------------------------------\u001b[0m",
      "\u001b[1;31mTypeError\u001b[0m                                 Traceback (most recent call last)",
      "\u001b[1;32m~\\AppData\\Local\\Temp/ipykernel_21972/1648027428.py\u001b[0m in \u001b[0;36m<module>\u001b[1;34m\u001b[0m\n\u001b[1;32m----> 1\u001b[1;33m \u001b[0mg\u001b[0m\u001b[1;33m(\u001b[0m\u001b[1;33m)\u001b[0m\u001b[1;33m\u001b[0m\u001b[1;33m\u001b[0m\u001b[0m\n\u001b[0m\u001b[0;32m      2\u001b[0m \u001b[1;33m\u001b[0m\u001b[0m\n\u001b[0;32m      3\u001b[0m \u001b[1;31m# Nested Function stays abstracted/hidden from the main program.\u001b[0m\u001b[1;33m\u001b[0m\u001b[1;33m\u001b[0m\u001b[0m\n",
      "\u001b[1;31mTypeError\u001b[0m: g() missing 1 required positional argument: 'y'"
     ]
    }
   ],
   "source": [
    "g()\n",
    "# Nested Function stays Abstracted/Hidden from main program"
   ]
  },
  {
   "cell_type": "code",
   "execution_count": 49,
   "id": "d0c5e5c9",
   "metadata": {},
   "outputs": [],
   "source": [
    "def f():\n",
    "    print(\"Inside f\")\n",
    "    def g():\n",
    "        print(\"Inside g\")\n",
    "        f()\n",
    "    g()"
   ]
  },
  {
   "cell_type": "code",
   "execution_count": null,
   "id": "ef9d1a64",
   "metadata": {},
   "outputs": [],
   "source": [
    "f()\n",
    "# Infinite Loop ---> Code will Crash ---> Kernel Dead"
   ]
  },
  {
   "cell_type": "code",
   "execution_count": 1,
   "id": "d3bf70b9",
   "metadata": {},
   "outputs": [
    {
     "name": "stdout",
     "output_type": "stream",
     "text": [
      "in g(x): x = 4\n"
     ]
    }
   ],
   "source": [
    "# Harder Scope\n",
    "def g(x):\n",
    "    def h():\n",
    "        x = \"abc\"\n",
    "    x += 1\n",
    "    print(\"in g(x): x =\", x)\n",
    "    h()\n",
    "    return x\n",
    "x = 3\n",
    "z = g(x)"
   ]
  },
  {
   "cell_type": "code",
   "execution_count": 2,
   "id": "df8918c2",
   "metadata": {},
   "outputs": [
    {
     "name": "stdout",
     "output_type": "stream",
     "text": [
      "in g(x): x = 4\n",
      "in h(x): x = 5\n",
      "in main proram scope: x = 3\n",
      "in main program scope: z = 4\n"
     ]
    }
   ],
   "source": [
    "# Complicated Scope\n",
    "def g(x):\n",
    "    def h(x):\n",
    "        x += 1\n",
    "        print(\"in h(x): x =\", x)\n",
    "    x += 1\n",
    "    print(\"in g(x): x =\", x)\n",
    "    h(x)\n",
    "    return x\n",
    "x = 3\n",
    "z = g(x)\n",
    "print(\"in main proram scope: x =\", x)\n",
    "print(\"in main program scope: z =\", z)"
   ]
  },
  {
   "cell_type": "markdown",
   "id": "fcf6e8d6",
   "metadata": {},
   "source": [
    "## Everything in Python an Object"
   ]
  },
  {
   "cell_type": "markdown",
   "id": "994ad8a9",
   "metadata": {},
   "source": [
    "## Functions too"
   ]
  },
  {
   "cell_type": "code",
   "execution_count": 3,
   "id": "74aeabd8",
   "metadata": {},
   "outputs": [],
   "source": [
    "# Functions as Objects"
   ]
  },
  {
   "cell_type": "code",
   "execution_count": 4,
   "id": "fcd184c7",
   "metadata": {},
   "outputs": [],
   "source": [
    "def f(num):\n",
    "    return num**2"
   ]
  },
  {
   "cell_type": "code",
   "execution_count": 5,
   "id": "8fe60acc",
   "metadata": {},
   "outputs": [
    {
     "data": {
      "text/plain": [
       "4"
      ]
     },
     "execution_count": 5,
     "metadata": {},
     "output_type": "execute_result"
    }
   ],
   "source": [
    "f(2)"
   ]
  },
  {
   "cell_type": "code",
   "execution_count": 6,
   "id": "dc6c307d",
   "metadata": {},
   "outputs": [
    {
     "data": {
      "text/plain": [
       "16"
      ]
     },
     "execution_count": 6,
     "metadata": {},
     "output_type": "execute_result"
    }
   ],
   "source": [
    "f(4)"
   ]
  },
  {
   "cell_type": "code",
   "execution_count": 7,
   "id": "690090a1",
   "metadata": {},
   "outputs": [],
   "source": [
    "x = f # aliasing"
   ]
  },
  {
   "cell_type": "code",
   "execution_count": 8,
   "id": "7c1eedd9",
   "metadata": {},
   "outputs": [],
   "source": [
    "# since functions are objects just like int, str,"
   ]
  },
  {
   "cell_type": "code",
   "execution_count": 9,
   "id": "a7b6d343",
   "metadata": {},
   "outputs": [
    {
     "data": {
      "text/plain": [
       "4"
      ]
     },
     "execution_count": 9,
     "metadata": {},
     "output_type": "execute_result"
    }
   ],
   "source": [
    "x(2)"
   ]
  },
  {
   "cell_type": "code",
   "execution_count": 10,
   "id": "8b42327e",
   "metadata": {},
   "outputs": [
    {
     "data": {
      "text/plain": [
       "16"
      ]
     },
     "execution_count": 10,
     "metadata": {},
     "output_type": "execute_result"
    }
   ],
   "source": [
    "x(4)"
   ]
  },
  {
   "cell_type": "code",
   "execution_count": 11,
   "id": "84bdd79e",
   "metadata": {},
   "outputs": [],
   "source": [
    "del f # Del functions in Python"
   ]
  },
  {
   "cell_type": "code",
   "execution_count": 12,
   "id": "53f8be69",
   "metadata": {},
   "outputs": [
    {
     "ename": "NameError",
     "evalue": "name 'f' is not defined",
     "output_type": "error",
     "traceback": [
      "\u001b[1;31m---------------------------------------------------------------------------\u001b[0m",
      "\u001b[1;31mNameError\u001b[0m                                 Traceback (most recent call last)",
      "\u001b[1;32m~\\AppData\\Local\\Temp/ipykernel_22548/3272250079.py\u001b[0m in \u001b[0;36m<module>\u001b[1;34m\u001b[0m\n\u001b[1;32m----> 1\u001b[1;33m \u001b[0mf\u001b[0m\u001b[1;33m(\u001b[0m\u001b[1;36m2\u001b[0m\u001b[1;33m)\u001b[0m\u001b[1;33m\u001b[0m\u001b[1;33m\u001b[0m\u001b[0m\n\u001b[0m",
      "\u001b[1;31mNameError\u001b[0m: name 'f' is not defined"
     ]
    }
   ],
   "source": [
    "f(2)"
   ]
  },
  {
   "cell_type": "code",
   "execution_count": 13,
   "id": "0a22e893",
   "metadata": {},
   "outputs": [
    {
     "data": {
      "text/plain": [
       "4"
      ]
     },
     "execution_count": 13,
     "metadata": {},
     "output_type": "execute_result"
    }
   ],
   "source": [
    "x(2) # Call by Object Reference"
   ]
  },
  {
   "cell_type": "code",
   "execution_count": 14,
   "id": "df94ebd0",
   "metadata": {},
   "outputs": [
    {
     "data": {
      "text/plain": [
       "function"
      ]
     },
     "execution_count": 14,
     "metadata": {},
     "output_type": "execute_result"
    }
   ],
   "source": [
    "type(x)"
   ]
  },
  {
   "cell_type": "code",
   "execution_count": 15,
   "id": "5e35578f",
   "metadata": {},
   "outputs": [
    {
     "data": {
      "text/plain": [
       "[1, 2, 3, 4]"
      ]
     },
     "execution_count": 15,
     "metadata": {},
     "output_type": "execute_result"
    }
   ],
   "source": [
    "L = [1, 2, 3, 4]\n",
    "L"
   ]
  },
  {
   "cell_type": "code",
   "execution_count": 16,
   "id": "a8367f02",
   "metadata": {},
   "outputs": [
    {
     "data": {
      "text/plain": [
       "[1, 2, 3, 4, <function __main__.f(num)>]"
      ]
     },
     "execution_count": 16,
     "metadata": {},
     "output_type": "execute_result"
    }
   ],
   "source": [
    "L = [1, 2, 3, 4, x]\n",
    "L"
   ]
  },
  {
   "cell_type": "code",
   "execution_count": 17,
   "id": "cd2bddda",
   "metadata": {},
   "outputs": [
    {
     "data": {
      "text/plain": [
       "9"
      ]
     },
     "execution_count": 17,
     "metadata": {},
     "output_type": "execute_result"
    }
   ],
   "source": [
    "L[-1](-3) # sqr"
   ]
  },
  {
   "cell_type": "code",
   "execution_count": 18,
   "id": "629eb781",
   "metadata": {},
   "outputs": [
    {
     "data": {
      "text/plain": [
       "[1, 2, 3, 4, 25]"
      ]
     },
     "execution_count": 18,
     "metadata": {},
     "output_type": "execute_result"
    }
   ],
   "source": [
    "L = [1, 2, 3, 4, x(5)]\n",
    "L"
   ]
  },
  {
   "cell_type": "code",
   "execution_count": 19,
   "id": "3f3f8f0d",
   "metadata": {},
   "outputs": [],
   "source": [
    "# In Python, Functions behave like any other Data type.\n",
    "# Can be assigned, passed, and returned."
   ]
  },
  {
   "cell_type": "markdown",
   "id": "0e518ac5",
   "metadata": {},
   "source": [
    "## So What?\n",
    "\n",
    "*1. Renaming Function:* `def new_name(old_name):`\n",
    "\n",
    "*2. Deleting Function:* `del func_name`\n",
    "\n",
    "*3. Storing Function:* `func_var = def_func()`\n",
    "\n",
    "*4. Returning Function:* `return func_name`\n",
    "\n",
    "*5. Function as Argument:* `def outer(func): func()`"
   ]
  },
  {
   "cell_type": "code",
   "execution_count": 20,
   "id": "407b60fa",
   "metadata": {},
   "outputs": [
    {
     "name": "stdout",
     "output_type": "stream",
     "text": [
      "inside func_c\n",
      "inside func_a\n",
      "None\n"
     ]
    }
   ],
   "source": [
    "# Function as argument/input\n",
    "def func_a():\n",
    "    print(\"inside func_a\")\n",
    "def func_c(z):\n",
    "    print(\"inside func_c\")\n",
    "    return z()\n",
    "print(func_c(func_a))"
   ]
  },
  {
   "cell_type": "code",
   "execution_count": 21,
   "id": "74fda2db",
   "metadata": {},
   "outputs": [
    {
     "name": "stdout",
     "output_type": "stream",
     "text": [
      "7\n"
     ]
    }
   ],
   "source": [
    "# Returning a Function + Nested Calling\n",
    "def f():\n",
    "    def x(a, b):\n",
    "        return a + b\n",
    "    return x\n",
    "val = f()(3, 4)\n",
    "print(val)"
   ]
  },
  {
   "cell_type": "markdown",
   "id": "b77c916b",
   "metadata": {},
   "source": [
    "*Functions are First-Class Citizens in Python.*"
   ]
  },
  {
   "cell_type": "code",
   "execution_count": 12,
   "id": "5293ada0",
   "metadata": {},
   "outputs": [
    {
     "data": {
      "text/plain": [
       "2159425052320"
      ]
     },
     "execution_count": 12,
     "metadata": {},
     "output_type": "execute_result"
    }
   ],
   "source": [
    "# type & id\n",
    "def square(num):\n",
    "  return num**2\n",
    "type(square)\n",
    "id(square)"
   ]
  },
  {
   "cell_type": "code",
   "execution_count": 7,
   "id": "0bf0cc92",
   "metadata": {},
   "outputs": [
    {
     "data": {
      "text/plain": [
       "9"
      ]
     },
     "execution_count": 7,
     "metadata": {},
     "output_type": "execute_result"
    }
   ],
   "source": [
    "# reassign\n",
    "x = square\n",
    "id(x)\n",
    "x(3)"
   ]
  },
  {
   "cell_type": "code",
   "execution_count": 8,
   "id": "21f6aa7a",
   "metadata": {},
   "outputs": [
    {
     "data": {
      "text/plain": [
       "2"
      ]
     },
     "execution_count": 8,
     "metadata": {},
     "output_type": "execute_result"
    }
   ],
   "source": [
    "a = 2\n",
    "b = a\n",
    "b"
   ]
  },
  {
   "cell_type": "code",
   "execution_count": 9,
   "id": "2d029bda",
   "metadata": {},
   "outputs": [],
   "source": [
    "# Deleting Function\n",
    "del square"
   ]
  },
  {
   "cell_type": "code",
   "execution_count": 10,
   "id": "eb3e4932",
   "metadata": {},
   "outputs": [
    {
     "ename": "NameError",
     "evalue": "name 'square' is not defined",
     "output_type": "error",
     "traceback": [
      "\u001b[1;31m---------------------------------------------------------------------------\u001b[0m",
      "\u001b[1;31mNameError\u001b[0m                                 Traceback (most recent call last)",
      "Cell \u001b[1;32mIn[10], line 1\u001b[0m\n\u001b[1;32m----> 1\u001b[0m \u001b[43msquare\u001b[49m(\u001b[38;5;241m3\u001b[39m)\n",
      "\u001b[1;31mNameError\u001b[0m: name 'square' is not defined"
     ]
    }
   ],
   "source": [
    "square(3)"
   ]
  },
  {
   "cell_type": "code",
   "execution_count": 13,
   "id": "f4d1fae5",
   "metadata": {},
   "outputs": [
    {
     "data": {
      "text/plain": [
       "9"
      ]
     },
     "execution_count": 13,
     "metadata": {},
     "output_type": "execute_result"
    }
   ],
   "source": [
    "# Storing\n",
    "L = [1, 2, 3, 4, square]\n",
    "L[-1](3)"
   ]
  },
  {
   "cell_type": "code",
   "execution_count": 14,
   "id": "65414842",
   "metadata": {},
   "outputs": [
    {
     "data": {
      "text/plain": [
       "{<function __main__.square(num)>}"
      ]
     },
     "execution_count": 14,
     "metadata": {},
     "output_type": "execute_result"
    }
   ],
   "source": [
    "s = {square}\n",
    "s"
   ]
  },
  {
   "cell_type": "markdown",
   "id": "fdb57778",
   "metadata": {},
   "source": [
    "## Benefits of Functions\n",
    "\n",
    "- **Modularity**: Self-contained code, modularizes login.\n",
    "- **Reusability**: Write once, use forever.\n",
    "- **Readability**: Organized and coherent."
   ]
  }
 ],
 "metadata": {
  "kernelspec": {
   "display_name": "Python 3 (ipykernel)",
   "language": "python",
   "name": "python3"
  },
  "language_info": {
   "codemirror_mode": {
    "name": "ipython",
    "version": 3
   },
   "file_extension": ".py",
   "mimetype": "text/x-python",
   "name": "python",
   "nbconvert_exporter": "python",
   "pygments_lexer": "ipython3",
   "version": "3.10.9"
  }
 },
 "nbformat": 4,
 "nbformat_minor": 5
}

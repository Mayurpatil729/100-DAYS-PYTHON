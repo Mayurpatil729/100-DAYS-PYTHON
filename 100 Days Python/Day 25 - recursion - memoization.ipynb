{
 "cells": [
  {
   "cell_type": "markdown",
   "id": "710ebbca",
   "metadata": {},
   "source": [
    "# Recursion\n",
    "\n",
    "*Function calls itself*\n",
    "\n",
    "### Advantages:\n",
    "- No loops needed.\n",
    "- Solves problems without iteration.\n",
    "\n",
    "*\"To understand recursion you must understand recursion\"*"
   ]
  },
  {
   "cell_type": "markdown",
   "id": "f29e9fef",
   "metadata": {},
   "source": [
    "## Iterative Vs Recursive"
   ]
  },
  {
   "cell_type": "markdown",
   "id": "8b443009",
   "metadata": {},
   "source": [
    "### a*b"
   ]
  },
  {
   "cell_type": "code",
   "execution_count": 2,
   "id": "c0bdc028",
   "metadata": {},
   "outputs": [
    {
     "name": "stdout",
     "output_type": "stream",
     "text": [
      "12\n"
     ]
    }
   ],
   "source": [
    "# iterative method\n",
    "def multiply(a, b):\n",
    "    result = 0\n",
    "    for i in range(b):\n",
    "        result += a\n",
    "    print(result)\n",
    "multiply(3, 4)"
   ]
  },
  {
   "cell_type": "code",
   "execution_count": 3,
   "id": "4a409aad",
   "metadata": {},
   "outputs": [],
   "source": [
    "# Recursive Method\n",
    "\n",
    "# 1. Base Case: Define stopping condition.\n",
    "\n",
    "# 2. Decompose: Break main problem into smaller subproblems until base case is reached.\n",
    "\n",
    "def mul(a, b):\n",
    "    if b == 1:\n",
    "        return a\n",
    "    else:\n",
    "        return a + mul(a, b-1)"
   ]
  },
  {
   "cell_type": "code",
   "execution_count": 4,
   "id": "ab71aa76",
   "metadata": {},
   "outputs": [
    {
     "name": "stdout",
     "output_type": "stream",
     "text": [
      "12\n"
     ]
    }
   ],
   "source": [
    "print(mul(3, 4))"
   ]
  },
  {
   "cell_type": "code",
   "execution_count": 5,
   "id": "33dd7306",
   "metadata": {},
   "outputs": [
    {
     "name": "stdout",
     "output_type": "stream",
     "text": [
      "120\n"
     ]
    }
   ],
   "source": [
    "# Factorial via Recursion\n",
    "def fact(number):\n",
    "    if number == 1:\n",
    "        return 1\n",
    "    else:\n",
    "        return number * fact(number-1)\n",
    "print(fact(5))"
   ]
  },
  {
   "cell_type": "code",
   "execution_count": 6,
   "id": "522fa700",
   "metadata": {},
   "outputs": [],
   "source": [
    "# Palindrome\n",
    "def palin(text):\n",
    "    if len(text) <= 1:\n",
    "        print(\"palindrome\")\n",
    "    else:\n",
    "        if text[0] == text[-1]:\n",
    "            palin(text[1:-1])\n",
    "        else:\n",
    "            print(\"not a palindrome\")"
   ]
  },
  {
   "cell_type": "code",
   "execution_count": 7,
   "id": "bc999b41",
   "metadata": {},
   "outputs": [
    {
     "name": "stdout",
     "output_type": "stream",
     "text": [
      "palindrome\n"
     ]
    }
   ],
   "source": [
    "palin(\"madam\")"
   ]
  },
  {
   "cell_type": "code",
   "execution_count": 8,
   "id": "187dc9d2",
   "metadata": {},
   "outputs": [
    {
     "name": "stdout",
     "output_type": "stream",
     "text": [
      "palindrome\n"
     ]
    }
   ],
   "source": [
    "palin(\"malayalam\")"
   ]
  },
  {
   "cell_type": "code",
   "execution_count": 9,
   "id": "5851a44e",
   "metadata": {},
   "outputs": [
    {
     "name": "stdout",
     "output_type": "stream",
     "text": [
      "not a palindrome\n"
     ]
    }
   ],
   "source": [
    "palin(\"python\")"
   ]
  },
  {
   "cell_type": "code",
   "execution_count": 10,
   "id": "44ed4f2b",
   "metadata": {},
   "outputs": [
    {
     "name": "stdout",
     "output_type": "stream",
     "text": [
      "palindrome\n"
     ]
    }
   ],
   "source": [
    "palin(\"abba\")"
   ]
  },
  {
   "cell_type": "code",
   "execution_count": 11,
   "id": "c579001f",
   "metadata": {},
   "outputs": [
    {
     "name": "stdout",
     "output_type": "stream",
     "text": [
      "233\n"
     ]
    }
   ],
   "source": [
    "# The Rabbit Problem: Fibonacci Number\n",
    "\n",
    "# Scenario ---> 2 newborn rabbits: 1 male + 1 female monthly.\n",
    "#               Reproduce after 1 month, immortality.\n",
    "\n",
    "def fib(m):\n",
    "    if m == 0 or m == 1:\n",
    "        return 1\n",
    "    else:\n",
    "        return fib(m-1) + fib(m-2)\n",
    "print(fib(12)) # T = O(2^n)\n",
    "\n",
    "# Key Concepts:\n",
    "#     Fibonacci Sequence\n",
    "#     Reproduction Rate\n",
    "#     Population Growth"
   ]
  },
  {
   "cell_type": "code",
   "execution_count": 12,
   "id": "046e5eb5",
   "metadata": {},
   "outputs": [
    {
     "name": "stdout",
     "output_type": "stream",
     "text": [
      "233\n",
      "0.0\n"
     ]
    }
   ],
   "source": [
    "import time\n",
    "start = time.time()\n",
    "print(fib(12))\n",
    "print(time.time() - start)"
   ]
  },
  {
   "cell_type": "code",
   "execution_count": 13,
   "id": "8df0062c",
   "metadata": {},
   "outputs": [
    {
     "name": "stdout",
     "output_type": "stream",
     "text": [
      "75025\n",
      "0.22108960151672363\n"
     ]
    }
   ],
   "source": [
    "print(fib(24))\n",
    "print(time.time() - start)"
   ]
  },
  {
   "cell_type": "code",
   "execution_count": 14,
   "id": "d629a33d",
   "metadata": {},
   "outputs": [
    {
     "name": "stdout",
     "output_type": "stream",
     "text": [
      "24157817\n",
      "6.103978157043457\n"
     ]
    }
   ],
   "source": [
    "print(fib(36))\n",
    "print(time.time() - start)"
   ]
  },
  {
   "cell_type": "markdown",
   "id": "0dbc213c",
   "metadata": {},
   "source": [
    "# Memoization\n",
    "\n",
    "Memoization refers to remembering method call results based on inputs.\n",
    "\n",
    "- Returns cached results, avoiding recomputation.\n",
    "- Speeds up computations; stores previous results.\n",
    "- Used in dynamic programming for recursive solutions.\n",
    "- Reduces time complexity; avoids redundant calculations.\n",
    "- Optimizes recursive algorithms by reusing results."
   ]
  },
  {
   "cell_type": "code",
   "execution_count": 16,
   "id": "9c673f9e",
   "metadata": {},
   "outputs": [
    {
     "name": "stdout",
     "output_type": "stream",
     "text": [
      "7778742049\n"
     ]
    }
   ],
   "source": [
    "def memo(m, d):\n",
    "    if m in d:\n",
    "        return d[m]\n",
    "    else:\n",
    "        d[m] = memo(m-1, d) + memo(m-2, d)\n",
    "        return d[m]\n",
    "d = {0:1, 1:1}\n",
    "print(memo(48, d))"
   ]
  },
  {
   "cell_type": "code",
   "execution_count": 17,
   "id": "0c4a17bd",
   "metadata": {},
   "outputs": [
    {
     "name": "stdout",
     "output_type": "stream",
     "text": [
      "7778742049\n",
      "6.157997369766235\n"
     ]
    }
   ],
   "source": [
    "print(memo(48, d))\n",
    "print(time.time() - start)"
   ]
  },
  {
   "cell_type": "code",
   "execution_count": 18,
   "id": "5b304aee",
   "metadata": {},
   "outputs": [
    {
     "name": "stdout",
     "output_type": "stream",
     "text": [
      "225591516161936330872512695036072072046011324913758190588638866418474627738686883405015987052796968498626\n",
      "6.17300009727478\n"
     ]
    }
   ],
   "source": [
    "print(memo(500, d))\n",
    "print(time.time() - start)"
   ]
  },
  {
   "cell_type": "code",
   "execution_count": 19,
   "id": "d2da5e7b",
   "metadata": {},
   "outputs": [
    {
     "name": "stdout",
     "output_type": "stream",
     "text": [
      "70330367711422815821835254877183549770181269836358732742604905087154537118196933579742249494562611733487750449241765991088186363265450223647106012053374121273867339111198139373125598767690091902245245323403501\n",
      "6.189241170883179\n"
     ]
    }
   ],
   "source": [
    "print(memo(1000, d))\n",
    "print(time.time() - start)"
   ]
  },
  {
   "cell_type": "code",
   "execution_count": 20,
   "id": "c48ec6d5",
   "metadata": {},
   "outputs": [],
   "source": [
    "print(d) # Dict in memory, execution time reduced"
   ]
  },
  {
   "cell_type": "code",
   "execution_count": 21,
   "id": "d56b927c",
   "metadata": {},
   "outputs": [
    {
     "name": "stdout",
     "output_type": "stream",
     "text": [
      "[[], ['1'], ['2'], ['1', '2'], ['3'], ['1', '3'], ['2', '3'], ['1', '2', '3']]\n",
      "8\n"
     ]
    }
   ],
   "source": [
    "# Recursive PowerSet Function in Python\n",
    "\n",
    "# PowerSet: Given set S, return power set P(S) (all subsets of S).\n",
    "\n",
    "# Input: String\n",
    "# Output: Array of Strings (power set)\n",
    "\n",
    "# Example: S = \"123\", P(S) = ['', '1', '2', '3', '12', '13', '23', '123']\n",
    "\n",
    "def powerset1(xs):\n",
    "    res = [[]]\n",
    "    if len(xs) <= 0:\n",
    "        return \"Please Enter a parameter\"\n",
    "    if len(xs) == 1:\n",
    "        res.append([xs[0]])\n",
    "        return res\n",
    "    else:\n",
    "        z = []\n",
    "        for i in powerset1(xs[1:]):\n",
    "            z.append(i)\n",
    "            z.append([xs[0]] + i) \n",
    "        return z\n",
    "\n",
    "final = powerset1('123')\n",
    "print(final)\n",
    "print(len(final))"
   ]
  }
 ],
 "metadata": {
  "kernelspec": {
   "display_name": "Python 3 (ipykernel)",
   "language": "python",
   "name": "python3"
  },
  "language_info": {
   "codemirror_mode": {
    "name": "ipython",
    "version": 3
   },
   "file_extension": ".py",
   "mimetype": "text/x-python",
   "name": "python",
   "nbconvert_exporter": "python",
   "pygments_lexer": "ipython3",
   "version": "3.10.9"
  }
 },
 "nbformat": 4,
 "nbformat_minor": 5
}

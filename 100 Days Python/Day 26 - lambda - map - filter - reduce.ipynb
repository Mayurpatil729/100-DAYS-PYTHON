{
 "cells": [
  {
   "cell_type": "markdown",
   "id": "cdeb53f3",
   "metadata": {},
   "source": [
    "# Lambda Functions\n",
    "\n",
    "Anonymous functions.\n",
    "\n",
    "Single Expression Limit.\n",
    "\n",
    "**Syntax**: `lambda args: expr`\n",
    "\n",
    "**Example**: `lambda a, b: a + b`"
   ]
  },
  {
   "cell_type": "code",
   "execution_count": 3,
   "id": "05546f7f",
   "metadata": {},
   "outputs": [
    {
     "data": {
      "text/plain": [
       "81"
      ]
     },
     "execution_count": 3,
     "metadata": {},
     "output_type": "execute_result"
    }
   ],
   "source": [
    "x = lambda x : x**2\n",
    "x(9)"
   ]
  },
  {
   "cell_type": "code",
   "execution_count": 4,
   "id": "bc1680f4",
   "metadata": {},
   "outputs": [
    {
     "data": {
      "text/plain": [
       "9"
      ]
     },
     "execution_count": 4,
     "metadata": {},
     "output_type": "execute_result"
    }
   ],
   "source": [
    "a = lambda x, y : x + y\n",
    "a(4, 5)"
   ]
  },
  {
   "cell_type": "code",
   "execution_count": 5,
   "id": "63d243d4",
   "metadata": {},
   "outputs": [
    {
     "data": {
      "text/plain": [
       "function"
      ]
     },
     "execution_count": 5,
     "metadata": {},
     "output_type": "execute_result"
    }
   ],
   "source": [
    "type(a)"
   ]
  },
  {
   "cell_type": "markdown",
   "id": "51dc57a0",
   "metadata": {},
   "source": [
    "## Lambda Function vs. Normal Function\n",
    "\n",
    "### Lambda function:\n",
    "- No return value.\n",
    "- *Written in Single-line.*\n",
    "- Not used for code reusability.\n",
    "- *Anonymous/No name.*\n",
    "\n",
    "### Normal function:\n",
    "- Has a return value.\n",
    "- Multi-line.\n",
    "- Encourages code reusability via named functions."
   ]
  },
  {
   "cell_type": "code",
   "execution_count": 7,
   "id": "832349d4",
   "metadata": {},
   "outputs": [],
   "source": [
    "# Why?\n",
    "\n",
    "# Lambda functions are Anonymous functions ---> `lambda args: expr`,\n",
    "# ideal for Higher-order functions, offers Concise function writing without naming."
   ]
  },
  {
   "cell_type": "code",
   "execution_count": null,
   "id": "604a52d3",
   "metadata": {},
   "outputs": [],
   "source": [
    "# Higher Order Functions:\n",
    "\n",
    "# Functions that take/return other functions.\n",
    "# Useful for Abstraction, Code reuse.\n",
    "\n",
    "# Enhances code modularity, readability.\n",
    "# Encourages functional programming.\n",
    "\n",
    "# Can lead to Complexity and Performance overhead (if overused)."
   ]
  },
  {
   "cell_type": "code",
   "execution_count": 9,
   "id": "ac262d4e",
   "metadata": {},
   "outputs": [
    {
     "data": {
      "text/plain": [
       "True"
      ]
     },
     "execution_count": 9,
     "metadata": {},
     "output_type": "execute_result"
    }
   ],
   "source": [
    "b = lambda x : x[0] == 'a'\n",
    "b('apple')"
   ]
  },
  {
   "cell_type": "code",
   "execution_count": 10,
   "id": "3b2aa862",
   "metadata": {},
   "outputs": [
    {
     "data": {
      "text/plain": [
       "False"
      ]
     },
     "execution_count": 10,
     "metadata": {},
     "output_type": "execute_result"
    }
   ],
   "source": [
    "b('banana')"
   ]
  },
  {
   "cell_type": "code",
   "execution_count": 11,
   "id": "e13877cd",
   "metadata": {},
   "outputs": [
    {
     "data": {
      "text/plain": [
       "'Odd'"
      ]
     },
     "execution_count": 11,
     "metadata": {},
     "output_type": "execute_result"
    }
   ],
   "source": [
    "b = lambda x :'Even' if x%2 == 0 else 'Odd'\n",
    "b(3)"
   ]
  },
  {
   "cell_type": "code",
   "execution_count": 12,
   "id": "7b6233c9",
   "metadata": {},
   "outputs": [
    {
     "data": {
      "text/plain": [
       "'Even'"
      ]
     },
     "execution_count": 12,
     "metadata": {},
     "output_type": "execute_result"
    }
   ],
   "source": [
    "b(2)"
   ]
  },
  {
   "cell_type": "code",
   "execution_count": 13,
   "id": "9c48f446",
   "metadata": {},
   "outputs": [],
   "source": [
    "# HOF"
   ]
  },
  {
   "cell_type": "code",
   "execution_count": 14,
   "id": "d5c8f1f5",
   "metadata": {},
   "outputs": [
    {
     "name": "stdout",
     "output_type": "stream",
     "text": [
      "(206, 195, 240)\n"
     ]
    }
   ],
   "source": [
    "L = [11, 14, 27, 21, 23, 56, 78, 39, 45, 29, 28, 30]\n",
    "\n",
    "# Even Sum\n",
    "# Odd Sum\n",
    "# Div3 Sum\n",
    "\n",
    "def return_sum(L):\n",
    "    even_sum = 0\n",
    "    odd_sum = 0\n",
    "    div3_sum = 0\n",
    "    for i in L:\n",
    "        if i%2 == 0:\n",
    "            even_sum = even_sum + i\n",
    "    for i in L:\n",
    "        if i%2 != 0:\n",
    "            odd_sum = odd_sum + i\n",
    "    for i in L:\n",
    "        if i%3 == 0:\n",
    "            div3_sum = div3_sum + i\n",
    "    return(even_sum, odd_sum, div3_sum)\n",
    "print(return_sum(L))"
   ]
  },
  {
   "cell_type": "code",
   "execution_count": 15,
   "id": "26baf28b",
   "metadata": {},
   "outputs": [
    {
     "name": "stdout",
     "output_type": "stream",
     "text": [
      "206\n",
      "195\n",
      "240\n"
     ]
    }
   ],
   "source": [
    "L = [11, 14, 27, 21, 23, 56, 78, 39, 45, 29, 28, 30]\n",
    "def return_sum(func, L):\n",
    "    result = 0\n",
    "    for i in L:\n",
    "        if func(i):\n",
    "            result = result + i\n",
    "    return result\n",
    "x = lambda x : x%2 == 0 # Even Sum\n",
    "y = lambda x : x%2 != 0 # Odd Sum\n",
    "z = lambda x : x%3 == 0 # Div3 Sum\n",
    "print(return_sum(x, L))\n",
    "print(return_sum(y, L))\n",
    "print(return_sum(z, L))"
   ]
  },
  {
   "cell_type": "markdown",
   "id": "3bfaef8b",
   "metadata": {},
   "source": [
    "Higher-order functions (HOF) accepts *input* + define *operation of function*."
   ]
  },
  {
   "cell_type": "markdown",
   "id": "49dbae31",
   "metadata": {},
   "source": [
    "# Higher-Order Functions\n",
    "\n",
    "1. Map\n",
    "2. Filter\n",
    "3. Reduce"
   ]
  },
  {
   "cell_type": "markdown",
   "id": "d1580393",
   "metadata": {},
   "source": [
    "## 1. Map\n",
    "\n",
    "Applies a `function` to each item in `iterable`.\n",
    "\n",
    "**Syntax**:\n",
    "```python\n",
    "map(function, iterable)\n",
    "```\n",
    "\n",
    "Returns an Iterator of results."
   ]
  },
  {
   "cell_type": "code",
   "execution_count": 18,
   "id": "35519f23",
   "metadata": {},
   "outputs": [
    {
     "data": {
      "text/plain": [
       "[1, 2, 3, 4, 5, 6, 7]"
      ]
     },
     "execution_count": 18,
     "metadata": {},
     "output_type": "execute_result"
    }
   ],
   "source": [
    "L = [1, 2, 3, 4, 5, 6, 7]\n",
    "L"
   ]
  },
  {
   "cell_type": "code",
   "execution_count": 19,
   "id": "7aa73f4d",
   "metadata": {},
   "outputs": [
    {
     "data": {
      "text/plain": [
       "<map at 0x1f17e229cd0>"
      ]
     },
     "execution_count": 19,
     "metadata": {},
     "output_type": "execute_result"
    }
   ],
   "source": [
    "map(lambda x : x * 2, L)"
   ]
  },
  {
   "cell_type": "code",
   "execution_count": 20,
   "id": "74c01dea",
   "metadata": {},
   "outputs": [
    {
     "data": {
      "text/plain": [
       "[2, 4, 6, 8, 10, 12, 14]"
      ]
     },
     "execution_count": 20,
     "metadata": {},
     "output_type": "execute_result"
    }
   ],
   "source": [
    "list(map(lambda x : x * 2, L))"
   ]
  },
  {
   "cell_type": "code",
   "execution_count": 21,
   "id": "dd04cbc4",
   "metadata": {},
   "outputs": [
    {
     "data": {
      "text/plain": [
       "[False, True, False, True, False, True, False]"
      ]
     },
     "execution_count": 21,
     "metadata": {},
     "output_type": "execute_result"
    }
   ],
   "source": [
    "list(map(lambda x : x % 2 == 0, L))"
   ]
  },
  {
   "cell_type": "code",
   "execution_count": 22,
   "id": "c5c3170b",
   "metadata": {},
   "outputs": [
    {
     "data": {
      "text/plain": [
       "['Jacob Martin', 'Angela Stevens', 'Ricky Smart']"
      ]
     },
     "execution_count": 22,
     "metadata": {},
     "output_type": "execute_result"
    }
   ],
   "source": [
    "students = [\n",
    "    {\n",
    "        \"name\" : \"Jacob Martin\",\n",
    "        \"Father name\" : \"Ros Martin\",\n",
    "        \"Address\" : \"123 Hills Street\",\n",
    "    },{\n",
    "        \"name\" : \"Angela Stevens\",\n",
    "        \"Father name\" : \"Robert Stevens\",\n",
    "        \"Address\" : \"3 Upper Street London\",\n",
    "    },{\n",
    "        \"name\" : \"Ricky Smart\",\n",
    "        \"Father name\" : \"William Smart\",\n",
    "        \"Address\" : \"Unknown\",\n",
    "    }\n",
    "    \n",
    "]\n",
    "list(map(lambda student : student[\"name\"], students))"
   ]
  },
  {
   "cell_type": "markdown",
   "id": "e3d3ba87",
   "metadata": {},
   "source": [
    "## 2. Filter\n",
    "\n",
    "Applies a `function` to `sequence`.\n",
    "\n",
    "**Syntax**:\n",
    "```python\n",
    "filter(function, sequence)\n",
    "```\n",
    "\n",
    "Returns elements where `function` is `True`."
   ]
  },
  {
   "cell_type": "code",
   "execution_count": 24,
   "id": "5942d759",
   "metadata": {},
   "outputs": [
    {
     "data": {
      "text/plain": [
       "[1, 2, 3, 4, 5, 6, 7]"
      ]
     },
     "execution_count": 24,
     "metadata": {},
     "output_type": "execute_result"
    }
   ],
   "source": [
    "L"
   ]
  },
  {
   "cell_type": "code",
   "execution_count": 25,
   "id": "43be852a",
   "metadata": {},
   "outputs": [
    {
     "data": {
      "text/plain": [
       "[5, 6, 7]"
      ]
     },
     "execution_count": 25,
     "metadata": {},
     "output_type": "execute_result"
    }
   ],
   "source": [
    "list(filter(lambda x : x > 4, L))"
   ]
  },
  {
   "cell_type": "code",
   "execution_count": 26,
   "id": "94552e82",
   "metadata": {},
   "outputs": [],
   "source": [
    "fruits = [\"Apple\", \"Orange\", \"Mango\", \"Guava\"]"
   ]
  },
  {
   "cell_type": "code",
   "execution_count": 27,
   "id": "6fe1fe43",
   "metadata": {},
   "outputs": [
    {
     "data": {
      "text/plain": [
       "['Apple', 'Orange']"
      ]
     },
     "execution_count": 27,
     "metadata": {},
     "output_type": "execute_result"
    }
   ],
   "source": [
    "list(filter(lambda fruit : \"e\" in  fruit, fruits))"
   ]
  },
  {
   "cell_type": "markdown",
   "id": "6f5d2015",
   "metadata": {},
   "source": [
    "## 3. Reduce\n",
    "\n",
    "Reduces an iterable to a single value.\n",
    "\n",
    "**Syntax**:\n",
    "```python\n",
    "from functools import reduce\n",
    "reduce(function, iterable)\n",
    "```\n",
    "\n",
    "Operates on pairs of elements until a single value remains.\n",
    "\n",
    "Useful for Cumulative Operations (e.g., sum, product)."
   ]
  },
  {
   "cell_type": "code",
   "execution_count": 29,
   "id": "10d7eae6",
   "metadata": {},
   "outputs": [],
   "source": [
    "import functools"
   ]
  },
  {
   "cell_type": "code",
   "execution_count": 30,
   "id": "0ef5f2a3",
   "metadata": {},
   "outputs": [
    {
     "data": {
      "text/plain": [
       "[1, 2, 3, 4, 5, 6, 7]"
      ]
     },
     "execution_count": 30,
     "metadata": {},
     "output_type": "execute_result"
    }
   ],
   "source": [
    "L"
   ]
  },
  {
   "cell_type": "code",
   "execution_count": 31,
   "id": "3a157ffa",
   "metadata": {},
   "outputs": [
    {
     "data": {
      "text/plain": [
       "28"
      ]
     },
     "execution_count": 31,
     "metadata": {},
     "output_type": "execute_result"
    }
   ],
   "source": [
    "functools.reduce(lambda x, y : x + y, L)"
   ]
  },
  {
   "cell_type": "code",
   "execution_count": 32,
   "id": "fcfb18a8",
   "metadata": {},
   "outputs": [
    {
     "data": {
      "text/plain": [
       "[12, 34, 56, 11, 21, 58]"
      ]
     },
     "execution_count": 32,
     "metadata": {},
     "output_type": "execute_result"
    }
   ],
   "source": [
    "L1 = [12, 34, 56, 11, 21, 58]\n",
    "L1"
   ]
  },
  {
   "cell_type": "code",
   "execution_count": 33,
   "id": "f882f05b",
   "metadata": {},
   "outputs": [
    {
     "data": {
      "text/plain": [
       "58"
      ]
     },
     "execution_count": 33,
     "metadata": {},
     "output_type": "execute_result"
    }
   ],
   "source": [
    "functools.reduce(lambda x, y : x if x>y else y, L1)"
   ]
  },
  {
   "cell_type": "code",
   "execution_count": 34,
   "id": "a3d911b9",
   "metadata": {},
   "outputs": [
    {
     "data": {
      "text/plain": [
       "11"
      ]
     },
     "execution_count": 34,
     "metadata": {},
     "output_type": "execute_result"
    }
   ],
   "source": [
    "functools.reduce(lambda x, y : x if x<y else y, L1)"
   ]
  }
 ],
 "metadata": {
  "kernelspec": {
   "display_name": "Python 3 (ipykernel)",
   "language": "python",
   "name": "python3"
  },
  "language_info": {
   "codemirror_mode": {
    "name": "ipython",
    "version": 3
   },
   "file_extension": ".py",
   "mimetype": "text/x-python",
   "name": "python",
   "nbconvert_exporter": "python",
   "pygments_lexer": "ipython3",
   "version": "3.10.9"
  }
 },
 "nbformat": 4,
 "nbformat_minor": 5
}

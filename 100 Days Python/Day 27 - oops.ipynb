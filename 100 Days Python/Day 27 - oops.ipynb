{
 "cells": [
  {
   "cell_type": "markdown",
   "id": "d1aea8f2",
   "metadata": {},
   "source": [
    "# OBJECT-ORIENTED PROGRAMMING\n",
    "\n",
    "**OOP** is a programming paradigm using objects & classes."
   ]
  },
  {
   "cell_type": "markdown",
   "id": "44e2b621",
   "metadata": {},
   "source": [
    "### The Observation"
   ]
  },
  {
   "cell_type": "code",
   "execution_count": 5,
   "id": "80e3d462",
   "metadata": {},
   "outputs": [],
   "source": [
    "L = [1, 2, 3, 4]"
   ]
  },
  {
   "cell_type": "code",
   "execution_count": 6,
   "id": "6c188f58",
   "metadata": {},
   "outputs": [
    {
     "data": {
      "text/plain": [
       "[1, 2, 3, 4]"
      ]
     },
     "execution_count": 6,
     "metadata": {},
     "output_type": "execute_result"
    }
   ],
   "source": [
    "L"
   ]
  },
  {
   "cell_type": "code",
   "execution_count": 7,
   "id": "0ea4d9b0",
   "metadata": {},
   "outputs": [
    {
     "ename": "AttributeError",
     "evalue": "'list' object has no attribute 'upper'",
     "output_type": "error",
     "traceback": [
      "\u001b[1;31m---------------------------------------------------------------------------\u001b[0m",
      "\u001b[1;31mAttributeError\u001b[0m                            Traceback (most recent call last)",
      "Cell \u001b[1;32mIn[7], line 1\u001b[0m\n\u001b[1;32m----> 1\u001b[0m \u001b[43mL\u001b[49m\u001b[38;5;241;43m.\u001b[39;49m\u001b[43mupper\u001b[49m()\n",
      "\u001b[1;31mAttributeError\u001b[0m: 'list' object has no attribute 'upper'"
     ]
    }
   ],
   "source": [
    "L.upper()"
   ]
  },
  {
   "cell_type": "code",
   "execution_count": 10,
   "id": "e6b54c36",
   "metadata": {},
   "outputs": [],
   "source": [
    "city = 'Kolkata'"
   ]
  },
  {
   "cell_type": "code",
   "execution_count": 11,
   "id": "da09b00a",
   "metadata": {},
   "outputs": [
    {
     "ename": "AttributeError",
     "evalue": "'str' object has no attribute 'append'",
     "output_type": "error",
     "traceback": [
      "\u001b[1;31m---------------------------------------------------------------------------\u001b[0m",
      "\u001b[1;31mAttributeError\u001b[0m                            Traceback (most recent call last)",
      "Cell \u001b[1;32mIn[11], line 1\u001b[0m\n\u001b[1;32m----> 1\u001b[0m \u001b[43mcity\u001b[49m\u001b[38;5;241;43m.\u001b[39;49m\u001b[43mappend\u001b[49m(\u001b[38;5;124m'\u001b[39m\u001b[38;5;124ma\u001b[39m\u001b[38;5;124m'\u001b[39m)\n",
      "\u001b[1;31mAttributeError\u001b[0m: 'str' object has no attribute 'append'"
     ]
    }
   ],
   "source": [
    "city.append('a')"
   ]
  },
  {
   "cell_type": "code",
   "execution_count": 14,
   "id": "f4ad0821",
   "metadata": {},
   "outputs": [],
   "source": [
    "a = 3"
   ]
  },
  {
   "cell_type": "code",
   "execution_count": 15,
   "id": "2cd2f972",
   "metadata": {},
   "outputs": [
    {
     "ename": "AttributeError",
     "evalue": "'int' object has no attribute 'upper'",
     "output_type": "error",
     "traceback": [
      "\u001b[1;31m---------------------------------------------------------------------------\u001b[0m",
      "\u001b[1;31mAttributeError\u001b[0m                            Traceback (most recent call last)",
      "Cell \u001b[1;32mIn[15], line 1\u001b[0m\n\u001b[1;32m----> 1\u001b[0m \u001b[43ma\u001b[49m\u001b[38;5;241;43m.\u001b[39;49m\u001b[43mupper\u001b[49m()\n",
      "\u001b[1;31mAttributeError\u001b[0m: 'int' object has no attribute 'upper'"
     ]
    }
   ],
   "source": [
    "a.upper()"
   ]
  },
  {
   "cell_type": "markdown",
   "id": "4e3e4472",
   "metadata": {},
   "source": [
    "### \"Everything in Python is an Object\"\n",
    "\n",
    "### But, What is an Object?\n",
    "\n",
    "### What is OOP?\n",
    "\n",
    "### The PROBLEM!\n",
    "\n",
    "### Generality to Specificity\n",
    "\n",
    "**The Core Fundamental Feature of OOP:**\n",
    "\n",
    "*\"One of the core fundamental features of OOP is the ability to create **Custom Data Types** tailored to specific needs (e.g., LinkedIn platform).*\n",
    "\n",
    "**Without OOP:**\n",
    "- **Reliance on primitive data types:** `int`, `list`, `tuple`.\n",
    "- **Less optimal** Not tailored, harder to manage.\n",
    "\n",
    "**With OOP:**\n",
    "- **Custom Types:** Efficient, intuitive, scalable.\n",
    "- **Encapsulation:** Better feature management.\n",
    "- **Manageable Codebase**.\n",
    "\n",
    "### So, What is Object Oriented Programming?\n",
    "\n",
    "***Key Concepts of OOP:***\n",
    "- **Object**\n",
    "- **Class**\n",
    "- **Polymorphism**\n",
    "- **Encapsulation**\n",
    "- **Inheritance**\n",
    "- **Abstraction**"
   ]
  },
  {
   "cell_type": "markdown",
   "id": "9c2ef276",
   "metadata": {},
   "source": [
    "## CLASS\n",
    "\n",
    "- Blueprint for objects\n",
    "- Defines object behavior\n",
    "\n",
    "*(from now onwards variable == object)*"
   ]
  },
  {
   "cell_type": "code",
   "execution_count": 22,
   "id": "8b2438db",
   "metadata": {},
   "outputs": [],
   "source": [
    "a = 2"
   ]
  },
  {
   "cell_type": "code",
   "execution_count": 23,
   "id": "a486d556",
   "metadata": {},
   "outputs": [
    {
     "data": {
      "text/plain": [
       "int"
      ]
     },
     "execution_count": 23,
     "metadata": {},
     "output_type": "execute_result"
    }
   ],
   "source": [
    "type(a)"
   ]
  },
  {
   "cell_type": "code",
   "execution_count": 24,
   "id": "aac7c7eb",
   "metadata": {},
   "outputs": [
    {
     "data": {
      "text/plain": [
       "[1, 2, 3, 4]"
      ]
     },
     "execution_count": 24,
     "metadata": {},
     "output_type": "execute_result"
    }
   ],
   "source": [
    "L"
   ]
  },
  {
   "cell_type": "markdown",
   "id": "02d662de",
   "metadata": {},
   "source": [
    "In Python,\n",
    "\n",
    "Datatype = Class\n",
    "\n",
    "Variable = Object of Class"
   ]
  },
  {
   "cell_type": "markdown",
   "id": "2a92ea92",
   "metadata": {},
   "source": [
    "**Class:**\n",
    "\n",
    "1. **Attributes**: Data/Properties\n",
    "2. **Methods**: Functions/Behavior"
   ]
  },
  {
   "cell_type": "markdown",
   "id": "0b766920",
   "metadata": {},
   "source": [
    "### Class Basic Structure"
   ]
  },
  {
   "cell_type": "code",
   "execution_count": 30,
   "id": "f9e40447",
   "metadata": {},
   "outputs": [],
   "source": [
    "class Car:\n",
    "    color = \"blue\"   # data\n",
    "    model = \"sports\" # data\n",
    "    def calculate_avg_speed(km, time): # method\n",
    "        # some code"
   ]
  },
  {
   "cell_type": "code",
   "execution_count": 31,
   "id": "1ae0d964",
   "metadata": {},
   "outputs": [],
   "source": [
    "# Naming Conventions:\n",
    "\n",
    "Class names    ---> PascalCase\n",
    "\n",
    "Data/functions ---> snake_case\n",
    "\n",
    "# Examples:\n",
    "\n",
    "PascalCase     ---> ThisIsPascalCase\n",
    "\n",
    "CamelCase      ---> thisIsCamelCase\n",
    "\n",
    "snake_case     ---> snake_case"
   ]
  },
  {
   "cell_type": "code",
   "execution_count": 32,
   "id": "cf16f761",
   "metadata": {},
   "outputs": [],
   "source": [
    "Class Representation:\n",
    "\n",
    "+-------------------------+ \n",
    "|          - Car          |\n",
    "|-------------------------| \n",
    "|         - Color         | \n",
    "|        - mileage        | # attributes/data (private)\n",
    "|         - engine        |\n",
    "|-------------------------|\n",
    "|     + cal_avg_speed     | \n",
    "|     + open_airbags      | # methods/functions (public)\n",
    "|       + show_gps        |\n",
    "+-------------------------+"
   ]
  },
  {
   "cell_type": "markdown",
   "id": "1537ff50",
   "metadata": {},
   "source": [
    "## OBJECT\n",
    "\n",
    "**Object** is an instance of a **Class**\n",
    "\n",
    "**Class** is the data type; **Object** is a variable of a **Class**"
   ]
  },
  {
   "cell_type": "code",
   "execution_count": null,
   "id": "ec75a0f8",
   "metadata": {},
   "outputs": [],
   "source": [
    "# Object Examples:\n",
    "\n",
    "1. Car     ---> WagonR      | wagonr     = Car()\n",
    "2. Sports  ---> Gilli Danda | gillidanda = Sports()\n",
    "3. Animals ---> Langoor     | langoor    = Animals()"
   ]
  },
  {
   "cell_type": "code",
   "execution_count": 36,
   "id": "afb88c39",
   "metadata": {},
   "outputs": [],
   "source": [
    "L = [1, 2, 3] # Obj Literal ---> Built-in classes"
   ]
  },
  {
   "cell_type": "code",
   "execution_count": 37,
   "id": "7acce28d",
   "metadata": {},
   "outputs": [
    {
     "data": {
      "text/plain": [
       "[1, 2, 3]"
      ]
     },
     "execution_count": 37,
     "metadata": {},
     "output_type": "execute_result"
    }
   ],
   "source": [
    "L"
   ]
  },
  {
   "cell_type": "code",
   "execution_count": 38,
   "id": "86ac6db7",
   "metadata": {},
   "outputs": [],
   "source": [
    "L = list()"
   ]
  },
  {
   "cell_type": "code",
   "execution_count": 39,
   "id": "b1385fab",
   "metadata": {},
   "outputs": [
    {
     "data": {
      "text/plain": [
       "[]"
      ]
     },
     "execution_count": 39,
     "metadata": {},
     "output_type": "execute_result"
    }
   ],
   "source": [
    "L"
   ]
  },
  {
   "cell_type": "code",
   "execution_count": 40,
   "id": "9933cee4",
   "metadata": {},
   "outputs": [],
   "source": [
    "city = str()"
   ]
  },
  {
   "cell_type": "code",
   "execution_count": 41,
   "id": "2e9f9cc0",
   "metadata": {},
   "outputs": [
    {
     "data": {
      "text/plain": [
       "''"
      ]
     },
     "execution_count": 41,
     "metadata": {},
     "output_type": "execute_result"
    }
   ],
   "source": [
    "city"
   ]
  },
  {
   "cell_type": "markdown",
   "id": "91725ee7",
   "metadata": {},
   "source": [
    "### Practical Implementation of Class and Object"
   ]
  },
  {
   "cell_type": "markdown",
   "id": "6dba711d",
   "metadata": {},
   "source": [
    "### Lets Create a Class"
   ]
  },
  {
   "cell_type": "code",
   "execution_count": 45,
   "id": "3abc8873",
   "metadata": {},
   "outputs": [],
   "source": [
    "Functions Vs Methods:\n",
    "\n",
    "Methods   ---> Defined inside a class.\n",
    "          ---> Accessed via object of the class.\n",
    "\n",
    "Functions ---> Not inside a class.\n",
    "          ---> General, accessible everywhere."
   ]
  },
  {
   "cell_type": "code",
   "execution_count": 46,
   "id": "c78b0f2c",
   "metadata": {},
   "outputs": [
    {
     "data": {
      "text/plain": [
       "0"
      ]
     },
     "execution_count": 46,
     "metadata": {},
     "output_type": "execute_result"
    }
   ],
   "source": [
    "len(L) ---> Function\n",
    "            General-purpose, applicable to types like `str`, `int`."
   ]
  },
  {
   "cell_type": "code",
   "execution_count": 47,
   "id": "64411151",
   "metadata": {},
   "outputs": [],
   "source": [
    "L.append(1) ---> Method\n",
    "                 Defined in `list` class; usable only with `list` objects."
   ]
  },
  {
   "cell_type": "code",
   "execution_count": 48,
   "id": "4865403b",
   "metadata": {},
   "outputs": [
    {
     "data": {
      "text/plain": [
       "[1]"
      ]
     },
     "execution_count": 48,
     "metadata": {},
     "output_type": "execute_result"
    }
   ],
   "source": [
    "L"
   ]
  },
  {
   "cell_type": "markdown",
   "id": "b004719f",
   "metadata": {},
   "source": [
    "*Functions Inside Class will be called Methods.*"
   ]
  },
  {
   "cell_type": "code",
   "execution_count": 68,
   "id": "b7dc6b27",
   "metadata": {},
   "outputs": [],
   "source": [
    "class Atm:\n",
    "    __counter = 1 # static/class var\n",
    "    \n",
    "    def __init__(self): # `__init__` ---> Constructor\n",
    "                        # Special method inside a class.\n",
    "                        # Initializes instance members.\n",
    "                        # Executes automatically on object creation.\n",
    "\n",
    "        self.__pin = \"\"\n",
    "        self.__balance = 0\n",
    "        \n",
    "        self.sno = Atm.counter # instance var\n",
    "        Atm.__counter = Atm.__counter + 1\n",
    "        print(id(self))\n",
    "        # self.__menu()\n",
    "    \n",
    "    @staticmethod\n",
    "    def get_counter():\n",
    "        return Atm.__counter\n",
    "    \n",
    "    @staticmethod\n",
    "    def set_counter(new):\n",
    "        if type(new) == int:\n",
    "            Atm.__counter = new\n",
    "        else:\n",
    "            print('Not Allowed')\n",
    "    \n",
    "    def get_pin(self):\n",
    "        return self.__pin\n",
    "    \n",
    "    def set_pin(self, new_pin):\n",
    "        if type(new_pin) == str:\n",
    "            self.__pin = new_pin\n",
    "            print(\"Pin changed\")\n",
    "        else:\n",
    "            print(\"Not allowed\")\n",
    "        \n",
    "    def __menu(self):\n",
    "        user_input = input(\"\"\"\n",
    "                    Hello, how would you like to proceed?\n",
    "                    1. Enter 1 to create pin\n",
    "                    2. Enter 2 to deposit\n",
    "                    3. Enter 3 to withdraw\n",
    "                    4. Enter 4 to check balance\n",
    "                    5. Enter 5 to exit\n",
    "        \"\"\")\n",
    "        if user_input == \"1\":\n",
    "            self.create_pin()\n",
    "        elif user_input == \"2\":\n",
    "            self.deposit()\n",
    "        elif user_input == \"3\":\n",
    "            self.withdraw()\n",
    "        elif user_input == \"4\":\n",
    "            self.check_balance()\n",
    "        else:\n",
    "            print(\"bye\")\n",
    "            \n",
    "    def create_pin(self):\n",
    "        self.__pin = input(\"Enter your pin: \")\n",
    "        print(\"Pin set successfully\")\n",
    "        \n",
    "    def deposit(self):\n",
    "        temp = input(\"Enter your pin: \")\n",
    "        if temp == self.__pin:\n",
    "            amount = int(input(\"Enter the amount: \"))\n",
    "            self.__balance = self.__balance + amount\n",
    "            print(\"Deposit successful\")\n",
    "        else:\n",
    "            print(\"Invalid pin\")\n",
    "    \n",
    "    def withdraw(self):\n",
    "        temp = input(\"Enter your pin: \")\n",
    "        if temp == self.__pin:\n",
    "            amount = int(input(\"Enter the amount: \"))\n",
    "            if amount <= self.__balance:\n",
    "                self.__balance = self.__balance - amount\n",
    "                print(\"Operation successful\")\n",
    "            else:\n",
    "                print(\"insufficient funds\")\n",
    "        else:\n",
    "            print(\"invalid pin\")\n",
    "    \n",
    "    def check_balance(self):\n",
    "        temp = input(\"Enter your pin: \")\n",
    "        if temp == self.__pin:\n",
    "            print(self.__balance)\n",
    "        else:\n",
    "            print(\"invalid pin\")"
   ]
  },
  {
   "cell_type": "code",
   "execution_count": 75,
   "id": "a4e36438",
   "metadata": {
    "scrolled": true
   },
   "outputs": [
    {
     "name": "stdout",
     "output_type": "stream",
     "text": [
      "\n",
      "                    Hello, how would you like to proceed?\n",
      "                    1. Enter 1 to create pin\n",
      "                    2. Enter 2 to deposit\n",
      "                    3. Enter 3 to withdraw\n",
      "                    4. Enter 4 to check balance\n",
      "                    5. Enter 5 to exit\n",
      "        1\n",
      "Enter your pin: 1234\n",
      "Pin set successfully\n"
     ]
    }
   ],
   "source": [
    "sbi = Atm()"
   ]
  },
  {
   "cell_type": "code",
   "execution_count": 55,
   "id": "7b8569c3",
   "metadata": {},
   "outputs": [
    {
     "name": "stdout",
     "output_type": "stream",
     "text": [
      "Enter your pin: 1234\n",
      "Enter the amount: 50000\n",
      "Deposit successful\n"
     ]
    }
   ],
   "source": [
    "sbi.deposit()"
   ]
  },
  {
   "cell_type": "code",
   "execution_count": 56,
   "id": "5d5cfe4a",
   "metadata": {},
   "outputs": [
    {
     "name": "stdout",
     "output_type": "stream",
     "text": [
      "Enter your pin: 1234\n",
      "50000\n"
     ]
    }
   ],
   "source": [
    "sbi.check_balance()"
   ]
  },
  {
   "cell_type": "code",
   "execution_count": 57,
   "id": "b0802b6e",
   "metadata": {},
   "outputs": [
    {
     "name": "stdout",
     "output_type": "stream",
     "text": [
      "Enter your pin: 1234\n",
      "Enter the amount: 25000\n",
      "Operation successful\n"
     ]
    }
   ],
   "source": [
    "sbi.withdraw()"
   ]
  },
  {
   "cell_type": "code",
   "execution_count": 58,
   "id": "eb2230d6",
   "metadata": {},
   "outputs": [
    {
     "name": "stdout",
     "output_type": "stream",
     "text": [
      "Enter your pin: 1234\n",
      "25000\n"
     ]
    }
   ],
   "source": [
    "sbi.check_balance()"
   ]
  },
  {
   "cell_type": "code",
   "execution_count": 59,
   "id": "61bbc1ae",
   "metadata": {},
   "outputs": [
    {
     "name": "stdout",
     "output_type": "stream",
     "text": [
      "2104822250560\n",
      "\n",
      "                    Hello, how would you like to proceed?\n",
      "                    1. Enter 1 to create pin\n",
      "                    2. Enter 2 to deposit\n",
      "                    3. Enter 3 to withdraw\n",
      "                    4. Enter 4 to check balance\n",
      "                    5. Enter 5 to exit\n",
      "        1\n",
      "Enter your pin: 2345\n",
      "Pin set successfully\n"
     ]
    }
   ],
   "source": [
    "hdfc = Atm()"
   ]
  },
  {
   "cell_type": "code",
   "execution_count": 60,
   "id": "6f76964d",
   "metadata": {
    "scrolled": true
   },
   "outputs": [
    {
     "name": "stdout",
     "output_type": "stream",
     "text": [
      "Enter your pin: 2345\n",
      "Enter the amount: 100000\n",
      "Deposit successful\n"
     ]
    }
   ],
   "source": [
    "hdfc.deposit()"
   ]
  },
  {
   "cell_type": "code",
   "execution_count": 61,
   "id": "ac85a9ca",
   "metadata": {},
   "outputs": [
    {
     "name": "stdout",
     "output_type": "stream",
     "text": [
      "Enter your pin: 1234\n",
      "25000\n"
     ]
    }
   ],
   "source": [
    "sbi.check_balance()"
   ]
  },
  {
   "cell_type": "code",
   "execution_count": 62,
   "id": "f5961b5a",
   "metadata": {},
   "outputs": [
    {
     "name": "stdout",
     "output_type": "stream",
     "text": [
      "Enter your pin: 2345\n",
      "100000\n"
     ]
    }
   ],
   "source": [
    "hdfc.check_balance()"
   ]
  },
  {
   "cell_type": "code",
   "execution_count": 65,
   "id": "3bf2755a",
   "metadata": {},
   "outputs": [],
   "source": [
    "# Constructor ---> Special/Magic/Dunder Methods"
   ]
  },
  {
   "cell_type": "code",
   "execution_count": 66,
   "id": "55fe1545",
   "metadata": {},
   "outputs": [
    {
     "data": {
      "text/plain": [
       "['__abs__',\n",
       " '__add__',\n",
       " '__and__',\n",
       " '__bool__',\n",
       " '__ceil__',\n",
       " '__class__',\n",
       " '__delattr__',\n",
       " '__dir__',\n",
       " '__divmod__',\n",
       " '__doc__',\n",
       " '__eq__',\n",
       " '__float__',\n",
       " '__floor__',\n",
       " '__floordiv__',\n",
       " '__format__',\n",
       " '__ge__',\n",
       " '__getattribute__',\n",
       " '__getnewargs__',\n",
       " '__gt__',\n",
       " '__hash__',\n",
       " '__index__',\n",
       " '__init__',\n",
       " '__init_subclass__',\n",
       " '__int__',\n",
       " '__invert__',\n",
       " '__le__',\n",
       " '__lshift__',\n",
       " '__lt__',\n",
       " '__mod__',\n",
       " '__mul__',\n",
       " '__ne__',\n",
       " '__neg__',\n",
       " '__new__',\n",
       " '__or__',\n",
       " '__pos__',\n",
       " '__pow__',\n",
       " '__radd__',\n",
       " '__rand__',\n",
       " '__rdivmod__',\n",
       " '__reduce__',\n",
       " '__reduce_ex__',\n",
       " '__repr__',\n",
       " '__rfloordiv__',\n",
       " '__rlshift__',\n",
       " '__rmod__',\n",
       " '__rmul__',\n",
       " '__ror__',\n",
       " '__round__',\n",
       " '__rpow__',\n",
       " '__rrshift__',\n",
       " '__rshift__',\n",
       " '__rsub__',\n",
       " '__rtruediv__',\n",
       " '__rxor__',\n",
       " '__setattr__',\n",
       " '__sizeof__',\n",
       " '__str__',\n",
       " '__sub__',\n",
       " '__subclasshook__',\n",
       " '__truediv__',\n",
       " '__trunc__',\n",
       " '__xor__',\n",
       " 'as_integer_ratio',\n",
       " 'bit_count',\n",
       " 'bit_length',\n",
       " 'conjugate',\n",
       " 'denominator',\n",
       " 'from_bytes',\n",
       " 'imag',\n",
       " 'numerator',\n",
       " 'real',\n",
       " 'to_bytes']"
      ]
     },
     "execution_count": 66,
     "metadata": {},
     "output_type": "execute_result"
    }
   ],
   "source": [
    "dir(int)"
   ]
  },
  {
   "cell_type": "markdown",
   "id": "1af52cba",
   "metadata": {},
   "source": [
    "### Magic Methods\n",
    "\n",
    "Predefined (e.g., `__and__`, `__bool__`, `__float__`)\n",
    "\n",
    "Triggered automatically, not called directly by objects.\n",
    "\n",
    "*Constructor is a magic method invoked during object creation.*"
   ]
  },
  {
   "cell_type": "code",
   "execution_count": 72,
   "id": "165cf91e",
   "metadata": {},
   "outputs": [],
   "source": [
    "# What is Utility of Constructor?\n",
    "\n",
    "Special method auto-executed at app start.\n",
    "\n",
    "Handles ---> DB/Internet/Hardware connectivity\n",
    "             Initial configurations"
   ]
  },
  {
   "cell_type": "code",
   "execution_count": 73,
   "id": "371b61fc",
   "metadata": {},
   "outputs": [],
   "source": [
    "# Highly Philosophical Perspective:\n",
    "\n",
    "If World  == Class\n",
    "   God    == Programmer\n",
    "   Humans == Object\n",
    " \n",
    "Code Not Controlled by Humans == ?\n",
    "\n",
    "Breathing, Eating, Drinking is under human control\n",
    "\n",
    "But, ---> D E A T H\n",
    "\n",
    "Death is controlled by constructor (God)\n",
    "\n",
    "constructor's code includes death at birth"
   ]
  },
  {
   "cell_type": "markdown",
   "id": "8b243f3e",
   "metadata": {},
   "source": [
    "### `self`"
   ]
  },
  {
   "cell_type": "code",
   "execution_count": 77,
   "id": "68bbb52f",
   "metadata": {},
   "outputs": [
    {
     "name": "stdout",
     "output_type": "stream",
     "text": [
      "2104822251232\n",
      "\n",
      "                    Hello, how would you like to proceed?\n",
      "                    1. Enter 1 to create pin\n",
      "                    2. Enter 2 to deposit\n",
      "                    3. Enter 3 to withdraw\n",
      "                    4. Enter 4 to check balance\n",
      "                    5. Enter 5 to exit\n",
      "        5\n",
      "bye\n"
     ]
    }
   ],
   "source": [
    "sbi = Atm()"
   ]
  },
  {
   "cell_type": "code",
   "execution_count": 60,
   "id": "aa2bfc1d",
   "metadata": {
    "scrolled": true
   },
   "outputs": [
    {
     "data": {
      "text/plain": [
       "2658947923632"
      ]
     },
     "execution_count": 60,
     "metadata": {},
     "output_type": "execute_result"
    }
   ],
   "source": [
    "id(sbi)"
   ]
  },
  {
   "cell_type": "code",
   "execution_count": 78,
   "id": "44b850ad",
   "metadata": {},
   "outputs": [],
   "source": [
    "# sbi = self"
   ]
  },
  {
   "cell_type": "code",
   "execution_count": 79,
   "id": "bb3189fc",
   "metadata": {},
   "outputs": [
    {
     "name": "stdout",
     "output_type": "stream",
     "text": [
      "2104822248976\n",
      "\n",
      "                    Hello, how would you like to proceed?\n",
      "                    1. Enter 1 to create pin\n",
      "                    2. Enter 2 to deposit\n",
      "                    3. Enter 3 to withdraw\n",
      "                    4. Enter 4 to check balance\n",
      "                    5. Enter 5 to exit\n",
      "        5\n",
      "bye\n"
     ]
    }
   ],
   "source": [
    "hdfc = Atm()"
   ]
  },
  {
   "cell_type": "code",
   "execution_count": 80,
   "id": "371dc2c3",
   "metadata": {},
   "outputs": [
    {
     "data": {
      "text/plain": [
       "2104822248976"
      ]
     },
     "execution_count": 80,
     "metadata": {},
     "output_type": "execute_result"
    }
   ],
   "source": [
    "id(hdfc)"
   ]
  },
  {
   "cell_type": "code",
   "execution_count": 81,
   "id": "8b13bb7d",
   "metadata": {},
   "outputs": [],
   "source": [
    "# hdfc = self"
   ]
  },
  {
   "cell_type": "code",
   "execution_count": 82,
   "id": "b8955a1d",
   "metadata": {},
   "outputs": [
    {
     "data": {
      "text/plain": [
       "2104822251232"
      ]
     },
     "execution_count": 82,
     "metadata": {},
     "output_type": "execute_result"
    }
   ],
   "source": [
    "id(sbi)"
   ]
  },
  {
   "cell_type": "markdown",
   "id": "d8136859",
   "metadata": {},
   "source": [
    "*`self` refers to the current object instance.*"
   ]
  },
  {
   "cell_type": "markdown",
   "id": "12ddcc38",
   "metadata": {},
   "source": [
    "### The need of self\n",
    "\n",
    "`class` holds data & methods; access via object.\n",
    "\n",
    "`self` refers to current object; needed for inter-method/data access within a class.\n",
    "\n",
    "Methods can't access other methods/data directly without `self`."
   ]
  },
  {
   "cell_type": "markdown",
   "id": "2d9664a5",
   "metadata": {},
   "source": [
    "### Creating Custom Data Type (Fraction) & Corresponding Methods to Add, Sub, Mul and Divide Fractions"
   ]
  },
  {
   "cell_type": "code",
   "execution_count": 13,
   "id": "695599ee",
   "metadata": {},
   "outputs": [],
   "source": [
    "class Fraction:\n",
    "    \n",
    "    def __init__(self, n, d):\n",
    "        self.num = n\n",
    "        self.den = d\n",
    "        \n",
    "    def __str__(self):\n",
    "        return\"{}/{}\".format(self.num, self.den)\n",
    "    \n",
    "    def __add__(self, other):\n",
    "        temp_num = self.num * other.den + other.num * self.den\n",
    "        temp_den = self.den * other.den\n",
    "        return\"{}/{}\".format(temp_num, temp_den)\n",
    "    \n",
    "    def __sub__(self, other):\n",
    "        temp_num = self.num * other.den - other.num * self.den\n",
    "        temp_den = self.den * other.den\n",
    "        return\"{}/{}\".format(temp_num, temp_den)\n",
    "    \n",
    "    def __mul__(self, other):\n",
    "        temp_num = self.num * other.num\n",
    "        temp_den = self.den * other.den\n",
    "        return\"{}/{}\".format(temp_num, temp_den)\n",
    "    \n",
    "    def __truediv__(self, other):\n",
    "        temp_num = self.num * other.den\n",
    "        temp_den = self.den * other.num\n",
    "        return\"{}/{}\".format(temp_num, temp_den)"
   ]
  },
  {
   "cell_type": "code",
   "execution_count": 91,
   "id": "375e35f5",
   "metadata": {},
   "outputs": [],
   "source": [
    "x = Fraction(4, 5)"
   ]
  },
  {
   "cell_type": "code",
   "execution_count": 92,
   "id": "121062a8",
   "metadata": {},
   "outputs": [
    {
     "name": "stdout",
     "output_type": "stream",
     "text": [
      "4/5\n"
     ]
    }
   ],
   "source": [
    "print(x)"
   ]
  },
  {
   "cell_type": "code",
   "execution_count": 93,
   "id": "a62734da",
   "metadata": {},
   "outputs": [
    {
     "data": {
      "text/plain": [
       "__main__.Fraction"
      ]
     },
     "execution_count": 93,
     "metadata": {},
     "output_type": "execute_result"
    }
   ],
   "source": [
    "type(x)"
   ]
  },
  {
   "cell_type": "code",
   "execution_count": 94,
   "id": "3409492a",
   "metadata": {},
   "outputs": [],
   "source": [
    "y = Fraction(5, 6)"
   ]
  },
  {
   "cell_type": "code",
   "execution_count": 95,
   "id": "05572ca4",
   "metadata": {},
   "outputs": [
    {
     "name": "stdout",
     "output_type": "stream",
     "text": [
      "5/6\n"
     ]
    }
   ],
   "source": [
    "print(y)"
   ]
  },
  {
   "cell_type": "code",
   "execution_count": 96,
   "id": "eab042c4",
   "metadata": {},
   "outputs": [],
   "source": [
    "L = [1, 2, 3, x]"
   ]
  },
  {
   "cell_type": "code",
   "execution_count": 97,
   "id": "58c9dc66",
   "metadata": {},
   "outputs": [
    {
     "data": {
      "text/plain": [
       "[1, 2, 3, <__main__.Fraction at 0x1ea112eb4f0>]"
      ]
     },
     "execution_count": 97,
     "metadata": {},
     "output_type": "execute_result"
    }
   ],
   "source": [
    "L"
   ]
  },
  {
   "cell_type": "code",
   "execution_count": 98,
   "id": "cf351012",
   "metadata": {},
   "outputs": [
    {
     "name": "stdout",
     "output_type": "stream",
     "text": [
      "49/30\n"
     ]
    }
   ],
   "source": [
    "print(x + y)"
   ]
  },
  {
   "cell_type": "code",
   "execution_count": 99,
   "id": "78c0db00",
   "metadata": {},
   "outputs": [
    {
     "name": "stdout",
     "output_type": "stream",
     "text": [
      "-1/30\n"
     ]
    }
   ],
   "source": [
    "print(x - y)"
   ]
  },
  {
   "cell_type": "code",
   "execution_count": 100,
   "id": "6429a1c9",
   "metadata": {},
   "outputs": [
    {
     "name": "stdout",
     "output_type": "stream",
     "text": [
      "20/30\n"
     ]
    }
   ],
   "source": [
    "print(x * y)"
   ]
  },
  {
   "cell_type": "code",
   "execution_count": 101,
   "id": "6c47984e",
   "metadata": {},
   "outputs": [
    {
     "name": "stdout",
     "output_type": "stream",
     "text": [
      "24/25\n"
     ]
    }
   ],
   "source": [
    "print(x / y)"
   ]
  },
  {
   "cell_type": "markdown",
   "id": "b7d4fd7a",
   "metadata": {},
   "source": [
    "## ENCAPSULATION"
   ]
  },
  {
   "cell_type": "markdown",
   "id": "7515ca8e",
   "metadata": {},
   "source": [
    "### Instance Variable\n",
    "\n",
    "Unique value per object.\n",
    "\n",
    "Defined inside the constructor (e.g., `self.pin`, `self.balance`).\n",
    "\n",
    "Different values for each object."
   ]
  },
  {
   "cell_type": "code",
   "execution_count": 106,
   "id": "b9463fa7",
   "metadata": {},
   "outputs": [
    {
     "name": "stdout",
     "output_type": "stream",
     "text": [
      "2104822248160\n",
      "\n",
      "                    Hello, how would you like to proceed?\n",
      "                    1. Enter 1 to create pin\n",
      "                    2. Enter 2 to deposit\n",
      "                    3. Enter 3 to withdraw\n",
      "                    4. Enter 4 to check balance\n",
      "                    5. Enter 5 to exit\n",
      "        1\n",
      "Enter your pin: 1234\n",
      "Pin set successfully\n"
     ]
    }
   ],
   "source": [
    "sbi = Atm()"
   ]
  },
  {
   "cell_type": "code",
   "execution_count": 107,
   "id": "3da4e335",
   "metadata": {},
   "outputs": [
    {
     "data": {
      "text/plain": [
       "0"
      ]
     },
     "execution_count": 107,
     "metadata": {},
     "output_type": "execute_result"
    }
   ],
   "source": [
    "sbi.balance"
   ]
  },
  {
   "cell_type": "code",
   "execution_count": 108,
   "id": "7f5a3075",
   "metadata": {},
   "outputs": [],
   "source": [
    "sbi.balance = 'ahjhaja'"
   ]
  },
  {
   "cell_type": "code",
   "execution_count": 109,
   "id": "1a5d08c7",
   "metadata": {},
   "outputs": [
    {
     "name": "stdout",
     "output_type": "stream",
     "text": [
      "Enter your pin: 1234\n",
      "Enter the amount: 50000\n"
     ]
    },
    {
     "ename": "TypeError",
     "evalue": "can only concatenate str (not \"int\") to str",
     "output_type": "error",
     "traceback": [
      "\u001b[1;31m---------------------------------------------------------------------------\u001b[0m",
      "\u001b[1;31mTypeError\u001b[0m                                 Traceback (most recent call last)",
      "Cell \u001b[1;32mIn[109], line 1\u001b[0m\n\u001b[1;32m----> 1\u001b[0m \u001b[43msbi\u001b[49m\u001b[38;5;241;43m.\u001b[39;49m\u001b[43mdeposit\u001b[49m\u001b[43m(\u001b[49m\u001b[43m)\u001b[49m\n",
      "Cell \u001b[1;32mIn[76], line 54\u001b[0m, in \u001b[0;36mAtm.deposit\u001b[1;34m(self)\u001b[0m\n\u001b[0;32m     52\u001b[0m \u001b[38;5;28;01mif\u001b[39;00m temp \u001b[38;5;241m==\u001b[39m \u001b[38;5;28mself\u001b[39m\u001b[38;5;241m.\u001b[39mpin:\n\u001b[0;32m     53\u001b[0m     amount \u001b[38;5;241m=\u001b[39m \u001b[38;5;28mint\u001b[39m(\u001b[38;5;28minput\u001b[39m(\u001b[38;5;124m\"\u001b[39m\u001b[38;5;124mEnter the amount: \u001b[39m\u001b[38;5;124m\"\u001b[39m))\n\u001b[1;32m---> 54\u001b[0m     \u001b[38;5;28mself\u001b[39m\u001b[38;5;241m.\u001b[39mbalance \u001b[38;5;241m=\u001b[39m \u001b[38;5;28;43mself\u001b[39;49m\u001b[38;5;241;43m.\u001b[39;49m\u001b[43mbalance\u001b[49m\u001b[43m \u001b[49m\u001b[38;5;241;43m+\u001b[39;49m\u001b[43m \u001b[49m\u001b[43mamount\u001b[49m\n\u001b[0;32m     55\u001b[0m     \u001b[38;5;28mprint\u001b[39m(\u001b[38;5;124m\"\u001b[39m\u001b[38;5;124mDeposit successful\u001b[39m\u001b[38;5;124m\"\u001b[39m)\n\u001b[0;32m     56\u001b[0m \u001b[38;5;28;01melse\u001b[39;00m:\n",
      "\u001b[1;31mTypeError\u001b[0m: can only concatenate str (not \"int\") to str"
     ]
    }
   ],
   "source": [
    "sbi.deposit()"
   ]
  },
  {
   "cell_type": "code",
   "execution_count": 95,
   "id": "c691fd18",
   "metadata": {},
   "outputs": [],
   "source": [
    "# Class Data Encapsulation:\n",
    "\n",
    "Data should not be left exposed in a class.\n",
    "\n",
    "Java   ---> Use access modifiers (e.g., `private`) to hide data.\n",
    "\n",
    "Python ---> Use `__` prefix (e.g., `self.__pin`, `self.__balance`) for data hiding."
   ]
  },
  {
   "cell_type": "code",
   "execution_count": 111,
   "id": "44aef1be",
   "metadata": {},
   "outputs": [
    {
     "name": "stdout",
     "output_type": "stream",
     "text": [
      "2104822398544\n",
      "\n",
      "                    Hello, how would you like to proceed?\n",
      "                    1. Enter 1 to create pin\n",
      "                    2. Enter 2 to deposit\n",
      "                    3. Enter 3 to withdraw\n",
      "                    4. Enter 4 to check balance\n",
      "                    5. Enter 5 to exit\n",
      "        1\n",
      "Enter your pin: 1234\n",
      "Pin set successfully\n"
     ]
    }
   ],
   "source": [
    "sbi = Atm()"
   ]
  },
  {
   "cell_type": "markdown",
   "id": "957970c9",
   "metadata": {},
   "source": [
    "*Class Design ---> Hide (Encapsulate ) data members & Hide non-public methods.*"
   ]
  },
  {
   "cell_type": "code",
   "execution_count": 113,
   "id": "47a8e0f1",
   "metadata": {},
   "outputs": [],
   "source": [
    "# Python Name Mangling:\n",
    "\n",
    "How does it hide? What happens behind the scenes?\n",
    "\n",
    "Atm\n",
    "__pin\n",
    "\n",
    "python interpreter internally converts __pin ---> _Atm__pin\n",
    "\n",
    "Why?\n",
    "Name mangling to prevent direct access."
   ]
  },
  {
   "cell_type": "code",
   "execution_count": 115,
   "id": "81cbc422",
   "metadata": {},
   "outputs": [],
   "source": [
    "sbi.__balance = \"abcdefg\""
   ]
  },
  {
   "cell_type": "code",
   "execution_count": 116,
   "id": "69a81f7b",
   "metadata": {},
   "outputs": [
    {
     "name": "stdout",
     "output_type": "stream",
     "text": [
      "Enter your pin: 1234\n",
      "Enter the amount: 50000\n",
      "Deposit successful\n"
     ]
    }
   ],
   "source": [
    "sbi.deposit()"
   ]
  },
  {
   "cell_type": "code",
   "execution_count": 117,
   "id": "88b56b26",
   "metadata": {},
   "outputs": [
    {
     "name": "stdout",
     "output_type": "stream",
     "text": [
      "Enter your pin: 1234\n",
      "50000\n"
     ]
    }
   ],
   "source": [
    "sbi.check_balance() # no error"
   ]
  },
  {
   "cell_type": "code",
   "execution_count": 118,
   "id": "641ce23b",
   "metadata": {},
   "outputs": [],
   "source": [
    "the above code worked because,\n",
    "\n",
    "`__balance` ---> `_Atm__balance` (name mangling)\n",
    "\n",
    "`sbi.__balance` = `\"\"`, creates `__balance` in `Atm` but unused.\n",
    "\n",
    "`__balance` not used; `_Atm__balance` is used.\n",
    "\n",
    "`__balance` creation doesn't affect code logic due to `__balance` not being utilized.\n",
    "\n",
    "Code logic remains unchanged; class functionality remains unaffected."
   ]
  },
  {
   "cell_type": "code",
   "execution_count": 119,
   "id": "27a73351",
   "metadata": {},
   "outputs": [],
   "source": [
    "# Suprising thing:\n",
    "\n",
    "sbi._Atm__balance = \"wgwwg\""
   ]
  },
  {
   "cell_type": "code",
   "execution_count": 120,
   "id": "1a5332bc",
   "metadata": {},
   "outputs": [
    {
     "name": "stdout",
     "output_type": "stream",
     "text": [
      "Enter your pin: 1234\n",
      "Enter the amount: 50000\n"
     ]
    },
    {
     "ename": "TypeError",
     "evalue": "can only concatenate str (not \"int\") to str",
     "output_type": "error",
     "traceback": [
      "\u001b[1;31m---------------------------------------------------------------------------\u001b[0m",
      "\u001b[1;31mTypeError\u001b[0m                                 Traceback (most recent call last)",
      "Cell \u001b[1;32mIn[120], line 1\u001b[0m\n\u001b[1;32m----> 1\u001b[0m \u001b[43msbi\u001b[49m\u001b[38;5;241;43m.\u001b[39;49m\u001b[43mdeposit\u001b[49m\u001b[43m(\u001b[49m\u001b[43m)\u001b[49m\n",
      "Cell \u001b[1;32mIn[110], line 54\u001b[0m, in \u001b[0;36mAtm.deposit\u001b[1;34m(self)\u001b[0m\n\u001b[0;32m     52\u001b[0m \u001b[38;5;28;01mif\u001b[39;00m temp \u001b[38;5;241m==\u001b[39m \u001b[38;5;28mself\u001b[39m\u001b[38;5;241m.\u001b[39m__pin:\n\u001b[0;32m     53\u001b[0m     amount \u001b[38;5;241m=\u001b[39m \u001b[38;5;28mint\u001b[39m(\u001b[38;5;28minput\u001b[39m(\u001b[38;5;124m\"\u001b[39m\u001b[38;5;124mEnter the amount: \u001b[39m\u001b[38;5;124m\"\u001b[39m))\n\u001b[1;32m---> 54\u001b[0m     \u001b[38;5;28mself\u001b[39m\u001b[38;5;241m.\u001b[39m__balance \u001b[38;5;241m=\u001b[39m \u001b[38;5;28;43mself\u001b[39;49m\u001b[38;5;241;43m.\u001b[39;49m\u001b[43m__balance\u001b[49m\u001b[43m \u001b[49m\u001b[38;5;241;43m+\u001b[39;49m\u001b[43m \u001b[49m\u001b[43mamount\u001b[49m\n\u001b[0;32m     55\u001b[0m     \u001b[38;5;28mprint\u001b[39m(\u001b[38;5;124m\"\u001b[39m\u001b[38;5;124mDeposit successful\u001b[39m\u001b[38;5;124m\"\u001b[39m)\n\u001b[0;32m     56\u001b[0m \u001b[38;5;28;01melse\u001b[39;00m:\n",
      "\u001b[1;31mTypeError\u001b[0m: can only concatenate str (not \"int\") to str"
     ]
    }
   ],
   "source": [
    "sbi.deposit() # code crashed"
   ]
  },
  {
   "cell_type": "code",
   "execution_count": 125,
   "id": "4efb6d10",
   "metadata": {},
   "outputs": [],
   "source": [
    "# Python Variable Privacy:\n",
    "\n",
    "`__balance` ---> Name-mangled to `_Atm__balance`.\n",
    "\n",
    "_Truly private_ is not a concept in Python.\n",
    "\n",
    "`__balance` is _pseudo-private_, but accessible via `_Atm__balance` if known."
   ]
  },
  {
   "cell_type": "markdown",
   "id": "a122484c",
   "metadata": {},
   "source": [
    "Reason for Why \"**Nothing in Python is Truly Private**\"?\n",
    "\n",
    "*\"Python targets adults; privacy is a convention, not enforcement.\"*\n",
    "\n",
    "`__balance` indicates intent for privacy; **convention**\n",
    "\n",
    "`__` prefix suggests private elements; use with caution, understanding implications."
   ]
  },
  {
   "cell_type": "code",
   "execution_count": 130,
   "id": "515ac683",
   "metadata": {},
   "outputs": [],
   "source": [
    "Also, for every Data Members we can create 2 Functions:\n",
    "\n",
    "Getter ---> Retrieve value\n",
    "         &\n",
    "Setter ---> Update value\n",
    "\n",
    "Although we have hidden Pin and Balance,\n",
    "But if needed, `get_pin()` & `set_pin()` to get and set pin."
   ]
  },
  {
   "cell_type": "code",
   "execution_count": 145,
   "id": "a37fc9bd",
   "metadata": {},
   "outputs": [
    {
     "name": "stdout",
     "output_type": "stream",
     "text": [
      "2104822263728\n",
      "\n",
      "                    Hello, how would you like to proceed?\n",
      "                    1. Enter 1 to create pin\n",
      "                    2. Enter 2 to deposit\n",
      "                    3. Enter 3 to withdraw\n",
      "                    4. Enter 4 to check balance\n",
      "                    5. Enter 5 to exit\n",
      "        1\n",
      "Enter your pin: 1234\n",
      "Pin set successfully\n"
     ]
    }
   ],
   "source": [
    "sbi = Atm()"
   ]
  },
  {
   "cell_type": "code",
   "execution_count": 134,
   "id": "6fdea0a1",
   "metadata": {},
   "outputs": [
    {
     "data": {
      "text/plain": [
       "'1234'"
      ]
     },
     "execution_count": 134,
     "metadata": {},
     "output_type": "execute_result"
    }
   ],
   "source": [
    "sbi.get_pin()"
   ]
  },
  {
   "cell_type": "code",
   "execution_count": 135,
   "id": "e200ea90",
   "metadata": {},
   "outputs": [
    {
     "name": "stdout",
     "output_type": "stream",
     "text": [
      "Pin changed\n"
     ]
    }
   ],
   "source": [
    "sbi.set_pin(\"235235\")"
   ]
  },
  {
   "cell_type": "code",
   "execution_count": 136,
   "id": "6d77f50e",
   "metadata": {},
   "outputs": [
    {
     "data": {
      "text/plain": [
       "'235235'"
      ]
     },
     "execution_count": 136,
     "metadata": {},
     "output_type": "execute_result"
    }
   ],
   "source": [
    "sbi.get_pin()"
   ]
  },
  {
   "cell_type": "code",
   "execution_count": 137,
   "id": "df45beb9",
   "metadata": {},
   "outputs": [],
   "source": [
    "# let's set a Rule ---> PIN must be a String"
   ]
  },
  {
   "cell_type": "code",
   "execution_count": 146,
   "id": "18ee3482",
   "metadata": {},
   "outputs": [
    {
     "name": "stdout",
     "output_type": "stream",
     "text": [
      "Pin Changed\n"
     ]
    }
   ],
   "source": [
    "sbi.set_pin(5.6)"
   ]
  },
  {
   "cell_type": "code",
   "execution_count": 147,
   "id": "021db209",
   "metadata": {},
   "outputs": [
    {
     "data": {
      "text/plain": [
       "5.6"
      ]
     },
     "execution_count": 147,
     "metadata": {},
     "output_type": "execute_result"
    }
   ],
   "source": [
    "sbi.get_pin()"
   ]
  },
  {
   "cell_type": "code",
   "execution_count": 150,
   "id": "a4a595c4",
   "metadata": {},
   "outputs": [],
   "source": [
    "Whats the purpose of `get` and `set` functions if,\n",
    "`sbi.set_pin` & `sbi.pin` ---> Same functionality\n",
    "\n",
    "Purpose ---> Hide Data & Control Access (Encapsulation)\n",
    "\n",
    "controlled access (sbi.get_pin/sbi.set_pin) vs. direct access (sbi.pin)\n",
    "\n",
    "Input values are processed through functions this allows logical control over data."
   ]
  },
  {
   "cell_type": "code",
   "execution_count": 151,
   "id": "65cbbf6b",
   "metadata": {},
   "outputs": [
    {
     "name": "stdout",
     "output_type": "stream",
     "text": [
      "2104815840384\n",
      "\n",
      "                    Hello, how would you like to proceed?\n",
      "                    1. Enter 1 to create pin\n",
      "                    2. Enter 2 to deposit\n",
      "                    3. Enter 3 to withdraw\n",
      "                    4. Enter 4 to check balance\n",
      "                    5. Enter 5 to exit\n",
      "        1\n",
      "Enter your pin: 1234\n",
      "Pin set successfully\n"
     ]
    }
   ],
   "source": [
    "sbi = Atm()"
   ]
  },
  {
   "cell_type": "code",
   "execution_count": 152,
   "id": "2b9f6246",
   "metadata": {},
   "outputs": [
    {
     "name": "stdout",
     "output_type": "stream",
     "text": [
      "Not allowed\n"
     ]
    }
   ],
   "source": [
    "sbi.set_pin(5.6)"
   ]
  },
  {
   "cell_type": "code",
   "execution_count": 153,
   "id": "cc63d58b",
   "metadata": {},
   "outputs": [
    {
     "name": "stdout",
     "output_type": "stream",
     "text": [
      "Pin changed\n"
     ]
    }
   ],
   "source": [
    "sbi.set_pin(\"2345\") # Encapsulation"
   ]
  },
  {
   "cell_type": "code",
   "execution_count": 155,
   "id": "faca111d",
   "metadata": {},
   "outputs": [],
   "source": [
    "Summary:\n",
    "\n",
    "The whole idea is to prevent direct public access to data to avoid breaches.\n",
    "\n",
    "Solution:\n",
    "Hide data using `__`.\n",
    "\n",
    "if anyone wants access, must follow 2 methods:\n",
    "1. `get` ---> Fetch value.\n",
    "2. `set` ---> Modify value under set conditions.\n",
    "        \n",
    "Protecting our Data, Access Data via Functions, Set Data via Logic.\n",
    "\n",
    "Concept ---> Encapsulation i.e. Protect and Access data through controlled methods.\n",
    "\n",
    "Use getter and setter functions.\n",
    "\n",
    "Data is protected and accessible through controlled means."
   ]
  },
  {
   "cell_type": "code",
   "execution_count": 156,
   "id": "ebed9a8e",
   "metadata": {},
   "outputs": [],
   "source": [
    "Class diagram:\n",
    "\n",
    "+-------------------------------------+\n",
    "|              - Atm                  |\n",
    "|-------------------------------------|\n",
    "|              - pin                  |\n",
    "|            - balance                | \n",
    "|-------------------------------------|\n",
    "|           - __init__()              |\n",
    "|              - menu                 |\n",
    "|           + change_pin()            |     \n",
    "|             + deposit               |\n",
    "|             + withdraw              |\n",
    "|          + check_balance()          |\n",
    "+-------------------------------------+"
   ]
  },
  {
   "cell_type": "markdown",
   "id": "a20a56c5",
   "metadata": {},
   "source": [
    "### Reference Variable"
   ]
  },
  {
   "cell_type": "code",
   "execution_count": 157,
   "id": "814a0749",
   "metadata": {},
   "outputs": [
    {
     "name": "stdout",
     "output_type": "stream",
     "text": [
      "2104822426656\n",
      "\n",
      "                    Hello, how would you like to proceed?\n",
      "                    1. Enter 1 to create pin\n",
      "                    2. Enter 2 to deposit\n",
      "                    3. Enter 3 to withdraw\n",
      "                    4. Enter 4 to check balance\n",
      "                    5. Enter 5 to exit\n",
      "        1\n",
      "Enter your pin: 1234\n",
      "Pin set successfully\n"
     ]
    },
    {
     "data": {
      "text/plain": [
       "<__main__.Atm at 0x1ea11316c20>"
      ]
     },
     "execution_count": 157,
     "metadata": {},
     "output_type": "execute_result"
    }
   ],
   "source": [
    "Atm()"
   ]
  },
  {
   "cell_type": "code",
   "execution_count": 162,
   "id": "88d36fc4",
   "metadata": {},
   "outputs": [],
   "source": [
    "Object created but unusable.\n",
    "\n",
    "Reason ---> Not stored in any variable.\n",
    "\n",
    "Result ---> Object lost, memory inaccessible."
   ]
  },
  {
   "cell_type": "code",
   "execution_count": 163,
   "id": "22b95218",
   "metadata": {},
   "outputs": [
    {
     "name": "stdout",
     "output_type": "stream",
     "text": [
      "2104851242224\n",
      "\n",
      "                    Hello, how would you like to proceed?\n",
      "                    1. Enter 1 to create pin\n",
      "                    2. Enter 2 to deposit\n",
      "                    3. Enter 3 to withdraw\n",
      "                    4. Enter 4 to check balance\n",
      "                    5. Enter 5 to exit\n",
      "        1\n",
      "Enter your pin: 1234\n",
      "Pin set successfully\n"
     ]
    }
   ],
   "source": [
    "# whenever creating object, write this code:\n",
    "\n",
    "sbi = Atm()"
   ]
  },
  {
   "cell_type": "code",
   "execution_count": 165,
   "id": "87774fd7",
   "metadata": {},
   "outputs": [],
   "source": [
    "# Reference vs. Object:\n",
    "\n",
    "reference ---> `sbi`\n",
    "object    ---> `Atm()`\n",
    "\n",
    "`sbi` ≠ object\n",
    "`sbi` is a reference variable\n",
    "`sbi` points to the memory address of the actual object `Atm()`"
   ]
  },
  {
   "cell_type": "markdown",
   "id": "cdd1dd77",
   "metadata": {},
   "source": [
    "### Pass by Reference"
   ]
  },
  {
   "cell_type": "code",
   "execution_count": 194,
   "id": "92861667",
   "metadata": {},
   "outputs": [
    {
     "name": "stdout",
     "output_type": "stream",
     "text": [
      "Nitish\n"
     ]
    }
   ],
   "source": [
    "class Customer:\n",
    "    def __init__(self, name):\n",
    "        self.name = name\n",
    "\n",
    "cust = Customer(\"Nitish\")\n",
    "print(cust.name)"
   ]
  },
  {
   "cell_type": "code",
   "execution_count": 196,
   "id": "0a07a3a2",
   "metadata": {},
   "outputs": [
    {
     "name": "stdout",
     "output_type": "stream",
     "text": [
      "Hello Nitish\n"
     ]
    }
   ],
   "source": [
    "class Customer:\n",
    "    def __init__(self, name):\n",
    "        self.name = name\n",
    "\n",
    "def greet(customer):\n",
    "    print(\"Hello\", customer.name)\n",
    "        \n",
    "cust = Customer(\"Nitish\")\n",
    "greet(cust)\n",
    "\n",
    "# Passed class object 'cust' to 'greet()'\n",
    "# Function receives object, accesses its attributes"
   ]
  },
  {
   "cell_type": "code",
   "execution_count": 197,
   "id": "cc9967eb",
   "metadata": {
    "scrolled": true
   },
   "outputs": [
    {
     "name": "stdout",
     "output_type": "stream",
     "text": [
      "Hello Nitish sir\n"
     ]
    }
   ],
   "source": [
    "class Customer:\n",
    "    def __init__(self, name, gender):\n",
    "        self.name = name\n",
    "        self.gender = gender\n",
    "\n",
    "def greet(customer):\n",
    "    if customer.gender == \"Male\":\n",
    "        print(\"Hello\", customer.name, \"sir\")\n",
    "    else:\n",
    "        print(\"Hello\", customer.name, \"ma'am\")\n",
    "        \n",
    "cust = Customer(\"Nitish\", \"Male\")\n",
    "greet(cust)"
   ]
  },
  {
   "cell_type": "markdown",
   "id": "b7216fe8",
   "metadata": {},
   "source": [
    "In Python, all data types(e.g., int, str, list, dict) are object.\n",
    "\n",
    "Custom class instances = objects too.\n",
    "\n",
    "Everything in Python is an object and behaves uniformly."
   ]
  },
  {
   "cell_type": "code",
   "execution_count": 199,
   "id": "219002b4",
   "metadata": {},
   "outputs": [
    {
     "name": "stdout",
     "output_type": "stream",
     "text": [
      "Hello Ankita ma'am\n",
      "Nitish\n"
     ]
    }
   ],
   "source": [
    "class Customer:\n",
    "    def __init__(self, name, gender):\n",
    "        self.name = name\n",
    "        self.gender = gender\n",
    "\n",
    "def greet(customer):\n",
    "    if customer.gender == \"Male\":\n",
    "        print(\"Hello\", customer.name, \"sir\")\n",
    "    else:\n",
    "        print(\"Hello\", customer.name, \"ma'am\")\n",
    "    \n",
    "    cust2 = Customer(\"Nitish\", \"Male\")\n",
    "    return cust2\n",
    "        \n",
    "cust = Customer(\"Ankita\", \"Female\")\n",
    "new_cust = greet(cust)\n",
    "print(new_cust.name)"
   ]
  },
  {
   "cell_type": "markdown",
   "id": "b8430485",
   "metadata": {},
   "source": [
    "### learned 2 concepts\n",
    "\n",
    "1. Class Object as Argument: Pass own class objects as function arguments.\n",
    "\n",
    "2. Class Object as Return: Functions can return class objects.\n",
    "\n",
    "Custom class objects = int, str, dict, list in behavior."
   ]
  },
  {
   "cell_type": "code",
   "execution_count": 213,
   "id": "5a3cb2d6",
   "metadata": {},
   "outputs": [
    {
     "name": "stdout",
     "output_type": "stream",
     "text": [
      "2104851621072\n"
     ]
    }
   ],
   "source": [
    "# Pass by Reference:\n",
    "\n",
    "class Customer:\n",
    "    def __init__(self, name):\n",
    "        self.name = name\n",
    "        \n",
    "def greet(customer):\n",
    "    pass\n",
    "\n",
    "cust = Customer(\"Ankita\")\n",
    "print(id(cust))"
   ]
  },
  {
   "cell_type": "code",
   "execution_count": 220,
   "id": "02f13086",
   "metadata": {},
   "outputs": [
    {
     "name": "stdout",
     "output_type": "stream",
     "text": [
      "2104856055520\n",
      "2104856055520\n"
     ]
    }
   ],
   "source": [
    "class Customer:\n",
    "    def __init__(self, name):\n",
    "        self.name = name\n",
    "        \n",
    "def greet(customer):\n",
    "    print(id(customer))\n",
    "\n",
    "cust = Customer(\"Ankita\")\n",
    "print(id(cust))\n",
    "greet(cust)"
   ]
  },
  {
   "cell_type": "code",
   "execution_count": 221,
   "id": "392c3d23",
   "metadata": {},
   "outputs": [],
   "source": [
    "# Aliasing:\n",
    "\n",
    "a = 3\n",
    "b = a"
   ]
  },
  {
   "cell_type": "code",
   "execution_count": 222,
   "id": "d67b8c31",
   "metadata": {},
   "outputs": [
    {
     "data": {
      "text/plain": [
       "2104739692848"
      ]
     },
     "execution_count": 222,
     "metadata": {},
     "output_type": "execute_result"
    }
   ],
   "source": [
    "id(a)"
   ]
  },
  {
   "cell_type": "code",
   "execution_count": 223,
   "id": "72eb94ac",
   "metadata": {},
   "outputs": [
    {
     "data": {
      "text/plain": [
       "2104739692848"
      ]
     },
     "execution_count": 223,
     "metadata": {},
     "output_type": "execute_result"
    }
   ],
   "source": [
    "id(b)"
   ]
  },
  {
   "cell_type": "code",
   "execution_count": 224,
   "id": "85c150dd",
   "metadata": {},
   "outputs": [],
   "source": [
    "(customer)----->(Object)<--------(cust)\n",
    "|                                     |\n",
    "|                                     |\n",
    "|                                     |\n",
    "+---------------(greet)---------------+"
   ]
  },
  {
   "cell_type": "code",
   "execution_count": 225,
   "id": "46791fd2",
   "metadata": {},
   "outputs": [
    {
     "name": "stdout",
     "output_type": "stream",
     "text": [
      "Nitish\n"
     ]
    }
   ],
   "source": [
    "class Customer:\n",
    "    def __init__(self, name):\n",
    "        self.name = name\n",
    "        \n",
    "def greet(customer):\n",
    "    customer.name = \"Nitish\"\n",
    "    print(customer.name)\n",
    "\n",
    "cust = Customer(\"Ankita\")\n",
    "greet(cust)"
   ]
  },
  {
   "cell_type": "code",
   "execution_count": 226,
   "id": "f8c11ad9",
   "metadata": {},
   "outputs": [
    {
     "name": "stdout",
     "output_type": "stream",
     "text": [
      "Nitish\n",
      "Nitish\n"
     ]
    }
   ],
   "source": [
    "class Customer:\n",
    "    def __init__(self, name):\n",
    "        self.name = name\n",
    "        \n",
    "def greet(customer):\n",
    "    customer.name = \"Nitish\"\n",
    "    print(customer.name)\n",
    "\n",
    "cust = Customer(\"Saurabh\")\n",
    "greet(cust)\n",
    "print(cust.name)"
   ]
  },
  {
   "cell_type": "code",
   "execution_count": null,
   "id": "449d9f87",
   "metadata": {},
   "outputs": [],
   "source": [
    "# Object Mutation in Functions:\n",
    "\n",
    "Passing obj to func ---> func modifies obj ---> Original obj reflects changes."
   ]
  },
  {
   "cell_type": "code",
   "execution_count": 228,
   "id": "c53b535f",
   "metadata": {},
   "outputs": [
    {
     "name": "stdout",
     "output_type": "stream",
     "text": [
      "2104856063344\n",
      "2104856063344\n",
      "Nitish\n",
      "2104856063344\n",
      "Nitish\n"
     ]
    }
   ],
   "source": [
    "class Customer:\n",
    "    def __init__(self, name):\n",
    "        self.name = name\n",
    "        \n",
    "def greet(customer):\n",
    "    print(id(customer))\n",
    "    customer.name = \"Nitish\"\n",
    "    print(customer.name)\n",
    "    print(id(customer))\n",
    "\n",
    "cust = Customer(\"Saurabh\")\n",
    "print(id(cust))\n",
    "greet(cust)\n",
    "print(cust.name)"
   ]
  },
  {
   "cell_type": "markdown",
   "id": "7ed377fa",
   "metadata": {},
   "source": [
    "*class objects are mutable like lists, dict, sets.*"
   ]
  },
  {
   "cell_type": "code",
   "execution_count": 230,
   "id": "951c7acf",
   "metadata": {},
   "outputs": [
    {
     "name": "stdout",
     "output_type": "stream",
     "text": [
      "2104871192768\n",
      "[1, 2, 3, 4]\n",
      "2104871192768\n",
      "2104871192768\n",
      "[1, 2, 3, 4, 5]\n"
     ]
    }
   ],
   "source": [
    "def change(L):\n",
    "    print(id(L))\n",
    "    L.append(5)\n",
    "    print(id(L))\n",
    "\n",
    "L1 = [1, 2, 3, 4]\n",
    "print(id(L1))\n",
    "print(L1)\n",
    "\n",
    "change(L1)\n",
    "\n",
    "print(L1)"
   ]
  },
  {
   "cell_type": "code",
   "execution_count": 231,
   "id": "27ec065d",
   "metadata": {
    "scrolled": true
   },
   "outputs": [
    {
     "name": "stdout",
     "output_type": "stream",
     "text": [
      "2104855834176\n",
      "[1, 2, 3, 4]\n",
      "2104820330304\n",
      "2104820330304\n",
      "[1, 2, 3, 4]\n"
     ]
    }
   ],
   "source": [
    "def change(L):\n",
    "    print(id(L))\n",
    "    L.append(5)\n",
    "    print(id(L))\n",
    "\n",
    "L1 = [1, 2, 3, 4]\n",
    "print(id(L1))\n",
    "print(L1)\n",
    "\n",
    "change(L1[:])\n",
    "\n",
    "print(L1)"
   ]
  },
  {
   "cell_type": "markdown",
   "id": "41c81c4a",
   "metadata": {},
   "source": [
    "### Function Call - List Passing\n",
    "\n",
    "Avoid passing original list; inter operations may alter the original list.\n",
    "\n",
    "Use \"cloning\" to prevent external changes."
   ]
  },
  {
   "cell_type": "code",
   "execution_count": 233,
   "id": "c72468cf",
   "metadata": {
    "scrolled": true
   },
   "outputs": [
    {
     "name": "stdout",
     "output_type": "stream",
     "text": [
      "2104855459008\n",
      "(1, 2, 3, 4)\n",
      "2104855459008\n",
      "2104820526208\n",
      "(1, 2, 3, 4)\n"
     ]
    }
   ],
   "source": [
    "def change(L):\n",
    "    print(id(L))\n",
    "    L = L + (5, 6)\n",
    "    print(id(L))\n",
    "\n",
    "L1 = (1, 2, 3, 4)\n",
    "print(id(L1))\n",
    "print(L1)\n",
    "\n",
    "change(L1)\n",
    "\n",
    "print(L1)"
   ]
  },
  {
   "cell_type": "code",
   "execution_count": 235,
   "id": "f42fa093",
   "metadata": {},
   "outputs": [],
   "source": [
    "Conclusion ---> In Pass by Reference, changes to mutable data types (objects) affect the original.\n",
    "                But in Immutable Types, No effect on the original (int, str) when passed."
   ]
  },
  {
   "cell_type": "markdown",
   "id": "721cfb3b",
   "metadata": {},
   "source": [
    "### Collection of Objects"
   ]
  },
  {
   "cell_type": "code",
   "execution_count": 236,
   "id": "fc7aed01",
   "metadata": {},
   "outputs": [
    {
     "name": "stdout",
     "output_type": "stream",
     "text": [
      "<__main__.Customer object at 0x000001EA138E42E0>\n",
      "<__main__.Customer object at 0x000001EA138E4B50>\n",
      "<__main__.Customer object at 0x000001EA138E42B0>\n"
     ]
    }
   ],
   "source": [
    "class Customer:\n",
    "    def __init__(self, name, age):\n",
    "        self.name = name\n",
    "        self.age = age\n",
    "\n",
    "c1 = Customer(\"Nitish\", 34)\n",
    "c2 = Customer(\"Ankit\", 45)\n",
    "c3 = Customer(\"Neha\", 32)\n",
    "\n",
    "L = [c1, c2, c3]\n",
    "\n",
    "for i in L:\n",
    "    print(i)"
   ]
  },
  {
   "cell_type": "code",
   "execution_count": 239,
   "id": "8cdfd306",
   "metadata": {},
   "outputs": [
    {
     "name": "stdout",
     "output_type": "stream",
     "text": [
      "Nitish 34\n",
      "Ankit 45\n",
      "Neha 32\n"
     ]
    }
   ],
   "source": [
    "for i in L:\n",
    "    print(i.name, i.age)"
   ]
  },
  {
   "cell_type": "code",
   "execution_count": 240,
   "id": "27134d7c",
   "metadata": {},
   "outputs": [
    {
     "name": "stdout",
     "output_type": "stream",
     "text": [
      "I am Nitish and I am 34\n",
      "I am Ankit and I am 45\n",
      "I am Neha and I am 32\n"
     ]
    }
   ],
   "source": [
    "class Customer:\n",
    "    def __init__(self, name, age):\n",
    "        self.name = name\n",
    "        self.age = age\n",
    "    \n",
    "    def intro(self):\n",
    "        print(\"I am\", self.name, \"and I am\", self.age)\n",
    "c1 = Customer(\"Nitish\", 34)\n",
    "c2 = Customer(\"Ankit\", 45)\n",
    "c3 = Customer(\"Neha\", 32)\n",
    "\n",
    "L = [c1, c2, c3]\n",
    "\n",
    "for i in L:\n",
    "    i.intro()"
   ]
  },
  {
   "cell_type": "code",
   "execution_count": 1,
   "id": "d8ad28b5",
   "metadata": {},
   "outputs": [],
   "source": [
    "# Looping & Objects:\n",
    "\n",
    "Loop + List ---> treat list as object; compatible with looping.\n",
    "Dict/Tuple  ---> compatible with loops, same approach as lists in loops.\n",
    "Sets        ---> immutable data types only; incompatible with mutable objects in loops."
   ]
  },
  {
   "cell_type": "markdown",
   "id": "89481e82",
   "metadata": {},
   "source": [
    "***Object Collection:** Lists, tuples, dicts can store custom class objects*"
   ]
  },
  {
   "cell_type": "markdown",
   "id": "8051dcb7",
   "metadata": {},
   "source": [
    "### Static Variables and Methods"
   ]
  },
  {
   "cell_type": "code",
   "execution_count": 2,
   "id": "63ddb12f",
   "metadata": {},
   "outputs": [],
   "source": [
    "# Back to ATM Code Enhancement\n",
    "# Like adding unique serial number for each user."
   ]
  },
  {
   "cell_type": "code",
   "execution_count": 4,
   "id": "126ca776",
   "metadata": {},
   "outputs": [
    {
     "name": "stdout",
     "output_type": "stream",
     "text": [
      "1560691660048\n",
      "\n",
      "                    Hello, how would you like to proceed?\n",
      "                    1. Enter 1 to create pin\n",
      "                    2. Enter 2 to deposit\n",
      "                    3. Enter 3 to withdraw\n",
      "                    4. Enter 4 to check balance\n",
      "                    5. Enter 5 to exit\n",
      "        1\n",
      "Enter your pin: 1234\n",
      "Pin set successfully\n"
     ]
    }
   ],
   "source": [
    "c1 = Atm()"
   ]
  },
  {
   "cell_type": "code",
   "execution_count": 5,
   "id": "e97b259a",
   "metadata": {},
   "outputs": [
    {
     "name": "stdout",
     "output_type": "stream",
     "text": [
      "1560691670224\n",
      "\n",
      "                    Hello, how would you like to proceed?\n",
      "                    1. Enter 1 to create pin\n",
      "                    2. Enter 2 to deposit\n",
      "                    3. Enter 3 to withdraw\n",
      "                    4. Enter 4 to check balance\n",
      "                    5. Enter 5 to exit\n",
      "        1\n",
      "Enter your pin: 2345\n",
      "Pin set successfully\n"
     ]
    }
   ],
   "source": [
    "c2 = Atm()"
   ]
  },
  {
   "cell_type": "code",
   "execution_count": 6,
   "id": "08dd785f",
   "metadata": {},
   "outputs": [
    {
     "name": "stdout",
     "output_type": "stream",
     "text": [
      "1560691668832\n",
      "\n",
      "                    Hello, how would you like to proceed?\n",
      "                    1. Enter 1 to create pin\n",
      "                    2. Enter 2 to deposit\n",
      "                    3. Enter 3 to withdraw\n",
      "                    4. Enter 4 to check balance\n",
      "                    5. Enter 5 to exit\n",
      "        1\n",
      "Enter your pin: 3456\n",
      "Pin set successfully\n"
     ]
    }
   ],
   "source": [
    "c3 = Atm()"
   ]
  },
  {
   "cell_type": "code",
   "execution_count": 7,
   "id": "e32bc324",
   "metadata": {},
   "outputs": [
    {
     "data": {
      "text/plain": [
       "1"
      ]
     },
     "execution_count": 7,
     "metadata": {},
     "output_type": "execute_result"
    }
   ],
   "source": [
    "c1.sno"
   ]
  },
  {
   "cell_type": "code",
   "execution_count": 8,
   "id": "85914808",
   "metadata": {},
   "outputs": [
    {
     "data": {
      "text/plain": [
       "1"
      ]
     },
     "execution_count": 8,
     "metadata": {},
     "output_type": "execute_result"
    }
   ],
   "source": [
    "c2.sno"
   ]
  },
  {
   "cell_type": "code",
   "execution_count": 9,
   "id": "c5299abb",
   "metadata": {},
   "outputs": [
    {
     "data": {
      "text/plain": [
       "1"
      ]
     },
     "execution_count": 9,
     "metadata": {},
     "output_type": "execute_result"
    }
   ],
   "source": [
    "c3.sno"
   ]
  },
  {
   "cell_type": "code",
   "execution_count": 10,
   "id": "00bab439",
   "metadata": {},
   "outputs": [],
   "source": [
    "Code Issue: Constructor Reinitialization\n",
    "\n",
    "Problem:   `self.sno` resets on each object creation.\n",
    "\n",
    "`self.sno = 0`  ---> Re-initializes on each object creation.\n",
    "\n",
    "`self.sno += 1` ---> No persistent increment, always starts at 0."
   ]
  },
  {
   "cell_type": "markdown",
   "id": "bc135fe1",
   "metadata": {},
   "source": [
    "### Variable Types\n",
    "\n",
    "**1. Instance Variable:** Unique per object (e.g., pin, balance, GPA).\n",
    "\n",
    "**2. Static/Class Variable:** Same across objects (e.g., IFSC code, Degree no.)."
   ]
  },
  {
   "cell_type": "code",
   "execution_count": 14,
   "id": "f35d5a29",
   "metadata": {},
   "outputs": [],
   "source": [
    "# Now for this ATM Code we will create a Static Variable\n",
    "\n",
    "Note ---> Static Variable is Defined outside constructor.\n",
    "          Instance Variable is Defined inside constructor."
   ]
  },
  {
   "cell_type": "code",
   "execution_count": 27,
   "id": "6bf2d5cd",
   "metadata": {},
   "outputs": [],
   "source": [
    "To access instance var     ---> `self.var`\n",
    "\n",
    "To access class/static var ---> `Class.var`\n",
    "\n",
    "`self.sno`    = `Atm.counter`\n",
    "\n",
    "`Atm.counter` += `1`"
   ]
  },
  {
   "cell_type": "code",
   "execution_count": 39,
   "id": "4a3eb73e",
   "metadata": {},
   "outputs": [
    {
     "name": "stdout",
     "output_type": "stream",
     "text": [
      "1560691776512\n"
     ]
    }
   ],
   "source": [
    "c1 = Atm()"
   ]
  },
  {
   "cell_type": "code",
   "execution_count": 40,
   "id": "322a85cd",
   "metadata": {},
   "outputs": [
    {
     "name": "stdout",
     "output_type": "stream",
     "text": [
      "1560691780544\n"
     ]
    }
   ],
   "source": [
    "c2 = Atm()"
   ]
  },
  {
   "cell_type": "code",
   "execution_count": 41,
   "id": "96feed44",
   "metadata": {},
   "outputs": [
    {
     "name": "stdout",
     "output_type": "stream",
     "text": [
      "1560691770128\n"
     ]
    }
   ],
   "source": [
    "c3 = Atm()"
   ]
  },
  {
   "cell_type": "code",
   "execution_count": 42,
   "id": "a3d678ca",
   "metadata": {},
   "outputs": [
    {
     "data": {
      "text/plain": [
       "1"
      ]
     },
     "execution_count": 42,
     "metadata": {},
     "output_type": "execute_result"
    }
   ],
   "source": [
    "c1.sno"
   ]
  },
  {
   "cell_type": "code",
   "execution_count": 43,
   "id": "82eb856f",
   "metadata": {},
   "outputs": [
    {
     "data": {
      "text/plain": [
       "2"
      ]
     },
     "execution_count": 43,
     "metadata": {},
     "output_type": "execute_result"
    }
   ],
   "source": [
    "c2.sno"
   ]
  },
  {
   "cell_type": "code",
   "execution_count": 44,
   "id": "d493a552",
   "metadata": {},
   "outputs": [
    {
     "data": {
      "text/plain": [
       "3"
      ]
     },
     "execution_count": 44,
     "metadata": {},
     "output_type": "execute_result"
    }
   ],
   "source": [
    "c3.sno"
   ]
  },
  {
   "cell_type": "code",
   "execution_count": 45,
   "id": "61f51e7b",
   "metadata": {},
   "outputs": [
    {
     "data": {
      "text/plain": [
       "4"
      ]
     },
     "execution_count": 45,
     "metadata": {},
     "output_type": "execute_result"
    }
   ],
   "source": [
    "c3.counter # counter value in memory = 4"
   ]
  },
  {
   "cell_type": "code",
   "execution_count": 46,
   "id": "17676239",
   "metadata": {},
   "outputs": [
    {
     "data": {
      "text/plain": [
       "4"
      ]
     },
     "execution_count": 46,
     "metadata": {},
     "output_type": "execute_result"
    }
   ],
   "source": [
    "c2.counter"
   ]
  },
  {
   "cell_type": "code",
   "execution_count": 47,
   "id": "c4a67d59",
   "metadata": {},
   "outputs": [
    {
     "data": {
      "text/plain": [
       "4"
      ]
     },
     "execution_count": 47,
     "metadata": {},
     "output_type": "execute_result"
    }
   ],
   "source": [
    "c1.counter"
   ]
  },
  {
   "cell_type": "code",
   "execution_count": 48,
   "id": "4cf8926a",
   "metadata": {},
   "outputs": [
    {
     "data": {
      "text/plain": [
       "4"
      ]
     },
     "execution_count": 48,
     "metadata": {},
     "output_type": "execute_result"
    }
   ],
   "source": [
    "Atm.counter"
   ]
  },
  {
   "cell_type": "markdown",
   "id": "0ddfc41d",
   "metadata": {},
   "source": [
    "### Static Variables Need\n",
    "\n",
    "- Shared data (e.g., bank/college name)\n",
    "- Object-wide counters\n",
    "- Use static variables for shared/static data"
   ]
  },
  {
   "cell_type": "code",
   "execution_count": 52,
   "id": "7b161f0f",
   "metadata": {},
   "outputs": [
    {
     "data": {
      "text/plain": [
       "1"
      ]
     },
     "execution_count": 52,
     "metadata": {},
     "output_type": "execute_result"
    }
   ],
   "source": [
    "Atm.counter"
   ]
  },
  {
   "cell_type": "code",
   "execution_count": 53,
   "id": "cf155248",
   "metadata": {},
   "outputs": [],
   "source": [
    "Atm.counter = 'wrgwrg'"
   ]
  },
  {
   "cell_type": "code",
   "execution_count": 54,
   "id": "95f887f1",
   "metadata": {},
   "outputs": [
    {
     "ename": "TypeError",
     "evalue": "can only concatenate str (not \"int\") to str",
     "output_type": "error",
     "traceback": [
      "\u001b[1;31m---------------------------------------------------------------------------\u001b[0m",
      "\u001b[1;31mTypeError\u001b[0m                                 Traceback (most recent call last)",
      "Cell \u001b[1;32mIn[54], line 1\u001b[0m\n\u001b[1;32m----> 1\u001b[0m c1 \u001b[38;5;241m=\u001b[39m \u001b[43mAtm\u001b[49m\u001b[43m(\u001b[49m\u001b[43m)\u001b[49m\n",
      "Cell \u001b[1;32mIn[51], line 15\u001b[0m, in \u001b[0;36mAtm.__init__\u001b[1;34m(self)\u001b[0m\n\u001b[0;32m     12\u001b[0m \u001b[38;5;28mself\u001b[39m\u001b[38;5;241m.\u001b[39m__balance \u001b[38;5;241m=\u001b[39m \u001b[38;5;241m0\u001b[39m\n\u001b[0;32m     14\u001b[0m \u001b[38;5;28mself\u001b[39m\u001b[38;5;241m.\u001b[39msno \u001b[38;5;241m=\u001b[39m Atm\u001b[38;5;241m.\u001b[39mcounter \u001b[38;5;66;03m# instance variable\u001b[39;00m\n\u001b[1;32m---> 15\u001b[0m Atm\u001b[38;5;241m.\u001b[39mcounter \u001b[38;5;241m=\u001b[39m \u001b[43mAtm\u001b[49m\u001b[38;5;241;43m.\u001b[39;49m\u001b[43mcounter\u001b[49m\u001b[43m \u001b[49m\u001b[38;5;241;43m+\u001b[39;49m\u001b[43m \u001b[49m\u001b[38;5;241;43m1\u001b[39;49m\n\u001b[0;32m     17\u001b[0m \u001b[38;5;28mprint\u001b[39m(\u001b[38;5;28mid\u001b[39m(\u001b[38;5;28mself\u001b[39m))\n",
      "\u001b[1;31mTypeError\u001b[0m: can only concatenate str (not \"int\") to str"
     ]
    }
   ],
   "source": [
    "c1 = Atm()"
   ]
  },
  {
   "cell_type": "code",
   "execution_count": 73,
   "id": "44d63213",
   "metadata": {},
   "outputs": [],
   "source": [
    "# Solution ---> Add `__counter` = 1 in Atm class.\n",
    "\n",
    "def __init__(self):\n",
    "    self.__pin = \"\"\n",
    "    self.__balance = 0\n",
    "    self.sno = Atm.__counter\n",
    "    Atm.__counter += 1\n",
    "\n",
    "# Changes now immutable.\n",
    "# But, need to update counter functionality.\n",
    "\n",
    "def get_counter(self):\n",
    "    return Atm.__counter\n",
    "\n",
    "def set_counter(self, new):\n",
    "    if isinstance(new, int):\n",
    "        Atm.__counter = new\n",
    "    else:\n",
    "        print('Not Allowed')"
   ]
  },
  {
   "cell_type": "code",
   "execution_count": 56,
   "id": "6e7024ea",
   "metadata": {},
   "outputs": [
    {
     "ename": "TypeError",
     "evalue": "Atm.get_counter() missing 1 required positional argument: 'self'",
     "output_type": "error",
     "traceback": [
      "\u001b[1;31m---------------------------------------------------------------------------\u001b[0m",
      "\u001b[1;31mTypeError\u001b[0m                                 Traceback (most recent call last)",
      "Cell \u001b[1;32mIn[56], line 1\u001b[0m\n\u001b[1;32m----> 1\u001b[0m \u001b[43mAtm\u001b[49m\u001b[38;5;241;43m.\u001b[39;49m\u001b[43mget_counter\u001b[49m\u001b[43m(\u001b[49m\u001b[43m)\u001b[49m\n",
      "\u001b[1;31mTypeError\u001b[0m: Atm.get_counter() missing 1 required positional argument: 'self'"
     ]
    }
   ],
   "source": [
    "Atm.get_counter()"
   ]
  },
  {
   "cell_type": "code",
   "execution_count": 74,
   "id": "11214326",
   "metadata": {},
   "outputs": [],
   "source": [
    "# Static Methods:\n",
    "\n",
    "In `get_counter()`; no `self` needed; uses class var.\n",
    "\n",
    "Static methods don’t take self; use @staticmethod decorator.\n",
    "\n",
    "`@staticmethod` ---> Methods that doesn’t require object instance for access.\n",
    "\n",
    "@staticmethod\n",
    "def get_counter():\n",
    "    return Atm.__counter\n",
    "    \n",
    "@staticmethod\n",
    "def set_counter(new):\n",
    "    if type(new) == int:\n",
    "        Atm.counter = new\n",
    "    else:\n",
    "        print('Not Allowed')"
   ]
  },
  {
   "cell_type": "code",
   "execution_count": 64,
   "id": "04f9fd2d",
   "metadata": {},
   "outputs": [
    {
     "data": {
      "text/plain": [
       "1"
      ]
     },
     "execution_count": 64,
     "metadata": {},
     "output_type": "execute_result"
    }
   ],
   "source": [
    "Atm.get_counter()"
   ]
  },
  {
   "cell_type": "code",
   "execution_count": 69,
   "id": "cdfc4436",
   "metadata": {},
   "outputs": [],
   "source": [
    "Atm.set_counter(5)"
   ]
  },
  {
   "cell_type": "code",
   "execution_count": 70,
   "id": "e4312528",
   "metadata": {},
   "outputs": [
    {
     "data": {
      "text/plain": [
       "5"
      ]
     },
     "execution_count": 70,
     "metadata": {},
     "output_type": "execute_result"
    }
   ],
   "source": [
    "Atm.get_counter()"
   ]
  },
  {
   "cell_type": "markdown",
   "id": "478ae721",
   "metadata": {},
   "source": [
    "*`@staticmethods` ---> Accessed w/o objects; Used for static vars.*"
   ]
  },
  {
   "cell_type": "markdown",
   "id": "b2a8fc88",
   "metadata": {},
   "source": [
    "### Class Relationship - Aggregation"
   ]
  },
  {
   "cell_type": "code",
   "execution_count": 76,
   "id": "d3537853",
   "metadata": {},
   "outputs": [],
   "source": [
    "So far, used only Single Class.\n",
    "But in Real-World Scenario i.e.\n",
    "Large Apps ---> involves multiple classes ---> involves complex inter-class relationships."
   ]
  },
  {
   "cell_type": "markdown",
   "id": "0a94a7db",
   "metadata": {},
   "source": [
    "### Relationships\n",
    "1. Aggregation (Has-A)\n",
    "2. Inheritance (Is-A)"
   ]
  },
  {
   "cell_type": "code",
   "execution_count": 79,
   "id": "82076826",
   "metadata": {},
   "outputs": [],
   "source": [
    "# Aggregation Ex:\n",
    "\n",
    "Customer   ---> Has-A ---> Address\n",
    "\n",
    "# Inheritance Ex:\n",
    "\n",
    "Smartphone ---> Is-A  ---> Product\n",
    "\n",
    "Car        ---> Is-A  ---> Vehicle"
   ]
  },
  {
   "cell_type": "code",
   "execution_count": null,
   "id": "8c3ae0bf",
   "metadata": {},
   "outputs": [],
   "source": [
    "Class Diagram - Aggregation:\n",
    "\n",
    "+--------------------+          1          +-------------------+\n",
    "|     Department     |<------------------->|     Employee      |\n",
    "+--------------------+                     +-------------------+\n",
    "| - name: str        |                     | - name: str       |\n",
    "| - location: str    |                     | - employeeID: int |\n",
    "+--------------------+                     +-------------------+\n",
    "| + addEmployee()    |                     | + getDetails()    |\n",
    "| + removeEmployee() |                     | + updateDetails() |\n",
    "+--------------------+                     +-------------------+\n",
    "         1..*                                       1..*        "
   ]
  },
  {
   "cell_type": "code",
   "execution_count": 83,
   "id": "7f6b45f8",
   "metadata": {},
   "outputs": [
    {
     "name": "stdout",
     "output_type": "stream",
     "text": [
      "<__main__.Address object at 0x0000016B60C8A950>\n"
     ]
    }
   ],
   "source": [
    "class Customer:\n",
    "  def __init__(self, name, gender, address):\n",
    "    self.name = name\n",
    "    self.gender = gender\n",
    "    self.address = address\n",
    "\n",
    "class Address:\n",
    "  def __init__(self, city, pincode, state):\n",
    "      self.city = city\n",
    "      self.pincode = pincode\n",
    "      self.state = state\n",
    "\n",
    "add = Address('Kolkata', 700156, 'WB')\n",
    "cust = Customer('Nitish', 'Male', add)\n",
    "\n",
    "print(cust.address)"
   ]
  },
  {
   "cell_type": "code",
   "execution_count": 84,
   "id": "6cc67dfe",
   "metadata": {},
   "outputs": [
    {
     "name": "stdout",
     "output_type": "stream",
     "text": [
      "Kolkata\n"
     ]
    }
   ],
   "source": [
    "print(cust.address.city)"
   ]
  },
  {
   "cell_type": "code",
   "execution_count": 85,
   "id": "05dcf4b5",
   "metadata": {},
   "outputs": [
    {
     "name": "stdout",
     "output_type": "stream",
     "text": [
      "700156\n"
     ]
    }
   ],
   "source": [
    "print(cust.address.pincode)"
   ]
  },
  {
   "cell_type": "markdown",
   "id": "fc0c496b",
   "metadata": {},
   "source": [
    "*When creating an object, if another object is passed, the new object behaves like the passed one.*"
   ]
  },
  {
   "cell_type": "code",
   "execution_count": 90,
   "id": "9c26c14b",
   "metadata": {},
   "outputs": [
    {
     "name": "stdout",
     "output_type": "stream",
     "text": [
      "122011\n"
     ]
    }
   ],
   "source": [
    "class Customer:\n",
    "    def __init__(self, name, gender, address):\n",
    "        self.name = name\n",
    "        self.gender = gender\n",
    "        self.address = address\n",
    "\n",
    "    def edit_profile(self, new_name, new_city, new_pin, new_state):\n",
    "        self.name = new_name\n",
    "        self.address.change_address(new_city, new_pin, new_state)\n",
    "\n",
    "class Address:\n",
    "    def __init__(self, city, pincode, state):\n",
    "      self.city = city\n",
    "      self.pincode = pincode\n",
    "      self.state = state\n",
    "    \n",
    "    def change_address(self, new_city, new_pin, new_state):\n",
    "        self.cityy = new_city\n",
    "        self.pincode = new_pin\n",
    "        self.state = new_state\n",
    "\n",
    "add = Address('Kolkata', 700156, 'WB')\n",
    "cust = Customer('Nitish', 'Male', add)\n",
    "cust.edit_profile('Ankit', 'Gurgaon', 122011, 'haryana')\n",
    "print(cust.address.pincode)\n",
    "\n",
    "# `Customer` class non-functional\n",
    "# Relies on `Address` class for operations"
   ]
  },
  {
   "cell_type": "markdown",
   "id": "233edc24",
   "metadata": {},
   "source": [
    "## INHERITANCE\n",
    "\n",
    "Real-world concept; means to inherit."
   ]
  },
  {
   "cell_type": "code",
   "execution_count": 93,
   "id": "6edfb9e5",
   "metadata": {},
   "outputs": [],
   "source": [
    "OOP ---> Real-world problem-solving.\n",
    "Aligns with real-world concepts"
   ]
  },
  {
   "cell_type": "markdown",
   "id": "b742b534",
   "metadata": {},
   "source": [
    "### `Inheritance Benefits\n",
    "\n",
    "**DRY Principle**: \"Don't Repeat Yourself\"\n",
    "\n",
    "Avoid redundant code; Reuse existing code via inheritance.\n",
    "\n",
    "### Inheritance Code Reusability\n",
    "\n",
    "*Saves Time; Concise, Optimized Code; Effective.*"
   ]
  },
  {
   "cell_type": "code",
   "execution_count": 97,
   "id": "ebf412e1",
   "metadata": {},
   "outputs": [],
   "source": [
    "# Note: Inheritence Direction ---> Upward\n",
    "\n",
    "Ex ---> `Student` inherits from `User` (e.g., login, registration).\n",
    "        `User` cannot inherit from `Student`.\n",
    "\n",
    "i.e Child inherits properties/data from Parent."
   ]
  },
  {
   "cell_type": "code",
   "execution_count": 98,
   "id": "82457188",
   "metadata": {},
   "outputs": [],
   "source": [
    "In Inheritence,\n",
    "\n",
    "Child Inherits        ---> Data Members, Methods, Constructor\n",
    "      Doesn't Inherit ---> Private Members"
   ]
  },
  {
   "cell_type": "code",
   "execution_count": 100,
   "id": "d956cacd",
   "metadata": {},
   "outputs": [
    {
     "name": "stdout",
     "output_type": "stream",
     "text": [
      "Enroll\n",
      "Review\n",
      "login\n",
      "Register\n"
     ]
    }
   ],
   "source": [
    "class User: # Parent\n",
    "    \n",
    "    def login(self):\n",
    "        print('login')\n",
    "    \n",
    "    def register(self):\n",
    "        print('Register')\n",
    "\n",
    "class Student(User): # Child\n",
    "    \n",
    "    def enroll(self):\n",
    "        print('Enroll')\n",
    "    \n",
    "    def review(self):\n",
    "        print('Review')  \n",
    "\n",
    "stu1 = Student()\n",
    "\n",
    "stu1.enroll()\n",
    "stu1.review()\n",
    "stu1.login()\n",
    "stu1.register()"
   ]
  },
  {
   "cell_type": "code",
   "execution_count": 103,
   "id": "ba77a31b",
   "metadata": {},
   "outputs": [
    {
     "ename": "AttributeError",
     "evalue": "'User' object has no attribute 'enroll'",
     "output_type": "error",
     "traceback": [
      "\u001b[1;31m---------------------------------------------------------------------------\u001b[0m",
      "\u001b[1;31mAttributeError\u001b[0m                            Traceback (most recent call last)",
      "Cell \u001b[1;32mIn[103], line 22\u001b[0m\n\u001b[0;32m     18\u001b[0m         \u001b[38;5;28mprint\u001b[39m(\u001b[38;5;124m'\u001b[39m\u001b[38;5;124mReview\u001b[39m\u001b[38;5;124m'\u001b[39m)\n\u001b[0;32m     20\u001b[0m u \u001b[38;5;241m=\u001b[39m User()\n\u001b[1;32m---> 22\u001b[0m \u001b[43mu\u001b[49m\u001b[38;5;241;43m.\u001b[39;49m\u001b[43menroll\u001b[49m()\n\u001b[0;32m     23\u001b[0m u\u001b[38;5;241m.\u001b[39mreview()\n\u001b[0;32m     24\u001b[0m u\u001b[38;5;241m.\u001b[39mlogin()\n",
      "\u001b[1;31mAttributeError\u001b[0m: 'User' object has no attribute 'enroll'"
     ]
    }
   ],
   "source": [
    "# The reverse is not true\n",
    "# i.e., parent can't access child\n",
    "\n",
    "class User: # Parent\n",
    "    \n",
    "    def login(self):\n",
    "        print('login')\n",
    "    \n",
    "    def register(self):\n",
    "        print('Register')\n",
    "\n",
    "class Student(User): # Child\n",
    "    \n",
    "    def enroll(self):\n",
    "        print('Enroll')\n",
    "    \n",
    "    def review(self):\n",
    "        print('Review')\n",
    "\n",
    "u = User()\n",
    "\n",
    "u.enroll()\n",
    "u.review()\n",
    "u.login()\n",
    "u.register()"
   ]
  },
  {
   "cell_type": "code",
   "execution_count": null,
   "id": "483a5416",
   "metadata": {},
   "outputs": [],
   "source": [
    "Class Diagram - Inheritence:\n",
    "\n",
    "               +-------------+\n",
    "               |   Animal    |\n",
    "               +-------------+\n",
    "               | - name: str |\n",
    "               | - age: int  |\n",
    "               +-------------+\n",
    "               | + eat()     |\n",
    "               | + sleep()   |\n",
    "               +-------------+\n",
    "              /       |       \\\n",
    "             /        |        \\\n",
    "            /         |         \\\n",
    "+----------+     +----------+    +---------+\n",
    "|   Dog    |     |   Cat    |    | Hamster |\n",
    "+----------+     +----------+    +---------+\n",
    "| - breed  |     | - color  |    | - size  |\n",
    "+----------+     +----------+    +---------+\n",
    "| + bark() |     | + meow() |    | + run() |\n",
    "+----------+     +----------+    +---------+"
   ]
  },
  {
   "cell_type": "markdown",
   "id": "a42ff7d8",
   "metadata": {},
   "source": [
    "### Ex 1 - Inheriting Constructer"
   ]
  },
  {
   "cell_type": "code",
   "execution_count": 108,
   "id": "fa943dc3",
   "metadata": {},
   "outputs": [
    {
     "name": "stdout",
     "output_type": "stream",
     "text": [
      "Inside phone constructor\n"
     ]
    }
   ],
   "source": [
    "# Constructor Ex:\n",
    "\n",
    "class Phone:\n",
    "    def __init__(self, price, brand, camera):\n",
    "        print (\"Inside phone constructor\")\n",
    "        self.price = price\n",
    "        self.brand = brand\n",
    "        self.camera = camera\n",
    "\n",
    "class SmartPhone(Phone):\n",
    "    pass\n",
    "\n",
    "s = SmartPhone(20000, \"Apple\", 13)"
   ]
  },
  {
   "cell_type": "code",
   "execution_count": 109,
   "id": "678475ef",
   "metadata": {},
   "outputs": [
    {
     "name": "stdout",
     "output_type": "stream",
     "text": [
      "Apple\n"
     ]
    }
   ],
   "source": [
    "print(s.brand)"
   ]
  },
  {
   "cell_type": "code",
   "execution_count": 110,
   "id": "36811ffb",
   "metadata": {},
   "outputs": [],
   "source": [
    "`class B` inherits `class A`\n",
    "\n",
    "No constructor in `B` ---> `A`'s constructor invoked\n",
    "\n",
    "Parent class constructor used if child lacks one"
   ]
  },
  {
   "cell_type": "markdown",
   "id": "3a729748",
   "metadata": {},
   "source": [
    "### Ex 2 - Inheiting Private Members"
   ]
  },
  {
   "cell_type": "code",
   "execution_count": 114,
   "id": "05475b52",
   "metadata": {},
   "outputs": [
    {
     "name": "stdout",
     "output_type": "stream",
     "text": [
      "Inside phone constructor\n"
     ]
    },
    {
     "ename": "AttributeError",
     "evalue": "'SmartPhone' object has no attribute '__brand'",
     "output_type": "error",
     "traceback": [
      "\u001b[1;31m---------------------------------------------------------------------------\u001b[0m",
      "\u001b[1;31mAttributeError\u001b[0m                            Traceback (most recent call last)",
      "Cell \u001b[1;32mIn[114], line 12\u001b[0m\n\u001b[0;32m      9\u001b[0m     \u001b[38;5;28;01mpass\u001b[39;00m\n\u001b[0;32m     11\u001b[0m s\u001b[38;5;241m=\u001b[39mSmartPhone(\u001b[38;5;241m20000\u001b[39m, \u001b[38;5;124m\"\u001b[39m\u001b[38;5;124mApple\u001b[39m\u001b[38;5;124m\"\u001b[39m, \u001b[38;5;241m13\u001b[39m)\n\u001b[1;32m---> 12\u001b[0m \u001b[38;5;28mprint\u001b[39m(\u001b[43ms\u001b[49m\u001b[38;5;241;43m.\u001b[39;49m\u001b[43m__brand\u001b[49m)\n",
      "\u001b[1;31mAttributeError\u001b[0m: 'SmartPhone' object has no attribute '__brand'"
     ]
    }
   ],
   "source": [
    "class Phone:\n",
    "    def __init__(self, price, brand, camera):\n",
    "        print (\"Inside phone constructor\")\n",
    "        self.price = price\n",
    "        self.__brand = brand\n",
    "        self.camera = camera\n",
    "\n",
    "class SmartPhone(Phone):\n",
    "    pass\n",
    "\n",
    "s = SmartPhone(20000, \"Apple\", 13)\n",
    "print(s.__brand)"
   ]
  },
  {
   "cell_type": "markdown",
   "id": "b8a6ffea",
   "metadata": {},
   "source": [
    "*Hidden parent members not accessible by child class.*"
   ]
  },
  {
   "cell_type": "markdown",
   "id": "00b2bd8d",
   "metadata": {},
   "source": [
    "## POLYMORPHISM"
   ]
  },
  {
   "cell_type": "markdown",
   "id": "037eebb4",
   "metadata": {},
   "source": [
    "### Ex 3 - Polymorphism"
   ]
  },
  {
   "cell_type": "code",
   "execution_count": 117,
   "id": "1217f7f9",
   "metadata": {},
   "outputs": [
    {
     "name": "stdout",
     "output_type": "stream",
     "text": [
      "Inside phone constructor\n",
      "Buying a smartphone\n"
     ]
    }
   ],
   "source": [
    "# Method Overriding:\n",
    "\n",
    "class Phone:\n",
    "    def __init__(self, price, brand, camera):\n",
    "        print (\"Inside phone constructor\")\n",
    "        self.__price = price\n",
    "        self.brand = brand\n",
    "        self.camera = camera\n",
    "\n",
    "    def buy(self):\n",
    "        print(\"Buying a phone\")\n",
    "\n",
    "class SmartPhone(Phone):\n",
    "    def buy(self):\n",
    "        print(\"Buying a smartphone\")\n",
    "\n",
    "s = SmartPhone(20000, \"Apple\", 13)\n",
    "\n",
    "s.buy()"
   ]
  },
  {
   "cell_type": "markdown",
   "id": "d593c7ca",
   "metadata": {},
   "source": [
    "### Method Overriding\n",
    "\n",
    "Child Class method overrides Parent Class method if they have the same name.\n",
    "\n",
    "Child Class method is called in case of name conflict.\n",
    "\n",
    "Parent Class method is overridden by Child Class method."
   ]
  },
  {
   "cell_type": "markdown",
   "id": "547da39f",
   "metadata": {},
   "source": [
    "### Polymorphism\n",
    "\n",
    "- **Method Overriding**\n",
    "- **Method Overloading**:\n",
    "- **Operator Overloading**"
   ]
  },
  {
   "cell_type": "markdown",
   "id": "e210edd5",
   "metadata": {},
   "source": [
    "### Ex - Class Parent"
   ]
  },
  {
   "cell_type": "code",
   "execution_count": 124,
   "id": "a281507f",
   "metadata": {},
   "outputs": [
    {
     "name": "stdout",
     "output_type": "stream",
     "text": [
      "100\n",
      "This is in child class\n"
     ]
    }
   ],
   "source": [
    "class Parent:\n",
    "    def __init__(self, num):\n",
    "        self.__num = num\n",
    "    def get_num(self):\n",
    "        return self.__num\n",
    "\n",
    "class Child(Parent):\n",
    "    def show(self):\n",
    "        print(\"This is in child class\")\n",
    "        \n",
    "son = Child(100,)\n",
    "print(son.get_num())\n",
    "son.show()"
   ]
  },
  {
   "cell_type": "markdown",
   "id": "49be30ba",
   "metadata": {},
   "source": [
    "### Ex - 2"
   ]
  },
  {
   "cell_type": "code",
   "execution_count": 126,
   "id": "37cf2480",
   "metadata": {},
   "outputs": [
    {
     "ename": "AttributeError",
     "evalue": "'Child' object has no attribute '_Parent__num'",
     "output_type": "error",
     "traceback": [
      "\u001b[1;31m---------------------------------------------------------------------------\u001b[0m",
      "\u001b[1;31mAttributeError\u001b[0m                            Traceback (most recent call last)",
      "Cell \u001b[1;32mIn[126], line 18\u001b[0m\n\u001b[0;32m     15\u001b[0m         \u001b[38;5;28;01mreturn\u001b[39;00m \u001b[38;5;28mself\u001b[39m\u001b[38;5;241m.\u001b[39m__val\n\u001b[0;32m     17\u001b[0m son \u001b[38;5;241m=\u001b[39m Child(\u001b[38;5;241m100\u001b[39m, \u001b[38;5;241m10\u001b[39m)\n\u001b[1;32m---> 18\u001b[0m \u001b[38;5;28mprint\u001b[39m(\u001b[38;5;124m\"\u001b[39m\u001b[38;5;124mParent: Num:\u001b[39m\u001b[38;5;124m\"\u001b[39m, \u001b[43mson\u001b[49m\u001b[38;5;241;43m.\u001b[39;49m\u001b[43mget_num\u001b[49m\u001b[43m(\u001b[49m\u001b[43m)\u001b[49m)\n\u001b[0;32m     19\u001b[0m \u001b[38;5;28mprint\u001b[39m(\u001b[38;5;124m\"\u001b[39m\u001b[38;5;124mChild: Val:\u001b[39m\u001b[38;5;124m\"\u001b[39m, son\u001b[38;5;241m.\u001b[39mget_val())\n",
      "Cell \u001b[1;32mIn[126], line 7\u001b[0m, in \u001b[0;36mParent.get_num\u001b[1;34m(self)\u001b[0m\n\u001b[0;32m      6\u001b[0m \u001b[38;5;28;01mdef\u001b[39;00m \u001b[38;5;21mget_num\u001b[39m(\u001b[38;5;28mself\u001b[39m):\n\u001b[1;32m----> 7\u001b[0m     \u001b[38;5;28;01mreturn\u001b[39;00m \u001b[38;5;28;43mself\u001b[39;49m\u001b[38;5;241;43m.\u001b[39;49m\u001b[43m__num\u001b[49m\n",
      "\u001b[1;31mAttributeError\u001b[0m: 'Child' object has no attribute '_Parent__num'"
     ]
    }
   ],
   "source": [
    "class Parent:\n",
    "    def __init__(self, num):\n",
    "        self.__num = num\n",
    "    def get_num(self):\n",
    "        return self.__num\n",
    "\n",
    "class Child(Parent):\n",
    "    def __init__(self, val, num):\n",
    "        self.__val = val\n",
    "    def get_val(self):\n",
    "        return self.__val\n",
    "        \n",
    "son = Child(100, 10)\n",
    "print(\"Parent: Num:\", son.get_num())\n",
    "print(\"Child: Val:\", son.get_val())"
   ]
  },
  {
   "cell_type": "code",
   "execution_count": 127,
   "id": "e6cebc2e",
   "metadata": {},
   "outputs": [],
   "source": [
    "No Child Constructor      ---> Parent Constructor invoked automatically.\n",
    "\n",
    "Child Constructor present ---> Parent Constructor not called."
   ]
  },
  {
   "cell_type": "markdown",
   "id": "9615e610",
   "metadata": {},
   "source": [
    "### Ex - 3"
   ]
  },
  {
   "cell_type": "code",
   "execution_count": 129,
   "id": "66f5a4e6",
   "metadata": {},
   "outputs": [
    {
     "name": "stdout",
     "output_type": "stream",
     "text": [
      "class A : 100\n"
     ]
    }
   ],
   "source": [
    "class A:\n",
    "    def __init__(self):\n",
    "        self.var1 = 100\n",
    "    def display1(self, var1):\n",
    "        print(\"class A :\", self.var1)\n",
    "\n",
    "class B(A):\n",
    "    def display2(self, var1):\n",
    "        print(\"class B :\", self.var1)\n",
    "\n",
    "obj = B()\n",
    "obj.display1(200)"
   ]
  },
  {
   "cell_type": "markdown",
   "id": "5fd34fc1",
   "metadata": {},
   "source": [
    "### User of super()"
   ]
  },
  {
   "cell_type": "markdown",
   "id": "2c41610d",
   "metadata": {},
   "source": [
    "### Ex - Super"
   ]
  },
  {
   "cell_type": "code",
   "execution_count": 131,
   "id": "53fe6782",
   "metadata": {},
   "outputs": [
    {
     "name": "stdout",
     "output_type": "stream",
     "text": [
      "Inside phone constructor\n",
      "Buying a smartphone\n",
      "Buying a phone\n"
     ]
    }
   ],
   "source": [
    "class Phone:\n",
    "    def __init__(self, price, brand, camera):\n",
    "        print (\"Inside phone constructor\")\n",
    "        self.__price = price\n",
    "        self.brand = brand\n",
    "        self.camera = camera\n",
    "    def buy(self):\n",
    "        print (\"Buying a phone\")\n",
    "\n",
    "class SmartPhone(Phone):\n",
    "    def buy(self):\n",
    "        print (\"Buying a smartphone\")\n",
    "        super().buy() # Call parent buy()\n",
    "\n",
    "s = SmartPhone(20000, \"Apple\", 13)\n",
    "s.buy()"
   ]
  },
  {
   "cell_type": "code",
   "execution_count": 132,
   "id": "4d166be1",
   "metadata": {
    "scrolled": true
   },
   "outputs": [
    {
     "ename": "AttributeError",
     "evalue": "'SmartPhone' object has no attribute 'super'",
     "output_type": "error",
     "traceback": [
      "\u001b[1;31m---------------------------------------------------------------------------\u001b[0m",
      "\u001b[1;31mAttributeError\u001b[0m                            Traceback (most recent call last)",
      "Cell \u001b[1;32mIn[132], line 3\u001b[0m\n\u001b[0;32m      1\u001b[0m \u001b[38;5;66;03m# super keyword doesn't work outside the class\u001b[39;00m\n\u001b[1;32m----> 3\u001b[0m \u001b[43ms\u001b[49m\u001b[38;5;241;43m.\u001b[39;49m\u001b[43msuper\u001b[49m()\u001b[38;5;241m.\u001b[39mbuy()\n",
      "\u001b[1;31mAttributeError\u001b[0m: 'SmartPhone' object has no attribute 'super'"
     ]
    }
   ],
   "source": [
    "# `super` keyword is invalid outside class.\n",
    "\n",
    "s.super().buy()"
   ]
  },
  {
   "cell_type": "markdown",
   "id": "d28cd60c",
   "metadata": {},
   "source": [
    "### `super` keyword\n",
    "\n",
    "1. Accesses parent class methods\n",
    "2. Accesses parent class constructor\n",
    "\n",
    "Does NOT access parent class attributes"
   ]
  },
  {
   "cell_type": "markdown",
   "id": "aad3a815",
   "metadata": {},
   "source": [
    "### Ex - Super with Constructor"
   ]
  },
  {
   "cell_type": "code",
   "execution_count": 139,
   "id": "fd86382a",
   "metadata": {},
   "outputs": [
    {
     "name": "stdout",
     "output_type": "stream",
     "text": [
      "Inside smartphone constructor\n",
      "Inside phone constructor\n",
      "Inside smartphone constructor\n",
      "Android\n",
      "Samsung\n"
     ]
    }
   ],
   "source": [
    "class Phone:\n",
    "    def __init__(self, price, brand, camera):\n",
    "        print (\"Inside phone constructor\")\n",
    "        self.__price = price\n",
    "        self.brand = brand\n",
    "        self.camera = camera\n",
    "\n",
    "class SmartPhone(Phone):\n",
    "    def __init__(self, price, brand, camera, os, ram):\n",
    "        print('Inside smartphone constructor')\n",
    "        super().__init__(price, brand, camera)\n",
    "        self.os = os\n",
    "        self.ram = ram\n",
    "        print (\"Inside smartphone constructor\")\n",
    "\n",
    "s = SmartPhone(20000, \"Samsung\", 12, \"Android\", 2)\n",
    "print(s.os)\n",
    "print(s.brand)"
   ]
  },
  {
   "cell_type": "code",
   "execution_count": 140,
   "id": "2119bc33",
   "metadata": {},
   "outputs": [],
   "source": [
    "# Task Delegation in Inheritance:\n",
    "\n",
    "Child class handles its tasks.\n",
    "\n",
    "Reuses parent class tasks via `super` in constructor.\n",
    "\n",
    "Initialization ---> Half by child, rest via parent with `super`."
   ]
  },
  {
   "cell_type": "markdown",
   "id": "d6dee8fc",
   "metadata": {},
   "source": [
    "### Ex - Super"
   ]
  },
  {
   "cell_type": "code",
   "execution_count": 143,
   "id": "8a97d6de",
   "metadata": {},
   "outputs": [
    {
     "name": "stdout",
     "output_type": "stream",
     "text": [
      "100\n",
      "200\n"
     ]
    }
   ],
   "source": [
    "class Parent:\n",
    "    def __init__(self, num):\n",
    "      self.__num = num\n",
    "    def get_num(self):\n",
    "      return self.__num\n",
    "\n",
    "class Child(Parent):\n",
    "    def __init__(self, num, val):\n",
    "      super().__init__(num)\n",
    "      self.__val = val\n",
    "    def get_val(self):\n",
    "      return self.__val\n",
    "      \n",
    "son = Child(100, 200)\n",
    "print(son.get_num())\n",
    "print(son.get_val())"
   ]
  },
  {
   "cell_type": "code",
   "execution_count": 144,
   "id": "af99d1b5",
   "metadata": {},
   "outputs": [
    {
     "name": "stdout",
     "output_type": "stream",
     "text": [
      "100\n",
      "200\n"
     ]
    }
   ],
   "source": [
    "class Parent:\n",
    "    def __init__(self):\n",
    "        self.num = 100\n",
    "\n",
    "class Child(Parent):\n",
    "    def __init__(self):\n",
    "        super().__init__()\n",
    "        self.var = 200\n",
    "    def show(self):\n",
    "        print(self.num)\n",
    "        print(self.var)\n",
    "\n",
    "son = Child()\n",
    "son.show()"
   ]
  },
  {
   "cell_type": "markdown",
   "id": "77813fb0",
   "metadata": {},
   "source": [
    "Access parent attribute in child class via `self`.\n",
    "\n",
    "`self` = current object (`son`).\n",
    "\n",
    "If accessible externally, accessible internally too."
   ]
  },
  {
   "cell_type": "code",
   "execution_count": 146,
   "id": "a48c6d4e",
   "metadata": {},
   "outputs": [
    {
     "name": "stdout",
     "output_type": "stream",
     "text": [
      "Parent: 100\n",
      "Child: 10\n"
     ]
    }
   ],
   "source": [
    "class Parent:\n",
    "    def __init__(self):\n",
    "        self.__num = 100\n",
    "    def show(self):\n",
    "        print(\"Parent:\", self.__num)\n",
    "\n",
    "class Child(Parent):\n",
    "    def __init__(self):\n",
    "        super().__init__()\n",
    "        self.__var = 10\n",
    "    def show(self):\n",
    "        print(\"Child:\", self.__var)\n",
    "\n",
    "dad = Parent()\n",
    "dad.show()\n",
    "son = Child()\n",
    "son.show()"
   ]
  },
  {
   "cell_type": "code",
   "execution_count": null,
   "id": "8e19ad75",
   "metadata": {},
   "outputs": [],
   "source": [
    "# Inheritance Summary:\n",
    "\n",
    "Class Inheritance allows one class to inherit from another; enhances code reuse.\n",
    "\n",
    "Inherited Members ---> Constructors, Attributes, Methods.\n",
    "\n",
    "Parent can’t access Child.\n",
    "\n",
    "Private members are not directly accessible in Child.\n",
    "\n",
    "Child can override parent’s methods/attributes.\n",
    "\n",
    "`super()`         ---> Calls parent’s methods/constructor."
   ]
  },
  {
   "cell_type": "markdown",
   "id": "7ce88329",
   "metadata": {},
   "source": [
    "### Types of inheritance\n",
    "\n",
    "1. **Single Inheritance**\n",
    "2. **Multilevel Inheritance**\n",
    "3. **Hierarchical Inheritance**\n",
    "4. **Multiple Inheritance (Diamond Problem)**\n",
    "5. **Hybrid Inheritance**"
   ]
  },
  {
   "cell_type": "code",
   "execution_count": null,
   "id": "7d2dce0d",
   "metadata": {},
   "outputs": [],
   "source": [
    "Single Inheritance       Multilevel Inheritance                  Hierarchical Inheritance\n",
    "\n",
    "+-------------+          +-------------+                         +-------------+\n",
    "|   Animal    |          |   Animal    |                         |   Animal    |\n",
    "+-------------+          +-------------+                         +-------------+\n",
    "| - name: str |          | - name: str |                         | - name: str |\n",
    "| - age: int  |          | - age: int  |                         | - age: int  |\n",
    "+-------------+          +-------------+                         +-------------+\n",
    "| + eat()     |          | + eat()     |                         | + eat()     |\n",
    "| + sleep()   |          | + sleep()   |                         | + sleep()   |  \n",
    "+-------------+          +-------------+                         +-------------+  \n",
    "       |                        |                               /       |       \\\n",
    "       |                        |                              /        |        \\\n",
    "       |                        |                             /         |         \\\n",
    "+--------------+         +--------------+         +----------+    +----------+     +---------+\n",
    "|     Dog      |         |     Pet      |         |   Dog    |    |   Cat    |     | Hamster |\n",
    "+--------------+         +--------------+         +----------+    +----------+     +---------+\n",
    "| - breed: str |         | - owner: str |         | - breed  |    | - color  |     | - size  |\n",
    "+--------------+         +--------------+         +----------+    +----------+     +---------+\n",
    "| + bark()     |         | + play()     |         | + bark() |    | + meow() |     | + run() |\n",
    "+--------------+         +--------------+         +----------+    +----------+     +---------+\n",
    "                                 |         \n",
    "                                 |   \n",
    "                                 |   \n",
    "                         +--------------+\n",
    "                         |     Dog      |\n",
    "                         +--------------+\n",
    "                         | - breed: str |\n",
    "                         +--------------+\n",
    "                         | + bark()     |\n",
    "                         +--------------+"
   ]
  },
  {
   "cell_type": "code",
   "execution_count": null,
   "id": "0f2e8330",
   "metadata": {},
   "outputs": [],
   "source": [
    "Multiple Inheritance (Diamond Problem)\n",
    "\n",
    "     +------------------+\n",
    "     |      Animal      |\n",
    "     +------------------+\n",
    "     |   - name: str    |\n",
    "     |   - age: int     |\n",
    "     +------------------+\n",
    "     |   + eat()        |\n",
    "     |   + sleep()      |\n",
    "     +------------------+\n",
    "        /           \\\n",
    "       /             \\\n",
    "      /               \\\n",
    "+----------+     +----------+\n",
    "|   Dog    |     |   Cat    |\n",
    "+----------+     +----------+ \n",
    "| - breed  |     | - color  | \n",
    "+----------+     +----------+  \n",
    "| + bark() |     | + meow() |\n",
    "+----------+     +----------+\n",
    "      \\               /\n",
    "       \\             /\n",
    "        \\           /\n",
    "     +------------------+\n",
    "     |     PetOwner     |\n",
    "     +------------------+\n",
    "     | - ownerName: str |\n",
    "     +------------------+\n",
    "     | + feed()         |\n",
    "     | + play()         |\n",
    "     +------------------+\n",
    "\n",
    "Hybrid Inheritance\n",
    "\n",
    "                            +------------------+\n",
    "                            |      Animal      |         \n",
    "                            +------------------+\n",
    "                            |   - name: str    |          \n",
    "                            |   - age: int     |          \n",
    "                            +------------------+\n",
    "                            |   + eat()        |          \n",
    "                            |   + sleep()      |          \n",
    "                            +------------------+\n",
    "                           /                    \\\n",
    "                          /                      \\\n",
    "                         /                        \\ \n",
    "          +-------------+                          +----------------+\n",
    "          |    Dog      |                          |      Cat       |\n",
    "          +-------------+                          +----------------+ \n",
    "          |  - breed    |                          |    - color     | \n",
    "          +-------------+                          +----------------+  \n",
    "          |  + bark()   |                          |    + meow()    |\n",
    "          +-------------+                          +----------------+\n",
    "         /               \\                        /                  \\\n",
    "        /                 \\                      /                    \\\n",
    "       /                   \\                    /                      \\       \n",
    "+-------------+     +-------------+     +----------------+     +----------------+\n",
    "|  Labrador   |     |   Bulldog   |     |    Siamese     |     |    Persian     |\n",
    "+-------------+     +-------------+     +----------------+     +----------------+\n",
    "| - size: str |     | - size: str |     | - pattern: str |     | - furType: str |\n",
    "+-------------+     +-------------+     +----------------+     +----------------+\n",
    "| + fetch()   |     | + guard()   |     | + purr()       |     | + groom()      |\n",
    "+-------------+     +-------------+     +----------------+     +----------------+\n",
    "                                   \\                          /\n",
    "                                    \\                        /\n",
    "                                     \\                      / \n",
    "                                      +--------------------+\n",
    "                                      |      PetOwner      |\n",
    "                                      +--------------------+\n",
    "                                      | - ownerName: str   |\n",
    "                                      +--------------------+\n",
    "                                      | + feed()           |\n",
    "                                      | + play()           |\n",
    "                                      +--------------------+"
   ]
  },
  {
   "cell_type": "code",
   "execution_count": null,
   "id": "cc88fa12",
   "metadata": {},
   "outputs": [],
   "source": [
    "# Multiple Inheritance:\n",
    "\n",
    "Java   ---> Not Supported\n",
    "\n",
    "Python ---> Supported"
   ]
  },
  {
   "cell_type": "markdown",
   "id": "f940c1a9",
   "metadata": {},
   "source": [
    "### Ex - Single level Inheritence"
   ]
  },
  {
   "cell_type": "code",
   "execution_count": 4,
   "id": "412d848d",
   "metadata": {},
   "outputs": [
    {
     "name": "stdout",
     "output_type": "stream",
     "text": [
      "Inside phone constructor\n",
      "Buying a phone\n"
     ]
    }
   ],
   "source": [
    "class Phone:\n",
    "    def __init__(self, price, brand, camera):\n",
    "        print (\"Inside phone constructor\")\n",
    "        self.__price = price\n",
    "        self.brand = brand\n",
    "        self.camera = camera\n",
    "    def buy(self):\n",
    "        print (\"Buying a phone\")\n",
    "    def return_phone(self):\n",
    "        print(\"Returning a phone\")\n",
    "\n",
    "class SmartPhone(Phone):\n",
    "    pass\n",
    "\n",
    "SmartPhone(1000, \"Apple\", \"13px\").buy()"
   ]
  },
  {
   "cell_type": "markdown",
   "id": "9c77527c",
   "metadata": {},
   "source": [
    "### Ex - Multilevel level Inheritence"
   ]
  },
  {
   "cell_type": "code",
   "execution_count": 6,
   "id": "938e0890",
   "metadata": {},
   "outputs": [
    {
     "name": "stdout",
     "output_type": "stream",
     "text": [
      "Inside phone constructor\n",
      "Inside phone constructor\n",
      "Buying a phone\n",
      "Product customer review\n",
      "Product customer review\n"
     ]
    }
   ],
   "source": [
    "class Product:\n",
    "    def review(self):\n",
    "        print (\"Product customer review\")\n",
    "\n",
    "class Phone(Product):\n",
    "    def __init__(self, price, brand, camera):\n",
    "        print (\"Inside phone constructor\")\n",
    "        self.__price = price\n",
    "        self.brand = brand\n",
    "        self.camera = camera\n",
    "    def buy(self):\n",
    "        print (\"Buying a phone\")\n",
    "\n",
    "class SmartPhone(Phone):\n",
    "    pass\n",
    "\n",
    "s = SmartPhone(20000, \"Apple\", 12)\n",
    "p = Phone(1000, \"Samsung\", 1)\n",
    "\n",
    "s.buy()\n",
    "s.review()\n",
    "p.review()"
   ]
  },
  {
   "cell_type": "markdown",
   "id": "6d5c1bff",
   "metadata": {},
   "source": [
    "### Ex -  Hierarchical Inheritence"
   ]
  },
  {
   "cell_type": "code",
   "execution_count": 8,
   "id": "13b96403",
   "metadata": {},
   "outputs": [
    {
     "name": "stdout",
     "output_type": "stream",
     "text": [
      "Inside phone constructor\n",
      "Buying a phone\n"
     ]
    }
   ],
   "source": [
    "class Phone:\n",
    "    def __init__(self, price, brand, camera):\n",
    "        print (\"Inside phone constructor\")\n",
    "        self.__price = price\n",
    "        self.brand = brand\n",
    "        self.camera = camera\n",
    "    def buy(self):\n",
    "        print (\"Buying a phone\")\n",
    "    def return_phone(self):\n",
    "        print(\"Returning a phone\")\n",
    "\n",
    "class SmartPhone(Phone):\n",
    "    pass\n",
    "\n",
    "class FeaturePhone(Phone):\n",
    "    pass\n",
    "\n",
    "SmartPhone(1000, \"Apple\", \"13px\").buy()"
   ]
  },
  {
   "cell_type": "markdown",
   "id": "f26e017e",
   "metadata": {},
   "source": [
    "### Ex - Multiple Inheritence"
   ]
  },
  {
   "cell_type": "code",
   "execution_count": 10,
   "id": "5824d0a6",
   "metadata": {},
   "outputs": [
    {
     "name": "stdout",
     "output_type": "stream",
     "text": [
      "Inside phone constructor\n",
      "Buying a phone\n",
      "Customer review\n"
     ]
    }
   ],
   "source": [
    "class Phone:\n",
    "    def __init__(self, price, brand, camera):\n",
    "        print (\"Inside phone constructor\")\n",
    "        self.__price = price\n",
    "        self.brand = brand\n",
    "        self.camera = camera\n",
    "    def buy(self):\n",
    "        print (\"Buying a phone\")\n",
    "        \n",
    "class Product:\n",
    "    def review(self):\n",
    "        print (\"Customer review\")\n",
    "\n",
    "class SmartPhone(Phone, Product):\n",
    "    pass\n",
    "\n",
    "s = SmartPhone(20000, \"Apple\", 12)\n",
    "\n",
    "s.buy()\n",
    "s.review()"
   ]
  },
  {
   "cell_type": "markdown",
   "id": "3a1cf4e9",
   "metadata": {},
   "source": [
    "### MRO - Method Resolution Order"
   ]
  },
  {
   "cell_type": "code",
   "execution_count": 13,
   "id": "b7f4cc5b",
   "metadata": {},
   "outputs": [
    {
     "name": "stdout",
     "output_type": "stream",
     "text": [
      "Inside phone constructor\n",
      "Product buy method\n"
     ]
    }
   ],
   "source": [
    "class Phone:\n",
    "    def __init__(self, price, brand, camera):\n",
    "        print (\"Inside phone constructor\")\n",
    "        self.__price = price\n",
    "        self.brand = brand\n",
    "        self.camera = camera\n",
    "    def buy(self):\n",
    "        print (\"Buying a phone\")\n",
    "\n",
    "class Product:\n",
    "    def buy(self):\n",
    "        print (\"Product buy method\")\n",
    "\n",
    "# MRO: Product ---> Phone\n",
    "class SmartPhone(Product, Phone):\n",
    "    pass\n",
    "\n",
    "s = SmartPhone(20000, \"Apple\", 12)\n",
    "s.buy()"
   ]
  },
  {
   "cell_type": "code",
   "execution_count": 14,
   "id": "3cd65312",
   "metadata": {},
   "outputs": [],
   "source": [
    "MRO ---> Order of inheritance determines priority.\n",
    "         In conflict, methods from first-inherited classes execute."
   ]
  },
  {
   "cell_type": "markdown",
   "id": "a6b71f6a",
   "metadata": {},
   "source": [
    "### Ex - Multilevel Inheritence"
   ]
  },
  {
   "cell_type": "code",
   "execution_count": 16,
   "id": "9fe0bcb8",
   "metadata": {},
   "outputs": [
    {
     "name": "stdout",
     "output_type": "stream",
     "text": [
      "70\n"
     ]
    }
   ],
   "source": [
    "class A:\n",
    "    def m1(self):\n",
    "        return 20\n",
    "\n",
    "class B(A):\n",
    "    def m1(self):\n",
    "        return 30\n",
    "    def m2(self):\n",
    "        return 40\n",
    "\n",
    "class C(B):\n",
    "    def m2(self):\n",
    "        return 20\n",
    "    \n",
    "obj1 = A()\n",
    "obj2 = B()\n",
    "obj3 = C()\n",
    "print(obj1.m1() + obj3.m1() + obj3.m2())"
   ]
  },
  {
   "cell_type": "code",
   "execution_count": 2,
   "id": "063ca77e",
   "metadata": {},
   "outputs": [],
   "source": [
    "class A:\n",
    "    def m1(self):\n",
    "        return 20\n",
    "\n",
    "class B(A):\n",
    "    def m1(self):\n",
    "        val = super().m1() + 30\n",
    "        return val\n",
    "\n",
    "class C(B):\n",
    "    def m1(self):\n",
    "        val = self.m1() + 20\n",
    "        return val\n",
    "\n",
    "obj = C()\n",
    "print(obj.m1())\n",
    "\n",
    "# This code will causes infinite recursion"
   ]
  },
  {
   "cell_type": "markdown",
   "id": "712c28ef",
   "metadata": {},
   "source": [
    "### Method Overloading and Operator Overloading"
   ]
  },
  {
   "cell_type": "markdown",
   "id": "da271e5b",
   "metadata": {},
   "source": [
    "### Polymorphism\n",
    "1. **Method Overriding**\n",
    "2. **Method Overloading**\n",
    "3. **Operator Overloading**"
   ]
  },
  {
   "cell_type": "code",
   "execution_count": 11,
   "id": "79d1b0dc",
   "metadata": {},
   "outputs": [],
   "source": [
    "\"Method Overloading\" ---> Single method, Multiple implementations.\n",
    "                          different inputs = different behaviors."
   ]
  },
  {
   "cell_type": "code",
   "execution_count": 6,
   "id": "fec7d980",
   "metadata": {},
   "outputs": [],
   "source": [
    "# Ex - Code for Area Calculation:\n",
    "\n",
    "Different shapes have unique area formulas.\n",
    "\n",
    "Thus, uniform function name ---> `area()` for clarity.\n",
    "\n",
    "Different Inputs            ---> Different Outputs."
   ]
  },
  {
   "cell_type": "code",
   "execution_count": 7,
   "id": "3607f62a",
   "metadata": {},
   "outputs": [
    {
     "ename": "TypeError",
     "evalue": "Geometry.area() missing 1 required positional argument: 'b'",
     "output_type": "error",
     "traceback": [
      "\u001b[1;31m---------------------------------------------------------------------------\u001b[0m",
      "\u001b[1;31mTypeError\u001b[0m                                 Traceback (most recent call last)",
      "Cell \u001b[1;32mIn[7], line 10\u001b[0m\n\u001b[0;32m      7\u001b[0m         \u001b[38;5;28;01mreturn\u001b[39;00m l \u001b[38;5;241m*\u001b[39m b\n\u001b[0;32m      9\u001b[0m obj \u001b[38;5;241m=\u001b[39m Geometry()\n\u001b[1;32m---> 10\u001b[0m \u001b[38;5;28mprint\u001b[39m(\u001b[43mobj\u001b[49m\u001b[38;5;241;43m.\u001b[39;49m\u001b[43marea\u001b[49m\u001b[43m(\u001b[49m\u001b[38;5;241;43m4\u001b[39;49m\u001b[43m)\u001b[49m)\n",
      "\u001b[1;31mTypeError\u001b[0m: Geometry.area() missing 1 required positional argument: 'b'"
     ]
    }
   ],
   "source": [
    "class Geometry:\n",
    "    def area(self, radius):\n",
    "        return 3.24 * radius * radius\n",
    "    def area(self, l, b):\n",
    "        return l * b\n",
    "    \n",
    "obj = Geometry()\n",
    "print(obj.area(4))"
   ]
  },
  {
   "cell_type": "code",
   "execution_count": 8,
   "id": "fa8f8cb9",
   "metadata": {},
   "outputs": [],
   "source": [
    "Method Overloading in Java   ---> Multiple methods, same name, different inputs.\n",
    "                   in Python ---> No true traditional method overloading.\n",
    "                                  Same method name = last definition overrides previous.\n",
    "\n",
    "Multiple methods with same name not allowed.\n",
    "\n",
    "Workaround:"
   ]
  },
  {
   "cell_type": "code",
   "execution_count": 9,
   "id": "6ceef272",
   "metadata": {},
   "outputs": [
    {
     "name": "stdout",
     "output_type": "stream",
     "text": [
      "Circle 50.24\n",
      "Rectangle 20\n"
     ]
    }
   ],
   "source": [
    "# Use default params or var args for simulated overloading.\n",
    "\n",
    "class Geometry:\n",
    "    def area(self, a, b = 0):\n",
    "        if b == 0:\n",
    "            print('Circle', 3.14 * a * a)\n",
    "        else:\n",
    "            print('Rectangle', a * b)\n",
    "    \n",
    "obj = Geometry()\n",
    "obj.area(4)\n",
    "obj.area(4, 5)"
   ]
  },
  {
   "cell_type": "markdown",
   "id": "f27f2226",
   "metadata": {},
   "source": [
    "*Note: Python's workaround with default arguments simulates overloading.*"
   ]
  },
  {
   "cell_type": "code",
   "execution_count": 12,
   "id": "dbc4fb65",
   "metadata": {},
   "outputs": [],
   "source": [
    "\"Operator Overloading\" ---> Customize default operator behavior.\n",
    "                            (e.g., `+` for addition)\n",
    "\n",
    "                            Define behavior for operators beyond built-in.\n",
    "                            (e.g., custom class logic)"
   ]
  },
  {
   "cell_type": "code",
   "execution_count": 14,
   "id": "5d8f28f2",
   "metadata": {},
   "outputs": [
    {
     "data": {
      "text/plain": [
       "'helloworld'"
      ]
     },
     "execution_count": 14,
     "metadata": {},
     "output_type": "execute_result"
    }
   ],
   "source": [
    "'hello' + 'world'\n",
    "\n",
    "# Not mathematical addition; string concatenation instead.\n",
    "# String class designer redefined `+` operator for concatenation."
   ]
  },
  {
   "cell_type": "code",
   "execution_count": 15,
   "id": "c99dc2c5",
   "metadata": {},
   "outputs": [
    {
     "name": "stdout",
     "output_type": "stream",
     "text": [
      "38/24\n"
     ]
    }
   ],
   "source": [
    "x = Fraction(3, 4)\n",
    "y = Fraction(5, 6)\n",
    "\n",
    "print(x + y)\n",
    "\n",
    "# Operator Overloading:\n",
    "\n",
    "# Custom logic for operators (e.g., `+`).\n",
    "# Fraction addition, where `+` is redefined.\n",
    "# Allow custom behavior for standard operators in classes."
   ]
  },
  {
   "cell_type": "code",
   "execution_count": 21,
   "id": "8d5e2a9e",
   "metadata": {},
   "outputs": [
    {
     "data": {
      "text/plain": [
       "9"
      ]
     },
     "execution_count": 21,
     "metadata": {},
     "output_type": "execute_result"
    }
   ],
   "source": [
    "4 + 5"
   ]
  },
  {
   "cell_type": "code",
   "execution_count": 22,
   "id": "b8778002",
   "metadata": {},
   "outputs": [
    {
     "data": {
      "text/plain": [
       "[1, 2, 3, 4, 5]"
      ]
     },
     "execution_count": 22,
     "metadata": {},
     "output_type": "execute_result"
    }
   ],
   "source": [
    "[1, 2, 3] + [4, 5]"
   ]
  },
  {
   "cell_type": "markdown",
   "id": "f8d67660",
   "metadata": {},
   "source": [
    "## ABSTRACTION\n",
    "\n",
    "Hides implementation details; focuses on functionality."
   ]
  },
  {
   "cell_type": "code",
   "execution_count": 1,
   "id": "d65bb813",
   "metadata": {},
   "outputs": [],
   "source": [
    "Ex: Laptop                ---> details (how it's made) hidden.\n",
    "                               user interface is exposed.\n",
    "\n",
    "Ex: Electromagnetic waves ---> invisible but enable internet, calls.\n",
    "\n",
    "Present in both nature and software."
   ]
  },
  {
   "cell_type": "markdown",
   "id": "7c740ca2",
   "metadata": {},
   "source": [
    "### Bank Example Hierarchy"
   ]
  },
  {
   "cell_type": "code",
   "execution_count": 2,
   "id": "655c337f",
   "metadata": {},
   "outputs": [],
   "source": [
    "# Ex - Abstraction & Inheritance in Bank Application Design:\n",
    "\n",
    "       +----------+\n",
    "       | Bank App | (Top-level)\n",
    "       +----------+\n",
    "      /            \\\n",
    "     /              \\\n",
    "+---------+     +------------+\n",
    "| Web App |     | Mobile App | (Children)\n",
    "+---------+     +------------+\n",
    "\n",
    "Bank App ---> Database\n",
    "Web App <--- Bank App ---> Mobile App\n",
    "\n",
    "Children (Web & Mobile) must inherit Bank App and include security functions.\n",
    "Ensures secure access to database-related functions.\n",
    "\n",
    "Senior dev imposes constraints (abstraction) on subclasses (Web & Mobile) for consistent security."
   ]
  },
  {
   "cell_type": "markdown",
   "id": "c77fcbdc",
   "metadata": {},
   "source": [
    "### Abstract Class\n",
    "\n",
    "**Abstract Class** Contains at least 1 Abstract Method.\n",
    "\n",
    "**Abstract Method** No implementation/code.\n",
    "\n",
    "**2 Method Types:**\n",
    "1. Abstract: No code.\n",
    "2. Concrete: Contains code."
   ]
  },
  {
   "cell_type": "markdown",
   "id": "ede07984",
   "metadata": {},
   "source": [
    "### Coding Abstract Class Ex - BankApp  Class"
   ]
  },
  {
   "cell_type": "code",
   "execution_count": 6,
   "id": "568243c0",
   "metadata": {},
   "outputs": [],
   "source": [
    "from abc import ABC, abstractmethod\n",
    "\n",
    "class BankApp(ABC):\n",
    "  def database(self):\n",
    "    print('connected to database')\n",
    "\n",
    "  @abstractmethod # decorator\n",
    "  def security(self):\n",
    "    pass"
   ]
  },
  {
   "cell_type": "markdown",
   "id": "05af7be5",
   "metadata": {},
   "source": [
    "### 2 Essentials for making Abstract Class \n",
    "\n",
    "1. Inherit from `ABC` class.\n",
    "2. Must have at least one abstract method, marked with `@abstractmethod`. \n",
    "\n",
    "***Note:** Abstract methods contain no code.*"
   ]
  },
  {
   "cell_type": "code",
   "execution_count": 7,
   "id": "71c04131",
   "metadata": {},
   "outputs": [],
   "source": [
    "class MobileApp(BankApp):\n",
    "  def mobile_login(self):\n",
    "    print('login into mobile')"
   ]
  },
  {
   "cell_type": "code",
   "execution_count": 8,
   "id": "23ecc2e0",
   "metadata": {},
   "outputs": [
    {
     "ename": "TypeError",
     "evalue": "Can't instantiate abstract class MobileApp with abstract method security",
     "output_type": "error",
     "traceback": [
      "\u001b[1;31m---------------------------------------------------------------------------\u001b[0m",
      "\u001b[1;31mTypeError\u001b[0m                                 Traceback (most recent call last)",
      "Cell \u001b[1;32mIn[8], line 1\u001b[0m\n\u001b[1;32m----> 1\u001b[0m mob \u001b[38;5;241m=\u001b[39m \u001b[43mMobileApp\u001b[49m\u001b[43m(\u001b[49m\u001b[43m)\u001b[49m\n",
      "\u001b[1;31mTypeError\u001b[0m: Can't instantiate abstract class MobileApp with abstract method security"
     ]
    }
   ],
   "source": [
    "mob = MobileApp()"
   ]
  },
  {
   "cell_type": "markdown",
   "id": "32e39caf",
   "metadata": {},
   "source": [
    "*Bank app inheritance requires implementing abstract methods from the bank app.*"
   ]
  },
  {
   "cell_type": "code",
   "execution_count": 11,
   "id": "0b38e3bf",
   "metadata": {},
   "outputs": [],
   "source": [
    "class MobileApp(BankApp):\n",
    "    def mobile_login(self):\n",
    "        print('login into mobile')\n",
    "    def security (self):\n",
    "        print('mobile security')"
   ]
  },
  {
   "cell_type": "code",
   "execution_count": 12,
   "id": "717f98e0",
   "metadata": {},
   "outputs": [],
   "source": [
    "mob = MobileApp()"
   ]
  },
  {
   "cell_type": "code",
   "execution_count": 13,
   "id": "43fb0695",
   "metadata": {},
   "outputs": [
    {
     "name": "stdout",
     "output_type": "stream",
     "text": [
      "connected to database\n"
     ]
    }
   ],
   "source": [
    "mob.database()"
   ]
  },
  {
   "cell_type": "code",
   "execution_count": 14,
   "id": "647fa4ce",
   "metadata": {},
   "outputs": [
    {
     "name": "stdout",
     "output_type": "stream",
     "text": [
      "login into mobile\n"
     ]
    }
   ],
   "source": [
    "mob.mobile_login()"
   ]
  },
  {
   "cell_type": "code",
   "execution_count": 15,
   "id": "6213fa62",
   "metadata": {},
   "outputs": [
    {
     "name": "stdout",
     "output_type": "stream",
     "text": [
      "mobile security\n"
     ]
    }
   ],
   "source": [
    "mob.security()"
   ]
  },
  {
   "cell_type": "code",
   "execution_count": 16,
   "id": "a99b79d6",
   "metadata": {},
   "outputs": [],
   "source": [
    "Abstraction ---> Top-level classes control lower-level class actions.\n",
    "\n",
    "Ensures consistency in behavior across a large app.\n",
    "\n",
    "Hide implementation details; enforce behavior via abstract methods.\n",
    "\n",
    "Senior devs/top-level designers enforce abstract methods (clauses) for child classes."
   ]
  },
  {
   "cell_type": "code",
   "execution_count": 22,
   "id": "95d1b4b8",
   "metadata": {},
   "outputs": [],
   "source": [
    "from abc import ABC, abstractmethod\n",
    "\n",
    "class BankApp(ABC):\n",
    "  def database(self):\n",
    "    print('connected to database')\n",
    "\n",
    "  @abstractmethod\n",
    "  def security(self):\n",
    "    pass\n",
    "\n",
    "  @abstractmethod\n",
    "  def display(self):\n",
    "    pass"
   ]
  },
  {
   "cell_type": "code",
   "execution_count": 23,
   "id": "5d7eba35",
   "metadata": {},
   "outputs": [],
   "source": [
    "class MobileApp(BankApp):\n",
    "  def mobile_login(self):\n",
    "    print('login into mobile')\n",
    "  def security(self):\n",
    "    print('mobile security')"
   ]
  },
  {
   "cell_type": "code",
   "execution_count": 24,
   "id": "ea1bc355",
   "metadata": {},
   "outputs": [
    {
     "ename": "TypeError",
     "evalue": "Can't instantiate abstract class MobileApp with abstract method display",
     "output_type": "error",
     "traceback": [
      "\u001b[1;31m---------------------------------------------------------------------------\u001b[0m",
      "\u001b[1;31mTypeError\u001b[0m                                 Traceback (most recent call last)",
      "Cell \u001b[1;32mIn[24], line 1\u001b[0m\n\u001b[1;32m----> 1\u001b[0m mob \u001b[38;5;241m=\u001b[39m \u001b[43mMobileApp\u001b[49m\u001b[43m(\u001b[49m\u001b[43m)\u001b[49m\n",
      "\u001b[1;31mTypeError\u001b[0m: Can't instantiate abstract class MobileApp with abstract method display"
     ]
    }
   ],
   "source": [
    "mob = MobileApp()"
   ]
  },
  {
   "cell_type": "code",
   "execution_count": 25,
   "id": "ec30397b",
   "metadata": {},
   "outputs": [],
   "source": [
    "class MobileApp(BankApp):\n",
    "  def mobile_login(self):\n",
    "    print('login into mobile')\n",
    "  def security(self):\n",
    "    print('mobile security')\n",
    "  def display(self):\n",
    "    print('display')"
   ]
  },
  {
   "cell_type": "code",
   "execution_count": 26,
   "id": "c80b8470",
   "metadata": {},
   "outputs": [],
   "source": [
    "mob = MobileApp()"
   ]
  },
  {
   "cell_type": "markdown",
   "id": "cc4dc5f9",
   "metadata": {},
   "source": [
    "*so basically a mechanism for applying constraints.*"
   ]
  },
  {
   "cell_type": "code",
   "execution_count": 28,
   "id": "f961cb32",
   "metadata": {},
   "outputs": [
    {
     "ename": "TypeError",
     "evalue": "Can't instantiate abstract class BankApp with abstract methods display, security",
     "output_type": "error",
     "traceback": [
      "\u001b[1;31m---------------------------------------------------------------------------\u001b[0m",
      "\u001b[1;31mTypeError\u001b[0m                                 Traceback (most recent call last)",
      "Cell \u001b[1;32mIn[28], line 1\u001b[0m\n\u001b[1;32m----> 1\u001b[0m obj \u001b[38;5;241m=\u001b[39m \u001b[43mBankApp\u001b[49m\u001b[43m(\u001b[49m\u001b[43m)\u001b[49m\n",
      "\u001b[1;31mTypeError\u001b[0m: Can't instantiate abstract class BankApp with abstract methods display, security"
     ]
    }
   ],
   "source": [
    "obj = BankApp()"
   ]
  },
  {
   "cell_type": "markdown",
   "id": "ecae8f93",
   "metadata": {},
   "source": [
    "*Abstract Class Instantiation is Not Allowed*"
   ]
  }
 ],
 "metadata": {
  "kernelspec": {
   "display_name": "Python 3 (ipykernel)",
   "language": "python",
   "name": "python3"
  },
  "language_info": {
   "codemirror_mode": {
    "name": "ipython",
    "version": 3
   },
   "file_extension": ".py",
   "mimetype": "text/x-python",
   "name": "python",
   "nbconvert_exporter": "python",
   "pygments_lexer": "ipython3",
   "version": "3.10.9"
  },
  "widgets": {
   "application/vnd.jupyter.widget-state+json": {
    "state": {},
    "version_major": 2,
    "version_minor": 0
   }
  }
 },
 "nbformat": 4,
 "nbformat_minor": 5
}

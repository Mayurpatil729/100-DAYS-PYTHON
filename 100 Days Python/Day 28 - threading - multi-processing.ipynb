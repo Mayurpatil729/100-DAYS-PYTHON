{
 "cells": [
  {
   "cell_type": "markdown",
   "id": "86cfe4c2",
   "metadata": {},
   "source": [
    "## What is Threading?"
   ]
  },
  {
   "cell_type": "code",
   "execution_count": null,
   "id": "61b5670a",
   "metadata": {},
   "outputs": [],
   "source": [
    "+-------------------------------------+          +----------------------------------+\n",
    "|       Single-Threaded Process       |          |      Multi-Threaded Process      |\n",
    "|-------------------------------------|          |----------------------------------|\n",
    "|  +------------+                     |          |  +------------+  +------------+  |\n",
    "|  |  Thread 1  |                     |          |  |  Thread 1  |  |  Thread 2  |  |\n",
    "|  +------------+                     |          |  +------------+  +------------+  |\n",
    "|  |  Task 1    |                     |          |  |  Task A    |  |  Task C    |  |\n",
    "|  |  Task 2    |                     |          |  |  Task B    |  |  Task D    |  |\n",
    "|  |  Task 3    |                     |          |  +------------+  +------------+  |\n",
    "|  +------------+                     |          |  +------------+  +------------+  |\n",
    "+-------------------------------------+          |  |  Thread 3  |  |  Thread 4  |  |\n",
    "                                                 |  +------------+  +------------+  |\n",
    "                                                 |  |  Task E    |  |  Task G    |  |\n",
    "                                                 |  |  Task F    |  |  Task H    |  |\n",
    "                                                 |  +------------+  +------------+  |\n",
    "                                                 +----------------------------------+"
   ]
  },
  {
   "cell_type": "markdown",
   "id": "32ba0e35",
   "metadata": {},
   "source": [
    "**Single Thread:** Default; main thread executes code sequentially.\n",
    "\n",
    "**Multithreading:** Needed for concurrent/simultaneous code execution."
   ]
  },
  {
   "cell_type": "markdown",
   "id": "c91b3f78",
   "metadata": {},
   "source": [
    "## What is a thread?"
   ]
  },
  {
   "cell_type": "markdown",
   "id": "c862c8fe",
   "metadata": {},
   "source": [
    "- Threads are basic CPU units.\n",
    "- Single process contains multiple threads.\n",
    "- Threads share code, data, files.\n",
    "- Each thread has its own registers, separate stack."
   ]
  },
  {
   "cell_type": "markdown",
   "id": "44441268",
   "metadata": {},
   "source": [
    "## Why or When Threading?"
   ]
  },
  {
   "cell_type": "markdown",
   "id": "6022b4f7",
   "metadata": {},
   "source": [
    "**App Screen Persistence:**\n",
    "\n",
    "***Static Image Display:***\n",
    "```python\n",
    "# Main Thread\n",
    "while(True):\n",
    "    displayScreen()\n",
    "```\n",
    "Shows fleeting images; appears like the app is running but isn't.\n",
    "\n",
    "***Heavy Operation + Display:***\n",
    "```python\n",
    "# Main Thread\n",
    "while(True):\n",
    "    # Heavy Operation\n",
    "    displayScreen()\n",
    "```\n",
    "Results in flicker; heavy op delays screen display.\n",
    "\n",
    "***Network Call + Display:***\n",
    "```python\n",
    "# Main Thread\n",
    "while(True):\n",
    "    Image = request(ImageUrl)\n",
    "    displayScreen()\n",
    "```\n",
    "Causes screen to pop up based on network delay.\n",
    "\n",
    "***Solution: Multithreading***\n",
    "```python\n",
    "# Main Thread\n",
    "Image = None\n",
    "\n",
    "def startAnotherThread():\n",
    "    while(True):\n",
    "        Image = request(ImageUrl)\n",
    "\n",
    "while(True):\n",
    "    displayScreen(Image)\n",
    "```\n",
    "`startAnotherThread()` fetches images concurrently; `displayScreen()` shows available images."
   ]
  },
  {
   "cell_type": "code",
   "execution_count": 3,
   "id": "4e88695f",
   "metadata": {},
   "outputs": [],
   "source": [
    "# another example ---> multithreading in servers is used to handle multiple requests. \n",
    "#                      mechanism involves diff threads for each request"
   ]
  },
  {
   "cell_type": "markdown",
   "id": "38690eb6",
   "metadata": {},
   "source": [
    "## How threads are handled by OS?"
   ]
  },
  {
   "cell_type": "markdown",
   "id": "6a0edfe3",
   "metadata": {},
   "source": [
    "**Threads Running Concurrently** a **\"False Statement\"**. Threads are not truly running concurrently.\n",
    "\n",
    "**Reality:** Limited by single-core CPUs; **Concurrent** ≠ **Parallel**"
   ]
  },
  {
   "cell_type": "code",
   "execution_count": null,
   "id": "3dea0f2c",
   "metadata": {},
   "outputs": [],
   "source": [
    "                Web Server                         Thread\n",
    "+-----------------------------------------+          ^           +--------------------------------+\n",
    "|       +-------------------------+       |          |  t3 ----> | Running  | Sleeping | Running  |\n",
    "|       |     Request Handler     |       |          |           +--------------------------------+\n",
    "|       +-------------------------+       |          |           +--------------------------------+\n",
    "|  +---------+  +---------+  +---------+  |          |  t2 ----> | Sleeping | Running  | Sleeping |\n",
    "|  | Client1 |  | Client2 |  | Client3 |  |          |           +--------------------------------+\n",
    "|  +---------+  +---------+  +---------+  |          |           +--------------------------------+\n",
    "+-----------------------------------------+          |  t1 ----> | Running  | Running  | Sleeping |\n",
    "                                                     |           +--------------------------------+  \n",
    "                                                     +-----------------------------------------------> Time"
   ]
  },
  {
   "cell_type": "markdown",
   "id": "b7223ab7",
   "metadata": {},
   "source": [
    "3 threads.\n",
    "\n",
    "CPU switches between them.\n",
    "\n",
    "Only 1 thread executes at a time.\n",
    "\n",
    "Effect: Concurrency."
   ]
  },
  {
   "cell_type": "markdown",
   "id": "f1c5344c",
   "metadata": {},
   "source": [
    "## Implementation"
   ]
  },
  {
   "cell_type": "code",
   "execution_count": 6,
   "id": "0a0327fa",
   "metadata": {},
   "outputs": [
    {
     "name": "stdout",
     "output_type": "stream",
     "text": [
      "Sleeping...0\n",
      "Sleeping...1\n",
      "Sleeping...2\n",
      "Sleeping...3\n",
      "Sleeping...4\n",
      "Sleeping...5\n",
      "Sleeping...6\n",
      "Sleeping...7\n",
      "Sleeping...8\n",
      "Sleeping...9\n",
      "Woke up...8Woke up...7\n",
      "Woke up...5\n",
      "Woke up...4\n",
      "Woke up...2\n",
      "Woke up...1\n",
      "Woke up...9\n",
      "Woke up...3\n",
      "Woke up...6\n",
      "Woke up...0\n",
      "\n",
      "Main Thread Duration: 1.0146267414093018 sec\n"
     ]
    }
   ],
   "source": [
    "from time import sleep, time\n",
    "import threading\n",
    "\n",
    "start = time()\n",
    "\n",
    "def task(id):\n",
    "    print(f\"Sleeping...{id}\")\n",
    "    sleep(1)\n",
    "    print(f\"Woke up...{id}\")\n",
    "\n",
    "threads = [threading.Thread(target=task, args=[i]) for i in range(10)]\n",
    "for t in threads:\n",
    "    t.start()\n",
    "\n",
    "for t in threads:\n",
    "    t.join()\n",
    "\n",
    "end = time()\n",
    "print(f\"Main Thread Duration: {end - start} sec\")"
   ]
  },
  {
   "cell_type": "markdown",
   "id": "9a512454",
   "metadata": {},
   "source": [
    "## Thread Synchronization"
   ]
  },
  {
   "cell_type": "code",
   "execution_count": 10,
   "id": "6f0b7c97",
   "metadata": {},
   "outputs": [
    {
     "name": "stdout",
     "output_type": "stream",
     "text": [
      "200\n"
     ]
    }
   ],
   "source": [
    "import threading\n",
    "\n",
    "balance = 200\n",
    "lock = threading.Lock()\n",
    "\n",
    "def deposit(amount, times, lock):\n",
    "    global balance\n",
    "    for _ in range(times):\n",
    "        lock.acquire()\n",
    "        balance += amount\n",
    "        lock.release()\n",
    "\n",
    "def withdraw(amount, times, lock):\n",
    "    global balance\n",
    "    for _ in range(times):\n",
    "        lock.acquire()\n",
    "        balance -= amount\n",
    "        lock.release()\n",
    "\n",
    "deposit_thread = threading.Thread(target=deposit, args=[1, 100000, lock])\n",
    "withdraw_thread = threading.Thread(target=withdraw, args=[1, 100000, lock])\n",
    "\n",
    "deposit_thread.start()\n",
    "withdraw_thread.start()\n",
    "deposit_thread.join()\n",
    "withdraw_thread.join()\n",
    "\n",
    "print(balance)"
   ]
  }
 ],
 "metadata": {
  "kernelspec": {
   "display_name": "Python 3 (ipykernel)",
   "language": "python",
   "name": "python3"
  },
  "language_info": {
   "codemirror_mode": {
    "name": "ipython",
    "version": 3
   },
   "file_extension": ".py",
   "mimetype": "text/x-python",
   "name": "python",
   "nbconvert_exporter": "python",
   "pygments_lexer": "ipython3",
   "version": "3.10.9"
  }
 },
 "nbformat": 4,
 "nbformat_minor": 5
}

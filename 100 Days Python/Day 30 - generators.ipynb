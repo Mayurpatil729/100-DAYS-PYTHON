{
 "cells": [
  {
   "cell_type": "markdown",
   "id": "905a4e72",
   "metadata": {},
   "source": [
    "# What is a Generator?\n",
    "\n",
    "Simple way to create iterators."
   ]
  },
  {
   "cell_type": "code",
   "execution_count": 1,
   "id": "478a2bbc",
   "metadata": {},
   "outputs": [],
   "source": [
    "# Iterable\n",
    "class mera_range:\n",
    "    def __init__(self, start, end):\n",
    "        self.start = start\n",
    "        self.end = end\n",
    "    def __iter__(self):\n",
    "        return mera_iterator(self)\n",
    "    \n",
    "\n",
    "# Iterator\n",
    "class mera_iterator:\n",
    "    def __init__(self, iterable_obj):\n",
    "        self.iterable = iterable_obj\n",
    "    def __iter__(self):\n",
    "        return self\n",
    "    def __next__(self):\n",
    "        if self.iterable.start >= self.iterable.end:\n",
    "            raise StopIteration\n",
    "        current = self.iterable.start\n",
    "        self.iterable.start += 1\n",
    "        return current"
   ]
  },
  {
   "cell_type": "markdown",
   "id": "c5518681",
   "metadata": {},
   "source": [
    "now this method is cluttered, outdated for iterators.\n",
    "\n",
    "**Solution**: Generators.\n",
    "\n",
    "in simple terms **Generatos** are a simplified way to create iterators."
   ]
  },
  {
   "cell_type": "markdown",
   "id": "fd44bc77",
   "metadata": {},
   "source": [
    "## The Why"
   ]
  },
  {
   "cell_type": "markdown",
   "id": "14ff5791",
   "metadata": {},
   "source": [
    "## Need for Iterators"
   ]
  },
  {
   "cell_type": "code",
   "execution_count": 5,
   "id": "ea3d5fa3",
   "metadata": {},
   "outputs": [
    {
     "data": {
      "text/plain": [
       "800984"
      ]
     },
     "execution_count": 5,
     "metadata": {},
     "output_type": "execute_result"
    }
   ],
   "source": [
    "L = [x for x in range(100000)] # 100k elements\n",
    "\n",
    "# for i in L:\n",
    "#     print(i**2)\n",
    "    \n",
    "import sys\n",
    "sys.getsizeof(L) # Memory size of list `L`"
   ]
  },
  {
   "cell_type": "code",
   "execution_count": 6,
   "id": "e47b2bc7",
   "metadata": {},
   "outputs": [
    {
     "data": {
      "text/plain": [
       "48"
      ]
     },
     "execution_count": 6,
     "metadata": {},
     "output_type": "execute_result"
    }
   ],
   "source": [
    "x = range(10000000) # 10M elements\n",
    "\n",
    "# for i in x:\n",
    "#     print(i**2)\n",
    "    \n",
    "sys.getsizeof(x) # Size of `range` obj (constant space)"
   ]
  },
  {
   "cell_type": "markdown",
   "id": "4d7fa921",
   "metadata": {},
   "source": [
    "*this is why iterators are vital; generators are key for easily creating them.*"
   ]
  },
  {
   "cell_type": "markdown",
   "id": "b22fe091",
   "metadata": {},
   "source": [
    "## A Simple Example"
   ]
  },
  {
   "cell_type": "code",
   "execution_count": 10,
   "id": "43d4ce12",
   "metadata": {},
   "outputs": [],
   "source": [
    "def gen_demo():\n",
    "    yield \"first statement\"\n",
    "    yield \"second statement\"\n",
    "    yield \"third statement\""
   ]
  },
  {
   "cell_type": "code",
   "execution_count": 11,
   "id": "92d9a52e",
   "metadata": {},
   "outputs": [
    {
     "name": "stdout",
     "output_type": "stream",
     "text": [
      "<generator object gen_demo at 0x00000239E3EF3140>\n"
     ]
    }
   ],
   "source": [
    "gen = gen_demo()\n",
    "print(gen)"
   ]
  },
  {
   "cell_type": "code",
   "execution_count": 12,
   "id": "ec7a2ce1",
   "metadata": {},
   "outputs": [
    {
     "name": "stdout",
     "output_type": "stream",
     "text": [
      "first statement\n"
     ]
    }
   ],
   "source": [
    "print(next(gen))"
   ]
  },
  {
   "cell_type": "code",
   "execution_count": 13,
   "id": "fa5af93b",
   "metadata": {},
   "outputs": [
    {
     "name": "stdout",
     "output_type": "stream",
     "text": [
      "second statement\n"
     ]
    }
   ],
   "source": [
    "print(next(gen))"
   ]
  },
  {
   "cell_type": "code",
   "execution_count": 14,
   "id": "3066b1b1",
   "metadata": {},
   "outputs": [
    {
     "name": "stdout",
     "output_type": "stream",
     "text": [
      "third statement\n"
     ]
    }
   ],
   "source": [
    "print(next(gen))"
   ]
  },
  {
   "cell_type": "code",
   "execution_count": 15,
   "id": "656c6264",
   "metadata": {},
   "outputs": [
    {
     "ename": "StopIteration",
     "evalue": "",
     "output_type": "error",
     "traceback": [
      "\u001b[1;31m---------------------------------------------------------------------------\u001b[0m",
      "\u001b[1;31mStopIteration\u001b[0m                             Traceback (most recent call last)",
      "Cell \u001b[1;32mIn[15], line 1\u001b[0m\n\u001b[1;32m----> 1\u001b[0m \u001b[38;5;28mprint\u001b[39m(\u001b[38;5;28;43mnext\u001b[39;49m\u001b[43m(\u001b[49m\u001b[43mgen\u001b[49m\u001b[43m)\u001b[49m)\n",
      "\u001b[1;31mStopIteration\u001b[0m: "
     ]
    }
   ],
   "source": [
    "print(next(gen))"
   ]
  },
  {
   "cell_type": "code",
   "execution_count": 16,
   "id": "68cc9430",
   "metadata": {},
   "outputs": [
    {
     "name": "stdout",
     "output_type": "stream",
     "text": [
      "first statement\n",
      "second statement\n",
      "third statement\n"
     ]
    }
   ],
   "source": [
    "gen = gen_demo()\n",
    "for i in gen:\n",
    "    print(i)"
   ]
  },
  {
   "cell_type": "markdown",
   "id": "05ea8c75",
   "metadata": {},
   "source": [
    "**Generator** is function with `yield` (not `return`).\n",
    "\n",
    "Returns a generator object.\n",
    "\n",
    "**Usage**: \n",
    "- `next(gen)` to get items.\n",
    "- `for` loop for iteration.\n",
    "\n",
    "**Advantage**: Simplifies iteration vs. old iterator chaos."
   ]
  },
  {
   "cell_type": "markdown",
   "id": "096b41c0",
   "metadata": {},
   "source": [
    "## `yield` vs `return`\n",
    "\n",
    "**Normal Function** executes, completes, and is removed from memory; **Generator** pauses, retains state (variables), and resumes from pause point.\n",
    "\n",
    "**Key Difference:** Generators maintain state and resume execution, while normal functions are discarded post-execution."
   ]
  },
  {
   "cell_type": "markdown",
   "id": "f86e2b35",
   "metadata": {},
   "source": [
    "## Example 2"
   ]
  },
  {
   "cell_type": "code",
   "execution_count": 25,
   "id": "2f8dd2d8",
   "metadata": {},
   "outputs": [],
   "source": [
    "def square(num):\n",
    "    for i in range(1, num+1):\n",
    "        yield i**2"
   ]
  },
  {
   "cell_type": "code",
   "execution_count": 26,
   "id": "3c2317db",
   "metadata": {},
   "outputs": [],
   "source": [
    "gen = square(10)"
   ]
  },
  {
   "cell_type": "code",
   "execution_count": 27,
   "id": "9b32d856",
   "metadata": {},
   "outputs": [
    {
     "name": "stdout",
     "output_type": "stream",
     "text": [
      "1\n"
     ]
    }
   ],
   "source": [
    "print(next(gen))"
   ]
  },
  {
   "cell_type": "code",
   "execution_count": 28,
   "id": "45e5c0f6",
   "metadata": {},
   "outputs": [
    {
     "name": "stdout",
     "output_type": "stream",
     "text": [
      "4\n"
     ]
    }
   ],
   "source": [
    "print(next(gen))"
   ]
  },
  {
   "cell_type": "code",
   "execution_count": 29,
   "id": "68a12142",
   "metadata": {},
   "outputs": [
    {
     "name": "stdout",
     "output_type": "stream",
     "text": [
      "9\n"
     ]
    }
   ],
   "source": [
    "print(next(gen))"
   ]
  },
  {
   "cell_type": "code",
   "execution_count": 30,
   "id": "ed470d4f",
   "metadata": {},
   "outputs": [
    {
     "name": "stdout",
     "output_type": "stream",
     "text": [
      "16\n"
     ]
    }
   ],
   "source": [
    "print(next(gen))"
   ]
  },
  {
   "cell_type": "code",
   "execution_count": 31,
   "id": "6eacfda9",
   "metadata": {},
   "outputs": [
    {
     "name": "stdout",
     "output_type": "stream",
     "text": [
      "25\n",
      "36\n",
      "49\n",
      "64\n",
      "81\n",
      "100\n"
     ]
    }
   ],
   "source": [
    "for i in gen:\n",
    "    print(i)"
   ]
  },
  {
   "cell_type": "markdown",
   "id": "875edb12",
   "metadata": {},
   "source": [
    "## Range Function (Generator)"
   ]
  },
  {
   "cell_type": "code",
   "execution_count": 35,
   "id": "14721877",
   "metadata": {},
   "outputs": [],
   "source": [
    "def mera_range(start, end):\n",
    "    for i in range(start, end):\n",
    "        yield i"
   ]
  },
  {
   "cell_type": "code",
   "execution_count": 36,
   "id": "e5a75f70",
   "metadata": {},
   "outputs": [
    {
     "name": "stdout",
     "output_type": "stream",
     "text": [
      "15\n",
      "16\n",
      "17\n",
      "18\n",
      "19\n",
      "20\n",
      "21\n",
      "22\n",
      "23\n",
      "24\n",
      "25\n"
     ]
    }
   ],
   "source": [
    "gen = mera_range(15, 26)\n",
    "for i in gen:\n",
    "    print(i)"
   ]
  },
  {
   "cell_type": "code",
   "execution_count": 37,
   "id": "7f438fad",
   "metadata": {
    "scrolled": true
   },
   "outputs": [
    {
     "name": "stdout",
     "output_type": "stream",
     "text": [
      "15\n",
      "16\n",
      "17\n",
      "18\n",
      "19\n",
      "20\n",
      "21\n",
      "22\n",
      "23\n",
      "24\n",
      "25\n"
     ]
    }
   ],
   "source": [
    "for i in mera_range(15, 26):\n",
    "    print(i)"
   ]
  },
  {
   "cell_type": "markdown",
   "id": "55d0997c",
   "metadata": {},
   "source": [
    "***Generators in Python** simplify iterator creation, reducing it to just two lines.*"
   ]
  },
  {
   "cell_type": "markdown",
   "id": "406188e0",
   "metadata": {},
   "source": [
    "## Generator Expression\n",
    "\n",
    "Generator expressions simplifies iterator creation with `(expr for item in iterable)`."
   ]
  },
  {
   "cell_type": "code",
   "execution_count": 40,
   "id": "722796db",
   "metadata": {},
   "outputs": [],
   "source": [
    "# list comprehension\n",
    "\n",
    "L = [i**2 for i in range(1, 11)]"
   ]
  },
  {
   "cell_type": "code",
   "execution_count": 41,
   "id": "898ee615",
   "metadata": {},
   "outputs": [
    {
     "data": {
      "text/plain": [
       "[1, 4, 9, 16, 25, 36, 49, 64, 81, 100]"
      ]
     },
     "execution_count": 41,
     "metadata": {},
     "output_type": "execute_result"
    }
   ],
   "source": [
    "L"
   ]
  },
  {
   "cell_type": "code",
   "execution_count": 42,
   "id": "cc01bd9d",
   "metadata": {},
   "outputs": [
    {
     "name": "stdout",
     "output_type": "stream",
     "text": [
      "1\n",
      "4\n",
      "9\n",
      "16\n",
      "25\n",
      "36\n",
      "49\n",
      "64\n",
      "81\n",
      "100\n"
     ]
    }
   ],
   "source": [
    "gen = (i**2 for i in range(1, 11))\n",
    "for i in gen:\n",
    "    print(i)"
   ]
  },
  {
   "cell_type": "markdown",
   "id": "0c7d14fc",
   "metadata": {},
   "source": [
    "## Practical Example"
   ]
  },
  {
   "cell_type": "code",
   "execution_count": 49,
   "id": "b03eb0a7",
   "metadata": {},
   "outputs": [],
   "source": [
    "import os\n",
    "import cv2\n",
    "\n",
    "def image_data_reader(folder_path):\n",
    "    for file in os.listdir(folder_path):\n",
    "        f_array = cv2.imread(os.path.join(folder_path,file))\n",
    "        yield f_array"
   ]
  },
  {
   "cell_type": "code",
   "execution_count": 50,
   "id": "c0ccdc67",
   "metadata": {},
   "outputs": [
    {
     "data": {
      "text/plain": [
       "array([[[ 38,  38,  38],\n",
       "        [ 26,  26,  26],\n",
       "        [ 23,  23,  23],\n",
       "        ...,\n",
       "        [198, 198, 198],\n",
       "        [196, 196, 196],\n",
       "        [167, 167, 167]],\n",
       "\n",
       "       [[ 32,  32,  32],\n",
       "        [ 25,  25,  25],\n",
       "        [ 26,  26,  26],\n",
       "        ...,\n",
       "        [194, 194, 194],\n",
       "        [204, 204, 204],\n",
       "        [181, 181, 181]],\n",
       "\n",
       "       [[ 44,  44,  44],\n",
       "        [ 42,  42,  42],\n",
       "        [ 38,  38,  38],\n",
       "        ...,\n",
       "        [156, 156, 156],\n",
       "        [214, 214, 214],\n",
       "        [199, 199, 199]],\n",
       "\n",
       "       ...,\n",
       "\n",
       "       [[150, 150, 150],\n",
       "        [165, 165, 165],\n",
       "        [186, 186, 186],\n",
       "        ...,\n",
       "        [229, 229, 229],\n",
       "        [226, 226, 226],\n",
       "        [239, 239, 239]],\n",
       "\n",
       "       [[145, 145, 145],\n",
       "        [156, 156, 156],\n",
       "        [180, 180, 180],\n",
       "        ...,\n",
       "        [227, 227, 227],\n",
       "        [228, 228, 228],\n",
       "        [221, 221, 221]],\n",
       "\n",
       "       [[144, 144, 144],\n",
       "        [150, 150, 150],\n",
       "        [172, 172, 172],\n",
       "        ...,\n",
       "        [211, 211, 211],\n",
       "        [189, 189, 189],\n",
       "        [217, 217, 217]]], dtype=uint8)"
      ]
     },
     "execution_count": 50,
     "metadata": {},
     "output_type": "execute_result"
    }
   ],
   "source": [
    "gen = image_data_reader('C:/Users/91842/emotion-detector/train/Sad')\n",
    "\n",
    "next(gen)\n",
    "next(gen)\n",
    "\n",
    "next(gen)\n",
    "next(gen)"
   ]
  },
  {
   "cell_type": "markdown",
   "id": "37f134c4",
   "metadata": {},
   "source": [
    "Handles large image datasets (4,000+ images to even 40 million images), by **loading 1 image at a time** into memory.\n",
    "\n",
    "**Keras** uses **`ImageDataGenerators`** for **one-by-one** data loading."
   ]
  },
  {
   "cell_type": "markdown",
   "id": "8cb79570",
   "metadata": {},
   "source": [
    "## Benefits of Using a Generator"
   ]
  },
  {
   "cell_type": "markdown",
   "id": "3329b0d1",
   "metadata": {},
   "source": [
    "### 1. Ease of Implementation"
   ]
  },
  {
   "cell_type": "code",
   "execution_count": null,
   "id": "a1cae9cd",
   "metadata": {},
   "outputs": [],
   "source": [
    "class mera_range:\n",
    "    def __init__(self, start, end):\n",
    "        self.start = start\n",
    "        self.end = end\n",
    "    def __iter__(self):\n",
    "        return mera_iterator(self)"
   ]
  },
  {
   "cell_type": "code",
   "execution_count": null,
   "id": "a16123e0",
   "metadata": {},
   "outputs": [],
   "source": [
    "# iterator\n",
    "\n",
    "class mera_iterator:\n",
    "    def __init__(self, iterable_obj):\n",
    "        self.iterable = iterable_obj\n",
    "    def __iter__(self):\n",
    "        return self\n",
    "    def __next__(self):\n",
    "        if self.iterable.start >= self.iterable.end:\n",
    "            raise StopIteration\n",
    "        current = self.iterable.start\n",
    "        self.iterable.start += 1\n",
    "        return current"
   ]
  },
  {
   "cell_type": "code",
   "execution_count": null,
   "id": "999b118f",
   "metadata": {},
   "outputs": [],
   "source": [
    "# generator\n",
    "\n",
    "def mera_range(start, end):\n",
    "    for i in range(start, end):\n",
    "        yield i"
   ]
  },
  {
   "cell_type": "markdown",
   "id": "848ddf3d",
   "metadata": {},
   "source": [
    "*Iterators: More code; Generators: Less code.*"
   ]
  },
  {
   "cell_type": "markdown",
   "id": "1cee95cb",
   "metadata": {},
   "source": [
    "### 2. Memory Efficiency"
   ]
  },
  {
   "cell_type": "code",
   "execution_count": 55,
   "id": "d9886270",
   "metadata": {},
   "outputs": [
    {
     "name": "stdout",
     "output_type": "stream",
     "text": [
      "Size of L in memory 800984\n",
      "Size of gen in memory 104\n"
     ]
    }
   ],
   "source": [
    "L = [x for x in range(100000)]\n",
    "gen = (x for x in range(100000))\n",
    "\n",
    "import sys\n",
    "print('Size of L in memory', sys.getsizeof(L))\n",
    "print('Size of gen in memory', sys.getsizeof(gen))"
   ]
  },
  {
   "cell_type": "markdown",
   "id": "ea6a31ed",
   "metadata": {},
   "source": [
    "*Generators save significant memory vs. lists, even when lists are expanded 10x; use generators for sequential tasks.*"
   ]
  },
  {
   "cell_type": "markdown",
   "id": "5d7c5229",
   "metadata": {},
   "source": [
    "### 3. Infinite Streams"
   ]
  },
  {
   "cell_type": "code",
   "execution_count": 56,
   "id": "a144da66",
   "metadata": {},
   "outputs": [],
   "source": [
    "def all_even():\n",
    "    n = 0\n",
    "    while True:\n",
    "        yield n\n",
    "        n += 2"
   ]
  },
  {
   "cell_type": "code",
   "execution_count": 57,
   "id": "04b11520",
   "metadata": {},
   "outputs": [
    {
     "data": {
      "text/plain": [
       "2"
      ]
     },
     "execution_count": 57,
     "metadata": {},
     "output_type": "execute_result"
    }
   ],
   "source": [
    "even_num_gen = all_even()\n",
    "next(even_num_gen)\n",
    "next(even_num_gen)"
   ]
  },
  {
   "cell_type": "markdown",
   "id": "41165837",
   "metadata": {},
   "source": [
    "*Infinite Data: Use Generators*"
   ]
  },
  {
   "cell_type": "markdown",
   "id": "e80fec2f",
   "metadata": {},
   "source": [
    "### 4. Chaining Generators"
   ]
  },
  {
   "cell_type": "code",
   "execution_count": 58,
   "id": "fc9972b1",
   "metadata": {},
   "outputs": [
    {
     "name": "stdout",
     "output_type": "stream",
     "text": [
      "4895\n"
     ]
    }
   ],
   "source": [
    "def fibonacci_numbers(nums):\n",
    "    x, y = 0, 1\n",
    "    for _ in range(nums):\n",
    "        x, y = y, x + y\n",
    "        yield x\n",
    "\n",
    "def square(nums):\n",
    "    for num in nums:\n",
    "        yield num**2\n",
    "\n",
    "print(sum(square(fibonacci_numbers(10))))"
   ]
  },
  {
   "cell_type": "markdown",
   "id": "67fb823e",
   "metadata": {},
   "source": [
    "*Generators enable logical connections to accomplish complex tasks.*"
   ]
  }
 ],
 "metadata": {
  "kernelspec": {
   "display_name": "Python 3 (ipykernel)",
   "language": "python",
   "name": "python3"
  },
  "language_info": {
   "codemirror_mode": {
    "name": "ipython",
    "version": 3
   },
   "file_extension": ".py",
   "mimetype": "text/x-python",
   "name": "python",
   "nbconvert_exporter": "python",
   "pygments_lexer": "ipython3",
   "version": "3.10.9"
  }
 },
 "nbformat": 4,
 "nbformat_minor": 5
}

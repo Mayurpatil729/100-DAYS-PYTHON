{
 "cells": [
  {
   "cell_type": "markdown",
   "metadata": {
    "id": "lSNbVZA81hp2"
   },
   "source": [
    "## File I/O Basics\n",
    "\n",
    "**Data Types**:\n",
    "- *Text*: Unicode chars (e.g., '12345' in UTF-8/ASCII)\n",
    "- *Binary*: Raw bytes (e.g., number 12345)\n",
    "\n",
    "**File Types**:\n",
    "- *Text Files*: Human-readable (e.g., source code, config files)\n",
    "- *Binary Files*: Non-readable data (e.g., images, multimedia)\n",
    "\n",
    "**Process**:\n",
    "1. *Open*: Connects program to file\n",
    "2. *Read/Write*: Handles data based on type\n",
    "3. *Close*: Completes operations, frees resources"
   ]
  },
  {
   "cell_type": "code",
   "execution_count": null,
   "metadata": {
    "id": "xvnsasXQ2phi"
   },
   "outputs": [],
   "source": [
    "Writing to a File ---> `.txt` extension (Notepad)."
   ]
  },
  {
   "cell_type": "code",
   "execution_count": null,
   "metadata": {},
   "outputs": [],
   "source": [
    "# Case 1 - File Not Present\n",
    "\n",
    "f = open('sample.txt', 'w')\n",
    "f.write('Hello world')\n",
    "f.close()\n",
    "\n",
    "# Create file in current dir"
   ]
  },
  {
   "cell_type": "code",
   "execution_count": null,
   "metadata": {},
   "outputs": [],
   "source": [
    "# Error: File Closed\n",
    "\n",
    "f.write('hello')"
   ]
  },
  {
   "cell_type": "code",
   "execution_count": null,
   "metadata": {
    "id": "vFnaFPjR3fH9"
   },
   "outputs": [],
   "source": [
    "# Write multiline strings to a file\n",
    "\n",
    "f = open('sample1.txt', 'w')\n",
    "f.write('hello world')\n",
    "f.write('\\n how are you?')\n",
    "f.close()"
   ]
  },
  {
   "cell_type": "code",
   "execution_count": null,
   "metadata": {
    "id": "bGSwQIAk24Le"
   },
   "outputs": [],
   "source": [
    "# Case 2 - File Overwrite in Write Mode ('w')\n",
    "\n",
    "f = open('sample.txt', 'w')\n",
    "f.write('salman khan')\n",
    "f.close()\n",
    "\n",
    "# Note: Opening in 'w' mode replaces all existing content in 'sample.txt'."
   ]
  },
  {
   "cell_type": "markdown",
   "metadata": {},
   "source": [
    "## How `open()` Works in Python\n",
    "\n",
    "Handles file I/O; interacts with disk files.\n",
    "\n",
    "Example: `f = open('sample.txt', 'w')` - opens 'sample.txt' in write mode.\n",
    "\n",
    "**File Access & RAM Interaction:** File loaded from disk (ROM) to RAM buffer.\n",
    "\n",
    "**File Operations & Modes:** Modes (e.g., 'w' for write) determine file interactions (`f.write('salman khan')` writes to RAM).\n",
    "\n",
    "**Data Integrity:** `f.close()` saves buffer changes back to disk."
   ]
  },
  {
   "cell_type": "code",
   "execution_count": null,
   "metadata": {},
   "outputs": [],
   "source": [
    "`open()`  ---> File in RAM.\n",
    "\n",
    "`write()` ---> Modify RAM buffer.\n",
    "\n",
    "`close()` ---> Save to disk."
   ]
  },
  {
   "cell_type": "markdown",
   "metadata": {},
   "source": [
    "**Source:** [Python Documentation](https://docs.python.org/3/library/functions.html#open)."
   ]
  },
  {
   "cell_type": "code",
   "execution_count": null,
   "metadata": {
    "id": "KZViVfpm4D8F"
   },
   "outputs": [],
   "source": [
    "# Problem with 'w' mode ---> Overwrites file content.\n",
    "# To preserves existing content, use 'a' mode (append).\n",
    "\n",
    "f = open('/content/sample1.txt', 'a')\n",
    "f.write('\\nI am fine')\n",
    "f.close()"
   ]
  },
  {
   "cell_type": "code",
   "execution_count": null,
   "metadata": {
    "id": "JDseN1dP4SXR"
   },
   "outputs": [],
   "source": [
    "# Write Multiple Lines to a File\n",
    "\n",
    "L = ['hello\\n','hi\\n','how are you\\n', 'I am fine']\n",
    "\n",
    "f = open('/content/temp/sample.txt', 'w')\n",
    "f.writelines(L) # Efficiently writes multiple lines\n",
    "f.close()"
   ]
  },
  {
   "cell_type": "markdown",
   "metadata": {},
   "source": [
    "When you use `f.close()` to close a file, it serves two main purposes:\n",
    "\n",
    "1. **Memory Management:**\n",
    "- Releases RAM resources.\n",
    "- Crucial for large/multiple files.\n",
    "\n",
    "2. **Security:**\n",
    "- Closes file buffers.\n",
    "- Prevents unauthorized access.\n",
    "\n",
    "*Always use `f.close()` after file operations; Manages memory & security.*"
   ]
  },
  {
   "cell_type": "markdown",
   "metadata": {},
   "source": [
    "## Reading from Files\n",
    "\n",
    "1. **`read()`**: Reads all content into a single string. Efficient for small files.\n",
    "\n",
    "   **Pros**: Simple. **Cons**: Memory-heavy for large files.\n",
    "\n",
    "2. **`readline()`**: Reads one line at a time. Good for large files and sequential processing.\n",
    "\n",
    "   **Pros**: Memory-efficient. **Cons**: Slower for full content access."
   ]
  },
  {
   "cell_type": "code",
   "execution_count": null,
   "metadata": {
    "colab": {
     "base_uri": "https://localhost:8080/"
    },
    "id": "yRu-TvOL6SFu",
    "outputId": "601e7d90-0b4f-416f-9cfe-57031a6677f1"
   },
   "outputs": [
    {
     "name": "stdout",
     "output_type": "stream",
     "text": [
      "hello\n",
      "hi\n",
      "how are you\n",
      "I am fine\n"
     ]
    }
   ],
   "source": [
    "# `read()` Usage\n",
    "\n",
    "f = open('/content/sample.txt', 'r')\n",
    "s = f.read()\n",
    "print(s)\n",
    "f.close()\n",
    "\n",
    "# NOTE : File I/O handles data as strings.\n",
    "#       `txt` files process data as text only, no other formats."
   ]
  },
  {
   "cell_type": "code",
   "execution_count": null,
   "metadata": {
    "colab": {
     "base_uri": "https://localhost:8080/"
    },
    "id": "lDqYZe_46thB",
    "outputId": "3267b102-b863-47c4-eec1-2b1067340d02"
   },
   "outputs": [
    {
     "name": "stdout",
     "output_type": "stream",
     "text": [
      "hello\n",
      "hi\n",
      "h\n"
     ]
    }
   ],
   "source": [
    "# Read up to n chars\n",
    "\n",
    "f = open('/content/sample.txt', 'r')\n",
    "s = f.read(10)\n",
    "print(s)\n",
    "f.close()"
   ]
  },
  {
   "cell_type": "code",
   "execution_count": null,
   "metadata": {
    "colab": {
     "base_uri": "https://localhost:8080/"
    },
    "id": "no-ZCUat62-x",
    "outputId": "cf7570ed-5fcf-4203-b207-77d644510b8d"
   },
   "outputs": [
    {
     "name": "stdout",
     "output_type": "stream",
     "text": [
      "hello\n",
      "hi\n"
     ]
    }
   ],
   "source": [
    "# Using `readline()`\n",
    "\n",
    "f = open('/content/sample.txt', 'r')\n",
    "print(f.readline(), end='') # Avoid auto newline\n",
    "print(f.readline(), end='')\n",
    "f.close()"
   ]
  },
  {
   "cell_type": "code",
   "execution_count": null,
   "metadata": {},
   "outputs": [],
   "source": [
    "`read()` Method:\n",
    "\n",
    "Smaller files    ---> loads entire content.\n",
    "\n",
    "Immediate access ---> full data available.\n",
    "\n",
    "Memory use       ---> risky for large files.\n",
    "\n",
    "`readline()` Method:\n",
    "\n",
    "Large files      ---> processes line-by-line.\n",
    "\n",
    "Memory-efficient ---> avoids full file load.\n",
    "\n",
    "Handles datasets ---> prevents overflow."
   ]
  },
  {
   "cell_type": "code",
   "execution_count": null,
   "metadata": {
    "colab": {
     "base_uri": "https://localhost:8080/"
    },
    "id": "CsuRSq9m7NJF",
    "outputId": "2ba94ac9-dd0a-4f61-d4f2-f3c80893f3b5"
   },
   "outputs": [
    {
     "name": "stdout",
     "output_type": "stream",
     "text": [
      "hello\n",
      "hi\n",
      "how are you\n",
      "I am fine"
     ]
    }
   ],
   "source": [
    "# Count Lines in File Efficiently ---> Avoid readline() per line; use custom code for efficiency.\n",
    "\n",
    "f = open('/content/sample.txt', 'r')\n",
    "while True:\n",
    "  data = f.readline()\n",
    "  if data == '':\n",
    "    break\n",
    "  else:\n",
    "    print(data, end='')\n",
    "f.close()"
   ]
  },
  {
   "cell_type": "markdown",
   "metadata": {
    "id": "VoRlMzQq78in"
   },
   "source": [
    "## Context Manager (`with`)\n",
    "\n",
    "Efficient resource management (e.g., files).\n",
    "\n",
    "`with` ensures auto cleanup, no manual file close needed.\n",
    "  \n",
    "**Purpose of `with` Statement**\n",
    "- **File Management**: Handles file operations (read/write).\n",
    "- **Resource Release**: Auto-closes files, freeing system resources.\n",
    "  \n",
    "**Avoids**\n",
    "- **Memory Leaks**: Manual closure prevents leaks\n",
    "- **File Locking**: Prevents locking issues\n",
    "  \n",
    "**Benefits**:\n",
    "- **Automated Cleanup**: Ensures auto-closure of files\n",
    "- **Exception Handling**: Closes files if exceptions occur\n",
    "- **Readability**: Clarifies file access scopes\n",
    "- **Reliability**: Reduces bugs, ensures robust resource management"
   ]
  },
  {
   "cell_type": "code",
   "execution_count": null,
   "metadata": {
    "id": "xwAf8ljv7eop"
   },
   "outputs": [],
   "source": [
    "# `with` Statement\n",
    "\n",
    "with open('/content/sample1.txt', 'w') as f:\n",
    "  f.write('selmon bhai')"
   ]
  },
  {
   "cell_type": "code",
   "execution_count": null,
   "metadata": {
    "colab": {
     "base_uri": "https://localhost:8080/",
     "height": 169
    },
    "id": "M2kGnEjwzuzA",
    "outputId": "84fc8822-b85e-4288-ec82-0dcaf18d5fce"
   },
   "outputs": [
    {
     "ename": "ValueError",
     "evalue": "ignored",
     "output_type": "error",
     "traceback": [
      "\u001b[0;31m---------------------------------------------------------------------------\u001b[0m",
      "\u001b[0;31mValueError\u001b[0m                                Traceback (most recent call last)",
      "\u001b[0;32m<ipython-input-4-00cba062fa3d>\u001b[0m in \u001b[0;36m<module>\u001b[0;34m\u001b[0m\n\u001b[0;32m----> 1\u001b[0;31m \u001b[0mf\u001b[0m\u001b[0;34m.\u001b[0m\u001b[0mwrite\u001b[0m\u001b[0;34m(\u001b[0m\u001b[0;34m'hello'\u001b[0m\u001b[0;34m)\u001b[0m\u001b[0;34m\u001b[0m\u001b[0;34m\u001b[0m\u001b[0m\n\u001b[0m",
      "\u001b[0;31mValueError\u001b[0m: I/O operation on closed file."
     ]
    }
   ],
   "source": [
    "f.write('hello')"
   ]
  },
  {
   "cell_type": "code",
   "execution_count": null,
   "metadata": {
    "colab": {
     "base_uri": "https://localhost:8080/"
    },
    "id": "woeWzxAA8Yr7",
    "outputId": "a782c85a-6fa6-43d2-ed34-274012542ec2"
   },
   "outputs": [
    {
     "name": "stdout",
     "output_type": "stream",
     "text": [
      "hello\n",
      "\n"
     ]
    }
   ],
   "source": [
    "# `f.readline()`\n",
    "\n",
    "with open('/content/sample.txt', 'r') as f:\n",
    "  print(f.readline())"
   ]
  },
  {
   "cell_type": "code",
   "execution_count": null,
   "metadata": {
    "colab": {
     "base_uri": "https://localhost:8080/"
    },
    "id": "NEWlmJK78a34",
    "outputId": "39702889-0a64-4f2b-ea82-03bc6ec1de26"
   },
   "outputs": [
    {
     "name": "stdout",
     "output_type": "stream",
     "text": [
      "hello\n",
      "hi\n",
      "h\n",
      "ow are you\n",
      "\n",
      "I am fine\n",
      "\n"
     ]
    }
   ],
   "source": [
    "# Reading 10 Characters at a Time\n",
    "\n",
    "with open('sample.txt', 'r') as f:\n",
    "    print(f.read(10))  # First 10 chars\n",
    "    print(f.read(10))  # Next 10 chars\n",
    "    print(f.read(10))  # Next 10 chars\n",
    "    print(f.read(10))  # Next 10 chars\n",
    "    # Each `print(f.read(10))` reads next 10 chars sequentially.\n",
    "    \n",
    "# Buffering tracks processed chars; `read()` resumes from buffer."
   ]
  },
  {
   "cell_type": "markdown",
   "metadata": {},
   "source": [
    "## File Processing Strategy for Large Files\n",
    "\n",
    "*Crucial for files > RAM.*\n",
    "\n",
    "**Chunk-Based Processing**\n",
    "- Process in chunks, not all at once. e.g., 10 GB file, 8 GB RAM ---> 2000 chars/chunk.\n",
    "\n",
    "**Advantages**\n",
    "- *Memory Efficiency*: RAM used for one chunk only.\n",
    "- *Scalability*: Handles files > RAM.\n",
    "- *Performance*: Avoids system slowdowns."
   ]
  },
  {
   "cell_type": "code",
   "execution_count": null,
   "metadata": {
    "id": "iZi3IxvQ9AxV"
   },
   "outputs": [],
   "source": [
    "# Purpose: Save dataset to file (avoid memory load).\n",
    "\n",
    "big_L = ['hello world ' for i in range(1000)]\n",
    "\n",
    "with open('big.txt', 'w') as f:\n",
    "  f.writelines(big_L)"
   ]
  },
  {
   "cell_type": "code",
   "execution_count": null,
   "metadata": {
    "colab": {
     "base_uri": "https://localhost:8080/"
    },
    "id": "5pznOzzleILp",
    "outputId": "43ac7570-82bc-4fb9-94f9-fe14d60a8ea5",
    "scrolled": true
   },
   "outputs": [
    {
     "name": "stdout",
     "output_type": "stream",
     "text": [
      "d hello wo***o world he***d hello wo***o world he***d hello wo***o world he***d hello wo***o world he***d hello wo***o world he***d hello wo***o world he***d hello wo***o world he***d hello wo***o world he***d hello wo***o world he***d hello wo***o world he***d hello wo***o world he***d hello wo***o world he***d hello wo***o world he***d hello wo***o world he***d hello wo***o world he***d hello wo***o world he***d hello wo***o world he***d hello wo***o world he***d hello wo***o world he***d hello wo***o world he***d hello wo***o world he***d hello wo***o world he***d hello wo***o world he***d hello wo***o world he***d hello wo***o world he***d hello wo***o world he***d hello wo***o world he***d hello wo***o world he***d hello wo***o world he***d hello wo***o world he***d hello wo***o world he***d hello wo***o world he***d hello wo***o world he***d hello wo***o world he***d hello wo***o world he***d hello wo***o world he***d hello wo***o world he***d hello wo***o world he***d hello wo***o world he***d hello wo***o world he***d hello wo***o world he***d hello wo***o world he***d hello wo***o world he***d hello wo***o world he***d hello wo***o world he***d hello wo***o world he***d hello wo***o world he***d hello wo***o world he***d hello wo***o world he***d hello wo***o world he***d hello wo***o world he***d hello wo***o world he***d hello wo***o world he***d hello wo***o world he***d hello wo***o world he***d hello wo***o world he***d hello wo***o world he***d hello wo***o world he***d hello wo***o world he***d hello wo***o world he***d hello wo***o world he***d hello wo***o world he***d hello wo***o world he***d hello wo***o world he***d hello wo***o world he***d hello wo***o world he***d hello wo***o world he***d hello wo***o world he***d hello wo***o world he***d hello wo***o world he***d hello wo***o world he***d hello wo***o world he***d hello wo***o world he***d hello wo***o world he***d hello wo***o world he***d hello wo***o world he***d hello wo***o world he***d hello wo***o world he***d hello wo***o world he***d hello wo***o world he***d hello wo***o world he***d hello wo***o world he***d hello wo***o world he***d hello wo***o world he***d hello wo***o world he***d hello wo***o world he***d hello wo***o world he***d hello wo***o world he***d hello wo***o world he***d hello wo***o world he***d hello wo***o world he***d hello wo***o world he***d hello wo***o world he***d hello wo***o world he***d hello wo***o world he***d hello wo***o world he***d hello wo***o world he***d hello wo***o world he***d hello wo***o world he***d hello wo***o world he***d hello wo***o world he***d hello wo***o world he***d hello wo***o world he***d hello wo***o world he***d hello wo***o world he***d hello wo***o world he***d hello wo***o world he***d hello wo***o world he***d hello wo***o world he***d hello wo***o world he***d hello wo***o world he***d hello wo***o world he***d hello wo***o world he***d hello wo***o world he***d hello wo***o world he***d hello wo***o world he***d hello wo***o world he***d hello wo***o world he***d hello wo***o world he***d hello wo***o world he***d hello wo***o world he***d hello wo***o world he***d hello wo***o world he***d hello wo***o world he***d hello wo***o world he***d hello wo***o world he***d hello wo***o world he***d hello wo***o world he***d hello wo***o world he***d hello wo***o world he***d hello wo***o world he***d hello wo***o world he***d hello wo***o world he***d hello wo***o world he***d hello wo***o world he***d hello wo***o world he***d hello wo***o world he***d hello wo***o world he***d hello wo***o world he***d hello wo***o world he***d hello wo***o world he***d hello wo***o world he***d hello wo***o world he***d hello wo***o world he***d hello wo***o world he***d hello wo***o world he***d hello wo***o world he***d hello wo***o world he***d hello wo***o world he***d hello wo***o world he***d hello wo***o world he***d hello wo***o world he***d hello wo***o world he***d hello wo***o world he***d hello wo***o world he***d hello wo***o world he***d hello wo***o world he***d hello wo***o world he***d hello wo***o world he***d hello wo***o world he***d hello wo***o world he***d hello wo***o world he***d hello wo***o world he***d hello wo***o world he***d hello wo***o world he***d hello wo***o world he***d hello wo***o world he***d hello wo***o world he***d hello wo***o world he***d hello wo***o world he***d hello wo***o world he***d hello wo***o world he***d hello wo***o world he***d hello wo***o world he***d hello wo***o world he***d hello wo***o world he***d hello wo***o world he***d hello wo***o world he***d hello wo***o world he***d hello wo***o world he***d hello wo***o world he***d hello wo***o world he***d hello wo***o world he***d hello wo***o world he***d hello wo***o world he***d hello wo***o world he***d hello wo***o world he***d hello wo***o world he***d hello wo***o world he***d hello wo***o world he***d hello wo***o world he***d hello wo***o world he***d hello wo***o world he***d hello wo***o world he***d hello wo***o world he***d hello wo***o world he***d hello wo***o world he***d hello wo***o world he***d hello wo***o world he***d hello wo***o world he***"
     ]
    }
   ],
   "source": [
    "with open('big.txt', 'r') as f:\n",
    "  chunk_size = 10\n",
    "  while len(f.read(chunk_size)) > 0:\n",
    "    print(f.read(chunk_size), end='***')\n",
    "    f.read(chunk_size) # Skip to next chunk\n",
    "\n",
    "# Handles large files, processes in chunks, avoiding memory overload.\n",
    "# Libraries like Pandas, Keras use chunk-based data processing."
   ]
  },
  {
   "cell_type": "code",
   "execution_count": null,
   "metadata": {
    "colab": {
     "base_uri": "https://localhost:8080/"
    },
    "id": "4POGK5dI9LmT",
    "outputId": "2a30e28e-b37a-40c8-8c69-891f5efd3be6"
   },
   "outputs": [
    {
     "name": "stdout",
     "output_type": "stream",
     "text": [
      "e you\n",
      "I am\n",
      "25\n",
      " fine\n",
      "30\n"
     ]
    }
   ],
   "source": [
    "# Seek and Tell Function\n",
    "\n",
    "with open('sample.txt', 'r') as f:\n",
    "    f.seek(15)         # Move to 15th char\n",
    "    print(f.read(10))  # Read 10 chars\n",
    "    print(f.tell())    # Position after read\n",
    "    print(f.read(10))  # Read next 10 chars\n",
    "    print(f.tell())    # New position"
   ]
  },
  {
   "cell_type": "code",
   "execution_count": null,
   "metadata": {},
   "outputs": [],
   "source": [
    "`seek` ---> Set desired location within context.\n",
    "       ---> Like YouTube red line for precise navigation.\n",
    "       ---> Moves to specified points in system.\n",
    "\n",
    "`tell` ---> Reveals current position/status.\n",
    "       ---> Acts as a marker indicating present state.\n",
    "       ---> Provides feedback without changing position.\n",
    "\n",
    "# `seek` navigates to points (YouTube red line analogy).\n",
    "# `tell` shows current position/status."
   ]
  },
  {
   "cell_type": "code",
   "execution_count": null,
   "metadata": {
    "id": "oFqebRKuhXZA"
   },
   "outputs": [],
   "source": [
    "# Seek during write\n",
    "\n",
    "with open('sample.txt', 'w') as f:\n",
    "    f.write('Hello')\n",
    "    f.seek(0)          # Cursor to start\n",
    "    f.write('Xa')      # Overwrite 'He' ---> 'Xa'"
   ]
  },
  {
   "cell_type": "markdown",
   "metadata": {
    "id": "LFkBD4di9gQW"
   },
   "source": [
    "## Limitations of Text Mode\n",
    "\n",
    "- **Binary Files**: Incompatible with non-text data (e.g., images, binaries).\n",
    "- **Data Type Efficiency**: Inefficient for non-text types (integers, floats, lists, tuples).\n",
    "\n",
    "**Binary Files**: \n",
    "- Contain non-textual binary data.\n",
    "- Text Mode cannot process these effectively.\n",
    "\n",
    "**Non-Textual Data**:\n",
    "- Incompatible with Text Mode.\n",
    "- Requires specific methods for management.\n",
    "\n",
    "**Structured Data**:\n",
    "- Struggles with types like integers, floats, lists, tuples.\n",
    "- Needs specialized handling."
   ]
  },
  {
   "cell_type": "code",
   "execution_count": null,
   "metadata": {
    "colab": {
     "base_uri": "https://localhost:8080/",
     "height": 348
    },
    "id": "MQyYgkBA_9yj",
    "outputId": "0dc1ba65-7891-4c0a-ca1a-149de010996a"
   },
   "outputs": [
    {
     "ename": "UnicodeDecodeError",
     "evalue": "ignored",
     "output_type": "error",
     "traceback": [
      "\u001b[0;31m---------------------------------------------------------------------------\u001b[0m",
      "\u001b[0;31mUnicodeDecodeError\u001b[0m                        Traceback (most recent call last)",
      "\u001b[0;32m<ipython-input-23-b662b4ad1a91>\u001b[0m in \u001b[0;36m<module>\u001b[0;34m\u001b[0m\n\u001b[1;32m      1\u001b[0m \u001b[0;31m# working with binary file\u001b[0m\u001b[0;34m\u001b[0m\u001b[0;34m\u001b[0m\u001b[0;34m\u001b[0m\u001b[0m\n\u001b[1;32m      2\u001b[0m \u001b[0;32mwith\u001b[0m \u001b[0mopen\u001b[0m\u001b[0;34m(\u001b[0m\u001b[0;34m'screenshot1.png'\u001b[0m\u001b[0;34m,\u001b[0m\u001b[0;34m'r'\u001b[0m\u001b[0;34m)\u001b[0m \u001b[0;32mas\u001b[0m \u001b[0mf\u001b[0m\u001b[0;34m:\u001b[0m\u001b[0;34m\u001b[0m\u001b[0;34m\u001b[0m\u001b[0m\n\u001b[0;32m----> 3\u001b[0;31m   \u001b[0mf\u001b[0m\u001b[0;34m.\u001b[0m\u001b[0mread\u001b[0m\u001b[0;34m(\u001b[0m\u001b[0;34m)\u001b[0m\u001b[0;34m\u001b[0m\u001b[0;34m\u001b[0m\u001b[0m\n\u001b[0m",
      "\u001b[0;32m/usr/lib/python3.7/codecs.py\u001b[0m in \u001b[0;36mdecode\u001b[0;34m(self, input, final)\u001b[0m\n\u001b[1;32m    320\u001b[0m         \u001b[0;31m# decode input (taking the buffer into account)\u001b[0m\u001b[0;34m\u001b[0m\u001b[0;34m\u001b[0m\u001b[0;34m\u001b[0m\u001b[0m\n\u001b[1;32m    321\u001b[0m         \u001b[0mdata\u001b[0m \u001b[0;34m=\u001b[0m \u001b[0mself\u001b[0m\u001b[0;34m.\u001b[0m\u001b[0mbuffer\u001b[0m \u001b[0;34m+\u001b[0m \u001b[0minput\u001b[0m\u001b[0;34m\u001b[0m\u001b[0;34m\u001b[0m\u001b[0m\n\u001b[0;32m--> 322\u001b[0;31m         \u001b[0;34m(\u001b[0m\u001b[0mresult\u001b[0m\u001b[0;34m,\u001b[0m \u001b[0mconsumed\u001b[0m\u001b[0;34m)\u001b[0m \u001b[0;34m=\u001b[0m \u001b[0mself\u001b[0m\u001b[0;34m.\u001b[0m\u001b[0m_buffer_decode\u001b[0m\u001b[0;34m(\u001b[0m\u001b[0mdata\u001b[0m\u001b[0;34m,\u001b[0m \u001b[0mself\u001b[0m\u001b[0;34m.\u001b[0m\u001b[0merrors\u001b[0m\u001b[0;34m,\u001b[0m \u001b[0mfinal\u001b[0m\u001b[0;34m)\u001b[0m\u001b[0;34m\u001b[0m\u001b[0;34m\u001b[0m\u001b[0m\n\u001b[0m\u001b[1;32m    323\u001b[0m         \u001b[0;31m# keep undecoded input until the next call\u001b[0m\u001b[0;34m\u001b[0m\u001b[0;34m\u001b[0m\u001b[0;34m\u001b[0m\u001b[0m\n\u001b[1;32m    324\u001b[0m         \u001b[0mself\u001b[0m\u001b[0;34m.\u001b[0m\u001b[0mbuffer\u001b[0m \u001b[0;34m=\u001b[0m \u001b[0mdata\u001b[0m\u001b[0;34m[\u001b[0m\u001b[0mconsumed\u001b[0m\u001b[0;34m:\u001b[0m\u001b[0;34m]\u001b[0m\u001b[0;34m\u001b[0m\u001b[0;34m\u001b[0m\u001b[0m\n",
      "\u001b[0;31mUnicodeDecodeError\u001b[0m: 'utf-8' codec can't decode byte 0x89 in position 0: invalid start byte"
     ]
    }
   ],
   "source": [
    "# Read Binary File\n",
    "\n",
    "with open('screenshot1.png', 'r') as f:\n",
    "  f.read()"
   ]
  },
  {
   "cell_type": "code",
   "execution_count": null,
   "metadata": {
    "id": "TvYT7bVTACMw"
   },
   "outputs": [],
   "source": [
    "# Binary File I/O\n",
    "\n",
    "with open('screenshot1.png', 'rb') as f:          # Read binary\n",
    "    with open('screenshot_copy.png', 'wb') as wf: # Write binary\n",
    "        wf.write(f.read())"
   ]
  },
  {
   "cell_type": "code",
   "execution_count": null,
   "metadata": {
    "id": "FyWcVm-8AFqZ"
   },
   "outputs": [],
   "source": [
    "# Working with a Large Binary File"
   ]
  },
  {
   "cell_type": "code",
   "execution_count": null,
   "metadata": {
    "colab": {
     "base_uri": "https://localhost:8080/",
     "height": 205
    },
    "id": "2DFUFXIJ9fW0",
    "outputId": "5ef352fc-59b6-428c-c219-1466821a6e78"
   },
   "outputs": [
    {
     "ename": "TypeError",
     "evalue": "ignored",
     "output_type": "error",
     "traceback": [
      "\u001b[0;31m---------------------------------------------------------------------------\u001b[0m",
      "\u001b[0;31mTypeError\u001b[0m                                 Traceback (most recent call last)",
      "\u001b[0;32m<ipython-input-26-a8e7a73b1431>\u001b[0m in \u001b[0;36m<module>\u001b[0;34m\u001b[0m\n\u001b[1;32m      1\u001b[0m \u001b[0;31m# working with other data types\u001b[0m\u001b[0;34m\u001b[0m\u001b[0;34m\u001b[0m\u001b[0;34m\u001b[0m\u001b[0m\n\u001b[1;32m      2\u001b[0m \u001b[0;32mwith\u001b[0m \u001b[0mopen\u001b[0m\u001b[0;34m(\u001b[0m\u001b[0;34m'sample.txt'\u001b[0m\u001b[0;34m,\u001b[0m\u001b[0;34m'w'\u001b[0m\u001b[0;34m)\u001b[0m \u001b[0;32mas\u001b[0m \u001b[0mf\u001b[0m\u001b[0;34m:\u001b[0m\u001b[0;34m\u001b[0m\u001b[0;34m\u001b[0m\u001b[0m\n\u001b[0;32m----> 3\u001b[0;31m   \u001b[0mf\u001b[0m\u001b[0;34m.\u001b[0m\u001b[0mwrite\u001b[0m\u001b[0;34m(\u001b[0m\u001b[0;36m5\u001b[0m\u001b[0;34m)\u001b[0m\u001b[0;34m\u001b[0m\u001b[0;34m\u001b[0m\u001b[0m\n\u001b[0m",
      "\u001b[0;31mTypeError\u001b[0m: write() argument must be str, not int"
     ]
    }
   ],
   "source": [
    "# Working with Different Data Types\n",
    "\n",
    "with open('sample.txt', 'w') as f:\n",
    "    f.write(str(5))\n",
    "\n",
    "# Error: Text must be Unicode; ensure data is a string."
   ]
  },
  {
   "cell_type": "code",
   "execution_count": null,
   "metadata": {
    "id": "z2TfIqNj93Eh"
   },
   "outputs": [],
   "source": [
    "with open('sample.txt', 'w') as f:\n",
    "  f.write('5')"
   ]
  },
  {
   "cell_type": "code",
   "execution_count": null,
   "metadata": {
    "colab": {
     "base_uri": "https://localhost:8080/"
    },
    "id": "ZY2EcrdY97D5",
    "outputId": "df11e3c9-d12f-4ad5-943d-ecdb341db0cc"
   },
   "outputs": [
    {
     "name": "stdout",
     "output_type": "stream",
     "text": [
      "10\n"
     ]
    }
   ],
   "source": [
    "with open('sample.txt', 'r') as f:\n",
    "  print(int(f.read()) + 5) # convert read() output to int"
   ]
  },
  {
   "cell_type": "code",
   "execution_count": null,
   "metadata": {
    "id": "uUw_EYLs-OHF"
   },
   "outputs": [],
   "source": [
    "# More Complex Data\n",
    "\n",
    "d = {\n",
    "    'name':'nitish',\n",
    "     'age':33,\n",
    "     'gender':'male'\n",
    "}\n",
    "\n",
    "with open('sample.txt', 'w') as f:\n",
    "  f.write(str(d))"
   ]
  },
  {
   "cell_type": "code",
   "execution_count": null,
   "metadata": {
    "colab": {
     "base_uri": "https://localhost:8080/",
     "height": 187
    },
    "id": "KtKxeG8_7JVB",
    "outputId": "e64366d5-7b6a-4f51-ed13-4154331340f6"
   },
   "outputs": [
    {
     "ename": "ValueError",
     "evalue": "ignored",
     "output_type": "error",
     "traceback": [
      "\u001b[0;31m---------------------------------------------------------------------------\u001b[0m",
      "\u001b[0;31mValueError\u001b[0m                                Traceback (most recent call last)",
      "\u001b[0;32m<ipython-input-34-949b64f1fbe0>\u001b[0m in \u001b[0;36m<module>\u001b[0;34m\u001b[0m\n\u001b[1;32m      1\u001b[0m \u001b[0;32mwith\u001b[0m \u001b[0mopen\u001b[0m\u001b[0;34m(\u001b[0m\u001b[0;34m'sample.txt'\u001b[0m\u001b[0;34m,\u001b[0m\u001b[0;34m'r'\u001b[0m\u001b[0;34m)\u001b[0m \u001b[0;32mas\u001b[0m \u001b[0mf\u001b[0m\u001b[0;34m:\u001b[0m\u001b[0;34m\u001b[0m\u001b[0;34m\u001b[0m\u001b[0m\n\u001b[0;32m----> 2\u001b[0;31m   \u001b[0mprint\u001b[0m\u001b[0;34m(\u001b[0m\u001b[0mdict\u001b[0m\u001b[0;34m(\u001b[0m\u001b[0mf\u001b[0m\u001b[0;34m.\u001b[0m\u001b[0mread\u001b[0m\u001b[0;34m(\u001b[0m\u001b[0;34m)\u001b[0m\u001b[0;34m)\u001b[0m\u001b[0;34m)\u001b[0m\u001b[0;34m\u001b[0m\u001b[0;34m\u001b[0m\u001b[0m\n\u001b[0m",
      "\u001b[0;31mValueError\u001b[0m: dictionary update sequence element #0 has length 1; 2 is required"
     ]
    }
   ],
   "source": [
    "with open('sample.txt', 'r') as f:\n",
    "  print(dict(f.read()))\n",
    "\n",
    "# Error: str ---> dict"
   ]
  },
  {
   "cell_type": "code",
   "execution_count": null,
   "metadata": {},
   "outputs": [],
   "source": [
    "# Text-based Limitations for Complex Data Storage:\n",
    "\n",
    "1. Storage    ---> Plain Text Files ideal for simple textual data.\n",
    "                   Complex Data (e.g., Python Dicts) contains structured data with key-value pairs.\n",
    "\n",
    "2. Conversion ---> Saving Dicts with `write()` converts dicts to strings.\n",
    "                  `{'name': 'John', 'age': 30}` ---> `\"{'name': 'John', 'age': 30}\"`\n",
    "                   This flattening loses structure and format.\n",
    "\n",
    "3. Retrieval  ---> Retrieval returns as a string; requires parsing to reconstruct original dict.\n",
    "                   Error-Prone parsing can introduce errors.\n",
    "\n",
    "# NOTE: for Simple Data use text files; for Complex Data use serialization libraries or binary formats."
   ]
  },
  {
   "cell_type": "markdown",
   "metadata": {
    "id": "5EZ6TUtWBfVk"
   },
   "source": [
    "## JSON Serialization & Deserialization\n",
    "\n",
    "**Serialization**:\n",
    "\n",
    "Convert Python data ---> JSON.\n",
    "\n",
    "`json.dumps()`\n",
    "\n",
    "Human-readable & machine-parsable.\n",
    "\n",
    "**Deserialization**:\n",
    "\n",
    "Convert JSON ---> Python.\n",
    "\n",
    "`json.loads()`\n",
    "\n",
    "Manipulate JSON data in Python.\n",
    "\n",
    "## What is JSON?\n",
    "\n",
    "JavaScript Object Notation\n",
    "\n",
    "Widely adopted in Web apps, APIs, data interchange.\n",
    "\n",
    "Simple syntax, supports key-value pairs, arrays, nested objects."
   ]
  },
  {
   "cell_type": "markdown",
   "metadata": {},
   "source": [
    "```json\n",
    "{\n",
    "  \"d\": {\n",
    "    \"results\": [\n",
    "      {\n",
    "        \"_metadata\": {\n",
    "          \"type\": \"Employee Details. Employee\"\n",
    "        },\n",
    "        \"UserID\": \"E12012\",\n",
    "        \"RoleCode\": \"35\"\n",
    "      }\n",
    "    ]\n",
    "  }\n",
    "}\n",
    "```"
   ]
  },
  {
   "cell_type": "markdown",
   "metadata": {},
   "source": [
    "*JSON is a widely-used text format across languages.*"
   ]
  },
  {
   "cell_type": "code",
   "execution_count": null,
   "metadata": {
    "id": "eXEXak4X_cTK"
   },
   "outputs": [],
   "source": [
    "# JSON Serialization\n",
    "\n",
    "# List to JSON\n",
    "import json\n",
    "\n",
    "L = [1, 2, 3, 4]\n",
    "\n",
    "with open('demo.json', 'w') as f:\n",
    "  json.dump(L, f) # Serialize L to 'demo.json'"
   ]
  },
  {
   "cell_type": "code",
   "execution_count": null,
   "metadata": {
    "id": "wNKgzvhk_mTJ"
   },
   "outputs": [],
   "source": [
    "# Dict to JSON\n",
    "d = {\n",
    "    'name':'nitish',\n",
    "     'age':33,\n",
    "     'gender':'male'\n",
    "}\n",
    "\n",
    "with open('demo.json', 'w') as f:\n",
    "  json.dump(d, f, indent=4) # Serialize dict d with indentation"
   ]
  },
  {
   "cell_type": "code",
   "execution_count": null,
   "metadata": {
    "colab": {
     "base_uri": "https://localhost:8080/"
    },
    "id": "5GfinF74Cyro",
    "outputId": "765dda65-eb1a-4700-f71a-e94f7768aec2"
   },
   "outputs": [
    {
     "name": "stdout",
     "output_type": "stream",
     "text": [
      "{'name': 'nitish', 'age': 33, 'gender': 'male'}\n",
      "<class 'dict'>\n"
     ]
    }
   ],
   "source": [
    "# Deserialization\n",
    "\n",
    "import json\n",
    "\n",
    "with open('demo.json', 'r') as f:\n",
    "  d = json.load(f)\n",
    "  print(d)\n",
    "  print(type(d))"
   ]
  },
  {
   "cell_type": "markdown",
   "metadata": {},
   "source": [
    "`Serialization` and `Deserialization` Convert complex data (lists, dicts, 2D dicts, tuples, sets) to/from JSON.\n",
    "\n",
    "`Serialization`: Complex ---> JSON (for storage).\n",
    "\n",
    "`Deserialization`: JSON ---> Original (for retrieval).\n",
    "\n",
    "Handles complex data efficiently, overcoming string-based limitations."
   ]
  },
  {
   "cell_type": "code",
   "execution_count": null,
   "metadata": {
    "id": "sF29FCvtDOaA"
   },
   "outputs": [],
   "source": [
    "# Serialize/Deserialize Tuple\n",
    "\n",
    "import json\n",
    "\n",
    "t = (1, 2, 3, 4, 5)\n",
    "\n",
    "with open('demo.json', 'w') as f:\n",
    "  json.dump(t, f)"
   ]
  },
  {
   "cell_type": "code",
   "execution_count": null,
   "metadata": {},
   "outputs": [],
   "source": [
    "# Note: Serialization/Deserialization\n",
    "\n",
    "Serialize tuple   ---> List (using `dump`)\n",
    "\n",
    "Deserialize       ---> List (not tuple)\n",
    "\n",
    "Need tuple later? ---> Explicit conversion required"
   ]
  },
  {
   "cell_type": "code",
   "execution_count": null,
   "metadata": {
    "id": "IDx9yh5WECvq"
   },
   "outputs": [],
   "source": [
    "# Serialize/Deserialize Nested Dict\n",
    "\n",
    "d = {\n",
    "    'student':'nitish',\n",
    "     'marks':[23, 14, 34, 45, 56]\n",
    "}\n",
    "\n",
    "with open('demo.json', 'w') as f:\n",
    "  json.dump(d, f)"
   ]
  },
  {
   "cell_type": "markdown",
   "metadata": {
    "id": "bwXefjbgHEMl"
   },
   "source": [
    "## Serializing & Deserializing Custom Objects"
   ]
  },
  {
   "cell_type": "code",
   "execution_count": null,
   "metadata": {
    "id": "YMIu87osHDDZ"
   },
   "outputs": [],
   "source": [
    "class Person:\n",
    "\n",
    "  def __init__(self, fname, lname, age, gender):\n",
    "    self.fname = fname\n",
    "    self.lname = lname\n",
    "    self.age = age\n",
    "    self.gender = gender\n",
    "\n",
    "# Print format:\n",
    "# Name: {fname} {lname}\n",
    "# Age: {age}\n",
    "# Gender: {gender}"
   ]
  },
  {
   "cell_type": "code",
   "execution_count": null,
   "metadata": {
    "id": "pzsTh4TlHp7I"
   },
   "outputs": [],
   "source": [
    "person = Person('Nitish', 'Singh', 33, 'male')"
   ]
  },
  {
   "cell_type": "markdown",
   "metadata": {},
   "source": [
    "Python serializes built-in types natively (e.g., dicts).\n",
    "\n",
    "*Custom Classes Needs Custom Serialization (Explicit).*"
   ]
  },
  {
   "cell_type": "code",
   "execution_count": null,
   "metadata": {
    "id": "IJdrxFTYH6o3"
   },
   "outputs": [],
   "source": [
    "# String Representation\n",
    "\n",
    "import json\n",
    "\n",
    "def show_object(person):\n",
    "  if isinstance(person, Person):\n",
    "    return \"{} {} age -> {} gender -> {}\".format(person.fname, person.lname, person.age, person.gender)\n",
    "\n",
    "with open('demo.json', 'w') as f:\n",
    "  json.dump(person, f, default=show_object)"
   ]
  },
  {
   "cell_type": "code",
   "execution_count": null,
   "metadata": {
    "id": "3iJ8vjupJA5i"
   },
   "outputs": [],
   "source": [
    "# Dictionary Representation\n",
    "\n",
    "import json\n",
    "\n",
    "def show_object(person):\n",
    "  if isinstance(person, Person):\n",
    "    return {'name':person.fname + ' ' + person.lname, 'age':person.age, 'gender':person.gender}\n",
    "\n",
    "with open('demo.json', 'w') as f:\n",
    "  json.dump(person, f, default=show_object, indent=4)"
   ]
  },
  {
   "cell_type": "code",
   "execution_count": null,
   "metadata": {
    "id": "bW8lpOkOJiWU"
   },
   "outputs": [],
   "source": [
    "# indent attribute\n",
    "\n",
    "# As a dict"
   ]
  },
  {
   "cell_type": "code",
   "execution_count": null,
   "metadata": {
    "colab": {
     "base_uri": "https://localhost:8080/"
    },
    "id": "y9k8e2ENJ_GM",
    "outputId": "353b6c36-e555-4286-8244-c641ae0933d1"
   },
   "outputs": [
    {
     "name": "stdout",
     "output_type": "stream",
     "text": [
      "{'name': 'Nitish Singh', 'age': 33, 'gender': 'male'}\n",
      "<class 'dict'>\n"
     ]
    }
   ],
   "source": [
    "# Deserializing JSON\n",
    "\n",
    "import json\n",
    "\n",
    "with open('demo.json', 'r') as f:\n",
    "  d = json.load(f)\n",
    "  print(d)\n",
    "  print(type(d))"
   ]
  },
  {
   "cell_type": "markdown",
   "metadata": {},
   "source": [
    "Until now, we've printed **Python Custom Objects** (dicts, strings) in specific formats. \n",
    "\n",
    "**Cross-file Object Usage** i.e. Direct use of class/obj from another file not possible.\n",
    "\n",
    "**Solution:** Convert object to binary format for cross-file compatibility."
   ]
  },
  {
   "cell_type": "markdown",
   "metadata": {},
   "source": [
    "## Pickling and Unpickling"
   ]
  },
  {
   "cell_type": "code",
   "execution_count": null,
   "metadata": {
    "id": "8JHA4j2NLD-0"
   },
   "outputs": [],
   "source": [
    "+-------------------------------------------+----------------------------------------------+\n",
    "|                 Pickling                  |               Unpickling                     |\n",
    "+-------------------------------------------+----------------------------------------------+\n",
    "|                                           |                                              |\n",
    "| Serialize Python objects to byte stream.  | Deserialize byte stream to original objects. |\n",
    "|                                           |                                              |\n",
    "| Byte stream compactly represents objects. | Reconstructs objects/data structures.        |\n",
    "|                                           |                                              |\n",
    "| Enables storage/transmission of objects.  | Restores objects for use by Python.          |\n",
    "|                                           |                                              |\n",
    "+------------------------------------------------------------------------------------------+\n",
    "|                                        Purpose                                           |\n",
    "+------------------------------------------------------------------------------------------+\n",
    "|                                           |                                              |\n",
    "| Convert objects to portable byte format.  | Restore objects from byte format.            |\n",
    "|                                           |                                              |\n",
    "| Save/load data, caching, IPC.             | Save/load data, caching, IPC.                |\n",
    "|                                           |                                              |\n",
    "+------------------------------------------------------------------------------------------+\n",
    "|                                      Applications                                        |\n",
    "+------------------------------------------------------------------------------------------+\n",
    "|                                           |                                              |\n",
    "| Save/load complex data.                   | Restore complex data.                        |\n",
    "|                                           |                                              |\n",
    "| Cache objects.                            | Rebuild cached objects.                      |\n",
    "|                                           |                                              |\n",
    "| Transmit objects over networks.           | Handle transmitted objects.                  |\n",
    "|                                           |                                              |\n",
    "+------------------------------------------------------------------------------------------+"
   ]
  },
  {
   "cell_type": "code",
   "execution_count": null,
   "metadata": {
    "id": "hg3cGP4CLC9t"
   },
   "outputs": [],
   "source": [
    "class Person:\n",
    "\n",
    "  def __init__(self, name, age):\n",
    "    self.name = name\n",
    "    self.age = age\n",
    "\n",
    "  def display_info(self):\n",
    "    print('Hi my name is', self.name, 'and I am ', self.age, 'years old')"
   ]
  },
  {
   "cell_type": "code",
   "execution_count": null,
   "metadata": {
    "id": "ixYOzU0yKOcg"
   },
   "outputs": [],
   "source": [
    "p = Person('nitish', 33)"
   ]
  },
  {
   "cell_type": "code",
   "execution_count": null,
   "metadata": {
    "id": "GYQNrY33Mg6U"
   },
   "outputs": [],
   "source": [
    "# Pickle Dump\n",
    "\n",
    "import pickle\n",
    "with open('person.pkl', 'wb') as f:\n",
    "  pickle.dump(p, f)"
   ]
  },
  {
   "cell_type": "code",
   "execution_count": null,
   "metadata": {
    "colab": {
     "base_uri": "https://localhost:8080/"
    },
    "id": "TMWLxIzOMpz4",
    "outputId": "4cc1f97f-c792-46d5-c05b-14afce0b9ec2"
   },
   "outputs": [
    {
     "name": "stdout",
     "output_type": "stream",
     "text": [
      "Hi my name is nitish and I am  33 years old\n"
     ]
    }
   ],
   "source": [
    "# Pickle Load\n",
    "\n",
    "import pickle\n",
    "with open('person.pkl', 'rb') as f:\n",
    "  p = pickle.load(f)\n",
    "\n",
    "p.display_info()"
   ]
  },
  {
   "cell_type": "code",
   "execution_count": null,
   "metadata": {},
   "outputs": [],
   "source": [
    "Obj  ---> Bin File\n",
    "\n",
    "Send ---> Extract ---> Use\n",
    "\n",
    "Works like original"
   ]
  },
  {
   "cell_type": "markdown",
   "metadata": {},
   "source": [
    "## Pickle vs JSON"
   ]
  },
  {
   "cell_type": "code",
   "execution_count": null,
   "metadata": {
    "id": "fclATrAsNP_i"
   },
   "outputs": [],
   "source": [
    "+-----------------------------------------------+-------------------------------------------------+\n",
    "|                    Pickle                     |                      JSON                       |\n",
    "+-----------------------------------------------+-------------------------------------------------+\n",
    "|                                               |                                                 |\n",
    "| Binary format; Python-specific.               | Text-based; cross-platform.                     |\n",
    "|                                               |                                                 |\n",
    "| Non-human-readable, Python-only.              | Human-readable, interoperable.                  |\n",
    "|                                               |                                                 |\n",
    "| Potential security risks with untrusted data. | Safer for untrusted data.                       |\n",
    "|                                               |                                                 |\n",
    "| Efficient for complex Python structures.      | Ideal for web APIs, configs, and data exchange. |\n",
    "|                                               |                                                 |\n",
    "+-----------------------------------------------+-------------------------------------------------+"
   ]
  }
 ],
 "metadata": {
  "colab": {
   "provenance": []
  },
  "kernelspec": {
   "display_name": "Python 3 (ipykernel)",
   "language": "python",
   "name": "python3"
  },
  "language_info": {
   "codemirror_mode": {
    "name": "ipython",
    "version": 3
   },
   "file_extension": ".py",
   "mimetype": "text/x-python",
   "name": "python",
   "nbconvert_exporter": "python",
   "pygments_lexer": "ipython3",
   "version": "3.10.9"
  }
 },
 "nbformat": 4,
 "nbformat_minor": 1
}

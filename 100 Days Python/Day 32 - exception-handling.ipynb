{
 "cells": [
  {
   "cell_type": "markdown",
   "metadata": {
    "id": "xh7vgT_4-gdB"
   },
   "source": [
    "## Programming Errors\n",
    "\n",
    "1. **Compilation** (High-level ---> Machine code)\n",
    "   \n",
    "   Syntax Errors: Violates syntax rules.\n",
    "\n",
    "   **Syntax Error**\n",
    "\n",
    "   Error from code not following language rules.\n",
    "\n",
    "   - **Caused by** missing parenthesis, Incorrect indentation, Misspelled keyword\n",
    "   \n",
    "   - **Detected when** Interpreter/Compiler raises syntax error; code can't run until fixed.\n",
    "   \n",
    "   - **Resolution** is to identify and correct grammatical issues to match syntax rules.\n",
    "\n",
    "2. **Execution** (Runtime Errors)\n",
    "\n",
    "   Exceptions: Issues during runtime."
   ]
  },
  {
   "cell_type": "code",
   "execution_count": null,
   "metadata": {
    "colab": {
     "base_uri": "https://localhost:8080/",
     "height": 133
    },
    "id": "sgsgNEc--1ux",
    "outputId": "f973a81c-d579-4259-dcea-19d380fbaaa8"
   },
   "outputs": [
    {
     "ename": "SyntaxError",
     "evalue": "ignored",
     "output_type": "error",
     "traceback": [
      "\u001b[0;36m  File \u001b[0;32m\"<ipython-input-3-4655b84ba7b7>\"\u001b[0;36m, line \u001b[0;32m2\u001b[0m\n\u001b[0;31m    print 'hello world'\u001b[0m\n\u001b[0m                      ^\u001b[0m\n\u001b[0;31mSyntaxError\u001b[0m\u001b[0;31m:\u001b[0m Missing parentheses in call to 'print'. Did you mean print('hello world')?\n"
     ]
    }
   ],
   "source": [
    "# Syntax Error Examples\n",
    "\n",
    "print 'hello world'"
   ]
  },
  {
   "cell_type": "markdown",
   "metadata": {
    "id": "502wvB8BGO0K"
   },
   "source": [
    "## Syntax Errors: Key Points\n",
    "\n",
    "- **Missing Symbols**: E.g., colons, brackets ---> disrupts code structure.\n",
    "- **Misspelled Keywords**: Reserved words ---> unrecognized commands.\n",
    "- **Incorrect Indentation**: Critical in Python ---> wrong block interpretation.\n",
    "- **Empty Control Structures**: `if/else`, loops, functions ---> must include executable code or placeholders."
   ]
  },
  {
   "cell_type": "code",
   "execution_count": null,
   "metadata": {
    "colab": {
     "base_uri": "https://localhost:8080/",
     "height": 133
    },
    "id": "gd_SjrGDGTcU",
    "outputId": "5623d424-d264-45ec-cbc9-6ad6834f89ea"
   },
   "outputs": [
    {
     "ename": "SyntaxError",
     "evalue": "ignored",
     "output_type": "error",
     "traceback": [
      "\u001b[0;36m  File \u001b[0;32m\"<ipython-input-68-efc58c10458d>\"\u001b[0;36m, line \u001b[0;32m2\u001b[0m\n\u001b[0;31m    if a==3\u001b[0m\n\u001b[0m           ^\u001b[0m\n\u001b[0;31mSyntaxError\u001b[0m\u001b[0;31m:\u001b[0m invalid syntax\n"
     ]
    }
   ],
   "source": [
    "a = 5\n",
    "\n",
    "if a == 3\n",
    "  print('hello')"
   ]
  },
  {
   "cell_type": "code",
   "execution_count": null,
   "metadata": {
    "colab": {
     "base_uri": "https://localhost:8080/",
     "height": 133
    },
    "id": "eq0Y-v_MGTmR",
    "outputId": "9ccfb071-fc71-4540-fda7-05542f9b26d3"
   },
   "outputs": [
    {
     "ename": "SyntaxError",
     "evalue": "ignored",
     "output_type": "error",
     "traceback": [
      "\u001b[0;36m  File \u001b[0;32m\"<ipython-input-69-d1e6fae154d5>\"\u001b[0;36m, line \u001b[0;32m2\u001b[0m\n\u001b[0;31m    iff a==3:\u001b[0m\n\u001b[0m        ^\u001b[0m\n\u001b[0;31mSyntaxError\u001b[0m\u001b[0;31m:\u001b[0m invalid syntax\n"
     ]
    }
   ],
   "source": [
    "a = 5\n",
    "\n",
    "iff a == 3:\n",
    "  print('hello')"
   ]
  },
  {
   "cell_type": "code",
   "execution_count": null,
   "metadata": {
    "colab": {
     "base_uri": "https://localhost:8080/",
     "height": 133
    },
    "id": "Llm9KioiGTwe",
    "outputId": "04702c51-21de-4138-9402-4d8ef3a59c8f",
    "scrolled": true
   },
   "outputs": [
    {
     "ename": "IndentationError",
     "evalue": "ignored",
     "output_type": "error",
     "traceback": [
      "\u001b[0;36m  File \u001b[0;32m\"<ipython-input-70-ccc702dc036c>\"\u001b[0;36m, line \u001b[0;32m3\u001b[0m\n\u001b[0;31m    print('hello')\u001b[0m\n\u001b[0m        ^\u001b[0m\n\u001b[0;31mIndentationError\u001b[0m\u001b[0;31m:\u001b[0m expected an indented block\n"
     ]
    }
   ],
   "source": [
    "a = 5\n",
    "\n",
    "if a == 3:\n",
    "print('hello')"
   ]
  },
  {
   "cell_type": "code",
   "execution_count": null,
   "metadata": {
    "colab": {
     "base_uri": "https://localhost:8080/",
     "height": 205
    },
    "id": "KZQFu9zdEuFC",
    "outputId": "546e9247-b4a2-4c14-b822-4c6c00264f30"
   },
   "outputs": [
    {
     "ename": "IndexError",
     "evalue": "ignored",
     "output_type": "error",
     "traceback": [
      "\u001b[0;31m---------------------------------------------------------------------------\u001b[0m",
      "\u001b[0;31mIndexError\u001b[0m                                Traceback (most recent call last)",
      "\u001b[0;32m<ipython-input-71-c90668d2b194>\u001b[0m in \u001b[0;36m<module>\u001b[0;34m\u001b[0m\n\u001b[1;32m      2\u001b[0m \u001b[0;31m# The IndexError is thrown when trying to access an item at an invalid index.\u001b[0m\u001b[0;34m\u001b[0m\u001b[0;34m\u001b[0m\u001b[0;34m\u001b[0m\u001b[0m\n\u001b[1;32m      3\u001b[0m \u001b[0mL\u001b[0m \u001b[0;34m=\u001b[0m \u001b[0;34m[\u001b[0m\u001b[0;36m1\u001b[0m\u001b[0;34m,\u001b[0m\u001b[0;36m2\u001b[0m\u001b[0;34m,\u001b[0m\u001b[0;36m3\u001b[0m\u001b[0;34m]\u001b[0m\u001b[0;34m\u001b[0m\u001b[0;34m\u001b[0m\u001b[0m\n\u001b[0;32m----> 4\u001b[0;31m \u001b[0mL\u001b[0m\u001b[0;34m[\u001b[0m\u001b[0;36m100\u001b[0m\u001b[0;34m]\u001b[0m\u001b[0;34m\u001b[0m\u001b[0;34m\u001b[0m\u001b[0m\n\u001b[0m",
      "\u001b[0;31mIndexError\u001b[0m: list index out of range"
     ]
    }
   ],
   "source": [
    "# 1. IndexError: Accessing invalid index.\n",
    "\n",
    "L = [1, 2, 3]\n",
    "L[100]"
   ]
  },
  {
   "cell_type": "code",
   "execution_count": null,
   "metadata": {
    "colab": {
     "base_uri": "https://localhost:8080/",
     "height": 366
    },
    "id": "FfoXlpAGE1rW",
    "outputId": "b5800421-3a3d-4293-fad6-fb49227da0e6"
   },
   "outputs": [
    {
     "ename": "ModuleNotFoundError",
     "evalue": "ignored",
     "output_type": "error",
     "traceback": [
      "\u001b[0;31m---------------------------------------------------------------------------\u001b[0m",
      "\u001b[0;31mModuleNotFoundError\u001b[0m                       Traceback (most recent call last)",
      "\u001b[0;32m<ipython-input-73-cbdaf00191df>\u001b[0m in \u001b[0;36m<module>\u001b[0;34m\u001b[0m\n\u001b[1;32m      1\u001b[0m \u001b[0;31m# ModuleNotFoundError\u001b[0m\u001b[0;34m\u001b[0m\u001b[0;34m\u001b[0m\u001b[0;34m\u001b[0m\u001b[0m\n\u001b[1;32m      2\u001b[0m \u001b[0;31m# The ModuleNotFoundError is thrown when a module could not be found.\u001b[0m\u001b[0;34m\u001b[0m\u001b[0;34m\u001b[0m\u001b[0;34m\u001b[0m\u001b[0m\n\u001b[0;32m----> 3\u001b[0;31m \u001b[0;32mimport\u001b[0m \u001b[0mmathi\u001b[0m\u001b[0;34m\u001b[0m\u001b[0;34m\u001b[0m\u001b[0m\n\u001b[0m\u001b[1;32m      4\u001b[0m \u001b[0mmath\u001b[0m\u001b[0;34m.\u001b[0m\u001b[0mfloor\u001b[0m\u001b[0;34m(\u001b[0m\u001b[0;36m5.3\u001b[0m\u001b[0;34m)\u001b[0m\u001b[0;34m\u001b[0m\u001b[0;34m\u001b[0m\u001b[0m\n",
      "\u001b[0;31mModuleNotFoundError\u001b[0m: No module named 'mathi'",
      "",
      "\u001b[0;31m---------------------------------------------------------------------------\u001b[0;32m\nNOTE: If your import is failing due to a missing package, you can\nmanually install dependencies using either !pip or !apt.\n\nTo view examples of installing some common dependencies, click the\n\"Open Examples\" button below.\n\u001b[0;31m---------------------------------------------------------------------------\u001b[0m\n"
     ]
    }
   ],
   "source": [
    "# 2. ModuleNotFoundError: Module not found.\n",
    "\n",
    "import mathi\n",
    "math.floor(5.3)"
   ]
  },
  {
   "cell_type": "code",
   "execution_count": null,
   "metadata": {
    "colab": {
     "base_uri": "https://localhost:8080/",
     "height": 205
    },
    "id": "IP2CycVwE66e",
    "outputId": "430034d1-08f0-4e37-baeb-486eeb121b43"
   },
   "outputs": [
    {
     "ename": "KeyError",
     "evalue": "ignored",
     "output_type": "error",
     "traceback": [
      "\u001b[0;31m---------------------------------------------------------------------------\u001b[0m",
      "\u001b[0;31mKeyError\u001b[0m                                  Traceback (most recent call last)",
      "\u001b[0;32m<ipython-input-74-453afa1c9765>\u001b[0m in \u001b[0;36m<module>\u001b[0;34m\u001b[0m\n\u001b[1;32m      3\u001b[0m \u001b[0;34m\u001b[0m\u001b[0m\n\u001b[1;32m      4\u001b[0m \u001b[0md\u001b[0m \u001b[0;34m=\u001b[0m \u001b[0;34m{\u001b[0m\u001b[0;34m'name'\u001b[0m\u001b[0;34m:\u001b[0m\u001b[0;34m'nitish'\u001b[0m\u001b[0;34m}\u001b[0m\u001b[0;34m\u001b[0m\u001b[0;34m\u001b[0m\u001b[0m\n\u001b[0;32m----> 5\u001b[0;31m \u001b[0md\u001b[0m\u001b[0;34m[\u001b[0m\u001b[0;34m'age'\u001b[0m\u001b[0;34m]\u001b[0m\u001b[0;34m\u001b[0m\u001b[0;34m\u001b[0m\u001b[0m\n\u001b[0m",
      "\u001b[0;31mKeyError\u001b[0m: 'age'"
     ]
    }
   ],
   "source": [
    "# 3. KeyError: Dictionary key not found.\n",
    "\n",
    "d = {'name':'nitish'}\n",
    "d['age']"
   ]
  },
  {
   "cell_type": "code",
   "execution_count": null,
   "metadata": {
    "colab": {
     "base_uri": "https://localhost:8080/",
     "height": 205
    },
    "id": "meGU1o_VE-Y5",
    "outputId": "e8b62d30-5c0e-411e-cd60-4cd7fa42ecfd"
   },
   "outputs": [
    {
     "ename": "TypeError",
     "evalue": "ignored",
     "output_type": "error",
     "traceback": [
      "\u001b[0;31m---------------------------------------------------------------------------\u001b[0m",
      "\u001b[0;31mTypeError\u001b[0m                                 Traceback (most recent call last)",
      "\u001b[0;32m<ipython-input-78-2a3eb3f5bb0a>\u001b[0m in \u001b[0;36m<module>\u001b[0;34m\u001b[0m\n\u001b[1;32m      1\u001b[0m \u001b[0;31m# TypeError\u001b[0m\u001b[0;34m\u001b[0m\u001b[0;34m\u001b[0m\u001b[0;34m\u001b[0m\u001b[0m\n\u001b[1;32m      2\u001b[0m \u001b[0;31m# The TypeError is thrown when an operation or function is applied to an object of an inappropriate type.\u001b[0m\u001b[0;34m\u001b[0m\u001b[0;34m\u001b[0m\u001b[0;34m\u001b[0m\u001b[0m\n\u001b[0;32m----> 3\u001b[0;31m \u001b[0;36m1\u001b[0m \u001b[0;34m+\u001b[0m \u001b[0;34m'a'\u001b[0m\u001b[0;34m\u001b[0m\u001b[0;34m\u001b[0m\u001b[0m\n\u001b[0m",
      "\u001b[0;31mTypeError\u001b[0m: unsupported operand type(s) for +: 'int' and 'str'"
     ]
    }
   ],
   "source": [
    "# 4. TypeError: Inappropriate type for operation.\n",
    "\n",
    "1 + 'a'"
   ]
  },
  {
   "cell_type": "code",
   "execution_count": null,
   "metadata": {
    "colab": {
     "base_uri": "https://localhost:8080/",
     "height": 205
    },
    "id": "ZE_r2WsaFF6f",
    "outputId": "a8f34b54-b1e3-47d9-cd32-7eeee19b4d47"
   },
   "outputs": [
    {
     "ename": "ValueError",
     "evalue": "ignored",
     "output_type": "error",
     "traceback": [
      "\u001b[0;31m---------------------------------------------------------------------------\u001b[0m",
      "\u001b[0;31mValueError\u001b[0m                                Traceback (most recent call last)",
      "\u001b[0;32m<ipython-input-76-e419d2a084b4>\u001b[0m in \u001b[0;36m<module>\u001b[0;34m\u001b[0m\n\u001b[1;32m      1\u001b[0m \u001b[0;31m# ValueError\u001b[0m\u001b[0;34m\u001b[0m\u001b[0;34m\u001b[0m\u001b[0;34m\u001b[0m\u001b[0m\n\u001b[1;32m      2\u001b[0m \u001b[0;31m# The ValueError is thrown when a function's argument is of an inappropriate type.\u001b[0m\u001b[0;34m\u001b[0m\u001b[0;34m\u001b[0m\u001b[0;34m\u001b[0m\u001b[0m\n\u001b[0;32m----> 3\u001b[0;31m \u001b[0mint\u001b[0m\u001b[0;34m(\u001b[0m\u001b[0;34m'a'\u001b[0m\u001b[0;34m)\u001b[0m\u001b[0;34m\u001b[0m\u001b[0;34m\u001b[0m\u001b[0m\n\u001b[0m",
      "\u001b[0;31mValueError\u001b[0m: invalid literal for int() with base 10: 'a'"
     ]
    }
   ],
   "source": [
    "# 5. ValueError: Correct type, wrong value.\n",
    "\n",
    "int('a')"
   ]
  },
  {
   "cell_type": "code",
   "execution_count": null,
   "metadata": {
    "colab": {
     "base_uri": "https://localhost:8080/",
     "height": 205
    },
    "id": "yr7eRF2xFPo7",
    "outputId": "617b5a0c-2e8d-4e9d-e441-aa14c013bfa5"
   },
   "outputs": [
    {
     "ename": "NameError",
     "evalue": "ignored",
     "output_type": "error",
     "traceback": [
      "\u001b[0;31m---------------------------------------------------------------------------\u001b[0m",
      "\u001b[0;31mNameError\u001b[0m                                 Traceback (most recent call last)",
      "\u001b[0;32m<ipython-input-79-e3e8aaa4ec45>\u001b[0m in \u001b[0;36m<module>\u001b[0;34m\u001b[0m\n\u001b[1;32m      1\u001b[0m \u001b[0;31m# NameError\u001b[0m\u001b[0;34m\u001b[0m\u001b[0;34m\u001b[0m\u001b[0;34m\u001b[0m\u001b[0m\n\u001b[1;32m      2\u001b[0m \u001b[0;31m# The NameError is thrown when an object could not be found.\u001b[0m\u001b[0;34m\u001b[0m\u001b[0;34m\u001b[0m\u001b[0;34m\u001b[0m\u001b[0m\n\u001b[0;32m----> 3\u001b[0;31m \u001b[0mprint\u001b[0m\u001b[0;34m(\u001b[0m\u001b[0mk\u001b[0m\u001b[0;34m)\u001b[0m\u001b[0;34m\u001b[0m\u001b[0;34m\u001b[0m\u001b[0m\n\u001b[0m",
      "\u001b[0;31mNameError\u001b[0m: name 'k' is not defined"
     ]
    }
   ],
   "source": [
    "# 6. NameError: Undefined name.\n",
    "\n",
    "print(k)"
   ]
  },
  {
   "cell_type": "code",
   "execution_count": null,
   "metadata": {
    "colab": {
     "base_uri": "https://localhost:8080/",
     "height": 205
    },
    "id": "VHVKtWwWFUhK",
    "outputId": "6d84d92c-f2c1-4abc-f4ed-6cf8ebd0cb1e"
   },
   "outputs": [
    {
     "ename": "AttributeError",
     "evalue": "ignored",
     "output_type": "error",
     "traceback": [
      "\u001b[0;31m---------------------------------------------------------------------------\u001b[0m",
      "\u001b[0;31mAttributeError\u001b[0m                            Traceback (most recent call last)",
      "\u001b[0;32m<ipython-input-80-dd5a29625ddc>\u001b[0m in \u001b[0;36m<module>\u001b[0;34m\u001b[0m\n\u001b[1;32m      1\u001b[0m \u001b[0;31m# AttributeError\u001b[0m\u001b[0;34m\u001b[0m\u001b[0;34m\u001b[0m\u001b[0;34m\u001b[0m\u001b[0m\n\u001b[1;32m      2\u001b[0m \u001b[0mL\u001b[0m \u001b[0;34m=\u001b[0m \u001b[0;34m[\u001b[0m\u001b[0;36m1\u001b[0m\u001b[0;34m,\u001b[0m\u001b[0;36m2\u001b[0m\u001b[0;34m,\u001b[0m\u001b[0;36m3\u001b[0m\u001b[0;34m]\u001b[0m\u001b[0;34m\u001b[0m\u001b[0;34m\u001b[0m\u001b[0m\n\u001b[0;32m----> 3\u001b[0;31m \u001b[0mL\u001b[0m\u001b[0;34m.\u001b[0m\u001b[0mupper\u001b[0m\u001b[0;34m(\u001b[0m\u001b[0;34m)\u001b[0m\u001b[0;34m\u001b[0m\u001b[0;34m\u001b[0m\u001b[0m\n\u001b[0m",
      "\u001b[0;31mAttributeError\u001b[0m: 'list' object has no attribute 'upper'"
     ]
    }
   ],
   "source": [
    "# 7. AttributeError: Invalid attribute reference.\n",
    "\n",
    "L = [1, 2, 3]\n",
    "L.upper()"
   ]
  },
  {
   "cell_type": "markdown",
   "metadata": {},
   "source": [
    "**Stacktrace Overview:**\n",
    "- Detailed error info during execution. Includes error type, message, code location (line/file).\n",
    "- **Purpose** is to help identify and fix issues. Crucial for debugging in development/testing.\n",
    "\n",
    "**Production Considerations:**\n",
    "- **UX:** Avoid displaying to users. Technical jargon can confuse and frustrate.\n",
    "- **Security:** Exposing can leak sensitive info. Risk of exploitation.\n",
    "\n",
    "**Best Practices:**\n",
    "- Gracefully handle errors. Show user-friendly messages.\n",
    "- Use stacktraces internally for debugging only."
   ]
  },
  {
   "cell_type": "markdown",
   "metadata": {
    "id": "l6JrgCrHA2Tq"
   },
   "source": [
    "## Exceptions in Programming:\n",
    "\n",
    "Runtime issues disrupting execution. Require immediate handling for stability.\n",
    "\n",
    "**Common Issues**:\n",
    "- *Memory overflow*: Exceeds memory limits.\n",
    "- *Division by zero*: Undefined operations.\n",
    "- *Database errors*: Connection/query failures.\n",
    "\n",
    "**Importance**: Prevents crashes, ensures stability, and improves reliability."
   ]
  },
  {
   "cell_type": "markdown",
   "metadata": {},
   "source": [
    "## Python Handling"
   ]
  },
  {
   "cell_type": "code",
   "execution_count": null,
   "metadata": {
    "id": "S_VIvkx9Hnxb"
   },
   "outputs": [],
   "source": [
    "# Create file and write text\n",
    "\n",
    "with open('sample.txt', 'w') as f:\n",
    "  f.write('hello world')"
   ]
  },
  {
   "cell_type": "code",
   "execution_count": null,
   "metadata": {
    "colab": {
     "base_uri": "https://localhost:8080/"
    },
    "id": "9WItdkURHtvM",
    "outputId": "b14ed0bd-1d46-426b-ab81-42e24608ec4e"
   },
   "outputs": [
    {
     "name": "stdout",
     "output_type": "stream",
     "text": [
      "sorry file not found\n"
     ]
    }
   ],
   "source": [
    "# Try-Catch Demo\n",
    "\n",
    "try:\n",
    "  with open('sample1.txt', 'r') as f:\n",
    "    print(f.read())\n",
    "except:\n",
    "  print('sorry file not found')"
   ]
  },
  {
   "cell_type": "markdown",
   "metadata": {},
   "source": [
    "## `try-except` Blocks\n",
    "\n",
    "**Purpose**:\n",
    "- *Mitigate Risks*: File perms, network issues.\n",
    "- *Enhance Robustness*: Avoid crashes, manage errors.\n",
    "- *Graceful Handling*: Recover from issues.\n",
    "\n",
    "**Structure**:\n",
    "- **`try` Block**: Risky ops (file I/O, DB).\n",
    "- **`except` Block**: Catches exceptions from `try`.\n",
    "\n",
    "**Benefits**:\n",
    "- *Reliability*: Avoid crashes.\n",
    "- *Clean Code*: Error-handling separate.\n",
    "- *Resilience*: Recover from errors.\n",
    "\n",
    "**Best Practices**:\n",
    "- Specific exceptions (`FileNotFoundError`, `ConnectionError`).\n",
    "- Appropriate messages or fallbacks in `except`."
   ]
  },
  {
   "cell_type": "code",
   "execution_count": null,
   "metadata": {
    "colab": {
     "base_uri": "https://localhost:8080/"
    },
    "id": "px7mJhmvH0pd",
    "outputId": "a0052ee7-73f4-44cb-c7f9-2c6756a83fb3"
   },
   "outputs": [
    {
     "name": "stdout",
     "output_type": "stream",
     "text": [
      "[Errno 2] No such file or directory: 'sample1.txt'\n"
     ]
    }
   ],
   "source": [
    "# Catching Specific Exceptions ---> informing users about errors, improving user experience.\n",
    "\n",
    "try:\n",
    "  m = 5\n",
    "  f = open('sample1.txt', 'r')\n",
    "  print(f.read())\n",
    "  print(m)\n",
    "  print(5 / 2)\n",
    "  L = [1, 2, 3]\n",
    "  L[100]\n",
    "except FileNotFoundError:\n",
    "  print('file not found')\n",
    "except NameError:\n",
    "  print('variable not defined')\n",
    "except ZeroDivisionError:\n",
    "  print(\"can't divide by 0\")\n",
    "except Exception as e:\n",
    "  print(e)"
   ]
  },
  {
   "cell_type": "code",
   "execution_count": null,
   "metadata": {
    "colab": {
     "base_uri": "https://localhost:8080/"
    },
    "id": "nn-_EK1TKvno",
    "outputId": "311f3b30-b641-43f3-f99f-59f97d5e388c"
   },
   "outputs": [
    {
     "name": "stdout",
     "output_type": "stream",
     "text": [
      "file nai mili\n"
     ]
    }
   ],
   "source": [
    "# `else` in Try-Except\n",
    "\n",
    "try:\n",
    "  f = open('sample1.txt', 'r')\n",
    "except FileNotFoundError:\n",
    "  print('file nai mili')\n",
    "except Exception:\n",
    "  print('kuch to lafda hai')\n",
    "else:\n",
    "  print(f.read())"
   ]
  },
  {
   "cell_type": "markdown",
   "metadata": {},
   "source": [
    "## `try`, `else`, and `finally` Blocks\n",
    "\n",
    "**`try` Block:** Executes risky code; avoids abrupt halts on errors.\n",
    "\n",
    "**`else` Block:** Runs if `try` succeeds; executes only when no exceptions.\n",
    "\n",
    "**`except` Block:** Manages errors from `try`.\n",
    "\n",
    "**`finally` Block:** Executes regardless of exceptions; ensures cleanup (e.g., close files, release resources).\n",
    "\n",
    "`try`, `else`, `finally` = Structured exception handling."
   ]
  },
  {
   "cell_type": "code",
   "execution_count": null,
   "metadata": {
    "colab": {
     "base_uri": "https://localhost:8080/"
    },
    "id": "VKzyyGTUKwm5",
    "outputId": "e986811f-3009-451e-91ac-7b59f1db33e5",
    "scrolled": true
   },
   "outputs": [
    {
     "name": "stdout",
     "output_type": "stream",
     "text": [
      "file nai mili\n",
      "ye to print hoga hi\n"
     ]
    }
   ],
   "source": [
    "# `finally`\n",
    "\n",
    "try:\n",
    "  f = open('sample1.txt', 'r')\n",
    "except FileNotFoundError:\n",
    "  print('file nai mili')\n",
    "except Exception:\n",
    "  print('kuch to lafda hai')\n",
    "else:\n",
    "  print(f.read())\n",
    "finally:\n",
    "  print('ye to print hoga hi')"
   ]
  },
  {
   "cell_type": "markdown",
   "metadata": {
    "id": "weTHAgttKxaJ"
   },
   "source": [
    "## `raise` Keyword\n",
    "\n",
    "Trigger exceptions manually.\n",
    "\n",
    "**Custom Exceptions**: Pass values for context.\n",
    "\n",
    "**Error Control**: Enhance robust design and manage unexpected issues."
   ]
  },
  {
   "cell_type": "code",
   "execution_count": null,
   "metadata": {
    "colab": {
     "base_uri": "https://localhost:8080/",
     "height": 169
    },
    "id": "IH51eIy5K9Yc",
    "outputId": "c7f361a1-35f3-4b11-86fb-b4d1f7e3932c"
   },
   "outputs": [
    {
     "ename": "ZeroDivisionError",
     "evalue": "ignored",
     "output_type": "error",
     "traceback": [
      "\u001b[0;31m---------------------------------------------------------------------------\u001b[0m",
      "\u001b[0;31mZeroDivisionError\u001b[0m                         Traceback (most recent call last)",
      "\u001b[0;32m<ipython-input-106-5a07d7d89433>\u001b[0m in \u001b[0;36m<module>\u001b[0;34m\u001b[0m\n\u001b[0;32m----> 1\u001b[0;31m \u001b[0;32mraise\u001b[0m \u001b[0mZeroDivisionError\u001b[0m\u001b[0;34m(\u001b[0m\u001b[0;34m'aise hi try kar raha hu'\u001b[0m\u001b[0;34m)\u001b[0m\u001b[0;34m\u001b[0m\u001b[0;34m\u001b[0m\u001b[0m\n\u001b[0m",
      "\u001b[0;31mZeroDivisionError\u001b[0m: aise hi try kar raha hu"
     ]
    }
   ],
   "source": [
    "raise ZeroDivisionError('aise hi try kar raha hu')\n",
    "\n",
    "# Java Equivalents:\n",
    "\n",
    "# `try`    ---> `try`\n",
    "# `except` ---> `catch`\n",
    "# `raise`  ---> `throw`"
   ]
  },
  {
   "cell_type": "code",
   "execution_count": null,
   "metadata": {
    "colab": {
     "base_uri": "https://localhost:8080/"
    },
    "id": "0qLD1KYj_LPm",
    "outputId": "8753ccce-bb47-4e38-ce32-ce00f4c508f8"
   },
   "outputs": [
    {
     "name": "stdout",
     "output_type": "stream",
     "text": [
      "paise nai hai tere paas\n"
     ]
    }
   ],
   "source": [
    "class Bank:\n",
    "\n",
    "  def __init__(self, balance):\n",
    "    self.balance = balance\n",
    "\n",
    "  def withdraw(self, amount):\n",
    "    if amount < 0:\n",
    "      raise Exception('amount cannot be -ve')\n",
    "    if self.balance < amount:\n",
    "      raise Exception('paise nai hai tere paas')\n",
    "    self.balance = self.balance - amount\n",
    "\n",
    "obj = Bank(10000)\n",
    "try:\n",
    "  obj.withdraw(15000)\n",
    "except Exception as e:\n",
    "  print(e)\n",
    "else:\n",
    "  print(obj.balance)"
   ]
  },
  {
   "cell_type": "code",
   "execution_count": null,
   "metadata": {},
   "outputs": [],
   "source": [
    "`raise`  ---> Trigger exceptions.\n",
    "`except` ---> Handle exceptions.\n",
    "\n",
    "Enhances app robustness by managing errors, preventing abrupt terminations."
   ]
  },
  {
   "cell_type": "markdown",
   "metadata": {},
   "source": [
    "### exception hierarchy in python"
   ]
  },
  {
   "cell_type": "code",
   "execution_count": null,
   "metadata": {},
   "outputs": [],
   "source": [
    "               BaseException\n",
    "                     |\n",
    "                     |\n",
    "            +--------+---------+\n",
    "            |                  |\n",
    "            |                  |\n",
    "        Exception      KeyboardInterrupt      \n",
    "            |                                 +--------- FloatingPointError\n",
    "            |                                 |\n",
    "            +-------- ArithmeticError --------+--------- OverflowError\n",
    "            |                                 |\n",
    "            |                                 +--------- ZeroDivisionError\n",
    "            |                 \n",
    "            |                                 +--------- IndexError\n",
    "            +---------- LookupError ----------|\n",
    "            |                                 +--------- KeyError\n",
    "            |                                 \n",
    "            |                                 +--------- FileExists Error                  \n",
    "            +------------ OSError ------------|\n",
    "                                              +--------- Permission Error"
   ]
  },
  {
   "cell_type": "markdown",
   "metadata": {
    "id": "VTaMY8stXLaT"
   },
   "source": [
    "*Python allows creating custom exceptions, which means you can define your own types of errors.*"
   ]
  },
  {
   "cell_type": "code",
   "execution_count": null,
   "metadata": {
    "colab": {
     "base_uri": "https://localhost:8080/"
    },
    "id": "DLzBsX5eBSNs",
    "outputId": "4b8d711a-43a7-45e1-9cd5-1ee6cf0633d9"
   },
   "outputs": [
    {
     "name": "stdout",
     "output_type": "stream",
     "text": [
      "5000\n"
     ]
    }
   ],
   "source": [
    "class MyException(Exception):\n",
    "  def __init__(self, message):\n",
    "    print(message)\n",
    "\n",
    "class Bank:\n",
    "  def __init__(self, balance):\n",
    "    self.balance = balance\n",
    "\n",
    "  def withdraw(self, amount):\n",
    "    if amount < 0:\n",
    "      raise MyException('amount cannot be -ve')\n",
    "    if self.balance < amount:\n",
    "      raise MyException('paise nai hai tere paas')\n",
    "    self.balance = self.balance - amount\n",
    "\n",
    "obj = Bank(10000)\n",
    "try:\n",
    "  obj.withdraw(5000)\n",
    "except MyException as e:\n",
    "  pass\n",
    "else:\n",
    "  print(obj.balance)"
   ]
  },
  {
   "cell_type": "markdown",
   "metadata": {},
   "source": [
    "## Custom Classes: Why & Benefits\n",
    "\n",
    "**Purpose**:\n",
    "- Full control over app structure & behavior\n",
    "- Ideal for custom login/registration systems\n",
    "\n",
    "**Benefits**:\n",
    "1. **Security**: Custom security measures, e.g., device signature management, auto log-out on unrecognized devices\n",
    "2. **Functionality**: Tailored features, e.g., user input management (name, email, password), device signature handling\n",
    "\n",
    "**Implementation**:\n",
    "- Control over security protocols\n",
    "- Enables advanced security features"
   ]
  },
  {
   "cell_type": "markdown",
   "metadata": {
    "id": "E9f2B-J_cNJF"
   },
   "source": [
    "## simple example"
   ]
  },
  {
   "cell_type": "code",
   "execution_count": null,
   "metadata": {
    "colab": {
     "base_uri": "https://localhost:8080/"
    },
    "id": "YMIbhy3acWX4",
    "outputId": "1008e800-2a8c-4e47-e041-65a366503cc2"
   },
   "outputs": [
    {
     "name": "stdout",
     "output_type": "stream",
     "text": [
      "bhai teri to lag gayi\n",
      "logout\n",
      "database connection closed\n"
     ]
    }
   ],
   "source": [
    "class SecurityError(Exception):\n",
    "\n",
    "  def __init__(self, message):\n",
    "    print(message)\n",
    "\n",
    "  def logout(self):\n",
    "    print('logout')\n",
    "\n",
    "class Google:\n",
    "\n",
    "  def __init__(self, name, email, password, device):\n",
    "    self.name = name\n",
    "    self.email = email\n",
    "    self.password = password\n",
    "    self.device = device\n",
    "\n",
    "  def login(self, email, password, device):\n",
    "    if device != self.device:\n",
    "      raise SecurityError('bhai teri to lag gayi')\n",
    "    if email == self.email and password == self.password:\n",
    "      print('welcome')\n",
    "    else:\n",
    "      print('login error')\n",
    "\n",
    "obj = Google('nitish', 'nitish@gmail.com', '1234', 'android')\n",
    "\n",
    "try:\n",
    "  obj.login('nitish@gmail.com', '1234', 'windows')\n",
    "except SecurityError as e:\n",
    "  e.logout()\n",
    "else:\n",
    "  print(obj.name)\n",
    "finally:\n",
    "  print('database connection closed')"
   ]
  }
 ],
 "metadata": {
  "colab": {
   "provenance": []
  },
  "kernelspec": {
   "display_name": "Python 3 (ipykernel)",
   "language": "python",
   "name": "python3"
  },
  "language_info": {
   "codemirror_mode": {
    "name": "ipython",
    "version": 3
   },
   "file_extension": ".py",
   "mimetype": "text/x-python",
   "name": "python",
   "nbconvert_exporter": "python",
   "pygments_lexer": "ipython3",
   "version": "3.10.9"
  }
 },
 "nbformat": 4,
 "nbformat_minor": 1
}

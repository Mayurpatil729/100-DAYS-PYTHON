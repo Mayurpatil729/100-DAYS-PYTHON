{
 "cells": [
  {
   "cell_type": "markdown",
   "metadata": {
    "id": "Xk9kpQFIwb4q"
   },
   "source": [
    "# Namespaces & Scope\n",
    "\n",
    "**Containers** for identifiers (names) and objects, akin to dictionaries.\n",
    "\n",
    "**Scope** is a context for variable access."
   ]
  },
  {
   "cell_type": "code",
   "execution_count": null,
   "metadata": {},
   "outputs": [],
   "source": [
    "Types of Namespaces:\n",
    "\n",
    "+---------------------------------------------------------------+-----------------------------------------+   \n",
    "|                           Namespace                           |                 Example                 |\n",
    "+---------------------------------------------------------------+-----------------------------------------+   \n",
    "|                                                               |                                         |\n",
    "| 1. Global Namespace                                           | x = 10  # Global                        |\n",
    "|                                                               | def func():                             |\n",
    "| Scope ---> Top-level.                                         |     print(x)  # 10                      |\n",
    "|                                                               |                                         |\n",
    "| Accessible everywhere unless shadowed.                        |                                         |\n",
    "|                                                               |                                         |\n",
    "+---------------------------------------------------------------+-----------------------------------------+   \n",
    "|                                                               |                                         |\n",
    "| 2. Local Namespace                                            | def func():                             |\n",
    "|                                                               |     y = 5  # Local                      |\n",
    "| Scope ---> Function-specific.                                 |     print(y)  # 5                       |\n",
    "|                                                               |                                         |\n",
    "| Created during function call & Destroyed after function call. |                                         |\n",
    "|                                                               |                                         |\n",
    "+---------------------------------------------------------------+-----------------------------------------+   \n",
    "|                                                               |                                         |\n",
    "| 3. Enclosing Namespace                                        | def outer():                            |\n",
    "|                                                               |     z = 20                              |\n",
    "| Scope ---> Outer function for nested functions.               |     def inner():                        |\n",
    "|                                                               |         print(z)  # 20                  |\n",
    "| Outer function's scope accessible to inner functions.         |                                         |\n",
    "|                                                               |                                         |\n",
    "+---------------------------------------------------------------+-----------------------------------------+   \n",
    "|                                                               |                                         |\n",
    "| 4. Builtin Namespace                                          | print(len([1, 2, 3]))  # Built-in len() |\n",
    "|                                                               |                                         |\n",
    "| Scope ---> Predefined names (e.g., functions, modules).       |                                         |\n",
    "|                                                               |                                         |\n",
    "| Always accessible.                                            |                                         |\n",
    "|                                                               |                                         |\n",
    "+---------------------------------------------------------------+-----------------------------------------+   "
   ]
  },
  {
   "cell_type": "markdown",
   "metadata": {
    "id": "gwHLayLAz07u"
   },
   "source": [
    "## Scope and LEGB Rule\n",
    "\n",
    "**LEGB Rule**:\n",
    "1. **Local**: Variables in function.\n",
    "2. **Enclosing**: Variables in nested functions.\n",
    "3. **Global**: Top-level module/script variables.\n",
    "4. **Built-in**: Predefined names in Python."
   ]
  },
  {
   "cell_type": "code",
   "execution_count": null,
   "metadata": {},
   "outputs": [],
   "source": [
    "Details:\n",
    "\n",
    "+---------------------------------+---------------------------------------------+   \n",
    "|              Scope              |                   Example                   |\n",
    "+---------------------------------+---------------------------------------------+\n",
    "|                                 |                                             |\n",
    "| 1. Local                        | def outer():                                |\n",
    "|                                 |     x = \"enclosing\"                         |\n",
    "| Scope ---> Innermost function.  |     def inner():                            |\n",
    "|                                 |         x = \"local\"                         |\n",
    "| Checked first.                  |         print(x)  # local                   |\n",
    "|                                 |     inner()                                 |\n",
    "|                                 |                                             |\n",
    "+---------------------------------+---------------------------------------------+\n",
    "|                                 |                                             |\n",
    "| 2. Enclosing                    | def outer():                                |\n",
    "|                                 |     x = \"enclosing\"                         |\n",
    "| Scope ---> Outer function.      |     def inner():                            |\n",
    "|                                 |         print(x)  # enclosing               |\n",
    "| Checked after local.            |     inner()                                 |\n",
    "|                                 |                                             |\n",
    "+---------------------------------+---------------------------------------------+\n",
    "|                                 |                                             |\n",
    "| 3. Global                       | x = \"global\"                                |\n",
    "|                                 | def func():                                 |\n",
    "| Scope ---> Module/script-level. |     print(x)  # global                      |\n",
    "|                                 |                                             |\n",
    "| Checked after enclosing.        |                                             |\n",
    "|                                 |                                             |\n",
    "+---------------------------------+---------------------------------------------+\n",
    "|                                 |                                             |\n",
    "| 4. Built-in                     | def func():                                 |\n",
    "|                                 |     print(len([1, 2, 3]))  # built-in len() |\n",
    "| Scope ---> Python's built-ins.  |                                             |\n",
    "|                                 |                                             |\n",
    "| Checked last.                   |                                             |\n",
    "|                                 |                                             |\n",
    "+---------------------------------+---------------------------------------------+\n",
    "|                                 |                                             |\n",
    "| Unresolved Names                | def func():                                 |\n",
    "|                                 |     print(x)  # NameError                   |\n",
    "| `NameError` if name not found.  |                                             |\n",
    "|                                 |                                             |\n",
    "+---------------------------------+---------------------------------------------+"
   ]
  },
  {
   "cell_type": "code",
   "execution_count": 1,
   "metadata": {
    "colab": {
     "base_uri": "https://localhost:8080/"
    },
    "id": "je-pFfh12wH_",
    "outputId": "07ad3dca-cf87-4bf1-ce0a-5ec58cb17390"
   },
   "outputs": [
    {
     "name": "stdout",
     "output_type": "stream",
     "text": [
      "3\n",
      "2\n"
     ]
    }
   ],
   "source": [
    "# Global & Local Vars\n",
    "\n",
    "a = 2 # Global\n",
    "\n",
    "def temp():\n",
    "    b = 3 # Local\n",
    "    print(b)\n",
    "\n",
    "temp()\n",
    "print(a)"
   ]
  },
  {
   "cell_type": "code",
   "execution_count": 2,
   "metadata": {
    "id": "j8yQ5lUr2yCq"
   },
   "outputs": [
    {
     "ename": "NameError",
     "evalue": "name 'b' is not defined",
     "output_type": "error",
     "traceback": [
      "\u001b[1;31m---------------------------------------------------------------------------\u001b[0m",
      "\u001b[1;31mNameError\u001b[0m                                 Traceback (most recent call last)",
      "Cell \u001b[1;32mIn[2], line 9\u001b[0m\n\u001b[0;32m      6\u001b[0m   a \u001b[38;5;241m=\u001b[39m \u001b[38;5;241m3\u001b[39m\n\u001b[0;32m      7\u001b[0m   \u001b[38;5;28mprint\u001b[39m(b)\n\u001b[1;32m----> 9\u001b[0m \u001b[43mtemp\u001b[49m\u001b[43m(\u001b[49m\u001b[43m)\u001b[49m\n\u001b[0;32m     10\u001b[0m \u001b[38;5;28mprint\u001b[39m(a)\n",
      "Cell \u001b[1;32mIn[2], line 7\u001b[0m, in \u001b[0;36mtemp\u001b[1;34m()\u001b[0m\n\u001b[0;32m      4\u001b[0m \u001b[38;5;28;01mdef\u001b[39;00m \u001b[38;5;21mtemp\u001b[39m():\n\u001b[0;32m      5\u001b[0m   \u001b[38;5;66;03m# local var\u001b[39;00m\n\u001b[0;32m      6\u001b[0m   a \u001b[38;5;241m=\u001b[39m \u001b[38;5;241m3\u001b[39m\n\u001b[1;32m----> 7\u001b[0m   \u001b[38;5;28mprint\u001b[39m(\u001b[43mb\u001b[49m)\n",
      "\u001b[1;31mNameError\u001b[0m: name 'b' is not defined"
     ]
    }
   ],
   "source": [
    "# Variables with the Same Name\n",
    "\n",
    "a = 2 # Global\n",
    "\n",
    "def temp():\n",
    "    a = 3 # Local\n",
    "    print(b)\n",
    "\n",
    "temp()\n",
    "print(a)"
   ]
  },
  {
   "cell_type": "code",
   "execution_count": 3,
   "metadata": {
    "colab": {
     "base_uri": "https://localhost:8080/"
    },
    "id": "KGxD7YQS3We_",
    "outputId": "8e329d2f-7a9b-4516-d43e-02d293e882b9"
   },
   "outputs": [
    {
     "name": "stdout",
     "output_type": "stream",
     "text": [
      "2\n",
      "2\n"
     ]
    }
   ],
   "source": [
    "# Global vs. Local\n",
    "\n",
    "a = 2 # Global\n",
    "\n",
    "def temp():\n",
    "    # Accesses global `a`\n",
    "    print(a)\n",
    "\n",
    "temp()\n",
    "print(a)"
   ]
  },
  {
   "cell_type": "code",
   "execution_count": 4,
   "metadata": {
    "colab": {
     "base_uri": "https://localhost:8080/",
     "height": 348
    },
    "id": "ey9-FHzM21P_",
    "outputId": "fee2d260-f6e5-4db1-f7d7-52c829a41e4a"
   },
   "outputs": [
    {
     "ename": "UnboundLocalError",
     "evalue": "local variable 'a' referenced before assignment",
     "output_type": "error",
     "traceback": [
      "\u001b[1;31m---------------------------------------------------------------------------\u001b[0m",
      "\u001b[1;31mUnboundLocalError\u001b[0m                         Traceback (most recent call last)",
      "Cell \u001b[1;32mIn[4], line 9\u001b[0m\n\u001b[0;32m      6\u001b[0m   a \u001b[38;5;241m+\u001b[39m\u001b[38;5;241m=\u001b[39m \u001b[38;5;241m1\u001b[39m\n\u001b[0;32m      7\u001b[0m   \u001b[38;5;28mprint\u001b[39m(a)\n\u001b[1;32m----> 9\u001b[0m \u001b[43mtemp\u001b[49m\u001b[43m(\u001b[49m\u001b[43m)\u001b[49m\n\u001b[0;32m     10\u001b[0m \u001b[38;5;28mprint\u001b[39m(a)\n",
      "Cell \u001b[1;32mIn[4], line 6\u001b[0m, in \u001b[0;36mtemp\u001b[1;34m()\u001b[0m\n\u001b[0;32m      4\u001b[0m \u001b[38;5;28;01mdef\u001b[39;00m \u001b[38;5;21mtemp\u001b[39m():\n\u001b[0;32m      5\u001b[0m   \u001b[38;5;66;03m# local var\u001b[39;00m\n\u001b[1;32m----> 6\u001b[0m   a \u001b[38;5;241m+\u001b[39m\u001b[38;5;241m=\u001b[39m \u001b[38;5;241m1\u001b[39m\n\u001b[0;32m      7\u001b[0m   \u001b[38;5;28mprint\u001b[39m(a)\n",
      "\u001b[1;31mUnboundLocalError\u001b[0m: local variable 'a' referenced before assignment"
     ]
    }
   ],
   "source": [
    "# Modifying Global Variable\n",
    "\n",
    "a = 2\n",
    "\n",
    "def temp():\n",
    "    a += 1 # Modifying 'a'\n",
    "    print(a)\n",
    "\n",
    "temp()\n",
    "print(a)"
   ]
  },
  {
   "cell_type": "code",
   "execution_count": 5,
   "metadata": {
    "colab": {
     "base_uri": "https://localhost:8080/"
    },
    "id": "F1FtV8ZLBNvy",
    "outputId": "4dd8a6e7-8cda-4652-c34c-f1b3b3b99f3b"
   },
   "outputs": [
    {
     "name": "stdout",
     "output_type": "stream",
     "text": [
      "3\n",
      "3\n"
     ]
    }
   ],
   "source": [
    "a = 2\n",
    "\n",
    "def temp():\n",
    "    global a\n",
    "    a += 1\n",
    "    print(a)\n",
    "\n",
    "temp()\n",
    "print(a)"
   ]
  },
  {
   "cell_type": "code",
   "execution_count": 6,
   "metadata": {
    "id": "yDkgBLQu3JIw"
   },
   "outputs": [
    {
     "name": "stdout",
     "output_type": "stream",
     "text": [
      "1\n",
      "1\n"
     ]
    }
   ],
   "source": [
    "# Global variable inside a function\n",
    "\n",
    "def temp():\n",
    "    global a # Declare 'a' as global\n",
    "    a = 1    # Modify global 'a'\n",
    "    print(a)\n",
    "\n",
    "temp()\n",
    "print(a)"
   ]
  },
  {
   "cell_type": "code",
   "execution_count": 7,
   "metadata": {
    "colab": {
     "base_uri": "https://localhost:8080/",
     "height": 241
    },
    "id": "gWLr0xi024Or",
    "outputId": "744dd057-68f4-46f1-8f44-522eb5cf3521"
   },
   "outputs": [
    {
     "name": "stdout",
     "output_type": "stream",
     "text": [
      "5\n",
      "5\n"
     ]
    },
    {
     "ename": "NameError",
     "evalue": "name 'z' is not defined",
     "output_type": "error",
     "traceback": [
      "\u001b[1;31m---------------------------------------------------------------------------\u001b[0m",
      "\u001b[1;31mNameError\u001b[0m                                 Traceback (most recent call last)",
      "Cell \u001b[1;32mIn[7], line 9\u001b[0m\n\u001b[0;32m      7\u001b[0m temp(\u001b[38;5;241m5\u001b[39m)\n\u001b[0;32m      8\u001b[0m \u001b[38;5;28mprint\u001b[39m(a)\n\u001b[1;32m----> 9\u001b[0m \u001b[38;5;28mprint\u001b[39m(\u001b[43mz\u001b[49m)\n",
      "\u001b[1;31mNameError\u001b[0m: name 'z' is not defined"
     ]
    }
   ],
   "source": [
    "# Function local variable\n",
    "\n",
    "def temp(z): # z is local to temp()\n",
    "    print(z)\n",
    "\n",
    "a = 5        # a is global\n",
    "temp(5)\n",
    "\n",
    "print(a)\n",
    "print(z)"
   ]
  },
  {
   "cell_type": "markdown",
   "metadata": {
    "id": "F769q7Nj33tX"
   },
   "source": [
    "## Built-in Scope\n",
    "\n",
    "- Python offers built-in functions (e.g., `print`) without imports.\n",
    "- Part of the built-in scope, automatically included in Python."
   ]
  },
  {
   "cell_type": "code",
   "execution_count": null,
   "metadata": {
    "colab": {
     "base_uri": "https://localhost:8080/"
    },
    "id": "P7wHSji-3q-r",
    "outputId": "ff2f6d15-70a6-4972-b789-37eeac7082b1"
   },
   "outputs": [
    {
     "name": "stdout",
     "output_type": "stream",
     "text": [
      "['ArithmeticError', 'AssertionError', 'AttributeError', 'BaseException', 'BlockingIOError', 'BrokenPipeError', 'BufferError', 'BytesWarning', 'ChildProcessError', 'ConnectionAbortedError', 'ConnectionError', 'ConnectionRefusedError', 'ConnectionResetError', 'DeprecationWarning', 'EOFError', 'Ellipsis', 'EnvironmentError', 'Exception', 'False', 'FileExistsError', 'FileNotFoundError', 'FloatingPointError', 'FutureWarning', 'GeneratorExit', 'IOError', 'ImportError', 'ImportWarning', 'IndentationError', 'IndexError', 'InterruptedError', 'IsADirectoryError', 'KeyError', 'KeyboardInterrupt', 'LookupError', 'MemoryError', 'ModuleNotFoundError', 'NameError', 'None', 'NotADirectoryError', 'NotImplemented', 'NotImplementedError', 'OSError', 'OverflowError', 'PendingDeprecationWarning', 'PermissionError', 'ProcessLookupError', 'RecursionError', 'ReferenceError', 'ResourceWarning', 'RuntimeError', 'RuntimeWarning', 'StopAsyncIteration', 'StopIteration', 'SyntaxError', 'SyntaxWarning', 'SystemError', 'SystemExit', 'TabError', 'TimeoutError', 'True', 'TypeError', 'UnboundLocalError', 'UnicodeDecodeError', 'UnicodeEncodeError', 'UnicodeError', 'UnicodeTranslateError', 'UnicodeWarning', 'UserWarning', 'ValueError', 'Warning', 'ZeroDivisionError', '__IPYTHON__', '__build_class__', '__debug__', '__doc__', '__import__', '__loader__', '__name__', '__package__', '__spec__', 'abs', 'all', 'any', 'ascii', 'bin', 'bool', 'breakpoint', 'bytearray', 'bytes', 'callable', 'chr', 'classmethod', 'compile', 'complex', 'copyright', 'credits', 'delattr', 'dict', 'dir', 'display', 'divmod', 'enumerate', 'eval', 'exec', 'execfile', 'filter', 'float', 'format', 'frozenset', 'get_ipython', 'getattr', 'globals', 'hasattr', 'hash', 'help', 'hex', 'id', 'input', 'int', 'isinstance', 'issubclass', 'iter', 'len', 'license', 'list', 'locals', 'map', 'max', 'memoryview', 'min', 'next', 'object', 'oct', 'open', 'ord', 'pow', 'print', 'property', 'range', 'repr', 'reversed', 'round', 'runfile', 'set', 'setattr', 'slice', 'sorted', 'staticmethod', 'str', 'sum', 'super', 'tuple', 'type', 'vars', 'zip']\n"
     ]
    }
   ],
   "source": [
    "# List built-in functions/vars\n",
    "\n",
    "import builtins\n",
    "print(dir(builtins))"
   ]
  },
  {
   "cell_type": "code",
   "execution_count": null,
   "metadata": {
    "colab": {
     "base_uri": "https://localhost:8080/",
     "height": 241
    },
    "id": "Qd3fM_Ha3ruR",
    "outputId": "fb8b79d9-8b3a-483f-b1aa-b642832c1edd"
   },
   "outputs": [
    {
     "ename": "TypeError",
     "evalue": "ignored",
     "output_type": "error",
     "traceback": [
      "\u001b[0;31m---------------------------------------------------------------------------\u001b[0m",
      "\u001b[0;31mTypeError\u001b[0m                                 Traceback (most recent call last)",
      "\u001b[0;32m<ipython-input-68-c19f3451a38f>\u001b[0m in \u001b[0;36m<module>\u001b[0;34m\u001b[0m\n\u001b[1;32m      1\u001b[0m \u001b[0;31m# renaming built-ins\u001b[0m\u001b[0;34m\u001b[0m\u001b[0;34m\u001b[0m\u001b[0;34m\u001b[0m\u001b[0m\n\u001b[1;32m      2\u001b[0m \u001b[0mL\u001b[0m \u001b[0;34m=\u001b[0m \u001b[0;34m[\u001b[0m\u001b[0;36m1\u001b[0m\u001b[0;34m,\u001b[0m\u001b[0;36m2\u001b[0m\u001b[0;34m,\u001b[0m\u001b[0;36m3\u001b[0m\u001b[0;34m]\u001b[0m\u001b[0;34m\u001b[0m\u001b[0;34m\u001b[0m\u001b[0m\n\u001b[0;32m----> 3\u001b[0;31m \u001b[0mprint\u001b[0m\u001b[0;34m(\u001b[0m\u001b[0mmax\u001b[0m\u001b[0;34m(\u001b[0m\u001b[0mL\u001b[0m\u001b[0;34m)\u001b[0m\u001b[0;34m)\u001b[0m\u001b[0;34m\u001b[0m\u001b[0;34m\u001b[0m\u001b[0m\n\u001b[0m\u001b[1;32m      4\u001b[0m \u001b[0;32mdef\u001b[0m \u001b[0mmax\u001b[0m\u001b[0;34m(\u001b[0m\u001b[0;34m)\u001b[0m\u001b[0;34m:\u001b[0m\u001b[0;34m\u001b[0m\u001b[0;34m\u001b[0m\u001b[0m\n\u001b[1;32m      5\u001b[0m   \u001b[0mprint\u001b[0m\u001b[0;34m(\u001b[0m\u001b[0;34m'hello'\u001b[0m\u001b[0;34m)\u001b[0m\u001b[0;34m\u001b[0m\u001b[0;34m\u001b[0m\u001b[0m\n",
      "\u001b[0;31mTypeError\u001b[0m: max() takes 0 positional arguments but 1 was given"
     ]
    }
   ],
   "source": [
    "# Renaming Built-ins\n",
    "\n",
    "L = [1, 2, 3]\n",
    "print(max(L)) # Uses built-in max()\n",
    "\n",
    "def max():    # Redefine max()\n",
    "    print('hello')\n",
    "\n",
    "print(max(L))"
   ]
  },
  {
   "cell_type": "code",
   "execution_count": null,
   "metadata": {
    "colab": {
     "base_uri": "https://localhost:8080/"
    },
    "id": "JORTYJik4LKH",
    "outputId": "1458570e-91b5-4533-d1be-2f89c4585c79"
   },
   "outputs": [
    {
     "name": "stdout",
     "output_type": "stream",
     "text": [
      "1\n",
      "outer function\n",
      "main program\n"
     ]
    }
   ],
   "source": [
    "# Enclosing Scope\n",
    "\n",
    "def outer():\n",
    "    def inner():\n",
    "        print(a)            # a in outer's scope\n",
    "    inner()\n",
    "    print('outer function') # Outer\n",
    "\n",
    "outer() # Calls outer ---> inner ---> prints a ---> 'outer function'\n",
    "print('main program')      # Main"
   ]
  },
  {
   "cell_type": "code",
   "execution_count": null,
   "metadata": {
    "colab": {
     "base_uri": "https://localhost:8080/"
    },
    "id": "mG6ONk3I4lFX",
    "outputId": "c989fa4d-0ffd-48bc-fedf-16afc53ca8fa"
   },
   "outputs": [
    {
     "name": "stdout",
     "output_type": "stream",
     "text": [
      "inner 2\n",
      "outer 2\n",
      "main program\n"
     ]
    }
   ],
   "source": [
    "# `nonlocal` Keyword ---> Modify variables in outer (but non-global) scope.\n",
    "\n",
    "def outer():\n",
    "    a = 1\n",
    "    def inner():\n",
    "        nonlocal a # Access outer 'a'\n",
    "        a += 1\n",
    "        print('inner', a)\n",
    "    inner()\n",
    "    print('outer', a)\n",
    "\n",
    "outer()\n",
    "print('main program')"
   ]
  },
  {
   "cell_type": "markdown",
   "metadata": {
    "id": "v2I4_MetLUYb"
   },
   "source": [
    "# Decorators\n",
    "\n",
    "Function that modifies/extends another function’s behavior. \n",
    "\n",
    "**Usage**: Adds functionality (e.g., logging, access control) without altering original code.\n",
    "\n",
    "**Types**:\n",
    "\n",
    "1. **Built-in**:\n",
    "- `@staticmethod`: Class-level method, no instance.\n",
    "- `@classmethod`: Method with class as 1st arg, modifies class state.\n",
    "- `@abstractmethod`: Enforces method implementation in subclasses.\n",
    "- `@property`: Method accessed as attribute (getter/setter).\n",
    "\n",
    "2. **User-Defined**:\n",
    "\n",
    "   **Creation**:\n",
    "```python\n",
    "def my_decorator(func):\n",
    "    def wrapper():\n",
    "        # Add functionality\n",
    "        return func()\n",
    "    return wrapper\n",
    "```"
   ]
  },
  {
   "cell_type": "code",
   "execution_count": null,
   "metadata": {
    "colab": {
     "base_uri": "https://localhost:8080/"
    },
    "id": "PLEnpaeHUvAk",
    "outputId": "86fe9ab7-3533-4ed2-cd65-f96e8941df74"
   },
   "outputs": [
    {
     "data": {
      "text/plain": [
       "4"
      ]
     },
     "execution_count": 71,
     "metadata": {},
     "output_type": "execute_result"
    }
   ],
   "source": [
    "# Python supports 1st Class Functions\n",
    "\n",
    "def modify(func, num):\n",
    "    return func(num)\n",
    "\n",
    "def square(num):\n",
    "    return num ** 2\n",
    "\n",
    "modify(square, 2)"
   ]
  },
  {
   "cell_type": "code",
   "execution_count": null,
   "metadata": {
    "colab": {
     "base_uri": "https://localhost:8080/"
    },
    "id": "fsyP9F9z5OSe",
    "outputId": "ec17ff47-2eaa-46e4-a6c7-0eb131ff488c"
   },
   "outputs": [
    {
     "name": "stdout",
     "output_type": "stream",
     "text": [
      "***********************\n",
      "hello\n",
      "***********************\n",
      "***********************\n",
      "hello nitish\n",
      "***********************\n"
     ]
    }
   ],
   "source": [
    "def my_decorator(func):\n",
    "    def wrapper():\n",
    "        print('***********************')\n",
    "        func()\n",
    "        print('***********************')\n",
    "    return wrapper\n",
    "\n",
    "def hello():\n",
    "    print('hello')\n",
    "\n",
    "def display():\n",
    "    print('hello nitish')\n",
    "\n",
    "# Manual Decoration\n",
    "a = my_decorator(hello)\n",
    "a()\n",
    "\n",
    "b = my_decorator(display)\n",
    "b()"
   ]
  },
  {
   "cell_type": "markdown",
   "metadata": {
    "id": "3wh7a0paP4wv"
   },
   "source": [
    "### more functions"
   ]
  },
  {
   "cell_type": "code",
   "execution_count": 10,
   "metadata": {},
   "outputs": [
    {
     "name": "stdout",
     "output_type": "stream",
     "text": [
      "5\n"
     ]
    }
   ],
   "source": [
    "# Closure Example\n",
    "\n",
    "def outer():\n",
    "    a = 5        # Outer scope var\n",
    "    def inner():\n",
    "        print(a) # Access outer scope var\n",
    "    return inner\n",
    "\n",
    "b = outer()      # b now holds the inner function\n",
    "b()"
   ]
  },
  {
   "cell_type": "markdown",
   "metadata": {},
   "source": [
    "## Closures\n",
    "\n",
    "Inner function retains access to outer function's variables post-execution.\n",
    "\n",
    "Captures environment, preserving outer function's variables.\n",
    "\n",
    "**How Closures Work**\n",
    "- Local vars usually lost after function execution.\n",
    "- Closures keep access to outer vars.\n",
    "\n",
    "**Benefit**: Preserves state/configuration; useful for decorators.\n",
    "\n",
    "**Example Code**\n",
    "```python\n",
    "def outer(outer_var):\n",
    "    def inner():\n",
    "        print(outer_var)\n",
    "    return inner\n",
    "\n",
    "# Usage\n",
    "closure = outer('Hello, world!')\n",
    "closure()  # Output: Hello, world!\n",
    "```"
   ]
  },
  {
   "cell_type": "code",
   "execution_count": null,
   "metadata": {
    "colab": {
     "base_uri": "https://localhost:8080/"
    },
    "id": "6xenz10AVfTp",
    "outputId": "cb2e3d25-d951-49d5-ae36-62fff01bae68"
   },
   "outputs": [
    {
     "name": "stdout",
     "output_type": "stream",
     "text": [
      "***********************\n",
      "hello\n",
      "***********************\n"
     ]
    }
   ],
   "source": [
    "def my_decorator(func):\n",
    "    def wrapper():\n",
    "        print('***********************')\n",
    "        func()\n",
    "        print('***********************')\n",
    "    return wrapper\n",
    "\n",
    "@my_decorator\n",
    "def hello():\n",
    "    print('hello')\n",
    "\n",
    "hello()"
   ]
  },
  {
   "cell_type": "code",
   "execution_count": 1,
   "metadata": {
    "colab": {
     "base_uri": "https://localhost:8080/"
    },
    "id": "JGXuT9XSP3ue",
    "outputId": "0d9ce629-0d1e-4198-b9b4-95e21486adc8"
   },
   "outputs": [
    {
     "name": "stdout",
     "output_type": "stream",
     "text": [
      "hello world\n",
      "time taken by hello 2.0078108310699463 secs\n",
      "4\n",
      "time taken by square 1.0098490715026855 secs\n",
      "8\n",
      "time taken by power 0.0 secs\n"
     ]
    }
   ],
   "source": [
    "# anything meaningful?\n",
    "\n",
    "import time\n",
    "\n",
    "def timer(func):\n",
    "  def wrapper(*args):\n",
    "    start = time.time()\n",
    "    func(*args)\n",
    "    print('time taken by', func.__name__, time.time()-start, 'secs')\n",
    "  return wrapper\n",
    "\n",
    "@timer\n",
    "def hello():\n",
    "  print('hello world')\n",
    "  time.sleep(2)\n",
    "\n",
    "@timer\n",
    "def square(num):\n",
    "  time.sleep(1)\n",
    "  print(num**2)\n",
    "\n",
    "@timer\n",
    "def power(a, b):\n",
    "  print(a**b)\n",
    "\n",
    "hello()\n",
    "square(2)\n",
    "power(2, 3)"
   ]
  },
  {
   "cell_type": "code",
   "execution_count": 11,
   "metadata": {
    "id": "WDb2Cn_PQAA9"
   },
   "outputs": [
    {
     "ename": "TypeError",
     "evalue": "unsupported operand type(s) for ** or pow(): 'str' and 'int'",
     "output_type": "error",
     "traceback": [
      "\u001b[1;31m---------------------------------------------------------------------------\u001b[0m",
      "\u001b[1;31mTypeError\u001b[0m                                 Traceback (most recent call last)",
      "Cell \u001b[1;32mIn[11], line 9\u001b[0m\n\u001b[0;32m      6\u001b[0m     \u001b[38;5;28mprint\u001b[39m(num \u001b[38;5;241m*\u001b[39m\u001b[38;5;241m*\u001b[39m \u001b[38;5;241m2\u001b[39m)\n\u001b[0;32m      8\u001b[0m \u001b[38;5;66;03m# Function call with incorrect argument type\u001b[39;00m\n\u001b[1;32m----> 9\u001b[0m \u001b[43msquare\u001b[49m\u001b[43m(\u001b[49m\u001b[38;5;124;43m'\u001b[39;49m\u001b[38;5;124;43mhehe\u001b[39;49m\u001b[38;5;124;43m'\u001b[39;49m\u001b[43m)\u001b[49m\n",
      "Cell \u001b[1;32mIn[11], line 6\u001b[0m, in \u001b[0;36msquare\u001b[1;34m(num)\u001b[0m\n\u001b[0;32m      5\u001b[0m \u001b[38;5;28;01mdef\u001b[39;00m \u001b[38;5;21msquare\u001b[39m(num):\n\u001b[1;32m----> 6\u001b[0m     \u001b[38;5;28mprint\u001b[39m(\u001b[43mnum\u001b[49m\u001b[43m \u001b[49m\u001b[38;5;241;43m*\u001b[39;49m\u001b[38;5;241;43m*\u001b[39;49m\u001b[43m \u001b[49m\u001b[38;5;241;43m2\u001b[39;49m)\n",
      "\u001b[1;31mTypeError\u001b[0m: unsupported operand type(s) for ** or pow(): 'str' and 'int'"
     ]
    }
   ],
   "source": [
    "# Decorators with Arguments - Example\n",
    "\n",
    "# A Big Problem \n",
    "\n",
    "def square(num):\n",
    "    print(num ** 2)\n",
    "    \n",
    "# Erroneous call\n",
    "square('hehe')"
   ]
  },
  {
   "cell_type": "markdown",
   "metadata": {},
   "source": [
    "Create a decorator to verify number datatype for sanity checks on user input."
   ]
  },
  {
   "cell_type": "code",
   "execution_count": null,
   "metadata": {
    "id": "Ngoztw_GQEa9"
   },
   "outputs": [],
   "source": [
    "@checkdt(int)\n",
    "def square(num):\n",
    "  print(num**2)"
   ]
  },
  {
   "cell_type": "code",
   "execution_count": null,
   "metadata": {
    "colab": {
     "base_uri": "https://localhost:8080/"
    },
    "id": "hjjt65fYSri2",
    "outputId": "555806f0-a2b9-4f76-c5ec-6b91aaa76c34"
   },
   "outputs": [
    {
     "name": "stdout",
     "output_type": "stream",
     "text": [
      "4\n"
     ]
    }
   ],
   "source": [
    "def sanity_check(data_type):\n",
    "  def outer_wrapper(func):\n",
    "    def inner_wrapper(*args):\n",
    "      if type(*args) == data_type:\n",
    "        func(*args)\n",
    "      else:\n",
    "        raise TypeError('Ye datatype nahi chalega')\n",
    "    return inner_wrapper\n",
    "  return outer_wrapper\n",
    "\n",
    "@sanity_check(int)\n",
    "def square(num):\n",
    "  print(num**2)\n",
    "\n",
    "@sanity_check(str)\n",
    "def greet(name):\n",
    "  print('hello', name)\n",
    "\n",
    "square(2)"
   ]
  }
 ],
 "metadata": {
  "colab": {
   "provenance": []
  },
  "kernelspec": {
   "display_name": "Python 3 (ipykernel)",
   "language": "python",
   "name": "python3"
  },
  "language_info": {
   "codemirror_mode": {
    "name": "ipython",
    "version": 3
   },
   "file_extension": ".py",
   "mimetype": "text/x-python",
   "name": "python",
   "nbconvert_exporter": "python",
   "pygments_lexer": "ipython3",
   "version": "3.10.9"
  }
 },
 "nbformat": 4,
 "nbformat_minor": 1
}
